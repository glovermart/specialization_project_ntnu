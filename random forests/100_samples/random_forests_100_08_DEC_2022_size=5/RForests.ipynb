{
 "cells": [
  {
   "cell_type": "code",
   "execution_count": 1,
   "metadata": {},
   "outputs": [],
   "source": [
    "import pandas as pd\n",
    "import seaborn as sns\n",
    "sns.set_style('darkgrid')\n",
    "import numpy as np\n",
    "import sys\n",
    "import matplotlib.pyplot as plt \n",
    "np.set_printoptions(threshold=sys.maxsize)"
   ]
  },
  {
   "cell_type": "code",
   "execution_count": 2,
   "metadata": {},
   "outputs": [],
   "source": [
    "csv1 = pd.read_csv('sequence_execution_time.csv')\n",
    "#csv1.head()"
   ]
  },
  {
   "cell_type": "code",
   "execution_count": 3,
   "metadata": {
    "scrolled": true
   },
   "outputs": [
    {
     "data": {
      "text/html": [
       "<div>\n",
       "<style scoped>\n",
       "    .dataframe tbody tr th:only-of-type {\n",
       "        vertical-align: middle;\n",
       "    }\n",
       "\n",
       "    .dataframe tbody tr th {\n",
       "        vertical-align: top;\n",
       "    }\n",
       "\n",
       "    .dataframe thead th {\n",
       "        text-align: right;\n",
       "    }\n",
       "</style>\n",
       "<table border=\"1\" class=\"dataframe\">\n",
       "  <thead>\n",
       "    <tr style=\"text-align: right;\">\n",
       "      <th></th>\n",
       "      <th>sequence_identifier</th>\n",
       "      <th>read_sequence</th>\n",
       "      <th>quality</th>\n",
       "      <th>execution_time</th>\n",
       "    </tr>\n",
       "  </thead>\n",
       "  <tbody>\n",
       "    <tr>\n",
       "      <th>3999995</th>\n",
       "      <td>@HWI-D00360:5:H814YADXX:1:1115:18756:14266 1:N...</td>\n",
       "      <td>ACTAATAAAGAAAAAAAGAGAGAAGAATCAAATAGACGCAATAAAA...</td>\n",
       "      <td>C@CFFFFFHHHHHJGEHHIJJJIJIIJJJJJIJJIFIIIIGIJJIJ...</td>\n",
       "      <td>341.792</td>\n",
       "    </tr>\n",
       "    <tr>\n",
       "      <th>3999996</th>\n",
       "      <td>@HWI-D00360:5:H814YADXX:1:1115:18805:14266 1:N...</td>\n",
       "      <td>ATAAATGAATAATAGGCGGTTTCTGACATCAGGAAGTTTAGACCGC...</td>\n",
       "      <td>CCCFFFFFGHHHHJJJJJJGIJHIJGIIJJIJJIIJHIJJIIJJJJ...</td>\n",
       "      <td>556.625</td>\n",
       "    </tr>\n",
       "    <tr>\n",
       "      <th>3999997</th>\n",
       "      <td>@HWI-D00360:5:H814YADXX:1:1115:18868:14278 1:N...</td>\n",
       "      <td>GTATGGAAATACCTGGATGTCCAGGCAGAAGTGTGCTACAGGGGCA...</td>\n",
       "      <td>@@CFFFFFHGHHHJIIIGIGHHAGGGIIBGG?ECCFFHIJJGEBDA...</td>\n",
       "      <td>8523.708</td>\n",
       "    </tr>\n",
       "    <tr>\n",
       "      <th>3999998</th>\n",
       "      <td>@HWI-D00360:5:H814YADXX:1:1115:18797:14322 1:N...</td>\n",
       "      <td>AACTCAGTAATTACTTTGATTTGGAGTCTTAATGCAATTTTACCCA...</td>\n",
       "      <td>CCCFFFFFHDHHHJJJJJJIJJJIJIHGHIIJJJJIJIJJJJJJJI...</td>\n",
       "      <td>880.708</td>\n",
       "    </tr>\n",
       "    <tr>\n",
       "      <th>3999999</th>\n",
       "      <td>@HWI-D00360:5:H814YADXX:1:1115:18971:14400 1:N...</td>\n",
       "      <td>GAAAATAGTTTCCCATTTGTTGCCACTGTTTTAAACTTACTGTTAT...</td>\n",
       "      <td>@@@FDFDBBDFFBFIGGGCFGFHHGIGEHIIIIEIIGE@GIIIGGI...</td>\n",
       "      <td>624.208</td>\n",
       "    </tr>\n",
       "  </tbody>\n",
       "</table>\n",
       "</div>"
      ],
      "text/plain": [
       "                                       sequence_identifier  \\\n",
       "3999995  @HWI-D00360:5:H814YADXX:1:1115:18756:14266 1:N...   \n",
       "3999996  @HWI-D00360:5:H814YADXX:1:1115:18805:14266 1:N...   \n",
       "3999997  @HWI-D00360:5:H814YADXX:1:1115:18868:14278 1:N...   \n",
       "3999998  @HWI-D00360:5:H814YADXX:1:1115:18797:14322 1:N...   \n",
       "3999999  @HWI-D00360:5:H814YADXX:1:1115:18971:14400 1:N...   \n",
       "\n",
       "                                             read_sequence  \\\n",
       "3999995  ACTAATAAAGAAAAAAAGAGAGAAGAATCAAATAGACGCAATAAAA...   \n",
       "3999996  ATAAATGAATAATAGGCGGTTTCTGACATCAGGAAGTTTAGACCGC...   \n",
       "3999997  GTATGGAAATACCTGGATGTCCAGGCAGAAGTGTGCTACAGGGGCA...   \n",
       "3999998  AACTCAGTAATTACTTTGATTTGGAGTCTTAATGCAATTTTACCCA...   \n",
       "3999999  GAAAATAGTTTCCCATTTGTTGCCACTGTTTTAAACTTACTGTTAT...   \n",
       "\n",
       "                                                   quality  execution_time  \n",
       "3999995  C@CFFFFFHHHHHJGEHHIJJJIJIIJJJJJIJJIFIIIIGIJJIJ...         341.792  \n",
       "3999996  CCCFFFFFGHHHHJJJJJJGIJHIJGIIJJIJJIIJHIJJIIJJJJ...         556.625  \n",
       "3999997  @@CFFFFFHGHHHJIIIGIGHHAGGGIIBGG?ECCFFHIJJGEBDA...        8523.708  \n",
       "3999998  CCCFFFFFHDHHHJJJJJJIJJJIJIHGHIIJJJJIJIJJJJJJJI...         880.708  \n",
       "3999999  @@@FDFDBBDFFBFIGGGCFGFHHGIGEHIIIIEIIGE@GIIIGGI...         624.208  "
      ]
     },
     "execution_count": 3,
     "metadata": {},
     "output_type": "execute_result"
    }
   ],
   "source": [
    "csv1.tail()"
   ]
  },
  {
   "cell_type": "code",
   "execution_count": 4,
   "metadata": {},
   "outputs": [],
   "source": [
    "#data = csv1.drop(['sequence_identifier','quality'], axis = 1)\n",
    "data = csv1"
   ]
  },
  {
   "cell_type": "code",
   "execution_count": 5,
   "metadata": {},
   "outputs": [],
   "source": [
    "data1 = data.drop(csv1.index[100:]) #Took 4.5 hours to train dataset of 5,000 samples\n",
    "#data.head()"
   ]
  },
  {
   "cell_type": "code",
   "execution_count": 6,
   "metadata": {},
   "outputs": [
    {
     "data": {
      "text/html": [
       "<div>\n",
       "<style scoped>\n",
       "    .dataframe tbody tr th:only-of-type {\n",
       "        vertical-align: middle;\n",
       "    }\n",
       "\n",
       "    .dataframe tbody tr th {\n",
       "        vertical-align: top;\n",
       "    }\n",
       "\n",
       "    .dataframe thead th {\n",
       "        text-align: right;\n",
       "    }\n",
       "</style>\n",
       "<table border=\"1\" class=\"dataframe\">\n",
       "  <thead>\n",
       "    <tr style=\"text-align: right;\">\n",
       "      <th></th>\n",
       "      <th>sequence_identifier</th>\n",
       "      <th>read_sequence</th>\n",
       "      <th>quality</th>\n",
       "      <th>execution_time</th>\n",
       "    </tr>\n",
       "  </thead>\n",
       "  <tbody>\n",
       "    <tr>\n",
       "      <th>95</th>\n",
       "      <td>@HWI-D00360:5:H814YADXX:1:1101:6582:2134 1:N:0...</td>\n",
       "      <td>CAGTTTATCTTATTAATCTAGTGTTACCCTAATATAAAAACAATAA...</td>\n",
       "      <td>BBCDFFFFHHHHHJJJJJJJJJJJJJJJJJJJJJJJJJJJJJJJJJ...</td>\n",
       "      <td>363.375</td>\n",
       "    </tr>\n",
       "    <tr>\n",
       "      <th>96</th>\n",
       "      <td>@HWI-D00360:5:H814YADXX:1:1101:6746:2208 1:N:0...</td>\n",
       "      <td>AGGAAGGAAGCTTTGCCAGGAAGTTCAAATGTCAGGGACCTAGTTC...</td>\n",
       "      <td>CCCFFFFFHFHGFJGIIIJJJJJFHIJJIIIJJJJJJJJJIJJFHI...</td>\n",
       "      <td>832.833</td>\n",
       "    </tr>\n",
       "    <tr>\n",
       "      <th>97</th>\n",
       "      <td>@HWI-D00360:5:H814YADXX:1:1101:6514:2215 1:N:0...</td>\n",
       "      <td>AGATTAGCCGGGCGTGGTGGAAGGCGCCTATAGTCCCAGCTACTCG...</td>\n",
       "      <td>CCCFFFFFHGHGHJHIJGHJJJJJJJJJJJJJJJJJJJJJJJJJHH...</td>\n",
       "      <td>23371.750</td>\n",
       "    </tr>\n",
       "    <tr>\n",
       "      <th>98</th>\n",
       "      <td>@HWI-D00360:5:H814YADXX:1:1101:6718:2227 1:N:0...</td>\n",
       "      <td>CTTCTAACTGAAAAACGATGCCAGCTGTAGGACCCAGCTGCTCTTG...</td>\n",
       "      <td>CCCFFFFFHHHGFJHHHIIIIIIJJGGHIIJIIJJIJJIIJIJIII...</td>\n",
       "      <td>346.875</td>\n",
       "    </tr>\n",
       "    <tr>\n",
       "      <th>99</th>\n",
       "      <td>@HWI-D00360:5:H814YADXX:1:1101:6821:2106 1:N:0...</td>\n",
       "      <td>CTGGGAAAGACTTTGCTTCTCCTTCATATTTAAAGAATAACTTTGA...</td>\n",
       "      <td>?;?DDBDBCHBFDHB&lt;&lt;AEI&lt;AFH@GIEHIFCHACDHIDC???FHI...</td>\n",
       "      <td>1141.041</td>\n",
       "    </tr>\n",
       "  </tbody>\n",
       "</table>\n",
       "</div>"
      ],
      "text/plain": [
       "                                  sequence_identifier  \\\n",
       "95  @HWI-D00360:5:H814YADXX:1:1101:6582:2134 1:N:0...   \n",
       "96  @HWI-D00360:5:H814YADXX:1:1101:6746:2208 1:N:0...   \n",
       "97  @HWI-D00360:5:H814YADXX:1:1101:6514:2215 1:N:0...   \n",
       "98  @HWI-D00360:5:H814YADXX:1:1101:6718:2227 1:N:0...   \n",
       "99  @HWI-D00360:5:H814YADXX:1:1101:6821:2106 1:N:0...   \n",
       "\n",
       "                                        read_sequence  \\\n",
       "95  CAGTTTATCTTATTAATCTAGTGTTACCCTAATATAAAAACAATAA...   \n",
       "96  AGGAAGGAAGCTTTGCCAGGAAGTTCAAATGTCAGGGACCTAGTTC...   \n",
       "97  AGATTAGCCGGGCGTGGTGGAAGGCGCCTATAGTCCCAGCTACTCG...   \n",
       "98  CTTCTAACTGAAAAACGATGCCAGCTGTAGGACCCAGCTGCTCTTG...   \n",
       "99  CTGGGAAAGACTTTGCTTCTCCTTCATATTTAAAGAATAACTTTGA...   \n",
       "\n",
       "                                              quality  execution_time  \n",
       "95  BBCDFFFFHHHHHJJJJJJJJJJJJJJJJJJJJJJJJJJJJJJJJJ...         363.375  \n",
       "96  CCCFFFFFHFHGFJGIIIJJJJJFHIJJIIIJJJJJJJJJIJJFHI...         832.833  \n",
       "97  CCCFFFFFHGHGHJHIJGHJJJJJJJJJJJJJJJJJJJJJJJJJHH...       23371.750  \n",
       "98  CCCFFFFFHHHGFJHHHIIIIIIJJGGHIIJIIJJIJJIIJIJIII...         346.875  \n",
       "99  ?;?DDBDBCHBFDHB<<AEI<AFH@GIEHIFCHACDHIDC???FHI...        1141.041  "
      ]
     },
     "execution_count": 6,
     "metadata": {},
     "output_type": "execute_result"
    }
   ],
   "source": [
    "data1.tail()"
   ]
  },
  {
   "cell_type": "code",
   "execution_count": 7,
   "metadata": {},
   "outputs": [
    {
     "data": {
      "text/html": [
       "<div>\n",
       "<style scoped>\n",
       "    .dataframe tbody tr th:only-of-type {\n",
       "        vertical-align: middle;\n",
       "    }\n",
       "\n",
       "    .dataframe tbody tr th {\n",
       "        vertical-align: top;\n",
       "    }\n",
       "\n",
       "    .dataframe thead th {\n",
       "        text-align: right;\n",
       "    }\n",
       "</style>\n",
       "<table border=\"1\" class=\"dataframe\">\n",
       "  <thead>\n",
       "    <tr style=\"text-align: right;\">\n",
       "      <th></th>\n",
       "      <th>read_sequence</th>\n",
       "      <th>execution_time</th>\n",
       "    </tr>\n",
       "  </thead>\n",
       "  <tbody>\n",
       "    <tr>\n",
       "      <th>0</th>\n",
       "      <td>CTGGTCCTAACATCTGTTGACCATAGCCATATTTTTCAGAAAAGTC...</td>\n",
       "      <td>2295.125</td>\n",
       "    </tr>\n",
       "    <tr>\n",
       "      <th>1</th>\n",
       "      <td>TGGCTATGGGCTGCAATAATTCGTCTTTCTGAAAGGGCATTCAGCC...</td>\n",
       "      <td>674.000</td>\n",
       "    </tr>\n",
       "    <tr>\n",
       "      <th>2</th>\n",
       "      <td>ACTTTCTATCTCTATGGATTTAACCATTGTGGATATTTCATGTAAA...</td>\n",
       "      <td>757.209</td>\n",
       "    </tr>\n",
       "    <tr>\n",
       "      <th>3</th>\n",
       "      <td>ATCAAAAACATTCAAATGAAATCATCTTAAGTGCCAGAATTATAAA...</td>\n",
       "      <td>397.042</td>\n",
       "    </tr>\n",
       "    <tr>\n",
       "      <th>4</th>\n",
       "      <td>CAGGTTCCAATATTACAAATGCAAGGCCAGAAGGAGACTGCAAATG...</td>\n",
       "      <td>675.000</td>\n",
       "    </tr>\n",
       "    <tr>\n",
       "      <th>...</th>\n",
       "      <td>...</td>\n",
       "      <td>...</td>\n",
       "    </tr>\n",
       "    <tr>\n",
       "      <th>95</th>\n",
       "      <td>CAGTTTATCTTATTAATCTAGTGTTACCCTAATATAAAAACAATAA...</td>\n",
       "      <td>363.375</td>\n",
       "    </tr>\n",
       "    <tr>\n",
       "      <th>96</th>\n",
       "      <td>AGGAAGGAAGCTTTGCCAGGAAGTTCAAATGTCAGGGACCTAGTTC...</td>\n",
       "      <td>832.833</td>\n",
       "    </tr>\n",
       "    <tr>\n",
       "      <th>97</th>\n",
       "      <td>AGATTAGCCGGGCGTGGTGGAAGGCGCCTATAGTCCCAGCTACTCG...</td>\n",
       "      <td>23371.750</td>\n",
       "    </tr>\n",
       "    <tr>\n",
       "      <th>98</th>\n",
       "      <td>CTTCTAACTGAAAAACGATGCCAGCTGTAGGACCCAGCTGCTCTTG...</td>\n",
       "      <td>346.875</td>\n",
       "    </tr>\n",
       "    <tr>\n",
       "      <th>99</th>\n",
       "      <td>CTGGGAAAGACTTTGCTTCTCCTTCATATTTAAAGAATAACTTTGA...</td>\n",
       "      <td>1141.041</td>\n",
       "    </tr>\n",
       "  </tbody>\n",
       "</table>\n",
       "<p>100 rows × 2 columns</p>\n",
       "</div>"
      ],
      "text/plain": [
       "                                        read_sequence  execution_time\n",
       "0   CTGGTCCTAACATCTGTTGACCATAGCCATATTTTTCAGAAAAGTC...        2295.125\n",
       "1   TGGCTATGGGCTGCAATAATTCGTCTTTCTGAAAGGGCATTCAGCC...         674.000\n",
       "2   ACTTTCTATCTCTATGGATTTAACCATTGTGGATATTTCATGTAAA...         757.209\n",
       "3   ATCAAAAACATTCAAATGAAATCATCTTAAGTGCCAGAATTATAAA...         397.042\n",
       "4   CAGGTTCCAATATTACAAATGCAAGGCCAGAAGGAGACTGCAAATG...         675.000\n",
       "..                                                ...             ...\n",
       "95  CAGTTTATCTTATTAATCTAGTGTTACCCTAATATAAAAACAATAA...         363.375\n",
       "96  AGGAAGGAAGCTTTGCCAGGAAGTTCAAATGTCAGGGACCTAGTTC...         832.833\n",
       "97  AGATTAGCCGGGCGTGGTGGAAGGCGCCTATAGTCCCAGCTACTCG...       23371.750\n",
       "98  CTTCTAACTGAAAAACGATGCCAGCTGTAGGACCCAGCTGCTCTTG...         346.875\n",
       "99  CTGGGAAAGACTTTGCTTCTCCTTCATATTTAAAGAATAACTTTGA...        1141.041\n",
       "\n",
       "[100 rows x 2 columns]"
      ]
     },
     "execution_count": 7,
     "metadata": {},
     "output_type": "execute_result"
    }
   ],
   "source": [
    "reads = data1.drop(['sequence_identifier','quality'], axis =1)\n",
    "reads"
   ]
  },
  {
   "cell_type": "code",
   "execution_count": 8,
   "metadata": {},
   "outputs": [
    {
     "data": {
      "text/html": [
       "<div>\n",
       "<style scoped>\n",
       "    .dataframe tbody tr th:only-of-type {\n",
       "        vertical-align: middle;\n",
       "    }\n",
       "\n",
       "    .dataframe tbody tr th {\n",
       "        vertical-align: top;\n",
       "    }\n",
       "\n",
       "    .dataframe thead th {\n",
       "        text-align: right;\n",
       "    }\n",
       "</style>\n",
       "<table border=\"1\" class=\"dataframe\">\n",
       "  <thead>\n",
       "    <tr style=\"text-align: right;\">\n",
       "      <th></th>\n",
       "      <th>read_sequence</th>\n",
       "      <th>execution_time</th>\n",
       "    </tr>\n",
       "  </thead>\n",
       "  <tbody>\n",
       "    <tr>\n",
       "      <th>0</th>\n",
       "      <td>CTGGTCCTAACATCTGTTGACCATAGCCATATTTTTCAGAAAAGTC...</td>\n",
       "      <td>3.360806</td>\n",
       "    </tr>\n",
       "    <tr>\n",
       "      <th>1</th>\n",
       "      <td>TGGCTATGGGCTGCAATAATTCGTCTTTCTGAAAGGGCATTCAGCC...</td>\n",
       "      <td>2.828660</td>\n",
       "    </tr>\n",
       "    <tr>\n",
       "      <th>2</th>\n",
       "      <td>ACTTTCTATCTCTATGGATTTAACCATTGTGGATATTTCATGTAAA...</td>\n",
       "      <td>2.879216</td>\n",
       "    </tr>\n",
       "    <tr>\n",
       "      <th>3</th>\n",
       "      <td>ATCAAAAACATTCAAATGAAATCATCTTAAGTGCCAGAATTATAAA...</td>\n",
       "      <td>2.598836</td>\n",
       "    </tr>\n",
       "    <tr>\n",
       "      <th>4</th>\n",
       "      <td>CAGGTTCCAATATTACAAATGCAAGGCCAGAAGGAGACTGCAAATG...</td>\n",
       "      <td>2.829304</td>\n",
       "    </tr>\n",
       "    <tr>\n",
       "      <th>...</th>\n",
       "      <td>...</td>\n",
       "      <td>...</td>\n",
       "    </tr>\n",
       "    <tr>\n",
       "      <th>95</th>\n",
       "      <td>CAGTTTATCTTATTAATCTAGTGTTACCCTAATATAAAAACAATAA...</td>\n",
       "      <td>2.560355</td>\n",
       "    </tr>\n",
       "    <tr>\n",
       "      <th>96</th>\n",
       "      <td>AGGAAGGAAGCTTTGCCAGGAAGTTCAAATGTCAGGGACCTAGTTC...</td>\n",
       "      <td>2.920558</td>\n",
       "    </tr>\n",
       "    <tr>\n",
       "      <th>97</th>\n",
       "      <td>AGATTAGCCGGGCGTGGTGGAAGGCGCCTATAGTCCCAGCTACTCG...</td>\n",
       "      <td>4.368691</td>\n",
       "    </tr>\n",
       "    <tr>\n",
       "      <th>98</th>\n",
       "      <td>CTTCTAACTGAAAAACGATGCCAGCTGTAGGACCCAGCTGCTCTTG...</td>\n",
       "      <td>2.540173</td>\n",
       "    </tr>\n",
       "    <tr>\n",
       "      <th>99</th>\n",
       "      <td>CTGGGAAAGACTTTGCTTCTCCTTCATATTTAAAGAATAACTTTGA...</td>\n",
       "      <td>3.057301</td>\n",
       "    </tr>\n",
       "  </tbody>\n",
       "</table>\n",
       "<p>100 rows × 2 columns</p>\n",
       "</div>"
      ],
      "text/plain": [
       "                                        read_sequence  execution_time\n",
       "0   CTGGTCCTAACATCTGTTGACCATAGCCATATTTTTCAGAAAAGTC...        3.360806\n",
       "1   TGGCTATGGGCTGCAATAATTCGTCTTTCTGAAAGGGCATTCAGCC...        2.828660\n",
       "2   ACTTTCTATCTCTATGGATTTAACCATTGTGGATATTTCATGTAAA...        2.879216\n",
       "3   ATCAAAAACATTCAAATGAAATCATCTTAAGTGCCAGAATTATAAA...        2.598836\n",
       "4   CAGGTTCCAATATTACAAATGCAAGGCCAGAAGGAGACTGCAAATG...        2.829304\n",
       "..                                                ...             ...\n",
       "95  CAGTTTATCTTATTAATCTAGTGTTACCCTAATATAAAAACAATAA...        2.560355\n",
       "96  AGGAAGGAAGCTTTGCCAGGAAGTTCAAATGTCAGGGACCTAGTTC...        2.920558\n",
       "97  AGATTAGCCGGGCGTGGTGGAAGGCGCCTATAGTCCCAGCTACTCG...        4.368691\n",
       "98  CTTCTAACTGAAAAACGATGCCAGCTGTAGGACCCAGCTGCTCTTG...        2.540173\n",
       "99  CTGGGAAAGACTTTGCTTCTCCTTCATATTTAAAGAATAACTTTGA...        3.057301\n",
       "\n",
       "[100 rows x 2 columns]"
      ]
     },
     "execution_count": 8,
     "metadata": {},
     "output_type": "execute_result"
    }
   ],
   "source": [
    "reads['execution_time'] = np.log10(reads.execution_time)\n",
    "reads"
   ]
  },
  {
   "cell_type": "code",
   "execution_count": 9,
   "metadata": {},
   "outputs": [],
   "source": [
    "def Kmers_funct(seq, size=5): #148 characters/sequence  size = 6 better? Used 4 previously.[SIze = 9 gave a r_sq = 1 is this the best value for data = 250, train = 0.8 random = 42, ngaram 4,4]??\n",
    "    #Performed much better with same settings and more data. used 1000. r_sq reduced to 0.9999999999999962\n",
    "   return [seq[x:x+size].lower() for x in range(len(seq) - size + 1)]\n",
    "#convert our training data sequences into short overlapping k-mers of length 6. Lets do that for each species of data we have using our Kmers_funct function.\n",
    "reads['words'] = reads.apply(lambda x: Kmers_funct(x['read_sequence']), axis=1)\n",
    "reads = reads.drop('read_sequence', axis=1)"
   ]
  },
  {
   "cell_type": "code",
   "execution_count": 10,
   "metadata": {},
   "outputs": [],
   "source": [
    "human_texts = list(reads['words'])\n",
    "for item in range(len(human_texts)):\n",
    "   human_texts[item] = ' '.join(human_texts[item])\n",
    "#separate labels\n",
    "Y = reads.iloc[:, 0].values # y_human for human_dna"
   ]
  },
  {
   "cell_type": "code",
   "execution_count": 11,
   "metadata": {},
   "outputs": [],
   "source": [
    "from sklearn.feature_extraction.text import CountVectorizer\n",
    "cv = CountVectorizer(ngram_range = (4,4)) # initially (4,4) \n",
    "#: For ngram_range = (1,4) and fitting with all data rmsle = 0.3123797747684005, mse = 781905.5443143004, size = 9, data = 500, testsize = 0.8,random_state = 42\n",
    "#: For ngram_range = (4,4) and fitting with all data rmsle = 0.27364484069740186, mse = 1041022.6402906085, size = 9, data = 500, testsize = 0.8,random_state = 42\n",
    "X = cv.fit_transform(human_texts)\n",
    "#from sklearn.feature_extraction.text import TfidfVectorizer\n",
    "#tfid = TfidfVectorizer(ngram_range = (4,4))\n",
    "#X = tfid.fit_transform(human_texts)\n",
    "#print(X)"
   ]
  },
  {
   "cell_type": "code",
   "execution_count": 12,
   "metadata": {},
   "outputs": [],
   "source": [
    "#from sklearn.preprocessing import MaxAbsScaler\n",
    "#abs_scal = MaxAbsScaler()\n",
    "\n",
    "#XX = abs_scal.fit_transform(X)"
   ]
  },
  {
   "cell_type": "code",
   "execution_count": 13,
   "metadata": {},
   "outputs": [],
   "source": [
    "from sklearn.ensemble import RandomForestRegressor\n",
    "regressor = RandomForestRegressor(random_state = 1) #Try different random_state number, n_jobs = -1 to speed up(use all processors)\n",
    "#regressor.fit(X,Y)"
   ]
  },
  {
   "cell_type": "code",
   "execution_count": 14,
   "metadata": {},
   "outputs": [],
   "source": [
    "#pd.DataFrame({'Variable':X.columns,\n",
    "#              'Importance':regressor.feature_importances_}).sort_values('Importance', ascending=False)"
   ]
  },
  {
   "cell_type": "code",
   "execution_count": 15,
   "metadata": {},
   "outputs": [],
   "source": [
    "#score = regressor.score(X,Y)\n",
    "#score"
   ]
  },
  {
   "cell_type": "code",
   "execution_count": 16,
   "metadata": {},
   "outputs": [
    {
     "name": "stdout",
     "output_type": "stream",
     "text": [
      "X_train (80, 11501)\n",
      "X_test (20, 11501)\n",
      "y_train (80,)\n",
      "y_test (20,)\n"
     ]
    }
   ],
   "source": [
    "from sklearn.model_selection import train_test_split\n",
    "X_train, X_test, y_train,y_test = train_test_split(X,Y, test_size = 0.2, random_state = 42) \n",
    "print('X_train',X_train.shape)\n",
    "print('X_test',X_test.shape)\n",
    "print('y_train',y_train.shape)\n",
    "print('y_test',y_test.shape)"
   ]
  },
  {
   "cell_type": "code",
   "execution_count": 17,
   "metadata": {},
   "outputs": [
    {
     "data": {
      "text/plain": [
       "RandomForestRegressor(random_state=1)"
      ]
     },
     "execution_count": 17,
     "metadata": {},
     "output_type": "execute_result"
    }
   ],
   "source": [
    "#regressor = RandomForestRegressor( random_state = 1)\n",
    "regressor.fit(X_train,y_train)"
   ]
  },
  {
   "cell_type": "code",
   "execution_count": 18,
   "metadata": {},
   "outputs": [
    {
     "data": {
      "text/plain": [
       "0.8517229440010186"
      ]
     },
     "execution_count": 18,
     "metadata": {},
     "output_type": "execute_result"
    }
   ],
   "source": [
    "r2_score_train = regressor.score(X_train,y_train)  \n",
    "r2_score_train"
   ]
  },
  {
   "cell_type": "code",
   "execution_count": 19,
   "metadata": {},
   "outputs": [
    {
     "data": {
      "text/plain": [
       "-0.32503370745795035"
      ]
     },
     "execution_count": 19,
     "metadata": {},
     "output_type": "execute_result"
    }
   ],
   "source": [
    "r2_score_test = regressor.score(X_test,y_test)  \n",
    "r2_score_test"
   ]
  },
  {
   "cell_type": "code",
   "execution_count": 20,
   "metadata": {},
   "outputs": [],
   "source": [
    "ypred = regressor.predict(X_test)"
   ]
  },
  {
   "cell_type": "code",
   "execution_count": 21,
   "metadata": {},
   "outputs": [
    {
     "data": {
      "text/plain": [
       "0.17818981609138634"
      ]
     },
     "execution_count": 21,
     "metadata": {},
     "output_type": "execute_result"
    }
   ],
   "source": [
    "from sklearn.metrics import mean_squared_error\n",
    "ypred_train = regressor.predict(X_train)\n",
    "rmse_train = np.sqrt(mean_squared_error(y_train, ypred_train))     \n",
    "rmse_train"
   ]
  },
  {
   "cell_type": "code",
   "execution_count": 22,
   "metadata": {},
   "outputs": [
    {
     "data": {
      "text/plain": [
       "0.5026325800901433"
      ]
     },
     "execution_count": 22,
     "metadata": {},
     "output_type": "execute_result"
    }
   ],
   "source": [
    "\n",
    "ypred = regressor.predict(X_test)\n",
    "rmse = np.sqrt(mean_squared_error(y_test, ypred))           \n",
    "rmse"
   ]
  },
  {
   "cell_type": "code",
   "execution_count": 23,
   "metadata": {},
   "outputs": [
    {
     "data": {
      "text/plain": [
       "0.11955716889230807"
      ]
     },
     "execution_count": 23,
     "metadata": {},
     "output_type": "execute_result"
    }
   ],
   "source": [
    "from sklearn.metrics import mean_squared_log_error\n",
    "rmsle = mean_squared_log_error(y_test,ypred)**0.5             \n",
    "rmsle"
   ]
  },
  {
   "cell_type": "code",
   "execution_count": 24,
   "metadata": {},
   "outputs": [],
   "source": [
    "y_pred_non_log = 10**(ypred)\n",
    "y_test_non_log = 10**(y_test)"
   ]
  },
  {
   "cell_type": "code",
   "execution_count": 25,
   "metadata": {},
   "outputs": [
    {
     "data": {
      "image/png": "[encoded data removed]",
      "text/plain": [
       "<Figure size 3000x500 with 1 Axes>"
      ]
     },
     "metadata": {},
     "output_type": "display_data"
    }
   ],
   "source": [
    "x_ax = range(len(y_test_non_log))\n",
    "f = plt.figure()\n",
    "f.set_figwidth(30)\n",
    "f.set_figheight(5)\n",
    "plt.plot(x_ax, y_test_non_log, label=\"truth\")\n",
    "plt.plot(x_ax, y_pred_non_log, label=\"predicted\")\n",
    "plt.title(\"predicted vs truth execution times\")\n",
    "plt.xlabel('Reads')\n",
    "plt.ylabel('Execution time (ms)')\n",
    "plt.legend(loc='best',fancybox=True, shadow=True)\n",
    "plt.grid(True)\n",
    "plt.show()"
   ]
  },
  {
   "cell_type": "code",
   "execution_count": null,
   "metadata": {},
   "outputs": [],
   "source": []
  }
 ],
 "metadata": {
  "kernelspec": {
   "display_name": "Python 3.10.6 64-bit",
   "language": "python",
   "name": "python3"
  },
  "language_info": {
   "codemirror_mode": {
    "name": "ipython",
    "version": 3
   },
   "file_extension": ".py",
   "mimetype": "text/x-python",
   "name": "python",
   "nbconvert_exporter": "python",
   "pygments_lexer": "ipython3",
   "version": "3.10.6"
  },
  "vscode": {
   "interpreter": {
    "hash": "e7370f93d1d0cde622a1f8e1c04877d8463912d04d973331ad4851f04de6915a"
   }
  }
 },
 "nbformat": 4,
 "nbformat_minor": 4
}
