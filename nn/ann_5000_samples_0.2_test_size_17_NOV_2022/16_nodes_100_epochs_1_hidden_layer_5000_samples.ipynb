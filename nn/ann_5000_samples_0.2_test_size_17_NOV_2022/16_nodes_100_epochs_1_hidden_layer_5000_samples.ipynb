{
 "cells": [
  {
   "cell_type": "code",
   "execution_count": 1,
   "metadata": {},
   "outputs": [],
   "source": [
    "import pandas as pd\n",
    "import seaborn as sns\n",
    "sns.set_style('darkgrid')\n",
    "import numpy as np\n",
    "import sys\n",
    "import matplotlib.pyplot as plt \n",
    "np.set_printoptions(threshold=sys.maxsize)"
   ]
  },
  {
   "cell_type": "code",
   "execution_count": 2,
   "metadata": {},
   "outputs": [],
   "source": [
    "csv1 = pd.read_csv('sequence_execution_time.csv')\n",
    "#csv1.head()"
   ]
  },
  {
   "cell_type": "code",
   "execution_count": 3,
   "metadata": {
    "scrolled": true
   },
   "outputs": [
    {
     "data": {
      "text/html": [
       "<div>\n",
       "<style scoped>\n",
       "    .dataframe tbody tr th:only-of-type {\n",
       "        vertical-align: middle;\n",
       "    }\n",
       "\n",
       "    .dataframe tbody tr th {\n",
       "        vertical-align: top;\n",
       "    }\n",
       "\n",
       "    .dataframe thead th {\n",
       "        text-align: right;\n",
       "    }\n",
       "</style>\n",
       "<table border=\"1\" class=\"dataframe\">\n",
       "  <thead>\n",
       "    <tr style=\"text-align: right;\">\n",
       "      <th></th>\n",
       "      <th>sequence_identifier</th>\n",
       "      <th>read_sequence</th>\n",
       "      <th>quality</th>\n",
       "      <th>execution_time</th>\n",
       "    </tr>\n",
       "  </thead>\n",
       "  <tbody>\n",
       "    <tr>\n",
       "      <th>3999995</th>\n",
       "      <td>@HWI-D00360:5:H814YADXX:1:1115:18756:14266 1:N...</td>\n",
       "      <td>ACTAATAAAGAAAAAAAGAGAGAAGAATCAAATAGACGCAATAAAA...</td>\n",
       "      <td>C@CFFFFFHHHHHJGEHHIJJJIJIIJJJJJIJJIFIIIIGIJJIJ...</td>\n",
       "      <td>341.792</td>\n",
       "    </tr>\n",
       "    <tr>\n",
       "      <th>3999996</th>\n",
       "      <td>@HWI-D00360:5:H814YADXX:1:1115:18805:14266 1:N...</td>\n",
       "      <td>ATAAATGAATAATAGGCGGTTTCTGACATCAGGAAGTTTAGACCGC...</td>\n",
       "      <td>CCCFFFFFGHHHHJJJJJJGIJHIJGIIJJIJJIIJHIJJIIJJJJ...</td>\n",
       "      <td>556.625</td>\n",
       "    </tr>\n",
       "    <tr>\n",
       "      <th>3999997</th>\n",
       "      <td>@HWI-D00360:5:H814YADXX:1:1115:18868:14278 1:N...</td>\n",
       "      <td>GTATGGAAATACCTGGATGTCCAGGCAGAAGTGTGCTACAGGGGCA...</td>\n",
       "      <td>@@CFFFFFHGHHHJIIIGIGHHAGGGIIBGG?ECCFFHIJJGEBDA...</td>\n",
       "      <td>8523.708</td>\n",
       "    </tr>\n",
       "    <tr>\n",
       "      <th>3999998</th>\n",
       "      <td>@HWI-D00360:5:H814YADXX:1:1115:18797:14322 1:N...</td>\n",
       "      <td>AACTCAGTAATTACTTTGATTTGGAGTCTTAATGCAATTTTACCCA...</td>\n",
       "      <td>CCCFFFFFHDHHHJJJJJJIJJJIJIHGHIIJJJJIJIJJJJJJJI...</td>\n",
       "      <td>880.708</td>\n",
       "    </tr>\n",
       "    <tr>\n",
       "      <th>3999999</th>\n",
       "      <td>@HWI-D00360:5:H814YADXX:1:1115:18971:14400 1:N...</td>\n",
       "      <td>GAAAATAGTTTCCCATTTGTTGCCACTGTTTTAAACTTACTGTTAT...</td>\n",
       "      <td>@@@FDFDBBDFFBFIGGGCFGFHHGIGEHIIIIEIIGE@GIIIGGI...</td>\n",
       "      <td>624.208</td>\n",
       "    </tr>\n",
       "  </tbody>\n",
       "</table>\n",
       "</div>"
      ],
      "text/plain": [
       "                                       sequence_identifier  \\\n",
       "3999995  @HWI-D00360:5:H814YADXX:1:1115:18756:14266 1:N...   \n",
       "3999996  @HWI-D00360:5:H814YADXX:1:1115:18805:14266 1:N...   \n",
       "3999997  @HWI-D00360:5:H814YADXX:1:1115:18868:14278 1:N...   \n",
       "3999998  @HWI-D00360:5:H814YADXX:1:1115:18797:14322 1:N...   \n",
       "3999999  @HWI-D00360:5:H814YADXX:1:1115:18971:14400 1:N...   \n",
       "\n",
       "                                             read_sequence  \\\n",
       "3999995  ACTAATAAAGAAAAAAAGAGAGAAGAATCAAATAGACGCAATAAAA...   \n",
       "3999996  ATAAATGAATAATAGGCGGTTTCTGACATCAGGAAGTTTAGACCGC...   \n",
       "3999997  GTATGGAAATACCTGGATGTCCAGGCAGAAGTGTGCTACAGGGGCA...   \n",
       "3999998  AACTCAGTAATTACTTTGATTTGGAGTCTTAATGCAATTTTACCCA...   \n",
       "3999999  GAAAATAGTTTCCCATTTGTTGCCACTGTTTTAAACTTACTGTTAT...   \n",
       "\n",
       "                                                   quality  execution_time  \n",
       "3999995  C@CFFFFFHHHHHJGEHHIJJJIJIIJJJJJIJJIFIIIIGIJJIJ...         341.792  \n",
       "3999996  CCCFFFFFGHHHHJJJJJJGIJHIJGIIJJIJJIIJHIJJIIJJJJ...         556.625  \n",
       "3999997  @@CFFFFFHGHHHJIIIGIGHHAGGGIIBGG?ECCFFHIJJGEBDA...        8523.708  \n",
       "3999998  CCCFFFFFHDHHHJJJJJJIJJJIJIHGHIIJJJJIJIJJJJJJJI...         880.708  \n",
       "3999999  @@@FDFDBBDFFBFIGGGCFGFHHGIGEHIIIIEIIGE@GIIIGGI...         624.208  "
      ]
     },
     "execution_count": 3,
     "metadata": {},
     "output_type": "execute_result"
    }
   ],
   "source": [
    "csv1.tail()"
   ]
  },
  {
   "cell_type": "code",
   "execution_count": 4,
   "metadata": {},
   "outputs": [],
   "source": [
    "#data = csv1.drop(['sequence_identifier','quality'], axis = 1)\n",
    "data = csv1"
   ]
  },
  {
   "cell_type": "code",
   "execution_count": 5,
   "metadata": {},
   "outputs": [],
   "source": [
    "data1 = data.drop(csv1.index[5000:]) #reduce dataset to 10% of original dataframe\n",
    "#data.head()"
   ]
  },
  {
   "cell_type": "code",
   "execution_count": 6,
   "metadata": {},
   "outputs": [
    {
     "data": {
      "text/html": [
       "<div>\n",
       "<style scoped>\n",
       "    .dataframe tbody tr th:only-of-type {\n",
       "        vertical-align: middle;\n",
       "    }\n",
       "\n",
       "    .dataframe tbody tr th {\n",
       "        vertical-align: top;\n",
       "    }\n",
       "\n",
       "    .dataframe thead th {\n",
       "        text-align: right;\n",
       "    }\n",
       "</style>\n",
       "<table border=\"1\" class=\"dataframe\">\n",
       "  <thead>\n",
       "    <tr style=\"text-align: right;\">\n",
       "      <th></th>\n",
       "      <th>sequence_identifier</th>\n",
       "      <th>read_sequence</th>\n",
       "      <th>quality</th>\n",
       "      <th>execution_time</th>\n",
       "    </tr>\n",
       "  </thead>\n",
       "  <tbody>\n",
       "    <tr>\n",
       "      <th>4995</th>\n",
       "      <td>@HWI-D00360:5:H814YADXX:1:1101:18515:3754 1:N:...</td>\n",
       "      <td>CAGTGCTATTCACAATTGCAGAGAAATGGAATTAACCTAGATGCCC...</td>\n",
       "      <td>BCCFFFFFHGHHHJIJJJJIJJJIIIJJIIIHJJJJJJJJIJIJJJ...</td>\n",
       "      <td>700.041</td>\n",
       "    </tr>\n",
       "    <tr>\n",
       "      <th>4996</th>\n",
       "      <td>@HWI-D00360:5:H814YADXX:1:1101:18597:3869 1:N:...</td>\n",
       "      <td>ACCGGCCCGGGTTCTTTCTGTGTTCCACGTACCTATTAGTCCCACT...</td>\n",
       "      <td>CCCFFFFFGHHDHIJJJJJGIJJJJJJJIHIJJJIJJIIDHHIDII...</td>\n",
       "      <td>239.041</td>\n",
       "    </tr>\n",
       "    <tr>\n",
       "      <th>4997</th>\n",
       "      <td>@HWI-D00360:5:H814YADXX:1:1101:18687:3872 1:N:...</td>\n",
       "      <td>TCTGGACAAGCTGTATTTGAATCTGTGTGAAGTCAGGAGTGTGCAG...</td>\n",
       "      <td>CCCFFFFFHHHHHJJJJJJJJJJJJJJJJJJJJJJJJIJFHHIIII...</td>\n",
       "      <td>231.041</td>\n",
       "    </tr>\n",
       "    <tr>\n",
       "      <th>4998</th>\n",
       "      <td>@HWI-D00360:5:H814YADXX:1:1101:18640:3880 1:N:...</td>\n",
       "      <td>GATAACTGTATTTTTCAAAACTTAAATTTCAGAACATTTTATAGTC...</td>\n",
       "      <td>@@@FFFFFHHHHGJJJIGGGIIIJJIIIIJIIHJIIJJJJGIDHII...</td>\n",
       "      <td>787.500</td>\n",
       "    </tr>\n",
       "    <tr>\n",
       "      <th>4999</th>\n",
       "      <td>@HWI-D00360:5:H814YADXX:1:1101:18520:3923 1:N:...</td>\n",
       "      <td>TCACAAGGTTTTATATCAGCAACAGAGGACTAAGACCAAATATTTC...</td>\n",
       "      <td>CCCFFFFFDFHHHJJJJJJJJJJJJIJJJJJJJJJJJJJJJJJJJJ...</td>\n",
       "      <td>752.125</td>\n",
       "    </tr>\n",
       "  </tbody>\n",
       "</table>\n",
       "</div>"
      ],
      "text/plain": [
       "                                    sequence_identifier  \\\n",
       "4995  @HWI-D00360:5:H814YADXX:1:1101:18515:3754 1:N:...   \n",
       "4996  @HWI-D00360:5:H814YADXX:1:1101:18597:3869 1:N:...   \n",
       "4997  @HWI-D00360:5:H814YADXX:1:1101:18687:3872 1:N:...   \n",
       "4998  @HWI-D00360:5:H814YADXX:1:1101:18640:3880 1:N:...   \n",
       "4999  @HWI-D00360:5:H814YADXX:1:1101:18520:3923 1:N:...   \n",
       "\n",
       "                                          read_sequence  \\\n",
       "4995  CAGTGCTATTCACAATTGCAGAGAAATGGAATTAACCTAGATGCCC...   \n",
       "4996  ACCGGCCCGGGTTCTTTCTGTGTTCCACGTACCTATTAGTCCCACT...   \n",
       "4997  TCTGGACAAGCTGTATTTGAATCTGTGTGAAGTCAGGAGTGTGCAG...   \n",
       "4998  GATAACTGTATTTTTCAAAACTTAAATTTCAGAACATTTTATAGTC...   \n",
       "4999  TCACAAGGTTTTATATCAGCAACAGAGGACTAAGACCAAATATTTC...   \n",
       "\n",
       "                                                quality  execution_time  \n",
       "4995  BCCFFFFFHGHHHJIJJJJIJJJIIIJJIIIHJJJJJJJJIJIJJJ...         700.041  \n",
       "4996  CCCFFFFFGHHDHIJJJJJGIJJJJJJJIHIJJJIJJIIDHHIDII...         239.041  \n",
       "4997  CCCFFFFFHHHHHJJJJJJJJJJJJJJJJJJJJJJJJIJFHHIIII...         231.041  \n",
       "4998  @@@FFFFFHHHHGJJJIGGGIIIJJIIIIJIIHJIIJJJJGIDHII...         787.500  \n",
       "4999  CCCFFFFFDFHHHJJJJJJJJJJJJIJJJJJJJJJJJJJJJJJJJJ...         752.125  "
      ]
     },
     "execution_count": 6,
     "metadata": {},
     "output_type": "execute_result"
    }
   ],
   "source": [
    "data1.tail()"
   ]
  },
  {
   "cell_type": "code",
   "execution_count": 7,
   "metadata": {},
   "outputs": [],
   "source": [
    "from sklearn.preprocessing import LabelEncoder\n",
    "le =LabelEncoder()\n",
    "\n",
    "seq_trans = le.fit_transform(data1[\"read_sequence\"])\n",
    "seq_ide_trans = le.fit_transform(data1[\"sequence_identifier\"])\n",
    "quali_trans = le.fit_transform(data1[\"quality\"])\n"
   ]
  },
  {
   "cell_type": "code",
   "execution_count": 8,
   "metadata": {},
   "outputs": [
    {
     "data": {
      "text/html": [
       "<div>\n",
       "<style scoped>\n",
       "    .dataframe tbody tr th:only-of-type {\n",
       "        vertical-align: middle;\n",
       "    }\n",
       "\n",
       "    .dataframe tbody tr th {\n",
       "        vertical-align: top;\n",
       "    }\n",
       "\n",
       "    .dataframe thead th {\n",
       "        text-align: right;\n",
       "    }\n",
       "</style>\n",
       "<table border=\"1\" class=\"dataframe\">\n",
       "  <thead>\n",
       "    <tr style=\"text-align: right;\">\n",
       "      <th></th>\n",
       "      <th>sequence_identifier</th>\n",
       "      <th>read_sequence</th>\n",
       "      <th>quality</th>\n",
       "      <th>execution_time</th>\n",
       "      <th>seq_encoded</th>\n",
       "      <th>seq_id_encoded</th>\n",
       "      <th>qual_encoded</th>\n",
       "    </tr>\n",
       "  </thead>\n",
       "  <tbody>\n",
       "    <tr>\n",
       "      <th>0</th>\n",
       "      <td>@HWI-D00360:5:H814YADXX:1:1101:1205:2142 1:N:0...</td>\n",
       "      <td>CTGGTCCTAACATCTGTTGACCATAGCCATATTTTTCAGAAAAGTC...</td>\n",
       "      <td>CCCFFFFFHHHHHJJJJJJJJJJJJJJJJJJJJJJJJJIJJJJJIJ...</td>\n",
       "      <td>2295.125</td>\n",
       "      <td>2451</td>\n",
       "      <td>518</td>\n",
       "      <td>4608</td>\n",
       "    </tr>\n",
       "    <tr>\n",
       "      <th>1</th>\n",
       "      <td>@HWI-D00360:5:H814YADXX:1:1101:1244:2206 1:N:0...</td>\n",
       "      <td>TGGCTATGGGCTGCAATAATTCGTCTTTCTGAAAGGGCATTCAGCC...</td>\n",
       "      <td>@&lt;;DFFFFFDDHDGGGGGGIGFGIGEIIGICHGIEDEGGHGGHHGF...</td>\n",
       "      <td>674.000</td>\n",
       "      <td>4351</td>\n",
       "      <td>623</td>\n",
       "      <td>231</td>\n",
       "    </tr>\n",
       "    <tr>\n",
       "      <th>2</th>\n",
       "      <td>@HWI-D00360:5:H814YADXX:1:1101:1295:2128 1:N:0...</td>\n",
       "      <td>ACTTTCTATCTCTATGGATTTAACCATTGTGGATATTTCATGTAAA...</td>\n",
       "      <td>CCCFFFFFHHHHHJJJJJJJJJJJJJJJJHIJJJJJJJJIJJHJJI...</td>\n",
       "      <td>757.209</td>\n",
       "      <td>804</td>\n",
       "      <td>765</td>\n",
       "      <td>4288</td>\n",
       "    </tr>\n",
       "    <tr>\n",
       "      <th>3</th>\n",
       "      <td>@HWI-D00360:5:H814YADXX:1:1101:1460:2184 1:N:0...</td>\n",
       "      <td>ATCAAAAACATTCAAATGAAATCATCTTAAGTGCCAGAATTATAAA...</td>\n",
       "      <td>;@@DDEFFHGHHHGIIIFIIIGICGCHHHGI?FHIIHDCA&gt;GHIII...</td>\n",
       "      <td>397.042</td>\n",
       "      <td>1314</td>\n",
       "      <td>1261</td>\n",
       "      <td>48</td>\n",
       "    </tr>\n",
       "    <tr>\n",
       "      <th>4</th>\n",
       "      <td>@HWI-D00360:5:H814YADXX:1:1101:1597:2113 1:N:0...</td>\n",
       "      <td>CAGGTTCCAATATTACAAATGCAAGGCCAGAAGGAGACTGCAAATG...</td>\n",
       "      <td>CCCFFFFFHHHHHJJJJJJJJJJJJJJJJJJJJJJJJJJJJJJJJJ...</td>\n",
       "      <td>675.000</td>\n",
       "      <td>1870</td>\n",
       "      <td>1636</td>\n",
       "      <td>4968</td>\n",
       "    </tr>\n",
       "  </tbody>\n",
       "</table>\n",
       "</div>"
      ],
      "text/plain": [
       "                                 sequence_identifier  \\\n",
       "0  @HWI-D00360:5:H814YADXX:1:1101:1205:2142 1:N:0...   \n",
       "1  @HWI-D00360:5:H814YADXX:1:1101:1244:2206 1:N:0...   \n",
       "2  @HWI-D00360:5:H814YADXX:1:1101:1295:2128 1:N:0...   \n",
       "3  @HWI-D00360:5:H814YADXX:1:1101:1460:2184 1:N:0...   \n",
       "4  @HWI-D00360:5:H814YADXX:1:1101:1597:2113 1:N:0...   \n",
       "\n",
       "                                       read_sequence  \\\n",
       "0  CTGGTCCTAACATCTGTTGACCATAGCCATATTTTTCAGAAAAGTC...   \n",
       "1  TGGCTATGGGCTGCAATAATTCGTCTTTCTGAAAGGGCATTCAGCC...   \n",
       "2  ACTTTCTATCTCTATGGATTTAACCATTGTGGATATTTCATGTAAA...   \n",
       "3  ATCAAAAACATTCAAATGAAATCATCTTAAGTGCCAGAATTATAAA...   \n",
       "4  CAGGTTCCAATATTACAAATGCAAGGCCAGAAGGAGACTGCAAATG...   \n",
       "\n",
       "                                             quality  execution_time  \\\n",
       "0  CCCFFFFFHHHHHJJJJJJJJJJJJJJJJJJJJJJJJJIJJJJJIJ...        2295.125   \n",
       "1  @<;DFFFFFDDHDGGGGGGIGFGIGEIIGICHGIEDEGGHGGHHGF...         674.000   \n",
       "2  CCCFFFFFHHHHHJJJJJJJJJJJJJJJJHIJJJJJJJJIJJHJJI...         757.209   \n",
       "3  ;@@DDEFFHGHHHGIIIFIIIGICGCHHHGI?FHIIHDCA>GHIII...         397.042   \n",
       "4  CCCFFFFFHHHHHJJJJJJJJJJJJJJJJJJJJJJJJJJJJJJJJJ...         675.000   \n",
       "\n",
       "   seq_encoded  seq_id_encoded  qual_encoded  \n",
       "0         2451             518          4608  \n",
       "1         4351             623           231  \n",
       "2          804             765          4288  \n",
       "3         1314            1261            48  \n",
       "4         1870            1636          4968  "
      ]
     },
     "execution_count": 8,
     "metadata": {},
     "output_type": "execute_result"
    }
   ],
   "source": [
    "data1['seq_encoded']=seq_trans\n",
    "data1['seq_id_encoded']=seq_ide_trans\n",
    "data1['qual_encoded']=quali_trans\n",
    "data1.head()"
   ]
  },
  {
   "cell_type": "code",
   "execution_count": 9,
   "metadata": {},
   "outputs": [
    {
     "data": {
      "text/plain": [
       "sequence_identifier    5000\n",
       "read_sequence          5000\n",
       "quality                5000\n",
       "execution_time         4683\n",
       "seq_encoded            5000\n",
       "seq_id_encoded         5000\n",
       "qual_encoded           5000\n",
       "dtype: int64"
      ]
     },
     "execution_count": 9,
     "metadata": {},
     "output_type": "execute_result"
    }
   ],
   "source": [
    "data1.nunique()"
   ]
  },
  {
   "cell_type": "code",
   "execution_count": 10,
   "metadata": {
    "tags": []
   },
   "outputs": [
    {
     "data": {
      "text/html": [
       "<div>\n",
       "<style scoped>\n",
       "    .dataframe tbody tr th:only-of-type {\n",
       "        vertical-align: middle;\n",
       "    }\n",
       "\n",
       "    .dataframe tbody tr th {\n",
       "        vertical-align: top;\n",
       "    }\n",
       "\n",
       "    .dataframe thead th {\n",
       "        text-align: right;\n",
       "    }\n",
       "</style>\n",
       "<table border=\"1\" class=\"dataframe\">\n",
       "  <thead>\n",
       "    <tr style=\"text-align: right;\">\n",
       "      <th></th>\n",
       "      <th>execution_time</th>\n",
       "      <th>seq_encoded</th>\n",
       "      <th>seq_id_encoded</th>\n",
       "      <th>qual_encoded</th>\n",
       "    </tr>\n",
       "  </thead>\n",
       "  <tbody>\n",
       "    <tr>\n",
       "      <th>0</th>\n",
       "      <td>2295.125</td>\n",
       "      <td>2451</td>\n",
       "      <td>518</td>\n",
       "      <td>4608</td>\n",
       "    </tr>\n",
       "    <tr>\n",
       "      <th>1</th>\n",
       "      <td>674.000</td>\n",
       "      <td>4351</td>\n",
       "      <td>623</td>\n",
       "      <td>231</td>\n",
       "    </tr>\n",
       "    <tr>\n",
       "      <th>2</th>\n",
       "      <td>757.209</td>\n",
       "      <td>804</td>\n",
       "      <td>765</td>\n",
       "      <td>4288</td>\n",
       "    </tr>\n",
       "    <tr>\n",
       "      <th>3</th>\n",
       "      <td>397.042</td>\n",
       "      <td>1314</td>\n",
       "      <td>1261</td>\n",
       "      <td>48</td>\n",
       "    </tr>\n",
       "    <tr>\n",
       "      <th>4</th>\n",
       "      <td>675.000</td>\n",
       "      <td>1870</td>\n",
       "      <td>1636</td>\n",
       "      <td>4968</td>\n",
       "    </tr>\n",
       "  </tbody>\n",
       "</table>\n",
       "</div>"
      ],
      "text/plain": [
       "   execution_time  seq_encoded  seq_id_encoded  qual_encoded\n",
       "0        2295.125         2451             518          4608\n",
       "1         674.000         4351             623           231\n",
       "2         757.209          804             765          4288\n",
       "3         397.042         1314            1261            48\n",
       "4         675.000         1870            1636          4968"
      ]
     },
     "execution_count": 10,
     "metadata": {},
     "output_type": "execute_result"
    }
   ],
   "source": [
    "data1 = data1.drop(['sequence_identifier','read_sequence','quality'], axis = 1)\n",
    "data1.head()"
   ]
  },
  {
   "cell_type": "code",
   "execution_count": 11,
   "metadata": {},
   "outputs": [
    {
     "data": {
      "text/html": [
       "<div>\n",
       "<style scoped>\n",
       "    .dataframe tbody tr th:only-of-type {\n",
       "        vertical-align: middle;\n",
       "    }\n",
       "\n",
       "    .dataframe tbody tr th {\n",
       "        vertical-align: top;\n",
       "    }\n",
       "\n",
       "    .dataframe thead th {\n",
       "        text-align: right;\n",
       "    }\n",
       "</style>\n",
       "<table border=\"1\" class=\"dataframe\">\n",
       "  <thead>\n",
       "    <tr style=\"text-align: right;\">\n",
       "      <th></th>\n",
       "      <th>execution_time</th>\n",
       "      <th>seq_encoded</th>\n",
       "      <th>seq_id_encoded</th>\n",
       "      <th>qual_encoded</th>\n",
       "    </tr>\n",
       "  </thead>\n",
       "  <tbody>\n",
       "    <tr>\n",
       "      <th>count</th>\n",
       "      <td>5000.000000</td>\n",
       "      <td>5000.000000</td>\n",
       "      <td>5000.000000</td>\n",
       "      <td>5000.000000</td>\n",
       "    </tr>\n",
       "    <tr>\n",
       "      <th>mean</th>\n",
       "      <td>2048.332630</td>\n",
       "      <td>2499.500000</td>\n",
       "      <td>2499.500000</td>\n",
       "      <td>2499.500000</td>\n",
       "    </tr>\n",
       "    <tr>\n",
       "      <th>std</th>\n",
       "      <td>4126.782632</td>\n",
       "      <td>1443.520003</td>\n",
       "      <td>1443.520003</td>\n",
       "      <td>1443.520003</td>\n",
       "    </tr>\n",
       "    <tr>\n",
       "      <th>min</th>\n",
       "      <td>196.458000</td>\n",
       "      <td>0.000000</td>\n",
       "      <td>0.000000</td>\n",
       "      <td>0.000000</td>\n",
       "    </tr>\n",
       "    <tr>\n",
       "      <th>25%</th>\n",
       "      <td>559.416750</td>\n",
       "      <td>1249.750000</td>\n",
       "      <td>1249.750000</td>\n",
       "      <td>1249.750000</td>\n",
       "    </tr>\n",
       "    <tr>\n",
       "      <th>50%</th>\n",
       "      <td>676.042000</td>\n",
       "      <td>2499.500000</td>\n",
       "      <td>2499.500000</td>\n",
       "      <td>2499.500000</td>\n",
       "    </tr>\n",
       "    <tr>\n",
       "      <th>75%</th>\n",
       "      <td>1448.677750</td>\n",
       "      <td>3749.250000</td>\n",
       "      <td>3749.250000</td>\n",
       "      <td>3749.250000</td>\n",
       "    </tr>\n",
       "    <tr>\n",
       "      <th>max</th>\n",
       "      <td>65904.334000</td>\n",
       "      <td>4999.000000</td>\n",
       "      <td>4999.000000</td>\n",
       "      <td>4999.000000</td>\n",
       "    </tr>\n",
       "  </tbody>\n",
       "</table>\n",
       "</div>"
      ],
      "text/plain": [
       "       execution_time  seq_encoded  seq_id_encoded  qual_encoded\n",
       "count     5000.000000  5000.000000     5000.000000   5000.000000\n",
       "mean      2048.332630  2499.500000     2499.500000   2499.500000\n",
       "std       4126.782632  1443.520003     1443.520003   1443.520003\n",
       "min        196.458000     0.000000        0.000000      0.000000\n",
       "25%        559.416750  1249.750000     1249.750000   1249.750000\n",
       "50%        676.042000  2499.500000     2499.500000   2499.500000\n",
       "75%       1448.677750  3749.250000     3749.250000   3749.250000\n",
       "max      65904.334000  4999.000000     4999.000000   4999.000000"
      ]
     },
     "execution_count": 11,
     "metadata": {},
     "output_type": "execute_result"
    }
   ],
   "source": [
    "data1.describe()"
   ]
  },
  {
   "cell_type": "code",
   "execution_count": 12,
   "metadata": {},
   "outputs": [
    {
     "data": {
      "text/html": [
       "<div>\n",
       "<style scoped>\n",
       "    .dataframe tbody tr th:only-of-type {\n",
       "        vertical-align: middle;\n",
       "    }\n",
       "\n",
       "    .dataframe tbody tr th {\n",
       "        vertical-align: top;\n",
       "    }\n",
       "\n",
       "    .dataframe thead th {\n",
       "        text-align: right;\n",
       "    }\n",
       "</style>\n",
       "<table border=\"1\" class=\"dataframe\">\n",
       "  <thead>\n",
       "    <tr style=\"text-align: right;\">\n",
       "      <th></th>\n",
       "      <th>execution_time</th>\n",
       "      <th>seq_encoded</th>\n",
       "    </tr>\n",
       "  </thead>\n",
       "  <tbody>\n",
       "    <tr>\n",
       "      <th>0</th>\n",
       "      <td>2295.125</td>\n",
       "      <td>2451</td>\n",
       "    </tr>\n",
       "    <tr>\n",
       "      <th>1</th>\n",
       "      <td>674.000</td>\n",
       "      <td>4351</td>\n",
       "    </tr>\n",
       "    <tr>\n",
       "      <th>2</th>\n",
       "      <td>757.209</td>\n",
       "      <td>804</td>\n",
       "    </tr>\n",
       "    <tr>\n",
       "      <th>3</th>\n",
       "      <td>397.042</td>\n",
       "      <td>1314</td>\n",
       "    </tr>\n",
       "    <tr>\n",
       "      <th>4</th>\n",
       "      <td>675.000</td>\n",
       "      <td>1870</td>\n",
       "    </tr>\n",
       "  </tbody>\n",
       "</table>\n",
       "</div>"
      ],
      "text/plain": [
       "   execution_time  seq_encoded\n",
       "0        2295.125         2451\n",
       "1         674.000         4351\n",
       "2         757.209          804\n",
       "3         397.042         1314\n",
       "4         675.000         1870"
      ]
     },
     "execution_count": 12,
     "metadata": {},
     "output_type": "execute_result"
    }
   ],
   "source": [
    "data1 = data1.drop(['seq_id_encoded','qual_encoded'], axis = 1)\n",
    "data1.head()"
   ]
  },
  {
   "cell_type": "code",
   "execution_count": 13,
   "metadata": {},
   "outputs": [],
   "source": [
    "Y= data1[['execution_time']]\n",
    "\n",
    "#Y=np.ravel(Y)\n",
    "X= data1.drop('execution_time', axis =1)"
   ]
  },
  {
   "cell_type": "code",
   "execution_count": 14,
   "metadata": {},
   "outputs": [
    {
     "name": "stderr",
     "output_type": "stream",
     "text": [
      "<ipython-input-14-ccc6ac07e441>:1: SettingWithCopyWarning: \n",
      "A value is trying to be set on a copy of a slice from a DataFrame.\n",
      "Try using .loc[row_indexer,col_indexer] = value instead\n",
      "\n",
      "See the caveats in the documentation: https://pandas.pydata.org/pandas-docs/stable/user_guide/indexing.html#returning-a-view-versus-a-copy\n",
      "  Y['execution_time']= np.log10(Y.execution_time)\n"
     ]
    },
    {
     "data": {
      "text/html": [
       "<div>\n",
       "<style scoped>\n",
       "    .dataframe tbody tr th:only-of-type {\n",
       "        vertical-align: middle;\n",
       "    }\n",
       "\n",
       "    .dataframe tbody tr th {\n",
       "        vertical-align: top;\n",
       "    }\n",
       "\n",
       "    .dataframe thead th {\n",
       "        text-align: right;\n",
       "    }\n",
       "</style>\n",
       "<table border=\"1\" class=\"dataframe\">\n",
       "  <thead>\n",
       "    <tr style=\"text-align: right;\">\n",
       "      <th></th>\n",
       "      <th>execution_time</th>\n",
       "    </tr>\n",
       "  </thead>\n",
       "  <tbody>\n",
       "    <tr>\n",
       "      <th>0</th>\n",
       "      <td>3.360806</td>\n",
       "    </tr>\n",
       "    <tr>\n",
       "      <th>1</th>\n",
       "      <td>2.828660</td>\n",
       "    </tr>\n",
       "    <tr>\n",
       "      <th>2</th>\n",
       "      <td>2.879216</td>\n",
       "    </tr>\n",
       "    <tr>\n",
       "      <th>3</th>\n",
       "      <td>2.598836</td>\n",
       "    </tr>\n",
       "    <tr>\n",
       "      <th>4</th>\n",
       "      <td>2.829304</td>\n",
       "    </tr>\n",
       "    <tr>\n",
       "      <th>...</th>\n",
       "      <td>...</td>\n",
       "    </tr>\n",
       "    <tr>\n",
       "      <th>4995</th>\n",
       "      <td>2.845123</td>\n",
       "    </tr>\n",
       "    <tr>\n",
       "      <th>4996</th>\n",
       "      <td>2.378472</td>\n",
       "    </tr>\n",
       "    <tr>\n",
       "      <th>4997</th>\n",
       "      <td>2.363689</td>\n",
       "    </tr>\n",
       "    <tr>\n",
       "      <th>4998</th>\n",
       "      <td>2.896251</td>\n",
       "    </tr>\n",
       "    <tr>\n",
       "      <th>4999</th>\n",
       "      <td>2.876290</td>\n",
       "    </tr>\n",
       "  </tbody>\n",
       "</table>\n",
       "<p>5000 rows × 1 columns</p>\n",
       "</div>"
      ],
      "text/plain": [
       "      execution_time\n",
       "0           3.360806\n",
       "1           2.828660\n",
       "2           2.879216\n",
       "3           2.598836\n",
       "4           2.829304\n",
       "...              ...\n",
       "4995        2.845123\n",
       "4996        2.378472\n",
       "4997        2.363689\n",
       "4998        2.896251\n",
       "4999        2.876290\n",
       "\n",
       "[5000 rows x 1 columns]"
      ]
     },
     "execution_count": 14,
     "metadata": {},
     "output_type": "execute_result"
    }
   ],
   "source": [
    "Y['execution_time']= np.log10(Y.execution_time)\n",
    "Y"
   ]
  },
  {
   "cell_type": "code",
   "execution_count": 15,
   "metadata": {},
   "outputs": [
    {
     "name": "stdout",
     "output_type": "stream",
     "text": [
      "X_train (4000, 1)\n",
      "X_test (1000, 1)\n",
      "y_train (4000, 1)\n",
      "y_test (1000, 1)\n"
     ]
    }
   ],
   "source": [
    "from sklearn.model_selection import train_test_split\n",
    "X_train, X_test, y_train,y_test = train_test_split(X,Y, test_size = 0.2, random_state = 1) \n",
    "print('X_train',X_train.shape)\n",
    "print('X_test',X_test.shape)\n",
    "print('y_train',y_train.shape)\n",
    "print('y_test',y_test.shape)"
   ]
  },
  {
   "cell_type": "code",
   "execution_count": 16,
   "metadata": {},
   "outputs": [],
   "source": [
    "#y_test"
   ]
  },
  {
   "cell_type": "code",
   "execution_count": 17,
   "metadata": {},
   "outputs": [],
   "source": [
    "import tensorflow as tf\n",
    "from tensorflow import keras"
   ]
  },
  {
   "cell_type": "code",
   "execution_count": 18,
   "metadata": {},
   "outputs": [
    {
     "name": "stdout",
     "output_type": "stream",
     "text": [
      "Model: \"sequential\"\n",
      "_________________________________________________________________\n",
      " Layer (type)                Output Shape              Param #   \n",
      "=================================================================\n",
      " dense (Dense)               (None, 32)                64        \n",
      "                                                                 \n",
      " dense_1 (Dense)             (None, 1)                 33        \n",
      "                                                                 \n",
      "=================================================================\n",
      "Total params: 97\n",
      "Trainable params: 97\n",
      "Non-trainable params: 0\n",
      "_________________________________________________________________\n"
     ]
    }
   ],
   "source": [
    "# Create a model with multiple hidden layers. Note that input and output has\n",
    "# dimension one\n",
    "M = 32\n",
    "model = keras.Sequential([\n",
    "    keras.layers.Dense(M, activation=tf.nn.relu, input_dim = 1),\n",
    "#     keras.layers.Dense(M, activation=tf.nn.relu),\n",
    "#     keras.layers.Dropout(0.5),\n",
    "#     keras.layers.Dense(M, activation=tf.nn.relu),\n",
    "#     keras.layers.Dense(M, activation=tf.nn.relu),\n",
    "#     keras.layers.Dropout(0.5),\n",
    "    #keras.layers.Dense(M, activation=tf.nn.relu),\n",
    "    #keras.layers.Dense(M, activation=tf.nn.relu),\n",
    "    #keras.layers.Dense(M, activation=tf.nn.relu),\n",
    "    #keras.layers.Dense(M, activation=tf.nn.relu),\n",
    "    #keras.layers.Dense(M, activation=tf.nn.relu),\n",
    "   #keras.layers.Dense(M, activation=tf.nn.relu),\n",
    "   #keras.layers.Dense(M, activation=tf.nn.relu),\n",
    "   #keras.layers.Dense(M, activation=tf.nn.relu),\n",
    "   #keras.layers.Dense(M, activation=tf.nn.relu),\n",
    "   #keras.layers.Dense(M, activation=tf.nn.relu),\n",
    "    keras.layers.Dense(1)\n",
    "])\n",
    "model.summary()\n",
    "\n",
    "# Train the model\n",
    "model.compile(loss='mean_squared_error',\n",
    "              optimizer=\"adam\",\n",
    "              metrics=['accuracy'])"
   ]
  },
  {
   "cell_type": "code",
   "execution_count": 19,
   "metadata": {},
   "outputs": [
    {
     "name": "stdout",
     "output_type": "stream",
     "text": [
      "Epoch 1/100\n",
      "4/4 [==============================] - 1s 49ms/step - loss: 1679953.7500 - accuracy: 0.0000e+00 - val_loss: 1507368.0000 - val_accuracy: 0.0000e+00\n",
      "Epoch 2/100\n",
      "4/4 [==============================] - 0s 8ms/step - loss: 1485673.0000 - accuracy: 0.0000e+00 - val_loss: 1327915.6250 - val_accuracy: 0.0000e+00\n",
      "Epoch 3/100\n",
      "4/4 [==============================] - 0s 8ms/step - loss: 1307011.2500 - accuracy: 0.0000e+00 - val_loss: 1162437.1250 - val_accuracy: 0.0000e+00\n",
      "Epoch 4/100\n",
      "4/4 [==============================] - 0s 8ms/step - loss: 1143286.7500 - accuracy: 0.0000e+00 - val_loss: 1011040.0000 - val_accuracy: 0.0000e+00\n",
      "Epoch 5/100\n",
      "4/4 [==============================] - 0s 8ms/step - loss: 992476.0625 - accuracy: 0.0000e+00 - val_loss: 873438.8750 - val_accuracy: 0.0000e+00\n",
      "Epoch 6/100\n",
      "4/4 [==============================] - 0s 8ms/step - loss: 855071.3750 - accuracy: 0.0000e+00 - val_loss: 749564.9375 - val_accuracy: 0.0000e+00\n",
      "Epoch 7/100\n",
      "4/4 [==============================] - 0s 8ms/step - loss: 732726.6250 - accuracy: 0.0000e+00 - val_loss: 639050.3750 - val_accuracy: 0.0000e+00\n",
      "Epoch 8/100\n",
      "4/4 [==============================] - 0s 9ms/step - loss: 624314.0000 - accuracy: 0.0000e+00 - val_loss: 541301.7500 - val_accuracy: 0.0000e+00\n",
      "Epoch 9/100\n",
      "4/4 [==============================] - 0s 8ms/step - loss: 527508.7500 - accuracy: 0.0000e+00 - val_loss: 455472.9688 - val_accuracy: 0.0000e+00\n",
      "Epoch 10/100\n",
      "4/4 [==============================] - 0s 8ms/step - loss: 442545.7188 - accuracy: 0.0000e+00 - val_loss: 380648.1562 - val_accuracy: 0.0000e+00\n",
      "Epoch 11/100\n",
      "4/4 [==============================] - 0s 8ms/step - loss: 369850.4688 - accuracy: 0.0000e+00 - val_loss: 316362.3438 - val_accuracy: 0.0000e+00\n",
      "Epoch 12/100\n",
      "4/4 [==============================] - 0s 8ms/step - loss: 306551.4688 - accuracy: 0.0000e+00 - val_loss: 261398.8438 - val_accuracy: 0.0000e+00\n",
      "Epoch 13/100\n",
      "4/4 [==============================] - 0s 8ms/step - loss: 253043.1250 - accuracy: 0.0000e+00 - val_loss: 214273.4219 - val_accuracy: 0.0000e+00\n",
      "Epoch 14/100\n",
      "4/4 [==============================] - 0s 10ms/step - loss: 206733.3594 - accuracy: 0.0000e+00 - val_loss: 174142.5781 - val_accuracy: 0.0000e+00\n",
      "Epoch 15/100\n",
      "4/4 [==============================] - 0s 9ms/step - loss: 167995.9531 - accuracy: 0.0000e+00 - val_loss: 140170.5625 - val_accuracy: 0.0000e+00\n",
      "Epoch 16/100\n",
      "4/4 [==============================] - 0s 10ms/step - loss: 134613.6562 - accuracy: 0.0000e+00 - val_loss: 111839.9297 - val_accuracy: 0.0000e+00\n",
      "Epoch 17/100\n",
      "4/4 [==============================] - 0s 8ms/step - loss: 107152.3906 - accuracy: 0.0000e+00 - val_loss: 88316.4375 - val_accuracy: 0.0000e+00\n",
      "Epoch 18/100\n",
      "4/4 [==============================] - 0s 9ms/step - loss: 84387.3281 - accuracy: 0.0000e+00 - val_loss: 68898.2266 - val_accuracy: 0.0000e+00\n",
      "Epoch 19/100\n",
      "4/4 [==============================] - 0s 8ms/step - loss: 65613.9297 - accuracy: 0.0000e+00 - val_loss: 53057.8047 - val_accuracy: 0.0000e+00\n",
      "Epoch 20/100\n",
      "4/4 [==============================] - 0s 9ms/step - loss: 50370.2969 - accuracy: 0.0000e+00 - val_loss: 40430.0742 - val_accuracy: 0.0000e+00\n",
      "Epoch 21/100\n",
      "4/4 [==============================] - 0s 8ms/step - loss: 38294.7539 - accuracy: 0.0000e+00 - val_loss: 30430.9980 - val_accuracy: 0.0000e+00\n",
      "Epoch 22/100\n",
      "4/4 [==============================] - 0s 8ms/step - loss: 28803.9609 - accuracy: 0.0000e+00 - val_loss: 22628.3496 - val_accuracy: 0.0000e+00\n",
      "Epoch 23/100\n",
      "4/4 [==============================] - 0s 9ms/step - loss: 21262.3184 - accuracy: 0.0000e+00 - val_loss: 16599.4375 - val_accuracy: 0.0000e+00\n",
      "Epoch 24/100\n",
      "4/4 [==============================] - 0s 9ms/step - loss: 15570.8359 - accuracy: 0.0000e+00 - val_loss: 11972.6699 - val_accuracy: 0.0000e+00\n",
      "Epoch 25/100\n",
      "4/4 [==============================] - 0s 9ms/step - loss: 11182.5449 - accuracy: 0.0000e+00 - val_loss: 8512.3096 - val_accuracy: 0.0000e+00\n",
      "Epoch 26/100\n",
      "4/4 [==============================] - 0s 9ms/step - loss: 7912.8950 - accuracy: 0.0000e+00 - val_loss: 5951.9038 - val_accuracy: 0.0000e+00\n",
      "Epoch 27/100\n",
      "4/4 [==============================] - 0s 8ms/step - loss: 5511.8687 - accuracy: 0.0000e+00 - val_loss: 4087.6553 - val_accuracy: 0.0000e+00\n",
      "Epoch 28/100\n",
      "4/4 [==============================] - 0s 9ms/step - loss: 3763.7646 - accuracy: 0.0000e+00 - val_loss: 2751.9062 - val_accuracy: 0.0000e+00\n",
      "Epoch 29/100\n",
      "4/4 [==============================] - 0s 9ms/step - loss: 2522.6479 - accuracy: 0.0000e+00 - val_loss: 1810.8538 - val_accuracy: 0.0000e+00\n",
      "Epoch 30/100\n",
      "4/4 [==============================] - 0s 8ms/step - loss: 1650.7289 - accuracy: 0.0000e+00 - val_loss: 1161.0500 - val_accuracy: 0.0000e+00\n",
      "Epoch 31/100\n",
      "4/4 [==============================] - 0s 8ms/step - loss: 1053.1572 - accuracy: 0.0000e+00 - val_loss: 724.1507 - val_accuracy: 0.0000e+00\n",
      "Epoch 32/100\n",
      "4/4 [==============================] - 0s 8ms/step - loss: 649.8006 - accuracy: 0.0000e+00 - val_loss: 437.9746 - val_accuracy: 0.0000e+00\n",
      "Epoch 33/100\n",
      "4/4 [==============================] - 0s 9ms/step - loss: 390.8930 - accuracy: 0.0000e+00 - val_loss: 255.6410 - val_accuracy: 0.0000e+00\n",
      "Epoch 34/100\n",
      "4/4 [==============================] - 0s 9ms/step - loss: 226.2665 - accuracy: 0.0000e+00 - val_loss: 143.2702 - val_accuracy: 0.0000e+00\n",
      "Epoch 35/100\n",
      "4/4 [==============================] - 0s 11ms/step - loss: 124.8268 - accuracy: 0.0000e+00 - val_loss: 76.4965 - val_accuracy: 0.0000e+00\n",
      "Epoch 36/100\n",
      "4/4 [==============================] - 0s 9ms/step - loss: 66.3763 - accuracy: 0.0000e+00 - val_loss: 38.5355 - val_accuracy: 0.0000e+00\n",
      "Epoch 37/100\n",
      "4/4 [==============================] - 0s 9ms/step - loss: 32.9549 - accuracy: 0.0000e+00 - val_loss: 18.4411 - val_accuracy: 0.0000e+00\n",
      "Epoch 38/100\n",
      "4/4 [==============================] - 0s 8ms/step - loss: 15.6094 - accuracy: 0.0000e+00 - val_loss: 8.6476 - val_accuracy: 0.0000e+00\n",
      "Epoch 39/100\n",
      "4/4 [==============================] - 0s 9ms/step - loss: 7.3701 - accuracy: 0.0000e+00 - val_loss: 4.4903 - val_accuracy: 0.0000e+00\n",
      "Epoch 40/100\n",
      "4/4 [==============================] - 0s 9ms/step - loss: 4.0054 - accuracy: 0.0000e+00 - val_loss: 3.1504 - val_accuracy: 0.0000e+00\n",
      "Epoch 41/100\n",
      "4/4 [==============================] - 0s 9ms/step - loss: 3.0176 - accuracy: 0.0000e+00 - val_loss: 3.0292 - val_accuracy: 0.0000e+00\n",
      "Epoch 42/100\n",
      "4/4 [==============================] - 0s 8ms/step - loss: 3.0322 - accuracy: 0.0000e+00 - val_loss: 3.3021 - val_accuracy: 0.0000e+00\n",
      "Epoch 43/100\n",
      "4/4 [==============================] - 0s 9ms/step - loss: 3.3119 - accuracy: 0.0000e+00 - val_loss: 3.5931 - val_accuracy: 0.0000e+00\n",
      "Epoch 44/100\n",
      "4/4 [==============================] - 0s 8ms/step - loss: 3.5729 - accuracy: 0.0000e+00 - val_loss: 3.7692 - val_accuracy: 0.0000e+00\n",
      "Epoch 45/100\n",
      "4/4 [==============================] - 0s 8ms/step - loss: 3.7091 - accuracy: 0.0000e+00 - val_loss: 3.8131 - val_accuracy: 0.0000e+00\n",
      "Epoch 46/100\n",
      "4/4 [==============================] - 0s 8ms/step - loss: 3.7232 - accuracy: 0.0000e+00 - val_loss: 3.7576 - val_accuracy: 0.0000e+00\n",
      "Epoch 47/100\n",
      "4/4 [==============================] - 0s 9ms/step - loss: 3.6493 - accuracy: 0.0000e+00 - val_loss: 3.6437 - val_accuracy: 0.0000e+00\n",
      "Epoch 48/100\n",
      "4/4 [==============================] - 0s 8ms/step - loss: 3.5291 - accuracy: 0.0000e+00 - val_loss: 3.5072 - val_accuracy: 0.0000e+00\n",
      "Epoch 49/100\n",
      "4/4 [==============================] - 0s 10ms/step - loss: 3.3950 - accuracy: 0.0000e+00 - val_loss: 3.3767 - val_accuracy: 0.0000e+00\n",
      "Epoch 50/100\n",
      "4/4 [==============================] - 0s 13ms/step - loss: 3.2714 - accuracy: 0.0000e+00 - val_loss: 3.2652 - val_accuracy: 0.0000e+00\n",
      "Epoch 51/100\n",
      "4/4 [==============================] - 0s 9ms/step - loss: 3.1701 - accuracy: 0.0000e+00 - val_loss: 3.1773 - val_accuracy: 0.0000e+00\n",
      "Epoch 52/100\n",
      "4/4 [==============================] - 0s 8ms/step - loss: 3.0898 - accuracy: 0.0000e+00 - val_loss: 3.1125 - val_accuracy: 0.0000e+00\n",
      "Epoch 53/100\n",
      "4/4 [==============================] - 0s 10ms/step - loss: 3.0338 - accuracy: 0.0000e+00 - val_loss: 3.0672 - val_accuracy: 0.0000e+00\n",
      "Epoch 54/100\n",
      "4/4 [==============================] - 0s 9ms/step - loss: 2.9959 - accuracy: 0.0000e+00 - val_loss: 3.0375 - val_accuracy: 0.0000e+00\n",
      "Epoch 55/100\n",
      "4/4 [==============================] - 0s 9ms/step - loss: 2.9720 - accuracy: 0.0000e+00 - val_loss: 3.0188 - val_accuracy: 0.0000e+00\n",
      "Epoch 56/100\n",
      "4/4 [==============================] - 0s 9ms/step - loss: 2.9578 - accuracy: 0.0000e+00 - val_loss: 3.0074 - val_accuracy: 0.0000e+00\n",
      "Epoch 57/100\n",
      "4/4 [==============================] - 0s 8ms/step - loss: 2.9502 - accuracy: 0.0000e+00 - val_loss: 3.0012 - val_accuracy: 0.0000e+00\n",
      "Epoch 58/100\n",
      "4/4 [==============================] - 0s 8ms/step - loss: 2.9460 - accuracy: 0.0000e+00 - val_loss: 2.9983 - val_accuracy: 0.0000e+00\n",
      "Epoch 59/100\n",
      "4/4 [==============================] - 0s 8ms/step - loss: 2.9445 - accuracy: 0.0000e+00 - val_loss: 2.9968 - val_accuracy: 0.0000e+00\n",
      "Epoch 60/100\n",
      "4/4 [==============================] - 0s 9ms/step - loss: 2.9440 - accuracy: 0.0000e+00 - val_loss: 2.9960 - val_accuracy: 0.0000e+00\n",
      "Epoch 61/100\n",
      "4/4 [==============================] - 0s 8ms/step - loss: 2.9439 - accuracy: 0.0000e+00 - val_loss: 2.9957 - val_accuracy: 0.0000e+00\n",
      "Epoch 62/100\n",
      "4/4 [==============================] - 0s 9ms/step - loss: 2.9442 - accuracy: 0.0000e+00 - val_loss: 2.9955 - val_accuracy: 0.0000e+00\n",
      "Epoch 63/100\n",
      "4/4 [==============================] - 0s 8ms/step - loss: 2.9443 - accuracy: 0.0000e+00 - val_loss: 2.9954 - val_accuracy: 0.0000e+00\n",
      "Epoch 64/100\n",
      "4/4 [==============================] - 0s 8ms/step - loss: 2.9444 - accuracy: 0.0000e+00 - val_loss: 2.9954 - val_accuracy: 0.0000e+00\n",
      "Epoch 65/100\n",
      "4/4 [==============================] - 0s 9ms/step - loss: 2.9443 - accuracy: 0.0000e+00 - val_loss: 2.9953 - val_accuracy: 0.0000e+00\n",
      "Epoch 66/100\n",
      "4/4 [==============================] - 0s 8ms/step - loss: 2.9443 - accuracy: 0.0000e+00 - val_loss: 2.9952 - val_accuracy: 0.0000e+00\n",
      "Epoch 67/100\n",
      "4/4 [==============================] - 0s 8ms/step - loss: 2.9441 - accuracy: 0.0000e+00 - val_loss: 2.9951 - val_accuracy: 0.0000e+00\n",
      "Epoch 68/100\n",
      "4/4 [==============================] - 0s 8ms/step - loss: 2.9440 - accuracy: 0.0000e+00 - val_loss: 2.9950 - val_accuracy: 0.0000e+00\n",
      "Epoch 69/100\n",
      "4/4 [==============================] - 0s 10ms/step - loss: 2.9438 - accuracy: 0.0000e+00 - val_loss: 2.9950 - val_accuracy: 0.0000e+00\n",
      "Epoch 70/100\n",
      "4/4 [==============================] - 0s 9ms/step - loss: 2.9437 - accuracy: 0.0000e+00 - val_loss: 2.9949 - val_accuracy: 0.0000e+00\n",
      "Epoch 71/100\n",
      "4/4 [==============================] - 0s 8ms/step - loss: 2.9435 - accuracy: 0.0000e+00 - val_loss: 2.9949 - val_accuracy: 0.0000e+00\n",
      "Epoch 72/100\n",
      "4/4 [==============================] - 0s 8ms/step - loss: 2.9433 - accuracy: 0.0000e+00 - val_loss: 2.9948 - val_accuracy: 0.0000e+00\n",
      "Epoch 73/100\n",
      "4/4 [==============================] - 0s 8ms/step - loss: 2.9432 - accuracy: 0.0000e+00 - val_loss: 2.9949 - val_accuracy: 0.0000e+00\n",
      "Epoch 74/100\n",
      "4/4 [==============================] - 0s 9ms/step - loss: 2.9430 - accuracy: 0.0000e+00 - val_loss: 2.9949 - val_accuracy: 0.0000e+00\n",
      "Epoch 75/100\n",
      "4/4 [==============================] - 0s 8ms/step - loss: 2.9429 - accuracy: 0.0000e+00 - val_loss: 2.9949 - val_accuracy: 0.0000e+00\n",
      "Epoch 76/100\n",
      "4/4 [==============================] - 0s 8ms/step - loss: 2.9428 - accuracy: 0.0000e+00 - val_loss: 2.9950 - val_accuracy: 0.0000e+00\n",
      "Epoch 77/100\n",
      "4/4 [==============================] - 0s 8ms/step - loss: 2.9427 - accuracy: 0.0000e+00 - val_loss: 2.9949 - val_accuracy: 0.0000e+00\n",
      "Epoch 78/100\n",
      "4/4 [==============================] - 0s 8ms/step - loss: 2.9426 - accuracy: 0.0000e+00 - val_loss: 2.9948 - val_accuracy: 0.0000e+00\n",
      "Epoch 79/100\n",
      "4/4 [==============================] - 0s 9ms/step - loss: 2.9426 - accuracy: 0.0000e+00 - val_loss: 2.9948 - val_accuracy: 0.0000e+00\n",
      "Epoch 80/100\n",
      "4/4 [==============================] - 0s 8ms/step - loss: 2.9425 - accuracy: 0.0000e+00 - val_loss: 2.9946 - val_accuracy: 0.0000e+00\n",
      "Epoch 81/100\n",
      "4/4 [==============================] - 0s 8ms/step - loss: 2.9424 - accuracy: 0.0000e+00 - val_loss: 2.9944 - val_accuracy: 0.0000e+00\n",
      "Epoch 82/100\n",
      "4/4 [==============================] - 0s 8ms/step - loss: 2.9423 - accuracy: 0.0000e+00 - val_loss: 2.9943 - val_accuracy: 0.0000e+00\n",
      "Epoch 83/100\n",
      "4/4 [==============================] - 0s 9ms/step - loss: 2.9422 - accuracy: 0.0000e+00 - val_loss: 2.9941 - val_accuracy: 0.0000e+00\n",
      "Epoch 84/100\n",
      "4/4 [==============================] - 0s 11ms/step - loss: 2.9421 - accuracy: 0.0000e+00 - val_loss: 2.9939 - val_accuracy: 0.0000e+00\n",
      "Epoch 85/100\n",
      "4/4 [==============================] - 0s 8ms/step - loss: 2.9422 - accuracy: 0.0000e+00 - val_loss: 2.9938 - val_accuracy: 0.0000e+00\n",
      "Epoch 86/100\n",
      "4/4 [==============================] - 0s 8ms/step - loss: 2.9421 - accuracy: 0.0000e+00 - val_loss: 2.9937 - val_accuracy: 0.0000e+00\n",
      "Epoch 87/100\n",
      "4/4 [==============================] - 0s 9ms/step - loss: 2.9420 - accuracy: 0.0000e+00 - val_loss: 2.9936 - val_accuracy: 0.0000e+00\n",
      "Epoch 88/100\n",
      "4/4 [==============================] - 0s 20ms/step - loss: 2.9419 - accuracy: 0.0000e+00 - val_loss: 2.9936 - val_accuracy: 0.0000e+00\n",
      "Epoch 89/100\n",
      "4/4 [==============================] - 0s 11ms/step - loss: 2.9416 - accuracy: 0.0000e+00 - val_loss: 2.9937 - val_accuracy: 0.0000e+00\n",
      "Epoch 90/100\n",
      "4/4 [==============================] - 0s 9ms/step - loss: 2.9415 - accuracy: 0.0000e+00 - val_loss: 2.9938 - val_accuracy: 0.0000e+00\n",
      "Epoch 91/100\n",
      "4/4 [==============================] - 0s 9ms/step - loss: 2.9414 - accuracy: 0.0000e+00 - val_loss: 2.9939 - val_accuracy: 0.0000e+00\n",
      "Epoch 92/100\n",
      "4/4 [==============================] - 0s 9ms/step - loss: 2.9414 - accuracy: 0.0000e+00 - val_loss: 2.9939 - val_accuracy: 0.0000e+00\n",
      "Epoch 93/100\n",
      "4/4 [==============================] - 0s 8ms/step - loss: 2.9413 - accuracy: 0.0000e+00 - val_loss: 2.9939 - val_accuracy: 0.0000e+00\n",
      "Epoch 94/100\n",
      "4/4 [==============================] - 0s 10ms/step - loss: 2.9412 - accuracy: 0.0000e+00 - val_loss: 2.9937 - val_accuracy: 0.0000e+00\n",
      "Epoch 95/100\n",
      "4/4 [==============================] - 0s 8ms/step - loss: 2.9411 - accuracy: 0.0000e+00 - val_loss: 2.9935 - val_accuracy: 0.0000e+00\n",
      "Epoch 96/100\n",
      "4/4 [==============================] - 0s 9ms/step - loss: 2.9410 - accuracy: 0.0000e+00 - val_loss: 2.9933 - val_accuracy: 0.0000e+00\n",
      "Epoch 97/100\n",
      "4/4 [==============================] - 0s 8ms/step - loss: 2.9409 - accuracy: 0.0000e+00 - val_loss: 2.9931 - val_accuracy: 0.0000e+00\n",
      "Epoch 98/100\n",
      "4/4 [==============================] - 0s 9ms/step - loss: 2.9408 - accuracy: 0.0000e+00 - val_loss: 2.9928 - val_accuracy: 0.0000e+00\n",
      "Epoch 99/100\n",
      "4/4 [==============================] - 0s 9ms/step - loss: 2.9407 - accuracy: 0.0000e+00 - val_loss: 2.9928 - val_accuracy: 0.0000e+00\n",
      "Epoch 100/100\n",
      "4/4 [==============================] - 0s 8ms/step - loss: 2.9405 - accuracy: 0.0000e+00 - val_loss: 2.9927 - val_accuracy: 0.0000e+00\n"
     ]
    }
   ],
   "source": [
    "#history = model.fit(X_train, y_train, epochs=300, batch_size=128, verbose=True, validation_data = (X_test,y_test))\n",
    "history = model.fit(X_train, y_train, epochs=100, batch_size=1024, verbose=True, validation_split = 0.2)"
   ]
  },
  {
   "cell_type": "code",
   "execution_count": 20,
   "metadata": {},
   "outputs": [
    {
     "name": "stdout",
     "output_type": "stream",
     "text": [
      "32/32 [==============================] - 0s 677us/step\n"
     ]
    }
   ],
   "source": [
    "ypred = model.predict(X_test)"
   ]
  },
  {
   "cell_type": "code",
   "execution_count": 21,
   "metadata": {},
   "outputs": [
    {
     "data": {
      "text/plain": [
       "(1000, 1)"
      ]
     },
     "execution_count": 21,
     "metadata": {},
     "output_type": "execute_result"
    }
   ],
   "source": [
    "ypred.shape"
   ]
  },
  {
   "cell_type": "code",
   "execution_count": 22,
   "metadata": {},
   "outputs": [],
   "source": [
    "from sklearn.metrics import r2_score\n",
    "# r2_train = r2_score(X_train,y_train)\n",
    "# r2_train"
   ]
  },
  {
   "cell_type": "code",
   "execution_count": 23,
   "metadata": {},
   "outputs": [
    {
     "data": {
      "text/plain": [
       "-12.804844627346434"
      ]
     },
     "execution_count": 23,
     "metadata": {},
     "output_type": "execute_result"
    }
   ],
   "source": [
    "r2_test = r2_score (y_test,ypred)\n",
    "r2_test "
   ]
  },
  {
   "cell_type": "code",
   "execution_count": 24,
   "metadata": {},
   "outputs": [
    {
     "data": {
      "text/plain": [
       "1.6569619043282982"
      ]
     },
     "execution_count": 24,
     "metadata": {},
     "output_type": "execute_result"
    }
   ],
   "source": [
    "from sklearn.metrics import mean_squared_error\n",
    "rmse = np.sqrt(mean_squared_error(y_test, ypred))\n",
    "rmse "
   ]
  },
  {
   "cell_type": "code",
   "execution_count": 30,
   "metadata": {},
   "outputs": [
    {
     "name": "stdout",
     "output_type": "stream",
     "text": [
      "MSE: 2.7455\n"
     ]
    }
   ],
   "source": [
    "from sklearn.metrics import mean_squared_error\n",
    "print(\"MSE: %.4f\" % mean_squared_error(y_test, ypred))"
   ]
  },
  {
   "cell_type": "code",
   "execution_count": 31,
   "metadata": {},
   "outputs": [],
   "source": [
    "from sklearn.metrics import mean_squared_log_error\n",
    "# rmsle = mean_squared_log_error(y_test,ypred)**0.5\n",
    "# rmsle"
   ]
  },
  {
   "cell_type": "code",
   "execution_count": 33,
   "metadata": {},
   "outputs": [],
   "source": [
    "y_pred_non_log = 10**(ypred)\n",
    "y_test_non_log = 10**(y_test)"
   ]
  },
  {
   "cell_type": "code",
   "execution_count": 34,
   "metadata": {},
   "outputs": [
    {
     "data": {
      "image/png": "[encoded data removed]",
      "text/plain": [
       "<Figure size 2160x360 with 1 Axes>"
      ]
     },
     "metadata": {},
     "output_type": "display_data"
    }
   ],
   "source": [
    "x_ax = range(len(y_test_non_log))\n",
    "f = plt.figure()\n",
    "f.set_figwidth(30)\n",
    "f.set_figheight(5)\n",
    "plt.plot(x_ax,y_test_non_log, label=\"truth\")\n",
    "plt.plot(x_ax, y_pred_non_log, label=\"predicted\")\n",
    "plt.title(\"predicted vs truth execution times\")\n",
    "plt.xlabel('X-axis')\n",
    "plt.ylabel('Y-axis')\n",
    "plt.legend(loc='best',fancybox=True, shadow=True)\n",
    "plt.grid(True)\n",
    "plt.show()"
   ]
  },
  {
   "cell_type": "code",
   "execution_count": 35,
   "metadata": {},
   "outputs": [],
   "source": [
    "#ypred"
   ]
  },
  {
   "cell_type": "code",
   "execution_count": 36,
   "metadata": {},
   "outputs": [],
   "source": [
    "#y_pred_non_log"
   ]
  },
  {
   "cell_type": "code",
   "execution_count": 37,
   "metadata": {},
   "outputs": [
    {
     "data": {
      "text/plain": [
       "3.6237473685303443"
      ]
     },
     "execution_count": 37,
     "metadata": {},
     "output_type": "execute_result"
    }
   ],
   "source": [
    "from sklearn.metrics import mean_squared_log_error\n",
    "rmsle_non_log = mean_squared_log_error(y_test_non_log,y_pred_non_log)**0.5\n",
    "rmsle_non_log"
   ]
  },
  {
   "cell_type": "code",
   "execution_count": 39,
   "metadata": {},
   "outputs": [
    {
     "data": {
      "text/plain": [
       "-3.193708121407922"
      ]
     },
     "execution_count": 39,
     "metadata": {},
     "output_type": "execute_result"
    }
   ],
   "source": [
    "r2_test_non_log = r2_score (y_test_non_log,y_pred_non_log)\n",
    "r2_test_non_log "
   ]
  },
  {
   "cell_type": "code",
   "execution_count": null,
   "metadata": {},
   "outputs": [],
   "source": []
  }
 ],
 "metadata": {
  "kernelspec": {
   "display_name": "Python 3",
   "language": "python",
   "name": "python3"
  },
  "language_info": {
   "codemirror_mode": {
    "name": "ipython",
    "version": 3
   },
   "file_extension": ".py",
   "mimetype": "text/x-python",
   "name": "python",
   "nbconvert_exporter": "python",
   "pygments_lexer": "ipython3",
   "version": "3.8.8"
  },
  "vscode": {
   "interpreter": {
    "hash": "853b99181d0ba022bad1ace1542ec9e2b21fc0c2da2392c4130ad8552760e2b5"
   }
  }
 },
 "nbformat": 4,
 "nbformat_minor": 4
}
