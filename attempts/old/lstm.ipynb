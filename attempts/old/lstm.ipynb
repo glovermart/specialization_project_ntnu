{
 "cells": [
  {
   "cell_type": "code",
   "execution_count": 39,
   "metadata": {},
   "outputs": [],
   "source": [
    "import pandas as pd\n",
    "import seaborn as sns\n",
    "sns.set_style('darkgrid')\n",
    "import numpy as np\n",
    "import sys\n",
    "import matplotlib.pyplot as plt \n",
    "np.set_printoptions(threshold=sys.maxsize)"
   ]
  },
  {
   "cell_type": "code",
   "execution_count": 40,
   "metadata": {},
   "outputs": [],
   "source": [
    "csv1 = pd.read_csv('sequence_execution_time.csv')\n",
    "#csv1.head()"
   ]
  },
  {
   "cell_type": "code",
   "execution_count": 41,
   "metadata": {
    "scrolled": true
   },
   "outputs": [
    {
     "data": {
      "text/html": [
       "<div>\n",
       "<style scoped>\n",
       "    .dataframe tbody tr th:only-of-type {\n",
       "        vertical-align: middle;\n",
       "    }\n",
       "\n",
       "    .dataframe tbody tr th {\n",
       "        vertical-align: top;\n",
       "    }\n",
       "\n",
       "    .dataframe thead th {\n",
       "        text-align: right;\n",
       "    }\n",
       "</style>\n",
       "<table border=\"1\" class=\"dataframe\">\n",
       "  <thead>\n",
       "    <tr style=\"text-align: right;\">\n",
       "      <th></th>\n",
       "      <th>sequence_identifier</th>\n",
       "      <th>read_sequence</th>\n",
       "      <th>quality</th>\n",
       "      <th>execution_time</th>\n",
       "    </tr>\n",
       "  </thead>\n",
       "  <tbody>\n",
       "    <tr>\n",
       "      <th>3999995</th>\n",
       "      <td>@HWI-D00360:5:H814YADXX:1:1115:18756:14266 1:N...</td>\n",
       "      <td>ACTAATAAAGAAAAAAAGAGAGAAGAATCAAATAGACGCAATAAAA...</td>\n",
       "      <td>C@CFFFFFHHHHHJGEHHIJJJIJIIJJJJJIJJIFIIIIGIJJIJ...</td>\n",
       "      <td>341.792</td>\n",
       "    </tr>\n",
       "    <tr>\n",
       "      <th>3999996</th>\n",
       "      <td>@HWI-D00360:5:H814YADXX:1:1115:18805:14266 1:N...</td>\n",
       "      <td>ATAAATGAATAATAGGCGGTTTCTGACATCAGGAAGTTTAGACCGC...</td>\n",
       "      <td>CCCFFFFFGHHHHJJJJJJGIJHIJGIIJJIJJIIJHIJJIIJJJJ...</td>\n",
       "      <td>556.625</td>\n",
       "    </tr>\n",
       "    <tr>\n",
       "      <th>3999997</th>\n",
       "      <td>@HWI-D00360:5:H814YADXX:1:1115:18868:14278 1:N...</td>\n",
       "      <td>GTATGGAAATACCTGGATGTCCAGGCAGAAGTGTGCTACAGGGGCA...</td>\n",
       "      <td>@@CFFFFFHGHHHJIIIGIGHHAGGGIIBGG?ECCFFHIJJGEBDA...</td>\n",
       "      <td>8523.708</td>\n",
       "    </tr>\n",
       "    <tr>\n",
       "      <th>3999998</th>\n",
       "      <td>@HWI-D00360:5:H814YADXX:1:1115:18797:14322 1:N...</td>\n",
       "      <td>AACTCAGTAATTACTTTGATTTGGAGTCTTAATGCAATTTTACCCA...</td>\n",
       "      <td>CCCFFFFFHDHHHJJJJJJIJJJIJIHGHIIJJJJIJIJJJJJJJI...</td>\n",
       "      <td>880.708</td>\n",
       "    </tr>\n",
       "    <tr>\n",
       "      <th>3999999</th>\n",
       "      <td>@HWI-D00360:5:H814YADXX:1:1115:18971:14400 1:N...</td>\n",
       "      <td>GAAAATAGTTTCCCATTTGTTGCCACTGTTTTAAACTTACTGTTAT...</td>\n",
       "      <td>@@@FDFDBBDFFBFIGGGCFGFHHGIGEHIIIIEIIGE@GIIIGGI...</td>\n",
       "      <td>624.208</td>\n",
       "    </tr>\n",
       "  </tbody>\n",
       "</table>\n",
       "</div>"
      ],
      "text/plain": [
       "                                       sequence_identifier  \\\n",
       "3999995  @HWI-D00360:5:H814YADXX:1:1115:18756:14266 1:N...   \n",
       "3999996  @HWI-D00360:5:H814YADXX:1:1115:18805:14266 1:N...   \n",
       "3999997  @HWI-D00360:5:H814YADXX:1:1115:18868:14278 1:N...   \n",
       "3999998  @HWI-D00360:5:H814YADXX:1:1115:18797:14322 1:N...   \n",
       "3999999  @HWI-D00360:5:H814YADXX:1:1115:18971:14400 1:N...   \n",
       "\n",
       "                                             read_sequence  \\\n",
       "3999995  ACTAATAAAGAAAAAAAGAGAGAAGAATCAAATAGACGCAATAAAA...   \n",
       "3999996  ATAAATGAATAATAGGCGGTTTCTGACATCAGGAAGTTTAGACCGC...   \n",
       "3999997  GTATGGAAATACCTGGATGTCCAGGCAGAAGTGTGCTACAGGGGCA...   \n",
       "3999998  AACTCAGTAATTACTTTGATTTGGAGTCTTAATGCAATTTTACCCA...   \n",
       "3999999  GAAAATAGTTTCCCATTTGTTGCCACTGTTTTAAACTTACTGTTAT...   \n",
       "\n",
       "                                                   quality  execution_time  \n",
       "3999995  C@CFFFFFHHHHHJGEHHIJJJIJIIJJJJJIJJIFIIIIGIJJIJ...         341.792  \n",
       "3999996  CCCFFFFFGHHHHJJJJJJGIJHIJGIIJJIJJIIJHIJJIIJJJJ...         556.625  \n",
       "3999997  @@CFFFFFHGHHHJIIIGIGHHAGGGIIBGG?ECCFFHIJJGEBDA...        8523.708  \n",
       "3999998  CCCFFFFFHDHHHJJJJJJIJJJIJIHGHIIJJJJIJIJJJJJJJI...         880.708  \n",
       "3999999  @@@FDFDBBDFFBFIGGGCFGFHHGIGEHIIIIEIIGE@GIIIGGI...         624.208  "
      ]
     },
     "execution_count": 41,
     "metadata": {},
     "output_type": "execute_result"
    }
   ],
   "source": [
    "csv1.tail()"
   ]
  },
  {
   "cell_type": "code",
   "execution_count": 42,
   "metadata": {},
   "outputs": [],
   "source": [
    "#csv1.describe()"
   ]
  },
  {
   "cell_type": "code",
   "execution_count": 43,
   "metadata": {},
   "outputs": [],
   "source": [
    "#data = csv1.drop(['sequence_identifier','quality'], axis = 1)\n",
    "data = csv1"
   ]
  },
  {
   "cell_type": "code",
   "execution_count": 44,
   "metadata": {},
   "outputs": [],
   "source": [
    "data1 = data.drop(csv1.index[100:]) #reduce dataset to 10% of original dataframe\n",
    "#data.head()"
   ]
  },
  {
   "cell_type": "code",
   "execution_count": 45,
   "metadata": {},
   "outputs": [
    {
     "data": {
      "text/html": [
       "<div>\n",
       "<style scoped>\n",
       "    .dataframe tbody tr th:only-of-type {\n",
       "        vertical-align: middle;\n",
       "    }\n",
       "\n",
       "    .dataframe tbody tr th {\n",
       "        vertical-align: top;\n",
       "    }\n",
       "\n",
       "    .dataframe thead th {\n",
       "        text-align: right;\n",
       "    }\n",
       "</style>\n",
       "<table border=\"1\" class=\"dataframe\">\n",
       "  <thead>\n",
       "    <tr style=\"text-align: right;\">\n",
       "      <th></th>\n",
       "      <th>sequence_identifier</th>\n",
       "      <th>read_sequence</th>\n",
       "      <th>quality</th>\n",
       "      <th>execution_time</th>\n",
       "    </tr>\n",
       "  </thead>\n",
       "  <tbody>\n",
       "    <tr>\n",
       "      <th>95</th>\n",
       "      <td>@HWI-D00360:5:H814YADXX:1:1101:6582:2134 1:N:0...</td>\n",
       "      <td>CAGTTTATCTTATTAATCTAGTGTTACCCTAATATAAAAACAATAA...</td>\n",
       "      <td>BBCDFFFFHHHHHJJJJJJJJJJJJJJJJJJJJJJJJJJJJJJJJJ...</td>\n",
       "      <td>363.375</td>\n",
       "    </tr>\n",
       "    <tr>\n",
       "      <th>96</th>\n",
       "      <td>@HWI-D00360:5:H814YADXX:1:1101:6746:2208 1:N:0...</td>\n",
       "      <td>AGGAAGGAAGCTTTGCCAGGAAGTTCAAATGTCAGGGACCTAGTTC...</td>\n",
       "      <td>CCCFFFFFHFHGFJGIIIJJJJJFHIJJIIIJJJJJJJJJIJJFHI...</td>\n",
       "      <td>832.833</td>\n",
       "    </tr>\n",
       "    <tr>\n",
       "      <th>97</th>\n",
       "      <td>@HWI-D00360:5:H814YADXX:1:1101:6514:2215 1:N:0...</td>\n",
       "      <td>AGATTAGCCGGGCGTGGTGGAAGGCGCCTATAGTCCCAGCTACTCG...</td>\n",
       "      <td>CCCFFFFFHGHGHJHIJGHJJJJJJJJJJJJJJJJJJJJJJJJJHH...</td>\n",
       "      <td>23371.750</td>\n",
       "    </tr>\n",
       "    <tr>\n",
       "      <th>98</th>\n",
       "      <td>@HWI-D00360:5:H814YADXX:1:1101:6718:2227 1:N:0...</td>\n",
       "      <td>CTTCTAACTGAAAAACGATGCCAGCTGTAGGACCCAGCTGCTCTTG...</td>\n",
       "      <td>CCCFFFFFHHHGFJHHHIIIIIIJJGGHIIJIIJJIJJIIJIJIII...</td>\n",
       "      <td>346.875</td>\n",
       "    </tr>\n",
       "    <tr>\n",
       "      <th>99</th>\n",
       "      <td>@HWI-D00360:5:H814YADXX:1:1101:6821:2106 1:N:0...</td>\n",
       "      <td>CTGGGAAAGACTTTGCTTCTCCTTCATATTTAAAGAATAACTTTGA...</td>\n",
       "      <td>?;?DDBDBCHBFDHB&lt;&lt;AEI&lt;AFH@GIEHIFCHACDHIDC???FHI...</td>\n",
       "      <td>1141.041</td>\n",
       "    </tr>\n",
       "  </tbody>\n",
       "</table>\n",
       "</div>"
      ],
      "text/plain": [
       "                                  sequence_identifier  \\\n",
       "95  @HWI-D00360:5:H814YADXX:1:1101:6582:2134 1:N:0...   \n",
       "96  @HWI-D00360:5:H814YADXX:1:1101:6746:2208 1:N:0...   \n",
       "97  @HWI-D00360:5:H814YADXX:1:1101:6514:2215 1:N:0...   \n",
       "98  @HWI-D00360:5:H814YADXX:1:1101:6718:2227 1:N:0...   \n",
       "99  @HWI-D00360:5:H814YADXX:1:1101:6821:2106 1:N:0...   \n",
       "\n",
       "                                        read_sequence  \\\n",
       "95  CAGTTTATCTTATTAATCTAGTGTTACCCTAATATAAAAACAATAA...   \n",
       "96  AGGAAGGAAGCTTTGCCAGGAAGTTCAAATGTCAGGGACCTAGTTC...   \n",
       "97  AGATTAGCCGGGCGTGGTGGAAGGCGCCTATAGTCCCAGCTACTCG...   \n",
       "98  CTTCTAACTGAAAAACGATGCCAGCTGTAGGACCCAGCTGCTCTTG...   \n",
       "99  CTGGGAAAGACTTTGCTTCTCCTTCATATTTAAAGAATAACTTTGA...   \n",
       "\n",
       "                                              quality  execution_time  \n",
       "95  BBCDFFFFHHHHHJJJJJJJJJJJJJJJJJJJJJJJJJJJJJJJJJ...         363.375  \n",
       "96  CCCFFFFFHFHGFJGIIIJJJJJFHIJJIIIJJJJJJJJJIJJFHI...         832.833  \n",
       "97  CCCFFFFFHGHGHJHIJGHJJJJJJJJJJJJJJJJJJJJJJJJJHH...       23371.750  \n",
       "98  CCCFFFFFHHHGFJHHHIIIIIIJJGGHIIJIIJJIJJIIJIJIII...         346.875  \n",
       "99  ?;?DDBDBCHBFDHB<<AEI<AFH@GIEHIFCHACDHIDC???FHI...        1141.041  "
      ]
     },
     "execution_count": 45,
     "metadata": {},
     "output_type": "execute_result"
    }
   ],
   "source": [
    "data1.tail()"
   ]
  },
  {
   "cell_type": "code",
   "execution_count": 46,
   "metadata": {},
   "outputs": [],
   "source": [
    "#from sklearn.preprocessing import LabelEncoder\n",
    "#le =LabelEncoder()\n",
    "\n",
    "#seq_trans = le.fit_transform(data1[\"read_sequence\"])\n",
    "#seq_ide_trans = le.fit_transform(data1[\"sequence_identifier\"])\n",
    "#quali_trans = le.fit_transform(data1[\"quality\"])\n"
   ]
  },
  {
   "cell_type": "code",
   "execution_count": 47,
   "metadata": {},
   "outputs": [],
   "source": [
    "#data1['seq_encoded']=seq_trans\n",
    "#data1['seq_id_encoded']=seq_ide_trans\n",
    "#data1['qual_encoded']=quali_trans\n",
    "#data1.head()"
   ]
  },
  {
   "cell_type": "code",
   "execution_count": 48,
   "metadata": {},
   "outputs": [
    {
     "data": {
      "text/html": [
       "<div>\n",
       "<style scoped>\n",
       "    .dataframe tbody tr th:only-of-type {\n",
       "        vertical-align: middle;\n",
       "    }\n",
       "\n",
       "    .dataframe tbody tr th {\n",
       "        vertical-align: top;\n",
       "    }\n",
       "\n",
       "    .dataframe thead th {\n",
       "        text-align: right;\n",
       "    }\n",
       "</style>\n",
       "<table border=\"1\" class=\"dataframe\">\n",
       "  <thead>\n",
       "    <tr style=\"text-align: right;\">\n",
       "      <th></th>\n",
       "      <th>read_sequence</th>\n",
       "      <th>execution_time</th>\n",
       "    </tr>\n",
       "  </thead>\n",
       "  <tbody>\n",
       "    <tr>\n",
       "      <th>0</th>\n",
       "      <td>CTGGTCCTAACATCTGTTGACCATAGCCATATTTTTCAGAAAAGTC...</td>\n",
       "      <td>2295.125</td>\n",
       "    </tr>\n",
       "    <tr>\n",
       "      <th>1</th>\n",
       "      <td>TGGCTATGGGCTGCAATAATTCGTCTTTCTGAAAGGGCATTCAGCC...</td>\n",
       "      <td>674.000</td>\n",
       "    </tr>\n",
       "    <tr>\n",
       "      <th>2</th>\n",
       "      <td>ACTTTCTATCTCTATGGATTTAACCATTGTGGATATTTCATGTAAA...</td>\n",
       "      <td>757.209</td>\n",
       "    </tr>\n",
       "    <tr>\n",
       "      <th>3</th>\n",
       "      <td>ATCAAAAACATTCAAATGAAATCATCTTAAGTGCCAGAATTATAAA...</td>\n",
       "      <td>397.042</td>\n",
       "    </tr>\n",
       "    <tr>\n",
       "      <th>4</th>\n",
       "      <td>CAGGTTCCAATATTACAAATGCAAGGCCAGAAGGAGACTGCAAATG...</td>\n",
       "      <td>675.000</td>\n",
       "    </tr>\n",
       "    <tr>\n",
       "      <th>...</th>\n",
       "      <td>...</td>\n",
       "      <td>...</td>\n",
       "    </tr>\n",
       "    <tr>\n",
       "      <th>95</th>\n",
       "      <td>CAGTTTATCTTATTAATCTAGTGTTACCCTAATATAAAAACAATAA...</td>\n",
       "      <td>363.375</td>\n",
       "    </tr>\n",
       "    <tr>\n",
       "      <th>96</th>\n",
       "      <td>AGGAAGGAAGCTTTGCCAGGAAGTTCAAATGTCAGGGACCTAGTTC...</td>\n",
       "      <td>832.833</td>\n",
       "    </tr>\n",
       "    <tr>\n",
       "      <th>97</th>\n",
       "      <td>AGATTAGCCGGGCGTGGTGGAAGGCGCCTATAGTCCCAGCTACTCG...</td>\n",
       "      <td>23371.750</td>\n",
       "    </tr>\n",
       "    <tr>\n",
       "      <th>98</th>\n",
       "      <td>CTTCTAACTGAAAAACGATGCCAGCTGTAGGACCCAGCTGCTCTTG...</td>\n",
       "      <td>346.875</td>\n",
       "    </tr>\n",
       "    <tr>\n",
       "      <th>99</th>\n",
       "      <td>CTGGGAAAGACTTTGCTTCTCCTTCATATTTAAAGAATAACTTTGA...</td>\n",
       "      <td>1141.041</td>\n",
       "    </tr>\n",
       "  </tbody>\n",
       "</table>\n",
       "<p>100 rows × 2 columns</p>\n",
       "</div>"
      ],
      "text/plain": [
       "                                        read_sequence  execution_time\n",
       "0   CTGGTCCTAACATCTGTTGACCATAGCCATATTTTTCAGAAAAGTC...        2295.125\n",
       "1   TGGCTATGGGCTGCAATAATTCGTCTTTCTGAAAGGGCATTCAGCC...         674.000\n",
       "2   ACTTTCTATCTCTATGGATTTAACCATTGTGGATATTTCATGTAAA...         757.209\n",
       "3   ATCAAAAACATTCAAATGAAATCATCTTAAGTGCCAGAATTATAAA...         397.042\n",
       "4   CAGGTTCCAATATTACAAATGCAAGGCCAGAAGGAGACTGCAAATG...         675.000\n",
       "..                                                ...             ...\n",
       "95  CAGTTTATCTTATTAATCTAGTGTTACCCTAATATAAAAACAATAA...         363.375\n",
       "96  AGGAAGGAAGCTTTGCCAGGAAGTTCAAATGTCAGGGACCTAGTTC...         832.833\n",
       "97  AGATTAGCCGGGCGTGGTGGAAGGCGCCTATAGTCCCAGCTACTCG...       23371.750\n",
       "98  CTTCTAACTGAAAAACGATGCCAGCTGTAGGACCCAGCTGCTCTTG...         346.875\n",
       "99  CTGGGAAAGACTTTGCTTCTCCTTCATATTTAAAGAATAACTTTGA...        1141.041\n",
       "\n",
       "[100 rows x 2 columns]"
      ]
     },
     "execution_count": 48,
     "metadata": {},
     "output_type": "execute_result"
    }
   ],
   "source": [
    "reads = data1.drop(['sequence_identifier','quality'], axis =1)\n",
    "reads"
   ]
  },
  {
   "cell_type": "code",
   "execution_count": 49,
   "metadata": {},
   "outputs": [
    {
     "data": {
      "text/html": [
       "<div>\n",
       "<style scoped>\n",
       "    .dataframe tbody tr th:only-of-type {\n",
       "        vertical-align: middle;\n",
       "    }\n",
       "\n",
       "    .dataframe tbody tr th {\n",
       "        vertical-align: top;\n",
       "    }\n",
       "\n",
       "    .dataframe thead th {\n",
       "        text-align: right;\n",
       "    }\n",
       "</style>\n",
       "<table border=\"1\" class=\"dataframe\">\n",
       "  <thead>\n",
       "    <tr style=\"text-align: right;\">\n",
       "      <th></th>\n",
       "      <th>read_sequence</th>\n",
       "      <th>execution_time</th>\n",
       "    </tr>\n",
       "  </thead>\n",
       "  <tbody>\n",
       "    <tr>\n",
       "      <th>0</th>\n",
       "      <td>CTGGTCCTAACATCTGTTGACCATAGCCATATTTTTCAGAAAAGTC...</td>\n",
       "      <td>3.360806</td>\n",
       "    </tr>\n",
       "    <tr>\n",
       "      <th>1</th>\n",
       "      <td>TGGCTATGGGCTGCAATAATTCGTCTTTCTGAAAGGGCATTCAGCC...</td>\n",
       "      <td>2.828660</td>\n",
       "    </tr>\n",
       "    <tr>\n",
       "      <th>2</th>\n",
       "      <td>ACTTTCTATCTCTATGGATTTAACCATTGTGGATATTTCATGTAAA...</td>\n",
       "      <td>2.879216</td>\n",
       "    </tr>\n",
       "    <tr>\n",
       "      <th>3</th>\n",
       "      <td>ATCAAAAACATTCAAATGAAATCATCTTAAGTGCCAGAATTATAAA...</td>\n",
       "      <td>2.598836</td>\n",
       "    </tr>\n",
       "    <tr>\n",
       "      <th>4</th>\n",
       "      <td>CAGGTTCCAATATTACAAATGCAAGGCCAGAAGGAGACTGCAAATG...</td>\n",
       "      <td>2.829304</td>\n",
       "    </tr>\n",
       "    <tr>\n",
       "      <th>...</th>\n",
       "      <td>...</td>\n",
       "      <td>...</td>\n",
       "    </tr>\n",
       "    <tr>\n",
       "      <th>95</th>\n",
       "      <td>CAGTTTATCTTATTAATCTAGTGTTACCCTAATATAAAAACAATAA...</td>\n",
       "      <td>2.560355</td>\n",
       "    </tr>\n",
       "    <tr>\n",
       "      <th>96</th>\n",
       "      <td>AGGAAGGAAGCTTTGCCAGGAAGTTCAAATGTCAGGGACCTAGTTC...</td>\n",
       "      <td>2.920558</td>\n",
       "    </tr>\n",
       "    <tr>\n",
       "      <th>97</th>\n",
       "      <td>AGATTAGCCGGGCGTGGTGGAAGGCGCCTATAGTCCCAGCTACTCG...</td>\n",
       "      <td>4.368691</td>\n",
       "    </tr>\n",
       "    <tr>\n",
       "      <th>98</th>\n",
       "      <td>CTTCTAACTGAAAAACGATGCCAGCTGTAGGACCCAGCTGCTCTTG...</td>\n",
       "      <td>2.540173</td>\n",
       "    </tr>\n",
       "    <tr>\n",
       "      <th>99</th>\n",
       "      <td>CTGGGAAAGACTTTGCTTCTCCTTCATATTTAAAGAATAACTTTGA...</td>\n",
       "      <td>3.057301</td>\n",
       "    </tr>\n",
       "  </tbody>\n",
       "</table>\n",
       "<p>100 rows × 2 columns</p>\n",
       "</div>"
      ],
      "text/plain": [
       "                                        read_sequence  execution_time\n",
       "0   CTGGTCCTAACATCTGTTGACCATAGCCATATTTTTCAGAAAAGTC...        3.360806\n",
       "1   TGGCTATGGGCTGCAATAATTCGTCTTTCTGAAAGGGCATTCAGCC...        2.828660\n",
       "2   ACTTTCTATCTCTATGGATTTAACCATTGTGGATATTTCATGTAAA...        2.879216\n",
       "3   ATCAAAAACATTCAAATGAAATCATCTTAAGTGCCAGAATTATAAA...        2.598836\n",
       "4   CAGGTTCCAATATTACAAATGCAAGGCCAGAAGGAGACTGCAAATG...        2.829304\n",
       "..                                                ...             ...\n",
       "95  CAGTTTATCTTATTAATCTAGTGTTACCCTAATATAAAAACAATAA...        2.560355\n",
       "96  AGGAAGGAAGCTTTGCCAGGAAGTTCAAATGTCAGGGACCTAGTTC...        2.920558\n",
       "97  AGATTAGCCGGGCGTGGTGGAAGGCGCCTATAGTCCCAGCTACTCG...        4.368691\n",
       "98  CTTCTAACTGAAAAACGATGCCAGCTGTAGGACCCAGCTGCTCTTG...        2.540173\n",
       "99  CTGGGAAAGACTTTGCTTCTCCTTCATATTTAAAGAATAACTTTGA...        3.057301\n",
       "\n",
       "[100 rows x 2 columns]"
      ]
     },
     "execution_count": 49,
     "metadata": {},
     "output_type": "execute_result"
    }
   ],
   "source": [
    "#Normalize data\n",
    "reads['execution_time'] = np.log10(reads.execution_time)\n",
    "reads"
   ]
  },
  {
   "cell_type": "code",
   "execution_count": 50,
   "metadata": {},
   "outputs": [],
   "source": [
    "def Kmers_funct(seq, size=9): #148 characters/sequence  size = 6 better? Used 4 previously.[SIze = 9 gave a r_sq = 1 is this the best value for data = 250, train = 0.8 random = 42, ngaram 4,4]??\n",
    "    #Performed much better with same settings and more data. used 1000. r_sq reduced to 0.9999999999999962\n",
    "   return [seq[x:x+size].lower() for x in range(len(seq) - size + 1)]\n",
    "#convert our training data sequences into short overlapping k-mers of length 6. Lets do that for each species of data we have using our Kmers_funct function.\n",
    "reads['words'] = reads.apply(lambda x: Kmers_funct(x['read_sequence']), axis=1)\n",
    "reads = reads.drop('read_sequence', axis=1)"
   ]
  },
  {
   "cell_type": "code",
   "execution_count": 51,
   "metadata": {},
   "outputs": [],
   "source": [
    "human_texts = list(reads['words'])\n",
    "for item in range(len(human_texts)):\n",
    "   human_texts[item] = ' '.join(human_texts[item])\n",
    "#separate labels\n",
    "Y = reads.iloc[:, 0].values # y_human for human_dna"
   ]
  },
  {
   "cell_type": "code",
   "execution_count": 52,
   "metadata": {},
   "outputs": [],
   "source": [
    "#from sklearn.feature_extraction.text import CountVectorizer\n",
    "#cv = CountVectorizer(ngram_range = (4,4)) # initially (4,4) \n",
    "#: For ngram_range = (1,4) and fitting with all data rmsle = 0.3123797747684005, mse = 781905.5443143004, size = 9, data = 500, testsize = 0.8,random_state = 42\n",
    "#: For ngram_range = (4,4) and fitting with all data rmsle = 0.27364484069740186, mse = 1041022.6402906085, size = 9, data = 500, testsize = 0.8,random_state = 42\n",
    "#X = cv.fit_transform(human_texts)\n",
    "from sklearn.feature_extraction.text import TfidfVectorizer\n",
    "tfid = TfidfVectorizer(ngram_range = (4,4))\n",
    "X = tfid.fit_transform(human_texts)\n",
    "#print(X)"
   ]
  },
  {
   "cell_type": "code",
   "execution_count": 53,
   "metadata": {},
   "outputs": [
    {
     "name": "stdout",
     "output_type": "stream",
     "text": [
      "X_train (80, 13497)\n",
      "X_test (20, 13497)\n",
      "y_train (80,)\n",
      "y_test (20,)\n"
     ]
    }
   ],
   "source": [
    "from sklearn.model_selection import train_test_split\n",
    "X_train, X_test, y_train,y_test = train_test_split(X,Y,test_size = 0.2, random_state = 1) \n",
    "print('X_train',X_train.shape)\n",
    "print('X_test',X_test.shape)\n",
    "print('y_train',y_train.shape)\n",
    "print('y_test',y_test.shape)"
   ]
  },
  {
   "cell_type": "code",
   "execution_count": 54,
   "metadata": {},
   "outputs": [
    {
     "data": {
      "text/plain": [
       "(80, 13497)"
      ]
     },
     "execution_count": 54,
     "metadata": {},
     "output_type": "execute_result"
    }
   ],
   "source": [
    "Xnew = X_train.todense()\n",
    "Xnew.shape"
   ]
  },
  {
   "cell_type": "code",
   "execution_count": 55,
   "metadata": {},
   "outputs": [],
   "source": [
    "X_train_original = np.expand_dims(Xnew, 2)"
   ]
  },
  {
   "cell_type": "code",
   "execution_count": 56,
   "metadata": {},
   "outputs": [],
   "source": [
    "#X_train_original = np.expand_dims(X_train, 2)\n",
    "#X_train_original = X_train.reshape(len(X_train), 1, X_train.shape[1])\n",
    "#X_train_original = X_train.reshape((X_train.getnnz()),X_train.shape[1],1)\n",
    "#X_train_original = X_train.reshape(X_train.shape[0],X_train.shape[1],1)\n",
    "#X_train_original = X_train.reshape((X_train.todense()),X_train.shape[1],1)\n",
    "#X_train_original = X_train.reshape((X_train.todense()),X_train.shape[1],1)"
   ]
  },
  {
   "cell_type": "code",
   "execution_count": 57,
   "metadata": {},
   "outputs": [
    {
     "data": {
      "text/plain": [
       "(80, 13497, 1)"
      ]
     },
     "execution_count": 57,
     "metadata": {},
     "output_type": "execute_result"
    }
   ],
   "source": [
    "X_train_original.shape"
   ]
  },
  {
   "cell_type": "code",
   "execution_count": 58,
   "metadata": {},
   "outputs": [],
   "source": [
    "#XX_T = X_train_original **2  # squared, appears some values are negative\n",
    "#XX_T.shape"
   ]
  },
  {
   "cell_type": "code",
   "execution_count": 59,
   "metadata": {},
   "outputs": [],
   "source": [
    "import tensorflow as tf\n",
    "from keras.optimizers import SGD\n",
    "from keras.layers import Conv1D, Dense, MaxPooling1D, Flatten, Dropout\n",
    "#from keras.layers import *\n",
    "from keras.models import Sequential\n",
    "from tensorflow.keras.layers import LSTM"
   ]
  },
  {
   "cell_type": "code",
   "execution_count": 60,
   "metadata": {},
   "outputs": [],
   "source": [
    "model = Sequential()\n",
    "model.add(LSTM(64, return_sequences = True, input_shape = (X_train_original.shape[1:]), activation='relu')) #original filter size = 64 # 2 appears to avoid nan values\n",
    "#model.add(Dropout(0.5))\n",
    "#model.add(LSTM(8, activation = 'relu', return_sequences = True)) #original filter size 128 \n",
    "#model.add(Conv1D(2, kernel_size= 2,padding = 'same',activation = 'relu')) #updated inputshape# changed again from 32 to 256\n",
    "#model.add(Dropout(0.2))\n",
    "model.add(Flatten()) # removing flatten introducing nan values and changes shape of output\n",
    "\n",
    "model.add(Dense(1))"
   ]
  },
  {
   "cell_type": "code",
   "execution_count": 61,
   "metadata": {},
   "outputs": [],
   "source": [
    "#X_train = tf.reshape(X_train,shape = [-1,250,3])\n",
    "#y_train = tf.reshape(y_train,shape = [-1,250,1])\n"
   ]
  },
  {
   "cell_type": "code",
   "execution_count": 62,
   "metadata": {},
   "outputs": [
    {
     "name": "stdout",
     "output_type": "stream",
     "text": [
      "Model: \"sequential_1\"\n",
      "_________________________________________________________________\n",
      " Layer (type)                Output Shape              Param #   \n",
      "=================================================================\n",
      " lstm_1 (LSTM)               (None, 13497, 64)         16896     \n",
      "                                                                 \n",
      " flatten_1 (Flatten)         (None, 863808)            0         \n",
      "                                                                 \n",
      " dense_1 (Dense)             (None, 1)                 863809    \n",
      "                                                                 \n",
      "=================================================================\n",
      "Total params: 880,705\n",
      "Trainable params: 880,705\n",
      "Non-trainable params: 0\n",
      "_________________________________________________________________\n"
     ]
    }
   ],
   "source": [
    "model.compile(loss='mean_squared_error', optimizer='adam', metrics=['accuracy'])\n",
    "model.summary()"
   ]
  },
  {
   "cell_type": "code",
   "execution_count": 63,
   "metadata": {},
   "outputs": [],
   "source": [
    "#X_train = tf.reshape(X_train,shape = [-1,375,3])\n",
    "#y_train = tf.reshape(y_train,shape = [-1,125,1])"
   ]
  },
  {
   "cell_type": "code",
   "execution_count": 64,
   "metadata": {},
   "outputs": [],
   "source": [
    "#y_train = np.expand_dims(y_train, 1) # Take off , see what happens"
   ]
  },
  {
   "cell_type": "code",
   "execution_count": 65,
   "metadata": {},
   "outputs": [],
   "source": [
    "#input_ids = input_ids.toarray()"
   ]
  },
  {
   "cell_type": "code",
   "execution_count": 66,
   "metadata": {},
   "outputs": [],
   "source": [
    "Xtstnew = X_test.todense()\n",
    "X_test_n = np.expand_dims(Xtstnew, 2)"
   ]
  },
  {
   "cell_type": "code",
   "execution_count": 67,
   "metadata": {},
   "outputs": [
    {
     "name": "stdout",
     "output_type": "stream",
     "text": [
      "Epoch 1/10\n",
      "3/3 [==============================] - 15s 5s/step - loss: 7.1798 - accuracy: 0.0000e+00 - val_loss: 0.2993 - val_accuracy: 0.0000e+00\n",
      "Epoch 2/10\n",
      "3/3 [==============================] - 16s 6s/step - loss: 1.4414 - accuracy: 0.0000e+00 - val_loss: 0.1414 - val_accuracy: 0.0000e+00\n",
      "Epoch 3/10\n",
      "3/3 [==============================] - 17s 6s/step - loss: 0.7417 - accuracy: 0.0000e+00 - val_loss: 1.0102 - val_accuracy: 0.0000e+00\n",
      "Epoch 4/10\n",
      "3/3 [==============================] - 17s 6s/step - loss: 0.7932 - accuracy: 0.0000e+00 - val_loss: 0.3458 - val_accuracy: 0.0000e+00\n",
      "Epoch 5/10\n",
      "3/3 [==============================] - 18s 6s/step - loss: 0.6308 - accuracy: 0.0000e+00 - val_loss: 0.3308 - val_accuracy: 0.0000e+00\n",
      "Epoch 6/10\n",
      "3/3 [==============================] - 19s 6s/step - loss: 0.3350 - accuracy: 0.0000e+00 - val_loss: 0.4428 - val_accuracy: 0.0000e+00\n",
      "Epoch 7/10\n",
      "3/3 [==============================] - 21s 7s/step - loss: 0.5487 - accuracy: 0.0000e+00 - val_loss: 0.1506 - val_accuracy: 0.0000e+00\n",
      "Epoch 8/10\n",
      "3/3 [==============================] - 21s 7s/step - loss: 0.2883 - accuracy: 0.0000e+00 - val_loss: 0.4121 - val_accuracy: 0.0000e+00\n",
      "Epoch 9/10\n",
      "3/3 [==============================] - 21s 7s/step - loss: 0.3753 - accuracy: 0.0000e+00 - val_loss: 0.1474 - val_accuracy: 0.0000e+00\n",
      "Epoch 10/10\n",
      "3/3 [==============================] - 21s 7s/step - loss: 0.2768 - accuracy: 0.0000e+00 - val_loss: 0.1756 - val_accuracy: 0.0000e+00\n"
     ]
    }
   ],
   "source": [
    "history = model.fit(X_train_original, y_train, \n",
    "                    epochs=10, verbose=1, batch_size=32,validation_data = (X_test_n,y_test)) #changed batch_size to 2 intitally 50"
   ]
  },
  {
   "cell_type": "code",
   "execution_count": 68,
   "metadata": {},
   "outputs": [],
   "source": [
    "#Xtstnew = X_test.todense()\n",
    "#X_test_n = np.expand_dims(Xtstnew, 2)"
   ]
  },
  {
   "cell_type": "code",
   "execution_count": 69,
   "metadata": {},
   "outputs": [
    {
     "name": "stdout",
     "output_type": "stream",
     "text": [
      "1/1 [==============================] - 1s 1s/step\n"
     ]
    }
   ],
   "source": [
    "ypred = model.predict(X_test_n)"
   ]
  },
  {
   "cell_type": "code",
   "execution_count": 70,
   "metadata": {},
   "outputs": [
    {
     "data": {
      "text/plain": [
       "(20, 1)"
      ]
     },
     "execution_count": 70,
     "metadata": {},
     "output_type": "execute_result"
    }
   ],
   "source": [
    "ypred.shape"
   ]
  },
  {
   "cell_type": "code",
   "execution_count": 71,
   "metadata": {},
   "outputs": [],
   "source": [
    "#print(ypred)"
   ]
  },
  {
   "cell_type": "code",
   "execution_count": 72,
   "metadata": {},
   "outputs": [
    {
     "name": "stdout",
     "output_type": "stream",
     "text": [
      "MSE: 0.1756\n"
     ]
    }
   ],
   "source": [
    "from sklearn.metrics import mean_squared_error\n",
    "print(\"MSE: %.4f\" % mean_squared_error(y_test, ypred))"
   ]
  },
  {
   "cell_type": "code",
   "execution_count": 73,
   "metadata": {},
   "outputs": [
    {
     "data": {
      "text/plain": [
       "0.10042577088198068"
      ]
     },
     "execution_count": 73,
     "metadata": {},
     "output_type": "execute_result"
    }
   ],
   "source": [
    "from sklearn.metrics import mean_squared_log_error\n",
    "rmsle = mean_squared_log_error(y_test,ypred)**0.5\n",
    "rmsle"
   ]
  },
  {
   "cell_type": "code",
   "execution_count": 74,
   "metadata": {},
   "outputs": [
    {
     "data": {
      "image/png": "[encoded data removed]",
      "text/plain": [
       "<Figure size 2160x360 with 1 Axes>"
      ]
     },
     "metadata": {},
     "output_type": "display_data"
    }
   ],
   "source": [
    "x_ax = range(len(y_test))\n",
    "f = plt.figure()\n",
    "f.set_figwidth(30)\n",
    "f.set_figheight(5)\n",
    "plt.plot(x_ax, y_test, label=\"truth\")\n",
    "plt.plot(x_ax, ypred, label=\"predicted\")\n",
    "plt.title(\"predicted vs truth execution times\")\n",
    "plt.xlabel('X-axis')\n",
    "plt.ylabel('Y-axis')\n",
    "plt.legend(loc='best',fancybox=True, shadow=True)\n",
    "plt.grid(True)\n",
    "plt.show()"
   ]
  },
  {
   "cell_type": "code",
   "execution_count": 38,
   "metadata": {},
   "outputs": [],
   "source": [
    "y_pred_non_log = np.exp(ypred)\n",
    "y_test_non_log = np.exp(y_test)"
   ]
  },
  {
   "cell_type": "code",
   "execution_count": 141,
   "metadata": {},
   "outputs": [
    {
     "data": {
      "image/png": "[encoded data removed]",
      "text/plain": [
       "<Figure size 2160x360 with 1 Axes>"
      ]
     },
     "metadata": {},
     "output_type": "display_data"
    }
   ],
   "source": [
    "x_ax = range(len(y_test_non_log))\n",
    "f = plt.figure()\n",
    "f.set_figwidth(30)\n",
    "f.set_figheight(5)\n",
    "plt.plot(x_ax, y_test_non_log, label=\"truth\")\n",
    "plt.plot(x_ax, y_pred_non_log, label=\"predicted\")\n",
    "plt.title(\"predicted vs truth execution times\")\n",
    "plt.xlabel('X-axis')\n",
    "plt.ylabel('Y-axis')\n",
    "plt.legend(loc='best',fancybox=True, shadow=True)\n",
    "plt.grid(True)\n",
    "plt.show()"
   ]
  },
  {
   "cell_type": "code",
   "execution_count": null,
   "metadata": {},
   "outputs": [],
   "source": []
  }
 ],
 "metadata": {
  "kernelspec": {
   "display_name": "Python 3",
   "language": "python",
   "name": "python3"
  },
  "language_info": {
   "codemirror_mode": {
    "name": "ipython",
    "version": 3
   },
   "file_extension": ".py",
   "mimetype": "text/x-python",
   "name": "python",
   "nbconvert_exporter": "python",
   "pygments_lexer": "ipython3",
   "version": "3.8.8"
  },
  "vscode": {
   "interpreter": {
    "hash": "853b99181d0ba022bad1ace1542ec9e2b21fc0c2da2392c4130ad8552760e2b5"
   }
  }
 },
 "nbformat": 4,
 "nbformat_minor": 4
}
