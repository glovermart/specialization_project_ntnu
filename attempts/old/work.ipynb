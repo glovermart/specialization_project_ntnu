{
 "cells": [
  {
   "cell_type": "code",
   "execution_count": 1,
   "metadata": {},
   "outputs": [],
   "source": [
    "import pandas as pd\n",
    "import seaborn as sns\n",
    "sns.set_style('darkgrid')\n",
    "import numpy as np\n",
    "import sys\n",
    "import matplotlib.pyplot as plt \n",
    "np.set_printoptions(threshold=sys.maxsize)"
   ]
  },
  {
   "cell_type": "code",
   "execution_count": 2,
   "metadata": {},
   "outputs": [],
   "source": [
    "csv1 = pd.read_csv('sequence_execution_time.csv')\n",
    "#csv1.head()"
   ]
  },
  {
   "cell_type": "code",
   "execution_count": 3,
   "metadata": {
    "scrolled": true
   },
   "outputs": [
    {
     "data": {
      "text/html": [
       "<div>\n",
       "<style scoped>\n",
       "    .dataframe tbody tr th:only-of-type {\n",
       "        vertical-align: middle;\n",
       "    }\n",
       "\n",
       "    .dataframe tbody tr th {\n",
       "        vertical-align: top;\n",
       "    }\n",
       "\n",
       "    .dataframe thead th {\n",
       "        text-align: right;\n",
       "    }\n",
       "</style>\n",
       "<table border=\"1\" class=\"dataframe\">\n",
       "  <thead>\n",
       "    <tr style=\"text-align: right;\">\n",
       "      <th></th>\n",
       "      <th>sequence_identifier</th>\n",
       "      <th>read_sequence</th>\n",
       "      <th>quality</th>\n",
       "      <th>execution_time</th>\n",
       "    </tr>\n",
       "  </thead>\n",
       "  <tbody>\n",
       "    <tr>\n",
       "      <th>3999995</th>\n",
       "      <td>@HWI-D00360:5:H814YADXX:1:1115:18756:14266 1:N...</td>\n",
       "      <td>ACTAATAAAGAAAAAAAGAGAGAAGAATCAAATAGACGCAATAAAA...</td>\n",
       "      <td>C@CFFFFFHHHHHJGEHHIJJJIJIIJJJJJIJJIFIIIIGIJJIJ...</td>\n",
       "      <td>341.792</td>\n",
       "    </tr>\n",
       "    <tr>\n",
       "      <th>3999996</th>\n",
       "      <td>@HWI-D00360:5:H814YADXX:1:1115:18805:14266 1:N...</td>\n",
       "      <td>ATAAATGAATAATAGGCGGTTTCTGACATCAGGAAGTTTAGACCGC...</td>\n",
       "      <td>CCCFFFFFGHHHHJJJJJJGIJHIJGIIJJIJJIIJHIJJIIJJJJ...</td>\n",
       "      <td>556.625</td>\n",
       "    </tr>\n",
       "    <tr>\n",
       "      <th>3999997</th>\n",
       "      <td>@HWI-D00360:5:H814YADXX:1:1115:18868:14278 1:N...</td>\n",
       "      <td>GTATGGAAATACCTGGATGTCCAGGCAGAAGTGTGCTACAGGGGCA...</td>\n",
       "      <td>@@CFFFFFHGHHHJIIIGIGHHAGGGIIBGG?ECCFFHIJJGEBDA...</td>\n",
       "      <td>8523.708</td>\n",
       "    </tr>\n",
       "    <tr>\n",
       "      <th>3999998</th>\n",
       "      <td>@HWI-D00360:5:H814YADXX:1:1115:18797:14322 1:N...</td>\n",
       "      <td>AACTCAGTAATTACTTTGATTTGGAGTCTTAATGCAATTTTACCCA...</td>\n",
       "      <td>CCCFFFFFHDHHHJJJJJJIJJJIJIHGHIIJJJJIJIJJJJJJJI...</td>\n",
       "      <td>880.708</td>\n",
       "    </tr>\n",
       "    <tr>\n",
       "      <th>3999999</th>\n",
       "      <td>@HWI-D00360:5:H814YADXX:1:1115:18971:14400 1:N...</td>\n",
       "      <td>GAAAATAGTTTCCCATTTGTTGCCACTGTTTTAAACTTACTGTTAT...</td>\n",
       "      <td>@@@FDFDBBDFFBFIGGGCFGFHHGIGEHIIIIEIIGE@GIIIGGI...</td>\n",
       "      <td>624.208</td>\n",
       "    </tr>\n",
       "  </tbody>\n",
       "</table>\n",
       "</div>"
      ],
      "text/plain": [
       "                                       sequence_identifier  \\\n",
       "3999995  @HWI-D00360:5:H814YADXX:1:1115:18756:14266 1:N...   \n",
       "3999996  @HWI-D00360:5:H814YADXX:1:1115:18805:14266 1:N...   \n",
       "3999997  @HWI-D00360:5:H814YADXX:1:1115:18868:14278 1:N...   \n",
       "3999998  @HWI-D00360:5:H814YADXX:1:1115:18797:14322 1:N...   \n",
       "3999999  @HWI-D00360:5:H814YADXX:1:1115:18971:14400 1:N...   \n",
       "\n",
       "                                             read_sequence  \\\n",
       "3999995  ACTAATAAAGAAAAAAAGAGAGAAGAATCAAATAGACGCAATAAAA...   \n",
       "3999996  ATAAATGAATAATAGGCGGTTTCTGACATCAGGAAGTTTAGACCGC...   \n",
       "3999997  GTATGGAAATACCTGGATGTCCAGGCAGAAGTGTGCTACAGGGGCA...   \n",
       "3999998  AACTCAGTAATTACTTTGATTTGGAGTCTTAATGCAATTTTACCCA...   \n",
       "3999999  GAAAATAGTTTCCCATTTGTTGCCACTGTTTTAAACTTACTGTTAT...   \n",
       "\n",
       "                                                   quality  execution_time  \n",
       "3999995  C@CFFFFFHHHHHJGEHHIJJJIJIIJJJJJIJJIFIIIIGIJJIJ...         341.792  \n",
       "3999996  CCCFFFFFGHHHHJJJJJJGIJHIJGIIJJIJJIIJHIJJIIJJJJ...         556.625  \n",
       "3999997  @@CFFFFFHGHHHJIIIGIGHHAGGGIIBGG?ECCFFHIJJGEBDA...        8523.708  \n",
       "3999998  CCCFFFFFHDHHHJJJJJJIJJJIJIHGHIIJJJJIJIJJJJJJJI...         880.708  \n",
       "3999999  @@@FDFDBBDFFBFIGGGCFGFHHGIGEHIIIIEIIGE@GIIIGGI...         624.208  "
      ]
     },
     "execution_count": 3,
     "metadata": {},
     "output_type": "execute_result"
    }
   ],
   "source": [
    "csv1.tail()"
   ]
  },
  {
   "cell_type": "code",
   "execution_count": 4,
   "metadata": {},
   "outputs": [],
   "source": [
    "#data = csv1.drop(['sequence_identifier','quality'], axis = 1)\n",
    "data = csv1"
   ]
  },
  {
   "cell_type": "code",
   "execution_count": 5,
   "metadata": {},
   "outputs": [],
   "source": [
    "data1 = data.drop(csv1.index[500000:]) #reduce dataset to 10% of original dataframe\n",
    "#data.head()"
   ]
  },
  {
   "cell_type": "code",
   "execution_count": 6,
   "metadata": {},
   "outputs": [
    {
     "data": {
      "text/html": [
       "<div>\n",
       "<style scoped>\n",
       "    .dataframe tbody tr th:only-of-type {\n",
       "        vertical-align: middle;\n",
       "    }\n",
       "\n",
       "    .dataframe tbody tr th {\n",
       "        vertical-align: top;\n",
       "    }\n",
       "\n",
       "    .dataframe thead th {\n",
       "        text-align: right;\n",
       "    }\n",
       "</style>\n",
       "<table border=\"1\" class=\"dataframe\">\n",
       "  <thead>\n",
       "    <tr style=\"text-align: right;\">\n",
       "      <th></th>\n",
       "      <th>sequence_identifier</th>\n",
       "      <th>read_sequence</th>\n",
       "      <th>quality</th>\n",
       "      <th>execution_time</th>\n",
       "    </tr>\n",
       "  </thead>\n",
       "  <tbody>\n",
       "    <tr>\n",
       "      <th>499995</th>\n",
       "      <td>@HWI-D00360:5:H814YADXX:1:1102:17469:86576 1:N...</td>\n",
       "      <td>TTTTCATGCAGACTAAATTTGCCACGGCCTTCAAAAATCCTTCTCA...</td>\n",
       "      <td>CCCFFFFFHHGHHJIJJJJJGIJGJIIIJJJJJJJJJJIIIJJIJJ...</td>\n",
       "      <td>230.083</td>\n",
       "    </tr>\n",
       "    <tr>\n",
       "      <th>499996</th>\n",
       "      <td>@HWI-D00360:5:H814YADXX:1:1102:17415:86578 1:N...</td>\n",
       "      <td>AATGGAATGGAATGGAATGCAATTGAATCAACCCGAGTGCAATGGA...</td>\n",
       "      <td>C@@FFFDDFAFHBGFBDDAHICGDHHIEBHBACFD?F?D?GHCGBD...</td>\n",
       "      <td>1875.917</td>\n",
       "    </tr>\n",
       "    <tr>\n",
       "      <th>499997</th>\n",
       "      <td>@HWI-D00360:5:H814YADXX:1:1102:17270:86593 1:N...</td>\n",
       "      <td>GACCCTATGACTGTATCTCTCTGATTCACCTGACATTCACCCCATT...</td>\n",
       "      <td>CCCFFDFDHFFHHGGFE&lt;CBFEGGGGEHCHIIEEHIIGBBHHHGEH...</td>\n",
       "      <td>3203.583</td>\n",
       "    </tr>\n",
       "    <tr>\n",
       "      <th>499998</th>\n",
       "      <td>@HWI-D00360:5:H814YADXX:1:1102:17487:86606 1:N...</td>\n",
       "      <td>CTGCTGGTCACAGCCACCTGTGTCTGTCCCTCAGTGTGGGCTGGTA...</td>\n",
       "      <td>CCCFFFFFHHHHHJJJJJJJJIJJJJJJJJJJJJHJGIJJJJJJJJ...</td>\n",
       "      <td>677.250</td>\n",
       "    </tr>\n",
       "    <tr>\n",
       "      <th>499999</th>\n",
       "      <td>@HWI-D00360:5:H814YADXX:1:1102:17363:86632 1:N...</td>\n",
       "      <td>TTTAATTTACACAAATATAACCTCCAAAAATTGCCCTGAGTTTGGA...</td>\n",
       "      <td>BCCFFFFFHHGGHJJJJJIJGJGIJJIIJIJJJJIJJJGHHIIGIG...</td>\n",
       "      <td>760.625</td>\n",
       "    </tr>\n",
       "  </tbody>\n",
       "</table>\n",
       "</div>"
      ],
      "text/plain": [
       "                                      sequence_identifier  \\\n",
       "499995  @HWI-D00360:5:H814YADXX:1:1102:17469:86576 1:N...   \n",
       "499996  @HWI-D00360:5:H814YADXX:1:1102:17415:86578 1:N...   \n",
       "499997  @HWI-D00360:5:H814YADXX:1:1102:17270:86593 1:N...   \n",
       "499998  @HWI-D00360:5:H814YADXX:1:1102:17487:86606 1:N...   \n",
       "499999  @HWI-D00360:5:H814YADXX:1:1102:17363:86632 1:N...   \n",
       "\n",
       "                                            read_sequence  \\\n",
       "499995  TTTTCATGCAGACTAAATTTGCCACGGCCTTCAAAAATCCTTCTCA...   \n",
       "499996  AATGGAATGGAATGGAATGCAATTGAATCAACCCGAGTGCAATGGA...   \n",
       "499997  GACCCTATGACTGTATCTCTCTGATTCACCTGACATTCACCCCATT...   \n",
       "499998  CTGCTGGTCACAGCCACCTGTGTCTGTCCCTCAGTGTGGGCTGGTA...   \n",
       "499999  TTTAATTTACACAAATATAACCTCCAAAAATTGCCCTGAGTTTGGA...   \n",
       "\n",
       "                                                  quality  execution_time  \n",
       "499995  CCCFFFFFHHGHHJIJJJJJGIJGJIIIJJJJJJJJJJIIIJJIJJ...         230.083  \n",
       "499996  C@@FFFDDFAFHBGFBDDAHICGDHHIEBHBACFD?F?D?GHCGBD...        1875.917  \n",
       "499997  CCCFFDFDHFFHHGGFE<CBFEGGGGEHCHIIEEHIIGBBHHHGEH...        3203.583  \n",
       "499998  CCCFFFFFHHHHHJJJJJJJJIJJJJJJJJJJJJHJGIJJJJJJJJ...         677.250  \n",
       "499999  BCCFFFFFHHGGHJJJJJIJGJGIJJIIJIJJJJIJJJGHHIIGIG...         760.625  "
      ]
     },
     "execution_count": 6,
     "metadata": {},
     "output_type": "execute_result"
    }
   ],
   "source": [
    "data1.tail()"
   ]
  },
  {
   "cell_type": "code",
   "execution_count": 7,
   "metadata": {},
   "outputs": [],
   "source": [
    "from sklearn.preprocessing import LabelEncoder\n",
    "le =LabelEncoder()\n",
    "\n",
    "seq_trans = le.fit_transform(data1[\"read_sequence\"])\n",
    "seq_ide_trans = le.fit_transform(data1[\"sequence_identifier\"])\n",
    "quali_trans = le.fit_transform(data1[\"quality\"])\n"
   ]
  },
  {
   "cell_type": "code",
   "execution_count": 8,
   "metadata": {},
   "outputs": [
    {
     "data": {
      "text/html": [
       "<div>\n",
       "<style scoped>\n",
       "    .dataframe tbody tr th:only-of-type {\n",
       "        vertical-align: middle;\n",
       "    }\n",
       "\n",
       "    .dataframe tbody tr th {\n",
       "        vertical-align: top;\n",
       "    }\n",
       "\n",
       "    .dataframe thead th {\n",
       "        text-align: right;\n",
       "    }\n",
       "</style>\n",
       "<table border=\"1\" class=\"dataframe\">\n",
       "  <thead>\n",
       "    <tr style=\"text-align: right;\">\n",
       "      <th></th>\n",
       "      <th>sequence_identifier</th>\n",
       "      <th>read_sequence</th>\n",
       "      <th>quality</th>\n",
       "      <th>execution_time</th>\n",
       "      <th>seq_encoded</th>\n",
       "      <th>seq_id_encoded</th>\n",
       "      <th>qual_encoded</th>\n",
       "    </tr>\n",
       "  </thead>\n",
       "  <tbody>\n",
       "    <tr>\n",
       "      <th>0</th>\n",
       "      <td>@HWI-D00360:5:H814YADXX:1:1101:1205:2142 1:N:0...</td>\n",
       "      <td>CTGGTCCTAACATCTGTTGACCATAGCCATATTTTTCAGAAAAGTC...</td>\n",
       "      <td>CCCFFFFFHHHHHJJJJJJJJJJJJJJJJJJJJJJJJJIJJJJJIJ...</td>\n",
       "      <td>2295.125</td>\n",
       "      <td>246964</td>\n",
       "      <td>29031</td>\n",
       "      <td>466307</td>\n",
       "    </tr>\n",
       "    <tr>\n",
       "      <th>1</th>\n",
       "      <td>@HWI-D00360:5:H814YADXX:1:1101:1244:2206 1:N:0...</td>\n",
       "      <td>TGGCTATGGGCTGCAATAATTCGTCTTTCTGAAAGGGCATTCAGCC...</td>\n",
       "      <td>@&lt;;DFFFFFDDHDGGGGGGIGFGIGEIIGICHGIEDEGGHGGHHGF...</td>\n",
       "      <td>674.000</td>\n",
       "      <td>433529</td>\n",
       "      <td>34707</td>\n",
       "      <td>21648</td>\n",
       "    </tr>\n",
       "    <tr>\n",
       "      <th>2</th>\n",
       "      <td>@HWI-D00360:5:H814YADXX:1:1101:1295:2128 1:N:0...</td>\n",
       "      <td>ACTTTCTATCTCTATGGATTTAACCATTGTGGATATTTCATGTAAA...</td>\n",
       "      <td>CCCFFFFFHHHHHJJJJJJJJJJJJJJJJHIJJJJJJJJIJJHJJI...</td>\n",
       "      <td>757.209</td>\n",
       "      <td>80915</td>\n",
       "      <td>42381</td>\n",
       "      <td>437021</td>\n",
       "    </tr>\n",
       "    <tr>\n",
       "      <th>3</th>\n",
       "      <td>@HWI-D00360:5:H814YADXX:1:1101:1460:2184 1:N:0...</td>\n",
       "      <td>ATCAAAAACATTCAAATGAAATCATCTTAAGTGCCAGAATTATAAA...</td>\n",
       "      <td>;@@DDEFFHGHHHGIIIFIIIGICGCHHHGI?FHIIHDCA&gt;GHIII...</td>\n",
       "      <td>397.042</td>\n",
       "      <td>127402</td>\n",
       "      <td>67220</td>\n",
       "      <td>3587</td>\n",
       "    </tr>\n",
       "    <tr>\n",
       "      <th>4</th>\n",
       "      <td>@HWI-D00360:5:H814YADXX:1:1101:1597:2113 1:N:0...</td>\n",
       "      <td>CAGGTTCCAATATTACAAATGCAAGGCCAGAAGGAGACTGCAAATG...</td>\n",
       "      <td>CCCFFFFFHHHHHJJJJJJJJJJJJJJJJJJJJJJJJJJJJJJJJJ...</td>\n",
       "      <td>675.000</td>\n",
       "      <td>185185</td>\n",
       "      <td>88179</td>\n",
       "      <td>497964</td>\n",
       "    </tr>\n",
       "  </tbody>\n",
       "</table>\n",
       "</div>"
      ],
      "text/plain": [
       "                                 sequence_identifier  \\\n",
       "0  @HWI-D00360:5:H814YADXX:1:1101:1205:2142 1:N:0...   \n",
       "1  @HWI-D00360:5:H814YADXX:1:1101:1244:2206 1:N:0...   \n",
       "2  @HWI-D00360:5:H814YADXX:1:1101:1295:2128 1:N:0...   \n",
       "3  @HWI-D00360:5:H814YADXX:1:1101:1460:2184 1:N:0...   \n",
       "4  @HWI-D00360:5:H814YADXX:1:1101:1597:2113 1:N:0...   \n",
       "\n",
       "                                       read_sequence  \\\n",
       "0  CTGGTCCTAACATCTGTTGACCATAGCCATATTTTTCAGAAAAGTC...   \n",
       "1  TGGCTATGGGCTGCAATAATTCGTCTTTCTGAAAGGGCATTCAGCC...   \n",
       "2  ACTTTCTATCTCTATGGATTTAACCATTGTGGATATTTCATGTAAA...   \n",
       "3  ATCAAAAACATTCAAATGAAATCATCTTAAGTGCCAGAATTATAAA...   \n",
       "4  CAGGTTCCAATATTACAAATGCAAGGCCAGAAGGAGACTGCAAATG...   \n",
       "\n",
       "                                             quality  execution_time  \\\n",
       "0  CCCFFFFFHHHHHJJJJJJJJJJJJJJJJJJJJJJJJJIJJJJJIJ...        2295.125   \n",
       "1  @<;DFFFFFDDHDGGGGGGIGFGIGEIIGICHGIEDEGGHGGHHGF...         674.000   \n",
       "2  CCCFFFFFHHHHHJJJJJJJJJJJJJJJJHIJJJJJJJJIJJHJJI...         757.209   \n",
       "3  ;@@DDEFFHGHHHGIIIFIIIGICGCHHHGI?FHIIHDCA>GHIII...         397.042   \n",
       "4  CCCFFFFFHHHHHJJJJJJJJJJJJJJJJJJJJJJJJJJJJJJJJJ...         675.000   \n",
       "\n",
       "   seq_encoded  seq_id_encoded  qual_encoded  \n",
       "0       246964           29031        466307  \n",
       "1       433529           34707         21648  \n",
       "2        80915           42381        437021  \n",
       "3       127402           67220          3587  \n",
       "4       185185           88179        497964  "
      ]
     },
     "execution_count": 8,
     "metadata": {},
     "output_type": "execute_result"
    }
   ],
   "source": [
    "data1['seq_encoded']=seq_trans\n",
    "data1['seq_id_encoded']=seq_ide_trans\n",
    "data1['qual_encoded']=quali_trans\n",
    "data1.head()"
   ]
  },
  {
   "cell_type": "code",
   "execution_count": 9,
   "metadata": {},
   "outputs": [
    {
     "data": {
      "text/plain": [
       "sequence_identifier    500000\n",
       "read_sequence          499541\n",
       "quality                500000\n",
       "execution_time         145840\n",
       "seq_encoded            499541\n",
       "seq_id_encoded         500000\n",
       "qual_encoded           500000\n",
       "dtype: int64"
      ]
     },
     "execution_count": 9,
     "metadata": {},
     "output_type": "execute_result"
    }
   ],
   "source": [
    "data1.nunique()"
   ]
  },
  {
   "cell_type": "code",
   "execution_count": 10,
   "metadata": {
    "tags": []
   },
   "outputs": [
    {
     "data": {
      "text/html": [
       "<div>\n",
       "<style scoped>\n",
       "    .dataframe tbody tr th:only-of-type {\n",
       "        vertical-align: middle;\n",
       "    }\n",
       "\n",
       "    .dataframe tbody tr th {\n",
       "        vertical-align: top;\n",
       "    }\n",
       "\n",
       "    .dataframe thead th {\n",
       "        text-align: right;\n",
       "    }\n",
       "</style>\n",
       "<table border=\"1\" class=\"dataframe\">\n",
       "  <thead>\n",
       "    <tr style=\"text-align: right;\">\n",
       "      <th></th>\n",
       "      <th>execution_time</th>\n",
       "      <th>seq_encoded</th>\n",
       "      <th>seq_id_encoded</th>\n",
       "      <th>qual_encoded</th>\n",
       "    </tr>\n",
       "  </thead>\n",
       "  <tbody>\n",
       "    <tr>\n",
       "      <th>0</th>\n",
       "      <td>2295.125</td>\n",
       "      <td>246964</td>\n",
       "      <td>29031</td>\n",
       "      <td>466307</td>\n",
       "    </tr>\n",
       "    <tr>\n",
       "      <th>1</th>\n",
       "      <td>674.000</td>\n",
       "      <td>433529</td>\n",
       "      <td>34707</td>\n",
       "      <td>21648</td>\n",
       "    </tr>\n",
       "    <tr>\n",
       "      <th>2</th>\n",
       "      <td>757.209</td>\n",
       "      <td>80915</td>\n",
       "      <td>42381</td>\n",
       "      <td>437021</td>\n",
       "    </tr>\n",
       "    <tr>\n",
       "      <th>3</th>\n",
       "      <td>397.042</td>\n",
       "      <td>127402</td>\n",
       "      <td>67220</td>\n",
       "      <td>3587</td>\n",
       "    </tr>\n",
       "    <tr>\n",
       "      <th>4</th>\n",
       "      <td>675.000</td>\n",
       "      <td>185185</td>\n",
       "      <td>88179</td>\n",
       "      <td>497964</td>\n",
       "    </tr>\n",
       "  </tbody>\n",
       "</table>\n",
       "</div>"
      ],
      "text/plain": [
       "   execution_time  seq_encoded  seq_id_encoded  qual_encoded\n",
       "0        2295.125       246964           29031        466307\n",
       "1         674.000       433529           34707         21648\n",
       "2         757.209        80915           42381        437021\n",
       "3         397.042       127402           67220          3587\n",
       "4         675.000       185185           88179        497964"
      ]
     },
     "execution_count": 10,
     "metadata": {},
     "output_type": "execute_result"
    }
   ],
   "source": [
    "data1 = data1.drop(['sequence_identifier','read_sequence','quality'], axis = 1)\n",
    "data1.head()"
   ]
  },
  {
   "cell_type": "code",
   "execution_count": 11,
   "metadata": {},
   "outputs": [
    {
     "data": {
      "text/html": [
       "<div>\n",
       "<style scoped>\n",
       "    .dataframe tbody tr th:only-of-type {\n",
       "        vertical-align: middle;\n",
       "    }\n",
       "\n",
       "    .dataframe tbody tr th {\n",
       "        vertical-align: top;\n",
       "    }\n",
       "\n",
       "    .dataframe thead th {\n",
       "        text-align: right;\n",
       "    }\n",
       "</style>\n",
       "<table border=\"1\" class=\"dataframe\">\n",
       "  <thead>\n",
       "    <tr style=\"text-align: right;\">\n",
       "      <th></th>\n",
       "      <th>execution_time</th>\n",
       "      <th>seq_encoded</th>\n",
       "      <th>seq_id_encoded</th>\n",
       "      <th>qual_encoded</th>\n",
       "    </tr>\n",
       "  </thead>\n",
       "  <tbody>\n",
       "    <tr>\n",
       "      <th>count</th>\n",
       "      <td>500000.000000</td>\n",
       "      <td>500000.000000</td>\n",
       "      <td>500000.000000</td>\n",
       "      <td>500000.000000</td>\n",
       "    </tr>\n",
       "    <tr>\n",
       "      <th>mean</th>\n",
       "      <td>2008.569778</td>\n",
       "      <td>249761.903914</td>\n",
       "      <td>249999.500000</td>\n",
       "      <td>249999.500000</td>\n",
       "    </tr>\n",
       "    <tr>\n",
       "      <th>std</th>\n",
       "      <td>4002.491133</td>\n",
       "      <td>144199.758077</td>\n",
       "      <td>144337.711634</td>\n",
       "      <td>144337.711634</td>\n",
       "    </tr>\n",
       "    <tr>\n",
       "      <th>min</th>\n",
       "      <td>176.958000</td>\n",
       "      <td>0.000000</td>\n",
       "      <td>0.000000</td>\n",
       "      <td>0.000000</td>\n",
       "    </tr>\n",
       "    <tr>\n",
       "      <th>25%</th>\n",
       "      <td>560.667000</td>\n",
       "      <td>124889.750000</td>\n",
       "      <td>124999.750000</td>\n",
       "      <td>124999.750000</td>\n",
       "    </tr>\n",
       "    <tr>\n",
       "      <th>50%</th>\n",
       "      <td>676.459000</td>\n",
       "      <td>249759.500000</td>\n",
       "      <td>249999.500000</td>\n",
       "      <td>249999.500000</td>\n",
       "    </tr>\n",
       "    <tr>\n",
       "      <th>75%</th>\n",
       "      <td>1410.104500</td>\n",
       "      <td>374636.250000</td>\n",
       "      <td>374999.250000</td>\n",
       "      <td>374999.250000</td>\n",
       "    </tr>\n",
       "    <tr>\n",
       "      <th>max</th>\n",
       "      <td>124555.542000</td>\n",
       "      <td>499540.000000</td>\n",
       "      <td>499999.000000</td>\n",
       "      <td>499999.000000</td>\n",
       "    </tr>\n",
       "  </tbody>\n",
       "</table>\n",
       "</div>"
      ],
      "text/plain": [
       "       execution_time    seq_encoded  seq_id_encoded   qual_encoded\n",
       "count   500000.000000  500000.000000   500000.000000  500000.000000\n",
       "mean      2008.569778  249761.903914   249999.500000  249999.500000\n",
       "std       4002.491133  144199.758077   144337.711634  144337.711634\n",
       "min        176.958000       0.000000        0.000000       0.000000\n",
       "25%        560.667000  124889.750000   124999.750000  124999.750000\n",
       "50%        676.459000  249759.500000   249999.500000  249999.500000\n",
       "75%       1410.104500  374636.250000   374999.250000  374999.250000\n",
       "max     124555.542000  499540.000000   499999.000000  499999.000000"
      ]
     },
     "execution_count": 11,
     "metadata": {},
     "output_type": "execute_result"
    }
   ],
   "source": [
    "data1.describe()"
   ]
  },
  {
   "cell_type": "code",
   "execution_count": 12,
   "metadata": {},
   "outputs": [
    {
     "data": {
      "text/html": [
       "<div>\n",
       "<style scoped>\n",
       "    .dataframe tbody tr th:only-of-type {\n",
       "        vertical-align: middle;\n",
       "    }\n",
       "\n",
       "    .dataframe tbody tr th {\n",
       "        vertical-align: top;\n",
       "    }\n",
       "\n",
       "    .dataframe thead th {\n",
       "        text-align: right;\n",
       "    }\n",
       "</style>\n",
       "<table border=\"1\" class=\"dataframe\">\n",
       "  <thead>\n",
       "    <tr style=\"text-align: right;\">\n",
       "      <th></th>\n",
       "      <th>execution_time</th>\n",
       "      <th>seq_encoded</th>\n",
       "    </tr>\n",
       "  </thead>\n",
       "  <tbody>\n",
       "    <tr>\n",
       "      <th>0</th>\n",
       "      <td>2295.125</td>\n",
       "      <td>246964</td>\n",
       "    </tr>\n",
       "    <tr>\n",
       "      <th>1</th>\n",
       "      <td>674.000</td>\n",
       "      <td>433529</td>\n",
       "    </tr>\n",
       "    <tr>\n",
       "      <th>2</th>\n",
       "      <td>757.209</td>\n",
       "      <td>80915</td>\n",
       "    </tr>\n",
       "    <tr>\n",
       "      <th>3</th>\n",
       "      <td>397.042</td>\n",
       "      <td>127402</td>\n",
       "    </tr>\n",
       "    <tr>\n",
       "      <th>4</th>\n",
       "      <td>675.000</td>\n",
       "      <td>185185</td>\n",
       "    </tr>\n",
       "  </tbody>\n",
       "</table>\n",
       "</div>"
      ],
      "text/plain": [
       "   execution_time  seq_encoded\n",
       "0        2295.125       246964\n",
       "1         674.000       433529\n",
       "2         757.209        80915\n",
       "3         397.042       127402\n",
       "4         675.000       185185"
      ]
     },
     "execution_count": 12,
     "metadata": {},
     "output_type": "execute_result"
    }
   ],
   "source": [
    "data1 = data1.drop(['seq_id_encoded','qual_encoded'], axis = 1)\n",
    "data1.head()"
   ]
  },
  {
   "cell_type": "code",
   "execution_count": 13,
   "metadata": {},
   "outputs": [],
   "source": [
    "Y= data1[['execution_time']]\n",
    "\n",
    "#Y=np.ravel(Y)\n",
    "X= data1.drop('execution_time', axis =1)"
   ]
  },
  {
   "cell_type": "code",
   "execution_count": 14,
   "metadata": {},
   "outputs": [
    {
     "name": "stderr",
     "output_type": "stream",
     "text": [
      "<ipython-input-14-ccc6ac07e441>:1: SettingWithCopyWarning: \n",
      "A value is trying to be set on a copy of a slice from a DataFrame.\n",
      "Try using .loc[row_indexer,col_indexer] = value instead\n",
      "\n",
      "See the caveats in the documentation: https://pandas.pydata.org/pandas-docs/stable/user_guide/indexing.html#returning-a-view-versus-a-copy\n",
      "  Y['execution_time']= np.log10(Y.execution_time)\n"
     ]
    },
    {
     "data": {
      "text/html": [
       "<div>\n",
       "<style scoped>\n",
       "    .dataframe tbody tr th:only-of-type {\n",
       "        vertical-align: middle;\n",
       "    }\n",
       "\n",
       "    .dataframe tbody tr th {\n",
       "        vertical-align: top;\n",
       "    }\n",
       "\n",
       "    .dataframe thead th {\n",
       "        text-align: right;\n",
       "    }\n",
       "</style>\n",
       "<table border=\"1\" class=\"dataframe\">\n",
       "  <thead>\n",
       "    <tr style=\"text-align: right;\">\n",
       "      <th></th>\n",
       "      <th>execution_time</th>\n",
       "    </tr>\n",
       "  </thead>\n",
       "  <tbody>\n",
       "    <tr>\n",
       "      <th>0</th>\n",
       "      <td>3.360806</td>\n",
       "    </tr>\n",
       "    <tr>\n",
       "      <th>1</th>\n",
       "      <td>2.828660</td>\n",
       "    </tr>\n",
       "    <tr>\n",
       "      <th>2</th>\n",
       "      <td>2.879216</td>\n",
       "    </tr>\n",
       "    <tr>\n",
       "      <th>3</th>\n",
       "      <td>2.598836</td>\n",
       "    </tr>\n",
       "    <tr>\n",
       "      <th>4</th>\n",
       "      <td>2.829304</td>\n",
       "    </tr>\n",
       "    <tr>\n",
       "      <th>...</th>\n",
       "      <td>...</td>\n",
       "    </tr>\n",
       "    <tr>\n",
       "      <th>499995</th>\n",
       "      <td>2.361885</td>\n",
       "    </tr>\n",
       "    <tr>\n",
       "      <th>499996</th>\n",
       "      <td>3.273214</td>\n",
       "    </tr>\n",
       "    <tr>\n",
       "      <th>499997</th>\n",
       "      <td>3.505636</td>\n",
       "    </tr>\n",
       "    <tr>\n",
       "      <th>499998</th>\n",
       "      <td>2.830749</td>\n",
       "    </tr>\n",
       "    <tr>\n",
       "      <th>499999</th>\n",
       "      <td>2.881171</td>\n",
       "    </tr>\n",
       "  </tbody>\n",
       "</table>\n",
       "<p>500000 rows × 1 columns</p>\n",
       "</div>"
      ],
      "text/plain": [
       "        execution_time\n",
       "0             3.360806\n",
       "1             2.828660\n",
       "2             2.879216\n",
       "3             2.598836\n",
       "4             2.829304\n",
       "...                ...\n",
       "499995        2.361885\n",
       "499996        3.273214\n",
       "499997        3.505636\n",
       "499998        2.830749\n",
       "499999        2.881171\n",
       "\n",
       "[500000 rows x 1 columns]"
      ]
     },
     "execution_count": 14,
     "metadata": {},
     "output_type": "execute_result"
    }
   ],
   "source": [
    "Y['execution_time']= np.log10(Y.execution_time)\n",
    "Y"
   ]
  },
  {
   "cell_type": "code",
   "execution_count": 15,
   "metadata": {},
   "outputs": [
    {
     "name": "stdout",
     "output_type": "stream",
     "text": [
      "X_train (400000, 1)\n",
      "X_test (100000, 1)\n",
      "y_train (400000, 1)\n",
      "y_test (100000, 1)\n"
     ]
    }
   ],
   "source": [
    "from sklearn.model_selection import train_test_split\n",
    "X_train, X_test, y_train,y_test = train_test_split(X,Y, test_size = 0.2, random_state = 1) \n",
    "print('X_train',X_train.shape)\n",
    "print('X_test',X_test.shape)\n",
    "print('y_train',y_train.shape)\n",
    "print('y_test',y_test.shape)"
   ]
  },
  {
   "cell_type": "code",
   "execution_count": 16,
   "metadata": {},
   "outputs": [],
   "source": [
    "#y_test"
   ]
  },
  {
   "cell_type": "code",
   "execution_count": 17,
   "metadata": {},
   "outputs": [],
   "source": [
    "import tensorflow as tf\n",
    "from tensorflow import keras"
   ]
  },
  {
   "cell_type": "code",
   "execution_count": 29,
   "metadata": {},
   "outputs": [
    {
     "name": "stdout",
     "output_type": "stream",
     "text": [
      "Model: \"sequential_1\"\n",
      "_________________________________________________________________\n",
      " Layer (type)                Output Shape              Param #   \n",
      "=================================================================\n",
      " dense_5 (Dense)             (None, 64)                128       \n",
      "                                                                 \n",
      " dense_6 (Dense)             (None, 64)                4160      \n",
      "                                                                 \n",
      " dropout (Dropout)           (None, 64)                0         \n",
      "                                                                 \n",
      " dense_7 (Dense)             (None, 64)                4160      \n",
      "                                                                 \n",
      " dense_8 (Dense)             (None, 64)                4160      \n",
      "                                                                 \n",
      " dropout_1 (Dropout)         (None, 64)                0         \n",
      "                                                                 \n",
      " dense_9 (Dense)             (None, 1)                 65        \n",
      "                                                                 \n",
      "=================================================================\n",
      "Total params: 12,673\n",
      "Trainable params: 12,673\n",
      "Non-trainable params: 0\n",
      "_________________________________________________________________\n"
     ]
    }
   ],
   "source": [
    "# Create a model with multiple hidden layers. Note that input and output has\n",
    "# dimension one\n",
    "M = 64\n",
    "model = keras.Sequential([\n",
    "    keras.layers.Dense(M, activation=tf.nn.relu, input_dim = 1),\n",
    "    keras.layers.Dense(M, activation=tf.nn.relu),\n",
    "    keras.layers.Dropout(0.5),\n",
    "    keras.layers.Dense(M, activation=tf.nn.relu),\n",
    "    keras.layers.Dense(M, activation=tf.nn.relu),\n",
    "    keras.layers.Dropout(0.5),\n",
    "    #keras.layers.Dense(M, activation=tf.nn.relu),\n",
    "    #keras.layers.Dense(M, activation=tf.nn.relu),\n",
    "    #keras.layers.Dense(M, activation=tf.nn.relu),\n",
    "    #keras.layers.Dense(M, activation=tf.nn.relu),\n",
    "    #keras.layers.Dense(M, activation=tf.nn.relu),\n",
    "   #keras.layers.Dense(M, activation=tf.nn.relu),\n",
    "   #keras.layers.Dense(M, activation=tf.nn.relu),\n",
    "   #keras.layers.Dense(M, activation=tf.nn.relu),\n",
    "   #keras.layers.Dense(M, activation=tf.nn.relu),\n",
    "   #keras.layers.Dense(M, activation=tf.nn.relu),\n",
    "    keras.layers.Dense(1)\n",
    "])\n",
    "model.summary()\n",
    "\n",
    "# Train the model\n",
    "model.compile(loss='mean_squared_error',\n",
    "              optimizer=\"adam\",\n",
    "              metrics=['accuracy'])"
   ]
  },
  {
   "cell_type": "code",
   "execution_count": null,
   "metadata": {},
   "outputs": [
    {
     "name": "stdout",
     "output_type": "stream",
     "text": [
      "Epoch 1/100\n",
      "274/274 [==============================] - 9s 15ms/step - loss: 21842236.0000 - accuracy: 0.0000e+00 - val_loss: 2406.4309 - val_accuracy: 0.0000e+00\n",
      "Epoch 2/100\n",
      "274/274 [==============================] - 4s 13ms/step - loss: 28752.7930 - accuracy: 0.0000e+00 - val_loss: 3.2938 - val_accuracy: 0.0000e+00\n",
      "Epoch 3/100\n",
      "274/274 [==============================] - 4s 13ms/step - loss: 2266.2517 - accuracy: 0.0000e+00 - val_loss: 3.3084 - val_accuracy: 0.0000e+00\n",
      "Epoch 4/100\n",
      "274/274 [==============================] - 4s 13ms/step - loss: 184.5858 - accuracy: 0.0000e+00 - val_loss: 4.6475 - val_accuracy: 0.0000e+00\n",
      "Epoch 5/100\n",
      "274/274 [==============================] - 3s 12ms/step - loss: 15.2624 - accuracy: 0.0000e+00 - val_loss: 5.8917 - val_accuracy: 0.0000e+00\n",
      "Epoch 6/100\n",
      "274/274 [==============================] - 4s 13ms/step - loss: 5.9349 - accuracy: 0.0000e+00 - val_loss: 5.3851 - val_accuracy: 0.0000e+00\n",
      "Epoch 7/100\n",
      "274/274 [==============================] - 4s 13ms/step - loss: 10.2220 - accuracy: 0.0000e+00 - val_loss: 5.5424 - val_accuracy: 0.0000e+00\n",
      "Epoch 8/100\n",
      "274/274 [==============================] - 4s 13ms/step - loss: 44.1520 - accuracy: 0.0000e+00 - val_loss: 5.5539 - val_accuracy: 0.0000e+00\n",
      "Epoch 9/100\n",
      "274/274 [==============================] - 4s 13ms/step - loss: 5.1583 - accuracy: 0.0000e+00 - val_loss: 5.6038 - val_accuracy: 0.0000e+00\n",
      "Epoch 10/100\n",
      "274/274 [==============================] - 4s 13ms/step - loss: 5.1229 - accuracy: 0.0000e+00 - val_loss: 5.5625 - val_accuracy: 0.0000e+00\n",
      "Epoch 11/100\n",
      "274/274 [==============================] - 4s 13ms/step - loss: 5.0856 - accuracy: 0.0000e+00 - val_loss: 5.5439 - val_accuracy: 0.0000e+00\n",
      "Epoch 12/100\n",
      "274/274 [==============================] - 4s 13ms/step - loss: 5.0625 - accuracy: 0.0000e+00 - val_loss: 5.5973 - val_accuracy: 0.0000e+00\n",
      "Epoch 13/100\n",
      "274/274 [==============================] - 4s 13ms/step - loss: 5.0247 - accuracy: 0.0000e+00 - val_loss: 5.5105 - val_accuracy: 0.0000e+00\n",
      "Epoch 14/100\n",
      "274/274 [==============================] - 3s 13ms/step - loss: 4.9540 - accuracy: 0.0000e+00 - val_loss: 5.2966 - val_accuracy: 0.0000e+00\n",
      "Epoch 15/100\n",
      "274/274 [==============================] - 3s 13ms/step - loss: 4.9105 - accuracy: 0.0000e+00 - val_loss: 5.4436 - val_accuracy: 0.0000e+00\n",
      "Epoch 16/100\n",
      "274/274 [==============================] - 4s 14ms/step - loss: 4.8428 - accuracy: 0.0000e+00 - val_loss: 5.5326 - val_accuracy: 0.0000e+00\n",
      "Epoch 17/100\n",
      "274/274 [==============================] - 3s 13ms/step - loss: 4.7570 - accuracy: 0.0000e+00 - val_loss: 5.2793 - val_accuracy: 0.0000e+00\n",
      "Epoch 18/100\n",
      "274/274 [==============================] - 3s 13ms/step - loss: 4.6576 - accuracy: 0.0000e+00 - val_loss: 5.2609 - val_accuracy: 0.0000e+00\n",
      "Epoch 19/100\n",
      "274/274 [==============================] - 4s 14ms/step - loss: 4.5716 - accuracy: 0.0000e+00 - val_loss: 5.1789 - val_accuracy: 0.0000e+00\n",
      "Epoch 20/100\n",
      "274/274 [==============================] - 4s 13ms/step - loss: 4.4482 - accuracy: 0.0000e+00 - val_loss: 5.1498 - val_accuracy: 0.0000e+00\n",
      "Epoch 21/100\n",
      "274/274 [==============================] - 3s 13ms/step - loss: 4.3285 - accuracy: 0.0000e+00 - val_loss: 5.1445 - val_accuracy: 0.0000e+00\n",
      "Epoch 22/100\n",
      "274/274 [==============================] - 3s 12ms/step - loss: 4.0730 - accuracy: 0.0000e+00 - val_loss: 5.1886 - val_accuracy: 0.0000e+00\n",
      "Epoch 23/100\n",
      "274/274 [==============================] - 3s 13ms/step - loss: 3.9280 - accuracy: 0.0000e+00 - val_loss: 4.8192 - val_accuracy: 0.0000e+00\n",
      "Epoch 24/100\n",
      "274/274 [==============================] - 4s 14ms/step - loss: 3.7638 - accuracy: 0.0000e+00 - val_loss: 4.9432 - val_accuracy: 0.0000e+00\n",
      "Epoch 25/100\n",
      "274/274 [==============================] - 4s 14ms/step - loss: 3.5976 - accuracy: 0.0000e+00 - val_loss: 4.8391 - val_accuracy: 0.0000e+00\n",
      "Epoch 26/100\n",
      "274/274 [==============================] - 4s 13ms/step - loss: 3.3201 - accuracy: 0.0000e+00 - val_loss: 4.1287 - val_accuracy: 0.0000e+00\n",
      "Epoch 27/100\n",
      "274/274 [==============================] - 3s 12ms/step - loss: 2.9308 - accuracy: 0.0000e+00 - val_loss: 4.2541 - val_accuracy: 0.0000e+00\n",
      "Epoch 28/100\n",
      "274/274 [==============================] - 4s 13ms/step - loss: 2.7044 - accuracy: 0.0000e+00 - val_loss: 3.5567 - val_accuracy: 0.0000e+00\n",
      "Epoch 29/100\n",
      "274/274 [==============================] - 4s 14ms/step - loss: 2.4603 - accuracy: 0.0000e+00 - val_loss: 3.8494 - val_accuracy: 0.0000e+00\n",
      "Epoch 30/100\n",
      "274/274 [==============================] - 4s 15ms/step - loss: 2.2491 - accuracy: 0.0000e+00 - val_loss: 3.2624 - val_accuracy: 0.0000e+00\n",
      "Epoch 31/100\n",
      "274/274 [==============================] - 3s 12ms/step - loss: 1.9919 - accuracy: 0.0000e+00 - val_loss: 3.0676 - val_accuracy: 0.0000e+00\n",
      "Epoch 32/100\n",
      "274/274 [==============================] - 4s 16ms/step - loss: 1.8047 - accuracy: 0.0000e+00 - val_loss: 2.8884 - val_accuracy: 0.0000e+00\n",
      "Epoch 33/100\n",
      "274/274 [==============================] - 4s 13ms/step - loss: 1.6878 - accuracy: 0.0000e+00 - val_loss: 2.4261 - val_accuracy: 0.0000e+00\n",
      "Epoch 34/100\n",
      "274/274 [==============================] - 4s 14ms/step - loss: 1.5495 - accuracy: 0.0000e+00 - val_loss: 2.2094 - val_accuracy: 0.0000e+00\n",
      "Epoch 35/100\n",
      "274/274 [==============================] - 3s 13ms/step - loss: 1.3874 - accuracy: 0.0000e+00 - val_loss: 2.0276 - val_accuracy: 0.0000e+00\n",
      "Epoch 36/100\n",
      "274/274 [==============================] - 4s 14ms/step - loss: 1.3134 - accuracy: 0.0000e+00 - val_loss: 1.6695 - val_accuracy: 0.0000e+00\n",
      "Epoch 37/100\n",
      "274/274 [==============================] - 4s 14ms/step - loss: 1.2359 - accuracy: 0.0000e+00 - val_loss: 2.4414 - val_accuracy: 0.0000e+00\n",
      "Epoch 38/100\n",
      "274/274 [==============================] - 4s 13ms/step - loss: 1.1726 - accuracy: 0.0000e+00 - val_loss: 1.7304 - val_accuracy: 0.0000e+00\n",
      "Epoch 39/100\n",
      "274/274 [==============================] - 4s 13ms/step - loss: 1.1340 - accuracy: 0.0000e+00 - val_loss: 1.2253 - val_accuracy: 0.0000e+00\n",
      "Epoch 40/100\n",
      "274/274 [==============================] - 3s 13ms/step - loss: 1.0405 - accuracy: 0.0000e+00 - val_loss: 1.4454 - val_accuracy: 0.0000e+00\n",
      "Epoch 41/100\n",
      "274/274 [==============================] - 3s 12ms/step - loss: 0.9731 - accuracy: 0.0000e+00 - val_loss: 1.5783 - val_accuracy: 0.0000e+00\n",
      "Epoch 42/100\n",
      "274/274 [==============================] - 4s 13ms/step - loss: 1.0076 - accuracy: 0.0000e+00 - val_loss: 1.2109 - val_accuracy: 0.0000e+00\n",
      "Epoch 43/100\n",
      "274/274 [==============================] - 4s 13ms/step - loss: 0.8638 - accuracy: 0.0000e+00 - val_loss: 0.9514 - val_accuracy: 0.0000e+00\n",
      "Epoch 44/100\n",
      "274/274 [==============================] - 4s 14ms/step - loss: 0.8369 - accuracy: 0.0000e+00 - val_loss: 1.1770 - val_accuracy: 0.0000e+00\n",
      "Epoch 45/100\n",
      "274/274 [==============================] - 4s 13ms/step - loss: 0.8469 - accuracy: 0.0000e+00 - val_loss: 1.0998 - val_accuracy: 0.0000e+00\n",
      "Epoch 46/100\n",
      "274/274 [==============================] - 3s 13ms/step - loss: 0.7716 - accuracy: 0.0000e+00 - val_loss: 0.9892 - val_accuracy: 0.0000e+00\n",
      "Epoch 47/100\n",
      "274/274 [==============================] - 4s 13ms/step - loss: 0.7397 - accuracy: 0.0000e+00 - val_loss: 0.7423 - val_accuracy: 0.0000e+00\n",
      "Epoch 48/100\n",
      "274/274 [==============================] - 4s 13ms/step - loss: 0.6400 - accuracy: 0.0000e+00 - val_loss: 1.1770 - val_accuracy: 0.0000e+00\n",
      "Epoch 49/100\n",
      "274/274 [==============================] - 4s 13ms/step - loss: 0.6004 - accuracy: 0.0000e+00 - val_loss: 0.7102 - val_accuracy: 0.0000e+00\n",
      "Epoch 50/100\n",
      "274/274 [==============================] - 3s 12ms/step - loss: 0.5793 - accuracy: 0.0000e+00 - val_loss: 0.8349 - val_accuracy: 0.0000e+00\n",
      "Epoch 51/100\n",
      "274/274 [==============================] - 3s 13ms/step - loss: 0.4959 - accuracy: 0.0000e+00 - val_loss: 0.6662 - val_accuracy: 0.0000e+00\n",
      "Epoch 52/100\n",
      "274/274 [==============================] - 4s 13ms/step - loss: 0.4251 - accuracy: 0.0000e+00 - val_loss: 0.5057 - val_accuracy: 0.0000e+00\n",
      "Epoch 53/100\n",
      "274/274 [==============================] - 4s 13ms/step - loss: 0.3734 - accuracy: 0.0000e+00 - val_loss: 0.4303 - val_accuracy: 0.0000e+00\n",
      "Epoch 54/100\n",
      "274/274 [==============================] - 4s 14ms/step - loss: 0.3230 - accuracy: 0.0000e+00 - val_loss: 0.3648 - val_accuracy: 0.0000e+00\n",
      "Epoch 55/100\n",
      "274/274 [==============================] - 4s 13ms/step - loss: 0.2877 - accuracy: 0.0000e+00 - val_loss: 0.2989 - val_accuracy: 0.0000e+00\n",
      "Epoch 56/100\n",
      "274/274 [==============================] - 4s 14ms/step - loss: 0.2617 - accuracy: 0.0000e+00 - val_loss: 0.2552 - val_accuracy: 0.0000e+00\n",
      "Epoch 57/100\n",
      "274/274 [==============================] - 4s 13ms/step - loss: 0.2451 - accuracy: 0.0000e+00 - val_loss: 0.2351 - val_accuracy: 0.0000e+00\n",
      "Epoch 58/100\n",
      "274/274 [==============================] - 4s 13ms/step - loss: 0.2284 - accuracy: 0.0000e+00 - val_loss: 0.2254 - val_accuracy: 0.0000e+00\n",
      "Epoch 59/100\n",
      "274/274 [==============================] - 4s 14ms/step - loss: 0.2193 - accuracy: 0.0000e+00 - val_loss: 0.2144 - val_accuracy: 0.0000e+00\n",
      "Epoch 60/100\n",
      "274/274 [==============================] - 3s 12ms/step - loss: 0.2131 - accuracy: 0.0000e+00 - val_loss: 0.2094 - val_accuracy: 0.0000e+00\n",
      "Epoch 61/100\n",
      "274/274 [==============================] - 4s 13ms/step - loss: 0.2080 - accuracy: 0.0000e+00 - val_loss: 0.2069 - val_accuracy: 0.0000e+00\n",
      "Epoch 62/100\n",
      "274/274 [==============================] - 4s 14ms/step - loss: 0.2056 - accuracy: 0.0000e+00 - val_loss: 0.2044 - val_accuracy: 0.0000e+00\n",
      "Epoch 63/100\n",
      "274/274 [==============================] - 3s 12ms/step - loss: 0.2044 - accuracy: 0.0000e+00 - val_loss: 0.2038 - val_accuracy: 0.0000e+00\n",
      "Epoch 64/100\n",
      "274/274 [==============================] - 3s 12ms/step - loss: 0.2039 - accuracy: 0.0000e+00 - val_loss: 0.2035 - val_accuracy: 0.0000e+00\n",
      "Epoch 65/100\n",
      "274/274 [==============================] - 4s 14ms/step - loss: 0.2037 - accuracy: 0.0000e+00 - val_loss: 0.2034 - val_accuracy: 0.0000e+00\n",
      "Epoch 66/100\n",
      "274/274 [==============================] - 4s 14ms/step - loss: 0.2037 - accuracy: 0.0000e+00 - val_loss: 0.2033 - val_accuracy: 0.0000e+00\n",
      "Epoch 67/100\n",
      "274/274 [==============================] - 4s 13ms/step - loss: 0.2036 - accuracy: 0.0000e+00 - val_loss: 0.2032 - val_accuracy: 0.0000e+00\n",
      "Epoch 68/100\n",
      "274/274 [==============================] - 4s 14ms/step - loss: 0.2036 - accuracy: 0.0000e+00 - val_loss: 0.2033 - val_accuracy: 0.0000e+00\n",
      "Epoch 69/100\n",
      "274/274 [==============================] - 4s 14ms/step - loss: 0.2036 - accuracy: 0.0000e+00 - val_loss: 0.2033 - val_accuracy: 0.0000e+00\n",
      "Epoch 70/100\n",
      "274/274 [==============================] - 4s 13ms/step - loss: 0.2036 - accuracy: 0.0000e+00 - val_loss: 0.2032 - val_accuracy: 0.0000e+00\n",
      "Epoch 71/100\n",
      "274/274 [==============================] - 4s 15ms/step - loss: 0.2035 - accuracy: 0.0000e+00 - val_loss: 0.2032 - val_accuracy: 0.0000e+00\n",
      "Epoch 72/100\n",
      "274/274 [==============================] - 3s 12ms/step - loss: 349.1272 - accuracy: 0.0000e+00 - val_loss: 21481.9395 - val_accuracy: 0.0000e+00\n",
      "Epoch 73/100\n",
      "274/274 [==============================] - 3s 11ms/step - loss: 425.3213 - accuracy: 0.0000e+00 - val_loss: 0.2134 - val_accuracy: 0.0000e+00\n",
      "Epoch 74/100\n",
      "274/274 [==============================] - 4s 14ms/step - loss: 0.2433 - accuracy: 0.0000e+00 - val_loss: 0.2059 - val_accuracy: 0.0000e+00\n",
      "Epoch 75/100\n",
      "274/274 [==============================] - 3s 13ms/step - loss: 0.2364 - accuracy: 0.0000e+00 - val_loss: 0.2049 - val_accuracy: 0.0000e+00\n",
      "Epoch 76/100\n",
      "274/274 [==============================] - 4s 13ms/step - loss: 0.2317 - accuracy: 0.0000e+00 - val_loss: 0.2045 - val_accuracy: 0.0000e+00\n",
      "Epoch 77/100\n",
      "274/274 [==============================] - 4s 14ms/step - loss: 0.2272 - accuracy: 0.0000e+00 - val_loss: 0.2041 - val_accuracy: 0.0000e+00\n",
      "Epoch 78/100\n",
      "274/274 [==============================] - 4s 13ms/step - loss: 0.2235 - accuracy: 0.0000e+00 - val_loss: 0.2039 - val_accuracy: 0.0000e+00\n",
      "Epoch 79/100\n",
      "274/274 [==============================] - 4s 14ms/step - loss: 0.2197 - accuracy: 0.0000e+00 - val_loss: 0.2037 - val_accuracy: 0.0000e+00\n",
      "Epoch 80/100\n",
      "274/274 [==============================] - 4s 13ms/step - loss: 0.2171 - accuracy: 0.0000e+00 - val_loss: 0.2034 - val_accuracy: 0.0000e+00\n",
      "Epoch 81/100\n",
      "274/274 [==============================] - 3s 12ms/step - loss: 0.2143 - accuracy: 0.0000e+00 - val_loss: 0.2033 - val_accuracy: 0.0000e+00\n",
      "Epoch 82/100\n",
      "274/274 [==============================] - 4s 13ms/step - loss: 0.2123 - accuracy: 0.0000e+00 - val_loss: 0.2031 - val_accuracy: 0.0000e+00\n",
      "Epoch 83/100\n",
      "274/274 [==============================] - 4s 13ms/step - loss: 0.2102 - accuracy: 0.0000e+00 - val_loss: 0.2031 - val_accuracy: 0.0000e+00\n",
      "Epoch 84/100\n",
      "253/274 [==========================>...] - ETA: 0s - loss: 0.2086 - accuracy: 0.0000e+00"
     ]
    }
   ],
   "source": [
    "#history = model.fit(X_train, y_train, epochs=300, batch_size=128, verbose=True, validation_data = (X_test,y_test))\n",
    "history = model.fit(X_train, y_train, epochs=100, batch_size=1024, verbose=True, validation_split = 0.3)"
   ]
  },
  {
   "cell_type": "code",
   "execution_count": 31,
   "metadata": {},
   "outputs": [
    {
     "name": "stdout",
     "output_type": "stream",
     "text": [
      "3125/3125 [==============================] - 9s 3ms/step\n"
     ]
    }
   ],
   "source": [
    "ypred = model.predict(X_test)"
   ]
  },
  {
   "cell_type": "code",
   "execution_count": 32,
   "metadata": {},
   "outputs": [
    {
     "data": {
      "text/plain": [
       "(100000, 1)"
      ]
     },
     "execution_count": 32,
     "metadata": {},
     "output_type": "execute_result"
    }
   ],
   "source": [
    "ypred.shape"
   ]
  },
  {
   "cell_type": "code",
   "execution_count": 33,
   "metadata": {},
   "outputs": [
    {
     "data": {
      "text/plain": [
       "0.4504642024076645"
      ]
     },
     "execution_count": 33,
     "metadata": {},
     "output_type": "execute_result"
    }
   ],
   "source": [
    "from sklearn.metrics import mean_squared_error\n",
    "rmse = np.sqrt(mean_squared_error(y_test, ypred))\n",
    "rmse "
   ]
  },
  {
   "cell_type": "code",
   "execution_count": 34,
   "metadata": {},
   "outputs": [
    {
     "name": "stdout",
     "output_type": "stream",
     "text": [
      "MSE: 0.2029\n"
     ]
    }
   ],
   "source": [
    "from sklearn.metrics import mean_squared_error\n",
    "print(\"MSE: %.4f\" % mean_squared_error(y_test, ypred))"
   ]
  },
  {
   "cell_type": "code",
   "execution_count": 35,
   "metadata": {},
   "outputs": [
    {
     "data": {
      "text/plain": [
       "0.10783135402178189"
      ]
     },
     "execution_count": 35,
     "metadata": {},
     "output_type": "execute_result"
    }
   ],
   "source": [
    "from sklearn.metrics import mean_squared_log_error\n",
    "rmsle = mean_squared_log_error(y_test,ypred)**0.5\n",
    "rmsle"
   ]
  },
  {
   "cell_type": "code",
   "execution_count": 36,
   "metadata": {},
   "outputs": [],
   "source": [
    "y_pred_non_log = np.exp(ypred)\n",
    "y_test_non_log = np.exp(y_test)"
   ]
  },
  {
   "cell_type": "code",
   "execution_count": 37,
   "metadata": {},
   "outputs": [
    {
     "data": {
      "image/png": "[encoded data removed]",
      "text/plain": [
       "<Figure size 2160x360 with 1 Axes>"
      ]
     },
     "metadata": {},
     "output_type": "display_data"
    }
   ],
   "source": [
    "x_ax = range(len(y_test_non_log))\n",
    "f = plt.figure()\n",
    "f.set_figwidth(30)\n",
    "f.set_figheight(5)\n",
    "plt.plot(x_ax,y_test_non_log, label=\"truth\")\n",
    "plt.plot(x_ax, y_pred_non_log, label=\"predicted\")\n",
    "plt.title(\"predicted vs truth execution times\")\n",
    "plt.xlabel('X-axis')\n",
    "plt.ylabel('Y-axis')\n",
    "plt.legend(loc='best',fancybox=True, shadow=True)\n",
    "plt.grid(True)\n",
    "plt.show()"
   ]
  },
  {
   "cell_type": "code",
   "execution_count": 210,
   "metadata": {},
   "outputs": [],
   "source": [
    "#ypred"
   ]
  },
  {
   "cell_type": "code",
   "execution_count": 41,
   "metadata": {},
   "outputs": [],
   "source": [
    "#y_pred_non_log"
   ]
  },
  {
   "cell_type": "code",
   "execution_count": null,
   "metadata": {},
   "outputs": [],
   "source": []
  }
 ],
 "metadata": {
  "kernelspec": {
   "display_name": "Python 3",
   "language": "python",
   "name": "python3"
  },
  "language_info": {
   "codemirror_mode": {
    "name": "ipython",
    "version": 3
   },
   "file_extension": ".py",
   "mimetype": "text/x-python",
   "name": "python",
   "nbconvert_exporter": "python",
   "pygments_lexer": "ipython3",
   "version": "3.8.8"
  },
  "vscode": {
   "interpreter": {
    "hash": "853b99181d0ba022bad1ace1542ec9e2b21fc0c2da2392c4130ad8552760e2b5"
   }
  }
 },
 "nbformat": 4,
 "nbformat_minor": 4
}
