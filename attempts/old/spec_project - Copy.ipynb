{
 "cells": [
  {
   "cell_type": "code",
   "execution_count": 1,
   "metadata": {},
   "outputs": [],
   "source": [
    "import pandas as pd\n",
    "import seaborn as sns\n",
    "sns.set_style('darkgrid')\n",
    "import numpy as np\n",
    "import sys\n",
    "import matplotlib.pyplot as plt \n",
    "np.set_printoptions(threshold=sys.maxsize)\n"
   ]
  },
  {
   "cell_type": "code",
   "execution_count": 2,
   "metadata": {},
   "outputs": [
    {
     "data": {
      "text/html": [
       "<div>\n",
       "<style scoped>\n",
       "    .dataframe tbody tr th:only-of-type {\n",
       "        vertical-align: middle;\n",
       "    }\n",
       "\n",
       "    .dataframe tbody tr th {\n",
       "        vertical-align: top;\n",
       "    }\n",
       "\n",
       "    .dataframe thead th {\n",
       "        text-align: right;\n",
       "    }\n",
       "</style>\n",
       "<table border=\"1\" class=\"dataframe\">\n",
       "  <thead>\n",
       "    <tr style=\"text-align: right;\">\n",
       "      <th></th>\n",
       "      <th>sequence_identifier</th>\n",
       "      <th>read_sequence</th>\n",
       "      <th>quality</th>\n",
       "      <th>execution_time</th>\n",
       "    </tr>\n",
       "  </thead>\n",
       "  <tbody>\n",
       "    <tr>\n",
       "      <th>0</th>\n",
       "      <td>@HWI-D00360:5:H814YADXX:1:1101:1205:2142 1:N:0...</td>\n",
       "      <td>CTGGTCCTAACATCTGTTGACCATAGCCATATTTTTCAGAAAAGTC...</td>\n",
       "      <td>CCCFFFFFHHHHHJJJJJJJJJJJJJJJJJJJJJJJJJIJJJJJIJ...</td>\n",
       "      <td>2295.125</td>\n",
       "    </tr>\n",
       "    <tr>\n",
       "      <th>1</th>\n",
       "      <td>@HWI-D00360:5:H814YADXX:1:1101:1244:2206 1:N:0...</td>\n",
       "      <td>TGGCTATGGGCTGCAATAATTCGTCTTTCTGAAAGGGCATTCAGCC...</td>\n",
       "      <td>@&lt;;DFFFFFDDHDGGGGGGIGFGIGEIIGICHGIEDEGGHGGHHGF...</td>\n",
       "      <td>674.000</td>\n",
       "    </tr>\n",
       "    <tr>\n",
       "      <th>2</th>\n",
       "      <td>@HWI-D00360:5:H814YADXX:1:1101:1295:2128 1:N:0...</td>\n",
       "      <td>ACTTTCTATCTCTATGGATTTAACCATTGTGGATATTTCATGTAAA...</td>\n",
       "      <td>CCCFFFFFHHHHHJJJJJJJJJJJJJJJJHIJJJJJJJJIJJHJJI...</td>\n",
       "      <td>757.209</td>\n",
       "    </tr>\n",
       "    <tr>\n",
       "      <th>3</th>\n",
       "      <td>@HWI-D00360:5:H814YADXX:1:1101:1460:2184 1:N:0...</td>\n",
       "      <td>ATCAAAAACATTCAAATGAAATCATCTTAAGTGCCAGAATTATAAA...</td>\n",
       "      <td>;@@DDEFFHGHHHGIIIFIIIGICGCHHHGI?FHIIHDCA&gt;GHIII...</td>\n",
       "      <td>397.042</td>\n",
       "    </tr>\n",
       "    <tr>\n",
       "      <th>4</th>\n",
       "      <td>@HWI-D00360:5:H814YADXX:1:1101:1597:2113 1:N:0...</td>\n",
       "      <td>CAGGTTCCAATATTACAAATGCAAGGCCAGAAGGAGACTGCAAATG...</td>\n",
       "      <td>CCCFFFFFHHHHHJJJJJJJJJJJJJJJJJJJJJJJJJJJJJJJJJ...</td>\n",
       "      <td>675.000</td>\n",
       "    </tr>\n",
       "  </tbody>\n",
       "</table>\n",
       "</div>"
      ],
      "text/plain": [
       "                                 sequence_identifier  \\\n",
       "0  @HWI-D00360:5:H814YADXX:1:1101:1205:2142 1:N:0...   \n",
       "1  @HWI-D00360:5:H814YADXX:1:1101:1244:2206 1:N:0...   \n",
       "2  @HWI-D00360:5:H814YADXX:1:1101:1295:2128 1:N:0...   \n",
       "3  @HWI-D00360:5:H814YADXX:1:1101:1460:2184 1:N:0...   \n",
       "4  @HWI-D00360:5:H814YADXX:1:1101:1597:2113 1:N:0...   \n",
       "\n",
       "                                       read_sequence  \\\n",
       "0  CTGGTCCTAACATCTGTTGACCATAGCCATATTTTTCAGAAAAGTC...   \n",
       "1  TGGCTATGGGCTGCAATAATTCGTCTTTCTGAAAGGGCATTCAGCC...   \n",
       "2  ACTTTCTATCTCTATGGATTTAACCATTGTGGATATTTCATGTAAA...   \n",
       "3  ATCAAAAACATTCAAATGAAATCATCTTAAGTGCCAGAATTATAAA...   \n",
       "4  CAGGTTCCAATATTACAAATGCAAGGCCAGAAGGAGACTGCAAATG...   \n",
       "\n",
       "                                             quality  execution_time  \n",
       "0  CCCFFFFFHHHHHJJJJJJJJJJJJJJJJJJJJJJJJJIJJJJJIJ...        2295.125  \n",
       "1  @<;DFFFFFDDHDGGGGGGIGFGIGEIIGICHGIEDEGGHGGHHGF...         674.000  \n",
       "2  CCCFFFFFHHHHHJJJJJJJJJJJJJJJJHIJJJJJJJJIJJHJJI...         757.209  \n",
       "3  ;@@DDEFFHGHHHGIIIFIIIGICGCHHHGI?FHIIHDCA>GHIII...         397.042  \n",
       "4  CCCFFFFFHHHHHJJJJJJJJJJJJJJJJJJJJJJJJJJJJJJJJJ...         675.000  "
      ]
     },
     "execution_count": 2,
     "metadata": {},
     "output_type": "execute_result"
    }
   ],
   "source": [
    "csv1 = pd.read_csv('sequence_execution_time.csv')\n",
    "csv1.head()"
   ]
  },
  {
   "cell_type": "code",
   "execution_count": 3,
   "metadata": {
    "scrolled": true
   },
   "outputs": [],
   "source": [
    "#csv1.tail()"
   ]
  },
  {
   "cell_type": "code",
   "execution_count": 4,
   "metadata": {},
   "outputs": [],
   "source": [
    "#csv1.shape"
   ]
  },
  {
   "cell_type": "code",
   "execution_count": null,
   "metadata": {},
   "outputs": [],
   "source": []
  },
  {
   "cell_type": "code",
   "execution_count": 5,
   "metadata": {},
   "outputs": [],
   "source": [
    "#csv1.nunique() ##22,860 non-unique sequences; check characteristics!! See a way to view corresponding execution times. Conclude to keep or drop."
   ]
  },
  {
   "cell_type": "code",
   "execution_count": 6,
   "metadata": {},
   "outputs": [],
   "source": [
    "#csv1['read_sequence'].unique"
   ]
  },
  {
   "cell_type": "code",
   "execution_count": 7,
   "metadata": {},
   "outputs": [],
   "source": [
    "#csv1.describe()"
   ]
  },
  {
   "cell_type": "code",
   "execution_count": 8,
   "metadata": {},
   "outputs": [],
   "source": [
    "#csv1.execution_time.max()"
   ]
  },
  {
   "cell_type": "code",
   "execution_count": 9,
   "metadata": {},
   "outputs": [],
   "source": [
    "#csv1.execution_time.min()"
   ]
  },
  {
   "cell_type": "code",
   "execution_count": 10,
   "metadata": {},
   "outputs": [],
   "source": [
    "#csv1.execution_time.mean()"
   ]
  },
  {
   "cell_type": "code",
   "execution_count": 11,
   "metadata": {},
   "outputs": [],
   "source": [
    "#csv1.info()\n",
    "#csv1.dtypes"
   ]
  },
  {
   "cell_type": "code",
   "execution_count": 12,
   "metadata": {},
   "outputs": [],
   "source": [
    "#csv1.isnull().sum() # no null values identified. No need for imputation. Check for outliers though! Use box plots."
   ]
  },
  {
   "cell_type": "code",
   "execution_count": 13,
   "metadata": {},
   "outputs": [],
   "source": [
    "\n",
    "#plt.plot(csv1.execution_time,'.')"
   ]
  },
  {
   "cell_type": "code",
   "execution_count": 14,
   "metadata": {},
   "outputs": [],
   "source": [
    "\n",
    "#fig,(ax1,ax2) = plt.subplots(figsize=(16, 4), ncols=2, dpi=100)\n",
    "#sns.histplot(csv1.execution_time, ax=ax1)\n",
    "#sns.histplot(np.log10(csv1.execution_time),ax=ax2)"
   ]
  },
  {
   "cell_type": "code",
   "execution_count": 15,
   "metadata": {},
   "outputs": [],
   "source": [
    "#Try feature importance graph"
   ]
  },
  {
   "cell_type": "code",
   "execution_count": 56,
   "metadata": {},
   "outputs": [],
   "source": [
    "#data = csv1.drop(['sequence_identifier','quality'], axis = 1)\n",
    "data = csv1"
   ]
  },
  {
   "cell_type": "code",
   "execution_count": 57,
   "metadata": {},
   "outputs": [],
   "source": [
    "#data.head()"
   ]
  },
  {
   "cell_type": "code",
   "execution_count": 58,
   "metadata": {},
   "outputs": [],
   "source": [
    "#data.tail()"
   ]
  },
  {
   "cell_type": "code",
   "execution_count": 59,
   "metadata": {},
   "outputs": [],
   "source": [
    "#Check for outliers!!!!!!!!!!!!!!!!!!!!!!!!!!!!!!!!!!!!!!!!!!!!!!!!!!!!!!!!!!!!!!!!!!!!!!!!!"
   ]
  },
  {
   "cell_type": "code",
   "execution_count": 60,
   "metadata": {},
   "outputs": [],
   "source": [
    "data = data.drop(csv1.index[1000:]) #reduce dataset to 10% of original dataframe\n",
    "#data.head()"
   ]
  },
  {
   "cell_type": "code",
   "execution_count": 61,
   "metadata": {},
   "outputs": [
    {
     "data": {
      "text/html": [
       "<div>\n",
       "<style scoped>\n",
       "    .dataframe tbody tr th:only-of-type {\n",
       "        vertical-align: middle;\n",
       "    }\n",
       "\n",
       "    .dataframe tbody tr th {\n",
       "        vertical-align: top;\n",
       "    }\n",
       "\n",
       "    .dataframe thead th {\n",
       "        text-align: right;\n",
       "    }\n",
       "</style>\n",
       "<table border=\"1\" class=\"dataframe\">\n",
       "  <thead>\n",
       "    <tr style=\"text-align: right;\">\n",
       "      <th></th>\n",
       "      <th>sequence_identifier</th>\n",
       "      <th>read_sequence</th>\n",
       "      <th>quality</th>\n",
       "      <th>execution_time</th>\n",
       "    </tr>\n",
       "  </thead>\n",
       "  <tbody>\n",
       "    <tr>\n",
       "      <th>995</th>\n",
       "      <td>@HWI-D00360:5:H814YADXX:1:1101:19469:2440 1:N:...</td>\n",
       "      <td>ACAACTAGTTAGAGTCTTACAAAACAATAAAAACTTTGGGGTTAAC...</td>\n",
       "      <td>CCCFFFFFHGHHHGFFFHHIIJJJIJIJIGIIGGIIJJIIIHIJJJ...</td>\n",
       "      <td>597.959</td>\n",
       "    </tr>\n",
       "    <tr>\n",
       "      <th>996</th>\n",
       "      <td>@HWI-D00360:5:H814YADXX:1:1101:19352:2459 1:N:...</td>\n",
       "      <td>GGAGTTTGTGAGGTTGAAATAAACTTTTCTTAACTATCCATCATGA...</td>\n",
       "      <td>?@@D=BDEDHFHHGGIJJJJJJJJIGIIIIJJJJIJGIJJJJJJJI...</td>\n",
       "      <td>635.792</td>\n",
       "    </tr>\n",
       "    <tr>\n",
       "      <th>997</th>\n",
       "      <td>@HWI-D00360:5:H814YADXX:1:1101:19386:2468 1:N:...</td>\n",
       "      <td>AACTTCTTTTGTTAAATTTATTCCTAAGGATTTTGTGTTTTTCAAT...</td>\n",
       "      <td>CCCFFFFFHHHHHIIJIJJJJJJJJJJJJJJJJJJHIHIJJJJJJJ...</td>\n",
       "      <td>391.500</td>\n",
       "    </tr>\n",
       "    <tr>\n",
       "      <th>998</th>\n",
       "      <td>@HWI-D00360:5:H814YADXX:1:1101:19372:2499 1:N:...</td>\n",
       "      <td>GCTTCCTCCAGGATGCATGAAGAAGCTATCGGAACCTCCTCCGACT...</td>\n",
       "      <td>@@CDDDDDHHDHDGHIJGIGIJJGGGGHEFFAEHGHGHGGGIGGB;...</td>\n",
       "      <td>528.458</td>\n",
       "    </tr>\n",
       "    <tr>\n",
       "      <th>999</th>\n",
       "      <td>@HWI-D00360:5:H814YADXX:1:1101:19549:2252 1:N:...</td>\n",
       "      <td>AAATAAAATGAAAACAAATCATAAAATACACTAAATTCAAATAAGG...</td>\n",
       "      <td>CCCFFFFFHHGHHJJJJJJJJJJJJJJJJJJJJJJJJJJIIIJJJJ...</td>\n",
       "      <td>823.958</td>\n",
       "    </tr>\n",
       "  </tbody>\n",
       "</table>\n",
       "</div>"
      ],
      "text/plain": [
       "                                   sequence_identifier  \\\n",
       "995  @HWI-D00360:5:H814YADXX:1:1101:19469:2440 1:N:...   \n",
       "996  @HWI-D00360:5:H814YADXX:1:1101:19352:2459 1:N:...   \n",
       "997  @HWI-D00360:5:H814YADXX:1:1101:19386:2468 1:N:...   \n",
       "998  @HWI-D00360:5:H814YADXX:1:1101:19372:2499 1:N:...   \n",
       "999  @HWI-D00360:5:H814YADXX:1:1101:19549:2252 1:N:...   \n",
       "\n",
       "                                         read_sequence  \\\n",
       "995  ACAACTAGTTAGAGTCTTACAAAACAATAAAAACTTTGGGGTTAAC...   \n",
       "996  GGAGTTTGTGAGGTTGAAATAAACTTTTCTTAACTATCCATCATGA...   \n",
       "997  AACTTCTTTTGTTAAATTTATTCCTAAGGATTTTGTGTTTTTCAAT...   \n",
       "998  GCTTCCTCCAGGATGCATGAAGAAGCTATCGGAACCTCCTCCGACT...   \n",
       "999  AAATAAAATGAAAACAAATCATAAAATACACTAAATTCAAATAAGG...   \n",
       "\n",
       "                                               quality  execution_time  \n",
       "995  CCCFFFFFHGHHHGFFFHHIIJJJIJIJIGIIGGIIJJIIIHIJJJ...         597.959  \n",
       "996  ?@@D=BDEDHFHHGGIJJJJJJJJIGIIIIJJJJIJGIJJJJJJJI...         635.792  \n",
       "997  CCCFFFFFHHHHHIIJIJJJJJJJJJJJJJJJJJJHIHIJJJJJJJ...         391.500  \n",
       "998  @@CDDDDDHHDHDGHIJGIGIJJGGGGHEFFAEHGHGHGGGIGGB;...         528.458  \n",
       "999  CCCFFFFFHHGHHJJJJJJJJJJJJJJJJJJJJJJJJJJIIIJJJJ...         823.958  "
      ]
     },
     "execution_count": 61,
     "metadata": {},
     "output_type": "execute_result"
    }
   ],
   "source": [
    "data.tail()"
   ]
  },
  {
   "cell_type": "code",
   "execution_count": 62,
   "metadata": {},
   "outputs": [
    {
     "data": {
      "text/html": [
       "<div>\n",
       "<style scoped>\n",
       "    .dataframe tbody tr th:only-of-type {\n",
       "        vertical-align: middle;\n",
       "    }\n",
       "\n",
       "    .dataframe tbody tr th {\n",
       "        vertical-align: top;\n",
       "    }\n",
       "\n",
       "    .dataframe thead th {\n",
       "        text-align: right;\n",
       "    }\n",
       "</style>\n",
       "<table border=\"1\" class=\"dataframe\">\n",
       "  <thead>\n",
       "    <tr style=\"text-align: right;\">\n",
       "      <th></th>\n",
       "      <th>execution_time</th>\n",
       "    </tr>\n",
       "  </thead>\n",
       "  <tbody>\n",
       "    <tr>\n",
       "      <th>count</th>\n",
       "      <td>1000.000000</td>\n",
       "    </tr>\n",
       "    <tr>\n",
       "      <th>mean</th>\n",
       "      <td>1961.282557</td>\n",
       "    </tr>\n",
       "    <tr>\n",
       "      <th>std</th>\n",
       "      <td>4130.729832</td>\n",
       "    </tr>\n",
       "    <tr>\n",
       "      <th>min</th>\n",
       "      <td>201.875000</td>\n",
       "    </tr>\n",
       "    <tr>\n",
       "      <th>25%</th>\n",
       "      <td>555.739500</td>\n",
       "    </tr>\n",
       "    <tr>\n",
       "      <th>50%</th>\n",
       "      <td>667.292000</td>\n",
       "    </tr>\n",
       "    <tr>\n",
       "      <th>75%</th>\n",
       "      <td>1311.552000</td>\n",
       "    </tr>\n",
       "    <tr>\n",
       "      <th>max</th>\n",
       "      <td>56708.750000</td>\n",
       "    </tr>\n",
       "  </tbody>\n",
       "</table>\n",
       "</div>"
      ],
      "text/plain": [
       "       execution_time\n",
       "count     1000.000000\n",
       "mean      1961.282557\n",
       "std       4130.729832\n",
       "min        201.875000\n",
       "25%        555.739500\n",
       "50%        667.292000\n",
       "75%       1311.552000\n",
       "max      56708.750000"
      ]
     },
     "execution_count": 62,
     "metadata": {},
     "output_type": "execute_result"
    }
   ],
   "source": [
    "#data['execution_time'].describe\n",
    "data.describe()"
   ]
  },
  {
   "cell_type": "code",
   "execution_count": null,
   "metadata": {
    "tags": []
   },
   "outputs": [],
   "source": []
  },
  {
   "cell_type": "code",
   "execution_count": 63,
   "metadata": {},
   "outputs": [],
   "source": [
    "#data['execution_time'] = data['execution_time'].astype('datetime64[ms]')\n",
    "#data['read_sequence'] = data['read_sequence'].astype('category')\n",
    "##data.hist(column='execution_time')"
   ]
  },
  {
   "cell_type": "code",
   "execution_count": 64,
   "metadata": {
    "tags": []
   },
   "outputs": [],
   "source": [
    "##exect = data.execution_time.hist(figsize=(20,10), bins=100).set_title('time')"
   ]
  },
  {
   "cell_type": "code",
   "execution_count": 65,
   "metadata": {},
   "outputs": [],
   "source": [
    "# data['execution_time'] = data['execution_time'].astype('datetime64[ms]')\n",
    "# plt.hist(data[\"execution_time\"])\n",
    "\n",
    "#fig = plt.subplots(figsize=(16, 4), ncols=1, dpi=100)\n",
    "#sns.histplot(np.log10(data.execution_time))\n",
    "\n",
    "##fig,(ax1,ax2) = plt.subplots(figsize=(16, 4), ncols=2, dpi=100)\n",
    "##sns.histplot(data.execution_time, ax=ax1)\n",
    "##sns.histplot(np.log10(data.execution_time),ax=ax2)"
   ]
  },
  {
   "cell_type": "code",
   "execution_count": 66,
   "metadata": {},
   "outputs": [],
   "source": [
    "#data[\"read_encoded\"] = data.groupby(\"read_sequence\")[\"execution_time\"].transform(\"mean\") # look more into this: appears to be an issue of uniqueness -- appears would not work because of this -- throw!\n",
    "#data.head()"
   ]
  },
  {
   "cell_type": "code",
   "execution_count": 67,
   "metadata": {},
   "outputs": [],
   "source": [
    "#data = data.map({'A': 0, 'C': 1,'G':2,'T':3})"
   ]
  },
  {
   "cell_type": "code",
   "execution_count": 68,
   "metadata": {},
   "outputs": [],
   "source": [
    "#from catboost import CatBoostClassifier\n",
    "#clf = CatBoostClassifier(\n",
    " #   iterations=5, \n",
    "  #  learning_rate=0.1, \n",
    "  #  #loss_function='CrossEntropy'\n",
    "#)\n",
    "\n",
    "#X_train = data[['read_sequence']]\n",
    "#y_train = data[['execution_time']]\n",
    "#clf.fit(X_train, y_train, \n",
    " #       cat_features=['read_sequence'], ## This \n",
    "  #      #eval_set=(X_val, y_val), \n",
    "   #     verbose=False\n",
    "#)"
   ]
  },
  {
   "cell_type": "code",
   "execution_count": 69,
   "metadata": {},
   "outputs": [],
   "source": [
    "#import category_encoders as ce\n",
    "#cat_boost_encoder = ce.cat_boost.CatBoostEncoder()\n",
    "#cat_boost_encoder"
   ]
  },
  {
   "cell_type": "code",
   "execution_count": 70,
   "metadata": {},
   "outputs": [],
   "source": [
    "#target = data[['execution_time']]\n",
    "#train = data.drop('execution_time', axis = 1)"
   ]
  },
  {
   "cell_type": "code",
   "execution_count": 71,
   "metadata": {},
   "outputs": [],
   "source": [
    "#cat_boost_encoder.fit(train,target)"
   ]
  },
  {
   "cell_type": "code",
   "execution_count": 72,
   "metadata": {},
   "outputs": [],
   "source": [
    "#train_cbe = cat_boost_encoder.fit_transform(train,target)\n",
    "#train_cbe"
   ]
  },
  {
   "cell_type": "code",
   "execution_count": 73,
   "metadata": {},
   "outputs": [],
   "source": [
    "###################### TRY \n",
    "######################np.ravel()"
   ]
  },
  {
   "cell_type": "code",
   "execution_count": 75,
   "metadata": {},
   "outputs": [],
   "source": [
    "from sklearn.preprocessing import LabelEncoder\n",
    "#import re\n",
    "#def string_to_array(seq_string):\n",
    "#   #seq_string = seq_string.lower()\n",
    "#   #seq_string = re.sub('[^acgt]', 'n', seq_string)\n",
    "#   seq_string = np.array(list(seq_string))\n",
    "#   return seq_string\n",
    "# create a label encoder with 'acgtn' alphabet\n",
    "le =LabelEncoder()\n",
    "\n",
    "#le.fit(np.array(['A','C','G','T']))\n",
    "seq_trans = le.fit_transform(data[\"read_sequence\"])\n",
    "seq_ide_trans = le.fit_transform(data[\"sequence_identifier\"])\n",
    "quali_trans = le.fit_transform(data[\"quality\"])\n"
   ]
  },
  {
   "cell_type": "code",
   "execution_count": 76,
   "metadata": {},
   "outputs": [
    {
     "data": {
      "text/html": [
       "<div>\n",
       "<style scoped>\n",
       "    .dataframe tbody tr th:only-of-type {\n",
       "        vertical-align: middle;\n",
       "    }\n",
       "\n",
       "    .dataframe tbody tr th {\n",
       "        vertical-align: top;\n",
       "    }\n",
       "\n",
       "    .dataframe thead th {\n",
       "        text-align: right;\n",
       "    }\n",
       "</style>\n",
       "<table border=\"1\" class=\"dataframe\">\n",
       "  <thead>\n",
       "    <tr style=\"text-align: right;\">\n",
       "      <th></th>\n",
       "      <th>sequence_identifier</th>\n",
       "      <th>read_sequence</th>\n",
       "      <th>quality</th>\n",
       "      <th>execution_time</th>\n",
       "      <th>seq_encoded</th>\n",
       "      <th>seq_id_encoded</th>\n",
       "      <th>qual_encoded</th>\n",
       "    </tr>\n",
       "  </thead>\n",
       "  <tbody>\n",
       "    <tr>\n",
       "      <th>0</th>\n",
       "      <td>@HWI-D00360:5:H814YADXX:1:1101:1205:2142 1:N:0...</td>\n",
       "      <td>CTGGTCCTAACATCTGTTGACCATAGCCATATTTTTCAGAAAAGTC...</td>\n",
       "      <td>CCCFFFFFHHHHHJJJJJJJJJJJJJJJJJJJJJJJJJIJJJJJIJ...</td>\n",
       "      <td>2295.125</td>\n",
       "      <td>498</td>\n",
       "      <td>103</td>\n",
       "      <td>923</td>\n",
       "    </tr>\n",
       "    <tr>\n",
       "      <th>1</th>\n",
       "      <td>@HWI-D00360:5:H814YADXX:1:1101:1244:2206 1:N:0...</td>\n",
       "      <td>TGGCTATGGGCTGCAATAATTCGTCTTTCTGAAAGGGCATTCAGCC...</td>\n",
       "      <td>@&lt;;DFFFFFDDHDGGGGGGIGFGIGEIIGICHGIEDEGGHGGHHGF...</td>\n",
       "      <td>674.000</td>\n",
       "      <td>885</td>\n",
       "      <td>120</td>\n",
       "      <td>43</td>\n",
       "    </tr>\n",
       "    <tr>\n",
       "      <th>2</th>\n",
       "      <td>@HWI-D00360:5:H814YADXX:1:1101:1295:2128 1:N:0...</td>\n",
       "      <td>ACTTTCTATCTCTATGGATTTAACCATTGTGGATATTTCATGTAAA...</td>\n",
       "      <td>CCCFFFFFHHHHHJJJJJJJJJJJJJJJJHIJJJJJJJJIJJHJJI...</td>\n",
       "      <td>757.209</td>\n",
       "      <td>152</td>\n",
       "      <td>145</td>\n",
       "      <td>861</td>\n",
       "    </tr>\n",
       "    <tr>\n",
       "      <th>3</th>\n",
       "      <td>@HWI-D00360:5:H814YADXX:1:1101:1460:2184 1:N:0...</td>\n",
       "      <td>ATCAAAAACATTCAAATGAAATCATCTTAAGTGCCAGAATTATAAA...</td>\n",
       "      <td>;@@DDEFFHGHHHGIIIFIIIGICGCHHHGI?FHIIHDCA&gt;GHIII...</td>\n",
       "      <td>397.042</td>\n",
       "      <td>267</td>\n",
       "      <td>241</td>\n",
       "      <td>11</td>\n",
       "    </tr>\n",
       "    <tr>\n",
       "      <th>4</th>\n",
       "      <td>@HWI-D00360:5:H814YADXX:1:1101:1597:2113 1:N:0...</td>\n",
       "      <td>CAGGTTCCAATATTACAAATGCAAGGCCAGAAGGAGACTGCAAATG...</td>\n",
       "      <td>CCCFFFFFHHHHHJJJJJJJJJJJJJJJJJJJJJJJJJJJJJJJJJ...</td>\n",
       "      <td>675.000</td>\n",
       "      <td>370</td>\n",
       "      <td>315</td>\n",
       "      <td>994</td>\n",
       "    </tr>\n",
       "  </tbody>\n",
       "</table>\n",
       "</div>"
      ],
      "text/plain": [
       "                                 sequence_identifier  \\\n",
       "0  @HWI-D00360:5:H814YADXX:1:1101:1205:2142 1:N:0...   \n",
       "1  @HWI-D00360:5:H814YADXX:1:1101:1244:2206 1:N:0...   \n",
       "2  @HWI-D00360:5:H814YADXX:1:1101:1295:2128 1:N:0...   \n",
       "3  @HWI-D00360:5:H814YADXX:1:1101:1460:2184 1:N:0...   \n",
       "4  @HWI-D00360:5:H814YADXX:1:1101:1597:2113 1:N:0...   \n",
       "\n",
       "                                       read_sequence  \\\n",
       "0  CTGGTCCTAACATCTGTTGACCATAGCCATATTTTTCAGAAAAGTC...   \n",
       "1  TGGCTATGGGCTGCAATAATTCGTCTTTCTGAAAGGGCATTCAGCC...   \n",
       "2  ACTTTCTATCTCTATGGATTTAACCATTGTGGATATTTCATGTAAA...   \n",
       "3  ATCAAAAACATTCAAATGAAATCATCTTAAGTGCCAGAATTATAAA...   \n",
       "4  CAGGTTCCAATATTACAAATGCAAGGCCAGAAGGAGACTGCAAATG...   \n",
       "\n",
       "                                             quality  execution_time  \\\n",
       "0  CCCFFFFFHHHHHJJJJJJJJJJJJJJJJJJJJJJJJJIJJJJJIJ...        2295.125   \n",
       "1  @<;DFFFFFDDHDGGGGGGIGFGIGEIIGICHGIEDEGGHGGHHGF...         674.000   \n",
       "2  CCCFFFFFHHHHHJJJJJJJJJJJJJJJJHIJJJJJJJJIJJHJJI...         757.209   \n",
       "3  ;@@DDEFFHGHHHGIIIFIIIGICGCHHHGI?FHIIHDCA>GHIII...         397.042   \n",
       "4  CCCFFFFFHHHHHJJJJJJJJJJJJJJJJJJJJJJJJJJJJJJJJJ...         675.000   \n",
       "\n",
       "   seq_encoded  seq_id_encoded  qual_encoded  \n",
       "0          498             103           923  \n",
       "1          885             120            43  \n",
       "2          152             145           861  \n",
       "3          267             241            11  \n",
       "4          370             315           994  "
      ]
     },
     "execution_count": 76,
     "metadata": {},
     "output_type": "execute_result"
    }
   ],
   "source": [
    "data['seq_encoded']=seq_trans\n",
    "data['seq_id_encoded']=seq_ide_trans\n",
    "data['qual_encoded']=quali_trans\n",
    "data.head()"
   ]
  },
  {
   "cell_type": "code",
   "execution_count": 77,
   "metadata": {},
   "outputs": [],
   "source": [
    "#data.nunique()"
   ]
  },
  {
   "cell_type": "code",
   "execution_count": 78,
   "metadata": {
    "tags": []
   },
   "outputs": [],
   "source": [
    "data1 = data.drop(['sequence_identifier','read_sequence','quality'], axis = 1)\n",
    "#data1.head()"
   ]
  },
  {
   "cell_type": "code",
   "execution_count": 79,
   "metadata": {},
   "outputs": [],
   "source": [
    "#data1.describe()"
   ]
  },
  {
   "cell_type": "code",
   "execution_count": 80,
   "metadata": {},
   "outputs": [],
   "source": [
    "Y= data1[['execution_time']]\n",
    "Y=np.ravel(Y)\n",
    "X= data1.drop('execution_time', axis =1)"
   ]
  },
  {
   "cell_type": "code",
   "execution_count": 81,
   "metadata": {},
   "outputs": [
    {
     "name": "stdout",
     "output_type": "stream",
     "text": [
      "X_train (800, 3)\n",
      "X_test (200, 3)\n",
      "y_train (800,)\n",
      "y_test (200,)\n"
     ]
    }
   ],
   "source": [
    "from sklearn.model_selection import train_test_split\n",
    "X_train, X_test, y_train,y_test = train_test_split(X,Y, test_size = 0.2, random_state = 1) \n",
    "print('X_train',X_train.shape)\n",
    "print('X_test',X_test.shape)\n",
    "print('y_train',y_train.shape)\n",
    "print('y_test',y_test.shape)"
   ]
  },
  {
   "cell_type": "code",
   "execution_count": 82,
   "metadata": {},
   "outputs": [],
   "source": [
    "#from sklearn.linear_model import LinearRegression\n",
    "#regr = LinearRegression()\n",
    "  \n",
    "#regr.fit(X_train, y_train)\n",
    "#print(regr.score(X_test, y_test))"
   ]
  },
  {
   "cell_type": "code",
   "execution_count": 83,
   "metadata": {},
   "outputs": [
    {
     "data": {
      "text/plain": [
       "RandomForestRegressor(random_state=0)"
      ]
     },
     "execution_count": 83,
     "metadata": {},
     "output_type": "execute_result"
    }
   ],
   "source": [
    "from sklearn.ensemble import RandomForestRegressor\n",
    "regressor = RandomForestRegressor(random_state = 0)\n",
    "regressor.fit(X,Y)"
   ]
  },
  {
   "cell_type": "code",
   "execution_count": 84,
   "metadata": {},
   "outputs": [
    {
     "data": {
      "text/html": [
       "<div>\n",
       "<style scoped>\n",
       "    .dataframe tbody tr th:only-of-type {\n",
       "        vertical-align: middle;\n",
       "    }\n",
       "\n",
       "    .dataframe tbody tr th {\n",
       "        vertical-align: top;\n",
       "    }\n",
       "\n",
       "    .dataframe thead th {\n",
       "        text-align: right;\n",
       "    }\n",
       "</style>\n",
       "<table border=\"1\" class=\"dataframe\">\n",
       "  <thead>\n",
       "    <tr style=\"text-align: right;\">\n",
       "      <th></th>\n",
       "      <th>Variable</th>\n",
       "      <th>Importance</th>\n",
       "    </tr>\n",
       "  </thead>\n",
       "  <tbody>\n",
       "    <tr>\n",
       "      <th>1</th>\n",
       "      <td>seq_id_encoded</td>\n",
       "      <td>0.350365</td>\n",
       "    </tr>\n",
       "    <tr>\n",
       "      <th>0</th>\n",
       "      <td>seq_encoded</td>\n",
       "      <td>0.348646</td>\n",
       "    </tr>\n",
       "    <tr>\n",
       "      <th>2</th>\n",
       "      <td>qual_encoded</td>\n",
       "      <td>0.300989</td>\n",
       "    </tr>\n",
       "  </tbody>\n",
       "</table>\n",
       "</div>"
      ],
      "text/plain": [
       "         Variable  Importance\n",
       "1  seq_id_encoded    0.350365\n",
       "0     seq_encoded    0.348646\n",
       "2    qual_encoded    0.300989"
      ]
     },
     "execution_count": 84,
     "metadata": {},
     "output_type": "execute_result"
    }
   ],
   "source": [
    "pd.DataFrame({'Variable':X.columns,\n",
    "              'Importance':regressor.feature_importances_}).sort_values('Importance', ascending=False)"
   ]
  },
  {
   "cell_type": "code",
   "execution_count": 85,
   "metadata": {},
   "outputs": [],
   "source": [
    "#regressor = RandomForestRegressor(bootstrap=True, ccp_alpha=0.0, criterion='mse',\n",
    "#                      max_depth=None, max_features='auto', max_leaf_nodes=None,\n",
    "#                      max_samples=None, min_impurity_decrease=0.0,\n",
    "#                      min_impurity_split=None, min_samples_leaf=1,\n",
    "#                      min_samples_split=2, min_weight_fraction_leaf=0.0,\n",
    "#                      n_estimators=100, n_jobs=None, oob_score=False,\n",
    "#                      random_state=None, verbose=0, warm_start=False) \n",
    "#regressor.fit(X_train,y_train)"
   ]
  },
  {
   "cell_type": "code",
   "execution_count": 86,
   "metadata": {},
   "outputs": [],
   "source": [
    "#score = regressor.score(X_train,y_train)\n",
    "#score"
   ]
  },
  {
   "cell_type": "code",
   "execution_count": 87,
   "metadata": {},
   "outputs": [
    {
     "data": {
      "text/plain": [
       "1664976.5497936124"
      ]
     },
     "execution_count": 87,
     "metadata": {},
     "output_type": "execute_result"
    }
   ],
   "source": [
    "from sklearn.metrics import mean_squared_error\n",
    "YPredict1 = regressor.predict(X_test)\n",
    "mse = mean_squared_error(y_test, YPredict1)\n",
    "mse"
   ]
  },
  {
   "cell_type": "code",
   "execution_count": 88,
   "metadata": {},
   "outputs": [
    {
     "data": {
      "text/plain": [
       "0.7432193371204888"
      ]
     },
     "execution_count": 88,
     "metadata": {},
     "output_type": "execute_result"
    }
   ],
   "source": [
    "from sklearn.metrics import mean_squared_log_error\n",
    "rmsle = mean_squared_log_error(y_test,YPredict1)**0.5\n",
    "rmsle"
   ]
  },
  {
   "cell_type": "code",
   "execution_count": 90,
   "metadata": {},
   "outputs": [
    {
     "data": {
      "image/png": "[encoded data removed]",
      "text/plain": [
       "<Figure size 2160x360 with 1 Axes>"
      ]
     },
     "metadata": {},
     "output_type": "display_data"
    }
   ],
   "source": [
    "x_ax = range(len(y_test))\n",
    "f = plt.figure()\n",
    "f.set_figwidth(30)\n",
    "f.set_figheight(5)\n",
    "plt.plot(x_ax, y_test, label=\"original\")\n",
    "plt.plot(x_ax, YPredict1, label=\"predicted\")\n",
    "plt.title(\"Truth vs Predicted Execution times\")\n",
    "plt.xlabel('X-axis')\n",
    "plt.ylabel('Y-axis')\n",
    "plt.legend(loc='best',fancybox=True, shadow=True)\n",
    "plt.grid(True)\n",
    "plt.show()"
   ]
  },
  {
   "cell_type": "code",
   "execution_count": 49,
   "metadata": {
    "tags": []
   },
   "outputs": [],
   "source": [
    "import re\n",
    "def string_to_array(seq_string):\n",
    "   #seq_string = seq_string.lower()\n",
    "   seq_string = re.sub('[^ACGT]', 'N', seq_string)\n",
    "   seq_string = np.array(list(seq_string))\n",
    "   return seq_string"
   ]
  },
  {
   "cell_type": "code",
   "execution_count": 50,
   "metadata": {},
   "outputs": [
    {
     "data": {
      "text/plain": [
       "LabelEncoder()"
      ]
     },
     "execution_count": 50,
     "metadata": {},
     "output_type": "execute_result"
    }
   ],
   "source": [
    "from sklearn.preprocessing import LabelEncoder\n",
    "label_encoder = LabelEncoder()\n",
    "label_encoder.fit(np.array(['A','C','G','T','N']))"
   ]
  },
  {
   "cell_type": "code",
   "execution_count": 51,
   "metadata": {},
   "outputs": [],
   "source": [
    "def ordinal_encoder(my_array):\n",
    "   integer_encoded = label_encoder.transform(my_array)\n",
    "   float_encoded = integer_encoded.astype(float)\n",
    "   float_encoded[float_encoded == 0] = 0.25 # A\n",
    "   float_encoded[float_encoded == 1] = 0.50 # C\n",
    "   float_encoded[float_encoded == 2] = 0.75 # G\n",
    "   float_encoded[float_encoded == 3] = 1.00 # T\n",
    "   float_encoded[float_encoded == 4] = 0.00 # anything else, lets say n\n",
    "   return float_encoded"
   ]
  },
  {
   "cell_type": "code",
   "execution_count": 52,
   "metadata": {},
   "outputs": [],
   "source": [
    "#test = 'CTGGTCCTAACATCTGTTGACCATAGCCATATTTTTCAGAAAAGTCACATGCTCAAGATACAAAACTAATTAACATTGAAAACTATATCAAAAGACTTCTGGTTCTGGCATAATGTGAGATAAGATAACTCGAAATTTCTCTTACTGC'\n",
    "##x=len(data.read_sequence)\n",
    "##y=[[] for _ in range (x)]\n",
    "#print(x)\n",
    "##for i in range (x):\n",
    "    #test= data.read_sequence[i]\n",
    "##    test = ordinal_encoder(string_to_array(data.read_sequence[i]))\n",
    "    #test = ordinal_encoder(string_to_array(test))\n",
    "##    y[i].append(test)"
   ]
  },
  {
   "cell_type": "code",
   "execution_count": 53,
   "metadata": {},
   "outputs": [],
   "source": [
    "#print(y) "
   ]
  },
  {
   "cell_type": "code",
   "execution_count": 54,
   "metadata": {},
   "outputs": [],
   "source": [
    "#data['read_sequence'].unique()"
   ]
  },
  {
   "cell_type": "code",
   "execution_count": 55,
   "metadata": {},
   "outputs": [],
   "source": [
    "#data['seq_encoded']=y\n",
    "#data.head()"
   ]
  },
  {
   "cell_type": "code",
   "execution_count": 56,
   "metadata": {},
   "outputs": [],
   "source": [
    "#x = data.seq_encoded\n",
    "#x= np.ravel(x)\n",
    "#y = data.execution_time"
   ]
  },
  {
   "cell_type": "code",
   "execution_count": 57,
   "metadata": {},
   "outputs": [],
   "source": [
    "#from sklearn.linear_model import LinearRegression\n",
    "#model = LinearRegression()"
   ]
  },
  {
   "cell_type": "code",
   "execution_count": 58,
   "metadata": {},
   "outputs": [],
   "source": [
    "#model.fit(x,y)"
   ]
  },
  {
   "cell_type": "code",
   "execution_count": 59,
   "metadata": {},
   "outputs": [],
   "source": [
    "#import numpy as np\n",
    "from sklearn.preprocessing import OneHotEncoder\n",
    "#ohe = OneHotEncoder()\n"
   ]
  },
  {
   "cell_type": "code",
   "execution_count": 60,
   "metadata": {},
   "outputs": [],
   "source": [
    "#ohe.fit_transform(data[[\"read_sequence\"]]).toarray()"
   ]
  },
  {
   "cell_type": "code",
   "execution_count": 61,
   "metadata": {},
   "outputs": [],
   "source": [
    "#feature=ohe.fit_transform(data[[\"read_sequence\"]]).toarray()\n",
    "#print(feature[0])"
   ]
  },
  {
   "cell_type": "code",
   "execution_count": 62,
   "metadata": {},
   "outputs": [],
   "source": [
    "#ohe.categories_"
   ]
  },
  {
   "cell_type": "code",
   "execution_count": 63,
   "metadata": {},
   "outputs": [],
   "source": [
    "#feature_labels = ohe.categories_\n",
    "#feature_labels = np.array(feature_labels).ravel()"
   ]
  },
  {
   "cell_type": "code",
   "execution_count": 64,
   "metadata": {},
   "outputs": [],
   "source": [
    "#pd.DataFrame(feature,columns = feature_labels)"
   ]
  },
  {
   "cell_type": "code",
   "execution_count": 65,
   "metadata": {},
   "outputs": [],
   "source": [
    "def one_hot_encoder(seq_string):\n",
    "   int_encoded = label_encoder.transform(seq_string)\n",
    "   onehot_encoder = OneHotEncoder(sparse=False, dtype=int)\n",
    "   int_encoded = int_encoded.reshape(len(int_encoded), 1)\n",
    "   onehot_encoded = onehot_encoder.fit_transform(int_encoded)\n",
    "   onehot_encoded = np.delete(onehot_encoded, -1, 1)\n",
    "   return onehot_encoded"
   ]
  },
  {
   "cell_type": "code",
   "execution_count": 66,
   "metadata": {},
   "outputs": [],
   "source": [
    "#test = 'CTGGTCCTAACATCTGTTGACCATAGCCATATTTTTCAGAAAAGTCACATGCTCAAGATACAAAACTAATTAACATTGAAAACTATATCAAAAGACTTCTGGTTCTGGCATAATGTGAGATAAGATAACTCGAAATTTCTCTTACTGC'\n",
    "#one_hot_encoder(string_to_array(test))\n",
    "x=len(data.read_sequence)\n",
    "y=[[] for _ in range (x)]\n",
    "#print(x)\n",
    "for i in range (x):\n",
    "    #test= data.read_sequence[i]\n",
    "    test = one_hot_encoder(string_to_array(data.read_sequence[i]))\n",
    "    y[i].append(test)"
   ]
  },
  {
   "cell_type": "code",
   "execution_count": 67,
   "metadata": {},
   "outputs": [],
   "source": [
    "#print(y)"
   ]
  },
  {
   "cell_type": "code",
   "execution_count": 68,
   "metadata": {},
   "outputs": [],
   "source": [
    "from sklearn.linear_model import LinearRegression\n",
    "model = LinearRegression()"
   ]
  },
  {
   "cell_type": "code",
   "execution_count": 79,
   "metadata": {},
   "outputs": [
    {
     "ename": "ValueError",
     "evalue": "Data must be 1-dimensional",
     "output_type": "error",
     "traceback": [
      "\u001b[1;31m---------------------------------------------------------------------------\u001b[0m",
      "\u001b[1;31mValueError\u001b[0m                                Traceback (most recent call last)",
      "\u001b[1;32m<ipython-input-79-4dab977c61fd>\u001b[0m in \u001b[0;36m<module>\u001b[1;34m\u001b[0m\n\u001b[0;32m      1\u001b[0m \u001b[0mx\u001b[0m\u001b[1;33m=\u001b[0m \u001b[0my\u001b[0m\u001b[1;33m\u001b[0m\u001b[1;33m\u001b[0m\u001b[0m\n\u001b[0;32m      2\u001b[0m \u001b[0my\u001b[0m \u001b[1;33m=\u001b[0m \u001b[0mdata\u001b[0m\u001b[1;33m.\u001b[0m\u001b[0mexecution_time\u001b[0m\u001b[1;33m\u001b[0m\u001b[1;33m\u001b[0m\u001b[0m\n\u001b[1;32m----> 3\u001b[1;33m \u001b[0my\u001b[0m \u001b[1;33m=\u001b[0m \u001b[0mnp\u001b[0m\u001b[1;33m.\u001b[0m\u001b[0mreshape\u001b[0m\u001b[1;33m(\u001b[0m\u001b[0my\u001b[0m\u001b[1;33m,\u001b[0m\u001b[1;33m(\u001b[0m\u001b[1;36m500\u001b[0m\u001b[1;33m,\u001b[0m\u001b[1;33m-\u001b[0m\u001b[1;36m1\u001b[0m\u001b[1;33m)\u001b[0m\u001b[1;33m)\u001b[0m\u001b[1;33m\u001b[0m\u001b[1;33m\u001b[0m\u001b[0m\n\u001b[0m",
      "\u001b[1;32m<__array_function__ internals>\u001b[0m in \u001b[0;36mreshape\u001b[1;34m(*args, **kwargs)\u001b[0m\n",
      "\u001b[1;32m~\\anaconda3\\lib\\site-packages\\numpy\\core\\fromnumeric.py\u001b[0m in \u001b[0;36mreshape\u001b[1;34m(a, newshape, order)\u001b[0m\n\u001b[0;32m    297\u001b[0m            [5, 6]])\n\u001b[0;32m    298\u001b[0m     \"\"\"\n\u001b[1;32m--> 299\u001b[1;33m     \u001b[1;32mreturn\u001b[0m \u001b[0m_wrapfunc\u001b[0m\u001b[1;33m(\u001b[0m\u001b[0ma\u001b[0m\u001b[1;33m,\u001b[0m \u001b[1;34m'reshape'\u001b[0m\u001b[1;33m,\u001b[0m \u001b[0mnewshape\u001b[0m\u001b[1;33m,\u001b[0m \u001b[0morder\u001b[0m\u001b[1;33m=\u001b[0m\u001b[0morder\u001b[0m\u001b[1;33m)\u001b[0m\u001b[1;33m\u001b[0m\u001b[1;33m\u001b[0m\u001b[0m\n\u001b[0m\u001b[0;32m    300\u001b[0m \u001b[1;33m\u001b[0m\u001b[0m\n\u001b[0;32m    301\u001b[0m \u001b[1;33m\u001b[0m\u001b[0m\n",
      "\u001b[1;32m~\\anaconda3\\lib\\site-packages\\numpy\\core\\fromnumeric.py\u001b[0m in \u001b[0;36m_wrapfunc\u001b[1;34m(obj, method, *args, **kwds)\u001b[0m\n\u001b[0;32m     53\u001b[0m     \u001b[0mbound\u001b[0m \u001b[1;33m=\u001b[0m \u001b[0mgetattr\u001b[0m\u001b[1;33m(\u001b[0m\u001b[0mobj\u001b[0m\u001b[1;33m,\u001b[0m \u001b[0mmethod\u001b[0m\u001b[1;33m,\u001b[0m \u001b[1;32mNone\u001b[0m\u001b[1;33m)\u001b[0m\u001b[1;33m\u001b[0m\u001b[1;33m\u001b[0m\u001b[0m\n\u001b[0;32m     54\u001b[0m     \u001b[1;32mif\u001b[0m \u001b[0mbound\u001b[0m \u001b[1;32mis\u001b[0m \u001b[1;32mNone\u001b[0m\u001b[1;33m:\u001b[0m\u001b[1;33m\u001b[0m\u001b[1;33m\u001b[0m\u001b[0m\n\u001b[1;32m---> 55\u001b[1;33m         \u001b[1;32mreturn\u001b[0m \u001b[0m_wrapit\u001b[0m\u001b[1;33m(\u001b[0m\u001b[0mobj\u001b[0m\u001b[1;33m,\u001b[0m \u001b[0mmethod\u001b[0m\u001b[1;33m,\u001b[0m \u001b[1;33m*\u001b[0m\u001b[0margs\u001b[0m\u001b[1;33m,\u001b[0m \u001b[1;33m**\u001b[0m\u001b[0mkwds\u001b[0m\u001b[1;33m)\u001b[0m\u001b[1;33m\u001b[0m\u001b[1;33m\u001b[0m\u001b[0m\n\u001b[0m\u001b[0;32m     56\u001b[0m \u001b[1;33m\u001b[0m\u001b[0m\n\u001b[0;32m     57\u001b[0m     \u001b[1;32mtry\u001b[0m\u001b[1;33m:\u001b[0m\u001b[1;33m\u001b[0m\u001b[1;33m\u001b[0m\u001b[0m\n",
      "\u001b[1;32m~\\anaconda3\\lib\\site-packages\\numpy\\core\\fromnumeric.py\u001b[0m in \u001b[0;36m_wrapit\u001b[1;34m(obj, method, *args, **kwds)\u001b[0m\n\u001b[0;32m     46\u001b[0m         \u001b[1;32mif\u001b[0m \u001b[1;32mnot\u001b[0m \u001b[0misinstance\u001b[0m\u001b[1;33m(\u001b[0m\u001b[0mresult\u001b[0m\u001b[1;33m,\u001b[0m \u001b[0mmu\u001b[0m\u001b[1;33m.\u001b[0m\u001b[0mndarray\u001b[0m\u001b[1;33m)\u001b[0m\u001b[1;33m:\u001b[0m\u001b[1;33m\u001b[0m\u001b[1;33m\u001b[0m\u001b[0m\n\u001b[0;32m     47\u001b[0m             \u001b[0mresult\u001b[0m \u001b[1;33m=\u001b[0m \u001b[0masarray\u001b[0m\u001b[1;33m(\u001b[0m\u001b[0mresult\u001b[0m\u001b[1;33m)\u001b[0m\u001b[1;33m\u001b[0m\u001b[1;33m\u001b[0m\u001b[0m\n\u001b[1;32m---> 48\u001b[1;33m         \u001b[0mresult\u001b[0m \u001b[1;33m=\u001b[0m \u001b[0mwrap\u001b[0m\u001b[1;33m(\u001b[0m\u001b[0mresult\u001b[0m\u001b[1;33m)\u001b[0m\u001b[1;33m\u001b[0m\u001b[1;33m\u001b[0m\u001b[0m\n\u001b[0m\u001b[0;32m     49\u001b[0m     \u001b[1;32mreturn\u001b[0m \u001b[0mresult\u001b[0m\u001b[1;33m\u001b[0m\u001b[1;33m\u001b[0m\u001b[0m\n\u001b[0;32m     50\u001b[0m \u001b[1;33m\u001b[0m\u001b[0m\n",
      "\u001b[1;32m~\\anaconda3\\lib\\site-packages\\pandas\\core\\generic.py\u001b[0m in \u001b[0;36m__array_wrap__\u001b[1;34m(self, result, context)\u001b[0m\n\u001b[0;32m   1927\u001b[0m             \u001b[1;32mreturn\u001b[0m \u001b[0mresult\u001b[0m\u001b[1;33m\u001b[0m\u001b[1;33m\u001b[0m\u001b[0m\n\u001b[0;32m   1928\u001b[0m         \u001b[0md\u001b[0m \u001b[1;33m=\u001b[0m \u001b[0mself\u001b[0m\u001b[1;33m.\u001b[0m\u001b[0m_construct_axes_dict\u001b[0m\u001b[1;33m(\u001b[0m\u001b[0mself\u001b[0m\u001b[1;33m.\u001b[0m\u001b[0m_AXIS_ORDERS\u001b[0m\u001b[1;33m,\u001b[0m \u001b[0mcopy\u001b[0m\u001b[1;33m=\u001b[0m\u001b[1;32mFalse\u001b[0m\u001b[1;33m)\u001b[0m\u001b[1;33m\u001b[0m\u001b[1;33m\u001b[0m\u001b[0m\n\u001b[1;32m-> 1929\u001b[1;33m         return self._constructor(result, **d).__finalize__(\n\u001b[0m\u001b[0;32m   1930\u001b[0m             \u001b[0mself\u001b[0m\u001b[1;33m,\u001b[0m \u001b[0mmethod\u001b[0m\u001b[1;33m=\u001b[0m\u001b[1;34m\"__array_wrap__\"\u001b[0m\u001b[1;33m\u001b[0m\u001b[1;33m\u001b[0m\u001b[0m\n\u001b[0;32m   1931\u001b[0m         )\n",
      "\u001b[1;32m~\\anaconda3\\lib\\site-packages\\pandas\\core\\series.py\u001b[0m in \u001b[0;36m__init__\u001b[1;34m(self, data, index, dtype, name, copy, fastpath)\u001b[0m\n\u001b[0;32m    362\u001b[0m                     \u001b[0mdata\u001b[0m \u001b[1;33m=\u001b[0m \u001b[0mdata\u001b[0m\u001b[1;33m.\u001b[0m\u001b[0mcopy\u001b[0m\u001b[1;33m(\u001b[0m\u001b[1;33m)\u001b[0m\u001b[1;33m\u001b[0m\u001b[1;33m\u001b[0m\u001b[0m\n\u001b[0;32m    363\u001b[0m             \u001b[1;32melse\u001b[0m\u001b[1;33m:\u001b[0m\u001b[1;33m\u001b[0m\u001b[1;33m\u001b[0m\u001b[0m\n\u001b[1;32m--> 364\u001b[1;33m                 \u001b[0mdata\u001b[0m \u001b[1;33m=\u001b[0m \u001b[0msanitize_array\u001b[0m\u001b[1;33m(\u001b[0m\u001b[0mdata\u001b[0m\u001b[1;33m,\u001b[0m \u001b[0mindex\u001b[0m\u001b[1;33m,\u001b[0m \u001b[0mdtype\u001b[0m\u001b[1;33m,\u001b[0m \u001b[0mcopy\u001b[0m\u001b[1;33m,\u001b[0m \u001b[0mraise_cast_failure\u001b[0m\u001b[1;33m=\u001b[0m\u001b[1;32mTrue\u001b[0m\u001b[1;33m)\u001b[0m\u001b[1;33m\u001b[0m\u001b[1;33m\u001b[0m\u001b[0m\n\u001b[0m\u001b[0;32m    365\u001b[0m \u001b[1;33m\u001b[0m\u001b[0m\n\u001b[0;32m    366\u001b[0m                 \u001b[0mdata\u001b[0m \u001b[1;33m=\u001b[0m \u001b[0mSingleBlockManager\u001b[0m\u001b[1;33m.\u001b[0m\u001b[0mfrom_array\u001b[0m\u001b[1;33m(\u001b[0m\u001b[0mdata\u001b[0m\u001b[1;33m,\u001b[0m \u001b[0mindex\u001b[0m\u001b[1;33m)\u001b[0m\u001b[1;33m\u001b[0m\u001b[1;33m\u001b[0m\u001b[0m\n",
      "\u001b[1;32m~\\anaconda3\\lib\\site-packages\\pandas\\core\\construction.py\u001b[0m in \u001b[0;36msanitize_array\u001b[1;34m(data, index, dtype, copy, raise_cast_failure)\u001b[0m\n\u001b[0;32m    527\u001b[0m     \u001b[1;32melif\u001b[0m \u001b[0msubarr\u001b[0m\u001b[1;33m.\u001b[0m\u001b[0mndim\u001b[0m \u001b[1;33m>\u001b[0m \u001b[1;36m1\u001b[0m\u001b[1;33m:\u001b[0m\u001b[1;33m\u001b[0m\u001b[1;33m\u001b[0m\u001b[0m\n\u001b[0;32m    528\u001b[0m         \u001b[1;32mif\u001b[0m \u001b[0misinstance\u001b[0m\u001b[1;33m(\u001b[0m\u001b[0mdata\u001b[0m\u001b[1;33m,\u001b[0m \u001b[0mnp\u001b[0m\u001b[1;33m.\u001b[0m\u001b[0mndarray\u001b[0m\u001b[1;33m)\u001b[0m\u001b[1;33m:\u001b[0m\u001b[1;33m\u001b[0m\u001b[1;33m\u001b[0m\u001b[0m\n\u001b[1;32m--> 529\u001b[1;33m             \u001b[1;32mraise\u001b[0m \u001b[0mValueError\u001b[0m\u001b[1;33m(\u001b[0m\u001b[1;34m\"Data must be 1-dimensional\"\u001b[0m\u001b[1;33m)\u001b[0m\u001b[1;33m\u001b[0m\u001b[1;33m\u001b[0m\u001b[0m\n\u001b[0m\u001b[0;32m    530\u001b[0m         \u001b[1;32melse\u001b[0m\u001b[1;33m:\u001b[0m\u001b[1;33m\u001b[0m\u001b[1;33m\u001b[0m\u001b[0m\n\u001b[0;32m    531\u001b[0m             \u001b[0msubarr\u001b[0m \u001b[1;33m=\u001b[0m \u001b[0mcom\u001b[0m\u001b[1;33m.\u001b[0m\u001b[0masarray_tuplesafe\u001b[0m\u001b[1;33m(\u001b[0m\u001b[0mdata\u001b[0m\u001b[1;33m,\u001b[0m \u001b[0mdtype\u001b[0m\u001b[1;33m=\u001b[0m\u001b[0mdtype\u001b[0m\u001b[1;33m)\u001b[0m\u001b[1;33m\u001b[0m\u001b[1;33m\u001b[0m\u001b[0m\n",
      "\u001b[1;31mValueError\u001b[0m: Data must be 1-dimensional"
     ]
    }
   ],
   "source": [
    "x= y\n",
    "y = data.execution_time\n",
    "y = np.reshape(y,(500,-1))"
   ]
  },
  {
   "cell_type": "code",
   "execution_count": 76,
   "metadata": {},
   "outputs": [
    {
     "ename": "ValueError",
     "evalue": "Expected 2D array, got 1D array instead:\narray=[ 2295.125   674.      757.209   397.042   675.      578.083  5441.333\n   357.      454.042  8217.041   797.917  1477.5     698.25   1302.\n  1265.75    583.25    597.584   586.      638.208   413.083   509.125\n  2522.875   560.5     692.542 10736.333   233.208   584.125   252.667\n  3282.458   669.042   603.25    360.      584.583  5264.917   566.875\n   552.625  3011.791   628.      531.083   853.291   678.292  4915.542\n  8496.542   922.917   610.542  1544.     4866.375   720.083   658.833\n   675.25    397.792   585.291   268.709   718.125 39157.25    640.334\n  1803.084   663.833  5904.583   783.791   547.875   605.167   754.417\n   748.709   277.625   624.     1245.      231.625  1415.5     539.584\n  5779.     7051.667   657.833   259.958   509.458   599.      911.208\n 12542.625   582.917   735.167  1127.834  1795.084   589.541  3590.333\n   642.708   605.625  1345.958   905.5     621.541  6358.416   333.5\n   861.583  8851.541   690.75    776.167   363.375   832.833 23371.75\n   346.875  1141.041 16931.25    601.209   920.209  8204.291   645.375\n   536.416   272.459  2206.417   651.75    588.5     684.125   574.833\n   630.5     789.5     583.459   584.541  2234.792  6415.958   246.75\n   644.959   915.      730.334   859.75    309.375   682.333   558.75\n  4560.625   587.375   792.834  5901.625   758.833  1335.917   609.375\n  5536.583   302.792   257.375   927.416   239.042  1511.458   550.083\n   668.      220.25    238.875  1756.167   638.708   886.459   632.791\n   525.584  3069.375   562.459   785.      688.542   638.5   12115.416\n   579.166   862.5     647.208   599.333   667.209   409.084   226.417\n   777.375   859.625   388.166  1071.083  3792.542   654.125  8890.375\n   582.334  2526.666   679.667   314.292   600.459  3518.167   674.\n  4149.917   667.375   689.458   637.458   531.5    4426.708  7493.042\n   659.833   556.75    624.667  3305.125  1022.625   716.542   596.042\n   579.25    604.917   635.458   728.333   626.25    602.875   457.417\n  3675.      628.125   938.334   623.167   679.708   816.084   596.\n   631.292   516.917   873.375   704.625   606.042   704.75    548.125\n   602.958   331.375   591.209   849.416  4501.709  6341.583   731.625\n   668.416   689.375   676.75    551.792   959.      535.625   541.083\n  3527.792   628.      623.208   201.875   569.459   508.542   887.875\n   520.166  3717.292   762.416   630.667   720.209  3278.834   589.584\n  3533.833   577.459  1039.542   564.166   658.875   540.416   559.041\n 45021.584   243.875  6057.375   640.917   237.667  3037.208   629.917\n  2700.125   966.959   565.708   450.625  2270.166  5686.25    278.208\n  9833.041 10137.666   272.083   394.167   647.833   737.125   533.542\n  5657.375   383.375  3280.666   307.666   382.5     562.416  9953.625\n   294.834   678.75    678.708   242.167   653.625   706.167   807.208\n   590.166  6611.75    662.     7925.375  7446.958  1541.375   270.041\n   899.292   734.      728.     5549.084   740.541   210.709   418.833\n  8841.209  2677.042   604.417  6358.459  4675.916   642.5     565.625\n   741.5     616.417   675.625   640.583   562.542   277.833   367.833\n   560.208   238.791   298.291   565.416  2614.083  2932.5     620.584\n   269.667   567.083  1378.042  1575.375  2801.209   668.792   577.416\n   536.084   506.291   548.75    894.458   540.833   996.791  1450.667\n  1225.      270.833   590.083   527.917  2455.291   548.375   601.291\n   740.125   680.375  5923.875  3320.334   770.792  2454.209 12204.75\n   852.125  3185.5     360.125   292.875  6647.125  1545.041   233.125\n   616.083  1121.417   560.416   568.542  1983.083   669.958   629.167\n   602.666   533.166   573.584   659.25   3523.458   557.25    689.833\n   548.084   916.333   212.125   878.167   819.834   554.666  1057.333\n 12963.583   715.792   551.708   553.875   323.625   559.416  1594.209\n   551.125   687.958   644.958   252.     1610.625   550.958  2584.083\n  3950.959   269.291   466.125  6991.625   580.959   265.416   821.709\n  2775.375   231.      618.292   319.166   560.916   629.917   704.625\n  3124.792   614.791   244.25    629.708   226.208   252.375   937.416\n   689.542   388.      778.167   575.708   307.208   255.084   809.292\n  4248.417   641.292   392.     1329.459  2940.083   656.708   279.25\n   645.208   777.834  8138.292   647.917   748.75    519.875   691.958\n   713.583  3007.042   573.333   324.708   495.708   599.167   902.833\n  1244.334   809.      563.708   682.292   693.083   548.083  1305.583\n  1820.167  1229.541   587.75    888.458   310.042   521.083   646.084\n   620.709   544.042   588.333  6913.792   403.25    681.417   577.541\n   267.958   582.167   753.875   666.5     705.916   522.      735.875\n   608.583   796.      825.333   557.      799.625   825.042   354.375\n   247.333  1865.334   556.084   216.875  2724.375  9052.625  9033.042\n   356.334   976.125   588.541   750.125  1500.      288.458   788.\n   561.084  1185.792   621.959  8743.708  1538.625   330.667   654.125\n   708.292   606.125   564.333   631.542   611.583  5604.917   555.708\n  8450.375   670.417   555.75 ].\nReshape your data either using array.reshape(-1, 1) if your data has a single feature or array.reshape(1, -1) if it contains a single sample.",
     "output_type": "error",
     "traceback": [
      "\u001b[1;31m---------------------------------------------------------------------------\u001b[0m",
      "\u001b[1;31mValueError\u001b[0m                                Traceback (most recent call last)",
      "\u001b[1;32m<ipython-input-76-cecb4634e72d>\u001b[0m in \u001b[0;36m<module>\u001b[1;34m\u001b[0m\n\u001b[1;32m----> 1\u001b[1;33m \u001b[0mmodel\u001b[0m\u001b[1;33m.\u001b[0m\u001b[0mfit\u001b[0m\u001b[1;33m(\u001b[0m\u001b[0mx\u001b[0m\u001b[1;33m,\u001b[0m\u001b[0my\u001b[0m\u001b[1;33m)\u001b[0m\u001b[1;33m\u001b[0m\u001b[1;33m\u001b[0m\u001b[0m\n\u001b[0m",
      "\u001b[1;32m~\\anaconda3\\lib\\site-packages\\sklearn\\linear_model\\_base.py\u001b[0m in \u001b[0;36mfit\u001b[1;34m(self, X, y, sample_weight)\u001b[0m\n\u001b[0;32m    516\u001b[0m         \u001b[0maccept_sparse\u001b[0m \u001b[1;33m=\u001b[0m \u001b[1;32mFalse\u001b[0m \u001b[1;32mif\u001b[0m \u001b[0mself\u001b[0m\u001b[1;33m.\u001b[0m\u001b[0mpositive\u001b[0m \u001b[1;32melse\u001b[0m \u001b[1;33m[\u001b[0m\u001b[1;34m'csr'\u001b[0m\u001b[1;33m,\u001b[0m \u001b[1;34m'csc'\u001b[0m\u001b[1;33m,\u001b[0m \u001b[1;34m'coo'\u001b[0m\u001b[1;33m]\u001b[0m\u001b[1;33m\u001b[0m\u001b[1;33m\u001b[0m\u001b[0m\n\u001b[0;32m    517\u001b[0m \u001b[1;33m\u001b[0m\u001b[0m\n\u001b[1;32m--> 518\u001b[1;33m         X, y = self._validate_data(X, y, accept_sparse=accept_sparse,\n\u001b[0m\u001b[0;32m    519\u001b[0m                                    y_numeric=True, multi_output=True)\n\u001b[0;32m    520\u001b[0m \u001b[1;33m\u001b[0m\u001b[0m\n",
      "\u001b[1;32m~\\anaconda3\\lib\\site-packages\\sklearn\\base.py\u001b[0m in \u001b[0;36m_validate_data\u001b[1;34m(self, X, y, reset, validate_separately, **check_params)\u001b[0m\n\u001b[0;32m    431\u001b[0m                 \u001b[0my\u001b[0m \u001b[1;33m=\u001b[0m \u001b[0mcheck_array\u001b[0m\u001b[1;33m(\u001b[0m\u001b[0my\u001b[0m\u001b[1;33m,\u001b[0m \u001b[1;33m**\u001b[0m\u001b[0mcheck_y_params\u001b[0m\u001b[1;33m)\u001b[0m\u001b[1;33m\u001b[0m\u001b[1;33m\u001b[0m\u001b[0m\n\u001b[0;32m    432\u001b[0m             \u001b[1;32melse\u001b[0m\u001b[1;33m:\u001b[0m\u001b[1;33m\u001b[0m\u001b[1;33m\u001b[0m\u001b[0m\n\u001b[1;32m--> 433\u001b[1;33m                 \u001b[0mX\u001b[0m\u001b[1;33m,\u001b[0m \u001b[0my\u001b[0m \u001b[1;33m=\u001b[0m \u001b[0mcheck_X_y\u001b[0m\u001b[1;33m(\u001b[0m\u001b[0mX\u001b[0m\u001b[1;33m,\u001b[0m \u001b[0my\u001b[0m\u001b[1;33m,\u001b[0m \u001b[1;33m**\u001b[0m\u001b[0mcheck_params\u001b[0m\u001b[1;33m)\u001b[0m\u001b[1;33m\u001b[0m\u001b[1;33m\u001b[0m\u001b[0m\n\u001b[0m\u001b[0;32m    434\u001b[0m             \u001b[0mout\u001b[0m \u001b[1;33m=\u001b[0m \u001b[0mX\u001b[0m\u001b[1;33m,\u001b[0m \u001b[0my\u001b[0m\u001b[1;33m\u001b[0m\u001b[1;33m\u001b[0m\u001b[0m\n\u001b[0;32m    435\u001b[0m \u001b[1;33m\u001b[0m\u001b[0m\n",
      "\u001b[1;32m~\\anaconda3\\lib\\site-packages\\sklearn\\utils\\validation.py\u001b[0m in \u001b[0;36minner_f\u001b[1;34m(*args, **kwargs)\u001b[0m\n\u001b[0;32m     61\u001b[0m             \u001b[0mextra_args\u001b[0m \u001b[1;33m=\u001b[0m \u001b[0mlen\u001b[0m\u001b[1;33m(\u001b[0m\u001b[0margs\u001b[0m\u001b[1;33m)\u001b[0m \u001b[1;33m-\u001b[0m \u001b[0mlen\u001b[0m\u001b[1;33m(\u001b[0m\u001b[0mall_args\u001b[0m\u001b[1;33m)\u001b[0m\u001b[1;33m\u001b[0m\u001b[1;33m\u001b[0m\u001b[0m\n\u001b[0;32m     62\u001b[0m             \u001b[1;32mif\u001b[0m \u001b[0mextra_args\u001b[0m \u001b[1;33m<=\u001b[0m \u001b[1;36m0\u001b[0m\u001b[1;33m:\u001b[0m\u001b[1;33m\u001b[0m\u001b[1;33m\u001b[0m\u001b[0m\n\u001b[1;32m---> 63\u001b[1;33m                 \u001b[1;32mreturn\u001b[0m \u001b[0mf\u001b[0m\u001b[1;33m(\u001b[0m\u001b[1;33m*\u001b[0m\u001b[0margs\u001b[0m\u001b[1;33m,\u001b[0m \u001b[1;33m**\u001b[0m\u001b[0mkwargs\u001b[0m\u001b[1;33m)\u001b[0m\u001b[1;33m\u001b[0m\u001b[1;33m\u001b[0m\u001b[0m\n\u001b[0m\u001b[0;32m     64\u001b[0m \u001b[1;33m\u001b[0m\u001b[0m\n\u001b[0;32m     65\u001b[0m             \u001b[1;31m# extra_args > 0\u001b[0m\u001b[1;33m\u001b[0m\u001b[1;33m\u001b[0m\u001b[1;33m\u001b[0m\u001b[0m\n",
      "\u001b[1;32m~\\anaconda3\\lib\\site-packages\\sklearn\\utils\\validation.py\u001b[0m in \u001b[0;36mcheck_X_y\u001b[1;34m(X, y, accept_sparse, accept_large_sparse, dtype, order, copy, force_all_finite, ensure_2d, allow_nd, multi_output, ensure_min_samples, ensure_min_features, y_numeric, estimator)\u001b[0m\n\u001b[0;32m    812\u001b[0m         \u001b[1;32mraise\u001b[0m \u001b[0mValueError\u001b[0m\u001b[1;33m(\u001b[0m\u001b[1;34m\"y cannot be None\"\u001b[0m\u001b[1;33m)\u001b[0m\u001b[1;33m\u001b[0m\u001b[1;33m\u001b[0m\u001b[0m\n\u001b[0;32m    813\u001b[0m \u001b[1;33m\u001b[0m\u001b[0m\n\u001b[1;32m--> 814\u001b[1;33m     X = check_array(X, accept_sparse=accept_sparse,\n\u001b[0m\u001b[0;32m    815\u001b[0m                     \u001b[0maccept_large_sparse\u001b[0m\u001b[1;33m=\u001b[0m\u001b[0maccept_large_sparse\u001b[0m\u001b[1;33m,\u001b[0m\u001b[1;33m\u001b[0m\u001b[1;33m\u001b[0m\u001b[0m\n\u001b[0;32m    816\u001b[0m                     \u001b[0mdtype\u001b[0m\u001b[1;33m=\u001b[0m\u001b[0mdtype\u001b[0m\u001b[1;33m,\u001b[0m \u001b[0morder\u001b[0m\u001b[1;33m=\u001b[0m\u001b[0morder\u001b[0m\u001b[1;33m,\u001b[0m \u001b[0mcopy\u001b[0m\u001b[1;33m=\u001b[0m\u001b[0mcopy\u001b[0m\u001b[1;33m,\u001b[0m\u001b[1;33m\u001b[0m\u001b[1;33m\u001b[0m\u001b[0m\n",
      "\u001b[1;32m~\\anaconda3\\lib\\site-packages\\sklearn\\utils\\validation.py\u001b[0m in \u001b[0;36minner_f\u001b[1;34m(*args, **kwargs)\u001b[0m\n\u001b[0;32m     61\u001b[0m             \u001b[0mextra_args\u001b[0m \u001b[1;33m=\u001b[0m \u001b[0mlen\u001b[0m\u001b[1;33m(\u001b[0m\u001b[0margs\u001b[0m\u001b[1;33m)\u001b[0m \u001b[1;33m-\u001b[0m \u001b[0mlen\u001b[0m\u001b[1;33m(\u001b[0m\u001b[0mall_args\u001b[0m\u001b[1;33m)\u001b[0m\u001b[1;33m\u001b[0m\u001b[1;33m\u001b[0m\u001b[0m\n\u001b[0;32m     62\u001b[0m             \u001b[1;32mif\u001b[0m \u001b[0mextra_args\u001b[0m \u001b[1;33m<=\u001b[0m \u001b[1;36m0\u001b[0m\u001b[1;33m:\u001b[0m\u001b[1;33m\u001b[0m\u001b[1;33m\u001b[0m\u001b[0m\n\u001b[1;32m---> 63\u001b[1;33m                 \u001b[1;32mreturn\u001b[0m \u001b[0mf\u001b[0m\u001b[1;33m(\u001b[0m\u001b[1;33m*\u001b[0m\u001b[0margs\u001b[0m\u001b[1;33m,\u001b[0m \u001b[1;33m**\u001b[0m\u001b[0mkwargs\u001b[0m\u001b[1;33m)\u001b[0m\u001b[1;33m\u001b[0m\u001b[1;33m\u001b[0m\u001b[0m\n\u001b[0m\u001b[0;32m     64\u001b[0m \u001b[1;33m\u001b[0m\u001b[0m\n\u001b[0;32m     65\u001b[0m             \u001b[1;31m# extra_args > 0\u001b[0m\u001b[1;33m\u001b[0m\u001b[1;33m\u001b[0m\u001b[1;33m\u001b[0m\u001b[0m\n",
      "\u001b[1;32m~\\anaconda3\\lib\\site-packages\\sklearn\\utils\\validation.py\u001b[0m in \u001b[0;36mcheck_array\u001b[1;34m(array, accept_sparse, accept_large_sparse, dtype, order, copy, force_all_finite, ensure_2d, allow_nd, ensure_min_samples, ensure_min_features, estimator)\u001b[0m\n\u001b[0;32m    635\u001b[0m             \u001b[1;31m# If input is 1D raise error\u001b[0m\u001b[1;33m\u001b[0m\u001b[1;33m\u001b[0m\u001b[1;33m\u001b[0m\u001b[0m\n\u001b[0;32m    636\u001b[0m             \u001b[1;32mif\u001b[0m \u001b[0marray\u001b[0m\u001b[1;33m.\u001b[0m\u001b[0mndim\u001b[0m \u001b[1;33m==\u001b[0m \u001b[1;36m1\u001b[0m\u001b[1;33m:\u001b[0m\u001b[1;33m\u001b[0m\u001b[1;33m\u001b[0m\u001b[0m\n\u001b[1;32m--> 637\u001b[1;33m                 raise ValueError(\n\u001b[0m\u001b[0;32m    638\u001b[0m                     \u001b[1;34m\"Expected 2D array, got 1D array instead:\\narray={}.\\n\"\u001b[0m\u001b[1;33m\u001b[0m\u001b[1;33m\u001b[0m\u001b[0m\n\u001b[0;32m    639\u001b[0m                     \u001b[1;34m\"Reshape your data either using array.reshape(-1, 1) if \"\u001b[0m\u001b[1;33m\u001b[0m\u001b[1;33m\u001b[0m\u001b[0m\n",
      "\u001b[1;31mValueError\u001b[0m: Expected 2D array, got 1D array instead:\narray=[ 2295.125   674.      757.209   397.042   675.      578.083  5441.333\n   357.      454.042  8217.041   797.917  1477.5     698.25   1302.\n  1265.75    583.25    597.584   586.      638.208   413.083   509.125\n  2522.875   560.5     692.542 10736.333   233.208   584.125   252.667\n  3282.458   669.042   603.25    360.      584.583  5264.917   566.875\n   552.625  3011.791   628.      531.083   853.291   678.292  4915.542\n  8496.542   922.917   610.542  1544.     4866.375   720.083   658.833\n   675.25    397.792   585.291   268.709   718.125 39157.25    640.334\n  1803.084   663.833  5904.583   783.791   547.875   605.167   754.417\n   748.709   277.625   624.     1245.      231.625  1415.5     539.584\n  5779.     7051.667   657.833   259.958   509.458   599.      911.208\n 12542.625   582.917   735.167  1127.834  1795.084   589.541  3590.333\n   642.708   605.625  1345.958   905.5     621.541  6358.416   333.5\n   861.583  8851.541   690.75    776.167   363.375   832.833 23371.75\n   346.875  1141.041 16931.25    601.209   920.209  8204.291   645.375\n   536.416   272.459  2206.417   651.75    588.5     684.125   574.833\n   630.5     789.5     583.459   584.541  2234.792  6415.958   246.75\n   644.959   915.      730.334   859.75    309.375   682.333   558.75\n  4560.625   587.375   792.834  5901.625   758.833  1335.917   609.375\n  5536.583   302.792   257.375   927.416   239.042  1511.458   550.083\n   668.      220.25    238.875  1756.167   638.708   886.459   632.791\n   525.584  3069.375   562.459   785.      688.542   638.5   12115.416\n   579.166   862.5     647.208   599.333   667.209   409.084   226.417\n   777.375   859.625   388.166  1071.083  3792.542   654.125  8890.375\n   582.334  2526.666   679.667   314.292   600.459  3518.167   674.\n  4149.917   667.375   689.458   637.458   531.5    4426.708  7493.042\n   659.833   556.75    624.667  3305.125  1022.625   716.542   596.042\n   579.25    604.917   635.458   728.333   626.25    602.875   457.417\n  3675.      628.125   938.334   623.167   679.708   816.084   596.\n   631.292   516.917   873.375   704.625   606.042   704.75    548.125\n   602.958   331.375   591.209   849.416  4501.709  6341.583   731.625\n   668.416   689.375   676.75    551.792   959.      535.625   541.083\n  3527.792   628.      623.208   201.875   569.459   508.542   887.875\n   520.166  3717.292   762.416   630.667   720.209  3278.834   589.584\n  3533.833   577.459  1039.542   564.166   658.875   540.416   559.041\n 45021.584   243.875  6057.375   640.917   237.667  3037.208   629.917\n  2700.125   966.959   565.708   450.625  2270.166  5686.25    278.208\n  9833.041 10137.666   272.083   394.167   647.833   737.125   533.542\n  5657.375   383.375  3280.666   307.666   382.5     562.416  9953.625\n   294.834   678.75    678.708   242.167   653.625   706.167   807.208\n   590.166  6611.75    662.     7925.375  7446.958  1541.375   270.041\n   899.292   734.      728.     5549.084   740.541   210.709   418.833\n  8841.209  2677.042   604.417  6358.459  4675.916   642.5     565.625\n   741.5     616.417   675.625   640.583   562.542   277.833   367.833\n   560.208   238.791   298.291   565.416  2614.083  2932.5     620.584\n   269.667   567.083  1378.042  1575.375  2801.209   668.792   577.416\n   536.084   506.291   548.75    894.458   540.833   996.791  1450.667\n  1225.      270.833   590.083   527.917  2455.291   548.375   601.291\n   740.125   680.375  5923.875  3320.334   770.792  2454.209 12204.75\n   852.125  3185.5     360.125   292.875  6647.125  1545.041   233.125\n   616.083  1121.417   560.416   568.542  1983.083   669.958   629.167\n   602.666   533.166   573.584   659.25   3523.458   557.25    689.833\n   548.084   916.333   212.125   878.167   819.834   554.666  1057.333\n 12963.583   715.792   551.708   553.875   323.625   559.416  1594.209\n   551.125   687.958   644.958   252.     1610.625   550.958  2584.083\n  3950.959   269.291   466.125  6991.625   580.959   265.416   821.709\n  2775.375   231.      618.292   319.166   560.916   629.917   704.625\n  3124.792   614.791   244.25    629.708   226.208   252.375   937.416\n   689.542   388.      778.167   575.708   307.208   255.084   809.292\n  4248.417   641.292   392.     1329.459  2940.083   656.708   279.25\n   645.208   777.834  8138.292   647.917   748.75    519.875   691.958\n   713.583  3007.042   573.333   324.708   495.708   599.167   902.833\n  1244.334   809.      563.708   682.292   693.083   548.083  1305.583\n  1820.167  1229.541   587.75    888.458   310.042   521.083   646.084\n   620.709   544.042   588.333  6913.792   403.25    681.417   577.541\n   267.958   582.167   753.875   666.5     705.916   522.      735.875\n   608.583   796.      825.333   557.      799.625   825.042   354.375\n   247.333  1865.334   556.084   216.875  2724.375  9052.625  9033.042\n   356.334   976.125   588.541   750.125  1500.      288.458   788.\n   561.084  1185.792   621.959  8743.708  1538.625   330.667   654.125\n   708.292   606.125   564.333   631.542   611.583  5604.917   555.708\n  8450.375   670.417   555.75 ].\nReshape your data either using array.reshape(-1, 1) if your data has a single feature or array.reshape(1, -1) if it contains a single sample."
     ]
    }
   ],
   "source": [
    "model.fit(x,y)"
   ]
  },
  {
   "cell_type": "code",
   "execution_count": null,
   "metadata": {},
   "outputs": [],
   "source": []
  }
 ],
 "metadata": {
  "kernelspec": {
   "display_name": "Python 3",
   "language": "python",
   "name": "python3"
  },
  "language_info": {
   "codemirror_mode": {
    "name": "ipython",
    "version": 3
   },
   "file_extension": ".py",
   "mimetype": "text/x-python",
   "name": "python",
   "nbconvert_exporter": "python",
   "pygments_lexer": "ipython3",
   "version": "3.8.8"
  },
  "vscode": {
   "interpreter": {
    "hash": "853b99181d0ba022bad1ace1542ec9e2b21fc0c2da2392c4130ad8552760e2b5"
   }
  }
 },
 "nbformat": 4,
 "nbformat_minor": 4
}
