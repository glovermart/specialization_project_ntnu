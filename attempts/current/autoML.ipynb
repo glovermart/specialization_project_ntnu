{
 "cells": [
  {
   "cell_type": "code",
   "execution_count": 1,
   "id": "1871a2da-feb5-4716-b01e-74ed9743f8f3",
   "metadata": {},
   "outputs": [
    {
     "name": "stdout",
     "output_type": "stream",
     "text": [
      "Checking whether there is an H2O instance running at http://localhost:54321 . connected.\n"
     ]
    },
    {
     "data": {
      "text/html": [
       "\n",
       "<style>\n",
       "\n",
       "#h2o-table-1.h2o-container {\n",
       "  overflow-x: auto;\n",
       "}\n",
       "#h2o-table-1 .h2o-table {\n",
       "  /* width: 100%; */\n",
       "  margin-top: 1em;\n",
       "  margin-bottom: 1em;\n",
       "}\n",
       "#h2o-table-1 .h2o-table caption {\n",
       "  white-space: nowrap;\n",
       "  caption-side: top;\n",
       "  text-align: left;\n",
       "  /* margin-left: 1em; */\n",
       "  margin: 0;\n",
       "  font-size: larger;\n",
       "}\n",
       "#h2o-table-1 .h2o-table thead {\n",
       "  white-space: nowrap; \n",
       "  position: sticky;\n",
       "  top: 0;\n",
       "  box-shadow: 0 -1px inset;\n",
       "}\n",
       "#h2o-table-1 .h2o-table tbody {\n",
       "  overflow: auto;\n",
       "}\n",
       "#h2o-table-1 .h2o-table th,\n",
       "#h2o-table-1 .h2o-table td {\n",
       "  text-align: right;\n",
       "  /* border: 1px solid; */\n",
       "}\n",
       "#h2o-table-1 .h2o-table tr:nth-child(even) {\n",
       "  /* background: #F5F5F5 */\n",
       "}\n",
       "\n",
       "</style>      \n",
       "<div id=\"h2o-table-1\" class=\"h2o-container\">\n",
       "  <table class=\"h2o-table\">\n",
       "    <caption></caption>\n",
       "    <thead></thead>\n",
       "    <tbody><tr><td>H2O_cluster_uptime:</td>\n",
       "<td>15 mins 32 secs</td></tr>\n",
       "<tr><td>H2O_cluster_timezone:</td>\n",
       "<td>Europe/Paris</td></tr>\n",
       "<tr><td>H2O_data_parsing_timezone:</td>\n",
       "<td>UTC</td></tr>\n",
       "<tr><td>H2O_cluster_version:</td>\n",
       "<td>3.38.0.2</td></tr>\n",
       "<tr><td>H2O_cluster_version_age:</td>\n",
       "<td>18 days </td></tr>\n",
       "<tr><td>H2O_cluster_name:</td>\n",
       "<td>H2O_from_python_andyg_2dqnen</td></tr>\n",
       "<tr><td>H2O_cluster_total_nodes:</td>\n",
       "<td>1</td></tr>\n",
       "<tr><td>H2O_cluster_free_memory:</td>\n",
       "<td>3.923 Gb</td></tr>\n",
       "<tr><td>H2O_cluster_total_cores:</td>\n",
       "<td>8</td></tr>\n",
       "<tr><td>H2O_cluster_allowed_cores:</td>\n",
       "<td>8</td></tr>\n",
       "<tr><td>H2O_cluster_status:</td>\n",
       "<td>locked, healthy</td></tr>\n",
       "<tr><td>H2O_connection_url:</td>\n",
       "<td>http://localhost:54321</td></tr>\n",
       "<tr><td>H2O_connection_proxy:</td>\n",
       "<td>{\"http\": null, \"https\": null}</td></tr>\n",
       "<tr><td>H2O_internal_security:</td>\n",
       "<td>False</td></tr>\n",
       "<tr><td>Python_version:</td>\n",
       "<td>3.8.8 final</td></tr></tbody>\n",
       "  </table>\n",
       "</div>\n"
      ],
      "text/plain": [
       "--------------------------  -----------------------------\n",
       "H2O_cluster_uptime:         15 mins 32 secs\n",
       "H2O_cluster_timezone:       Europe/Paris\n",
       "H2O_data_parsing_timezone:  UTC\n",
       "H2O_cluster_version:        3.38.0.2\n",
       "H2O_cluster_version_age:    18 days\n",
       "H2O_cluster_name:           H2O_from_python_andyg_2dqnen\n",
       "H2O_cluster_total_nodes:    1\n",
       "H2O_cluster_free_memory:    3.923 Gb\n",
       "H2O_cluster_total_cores:    8\n",
       "H2O_cluster_allowed_cores:  8\n",
       "H2O_cluster_status:         locked, healthy\n",
       "H2O_connection_url:         http://localhost:54321\n",
       "H2O_connection_proxy:       {\"http\": null, \"https\": null}\n",
       "H2O_internal_security:      False\n",
       "Python_version:             3.8.8 final\n",
       "--------------------------  -----------------------------"
      ]
     },
     "metadata": {},
     "output_type": "display_data"
    }
   ],
   "source": [
    "import h2o\n",
    "from h2o.automl import H2OAutoML\n",
    "h2o.init()"
   ]
  },
  {
   "cell_type": "code",
   "execution_count": 2,
   "id": "825102d7-b46d-43ba-b0ef-9a587aeb3590",
   "metadata": {},
   "outputs": [],
   "source": [
    "import pandas as pd\n",
    "import seaborn as sns\n",
    "sns.set_style('darkgrid')\n",
    "import numpy as np\n",
    "import sys\n",
    "import matplotlib.pyplot as plt \n",
    "np.set_printoptions(threshold=sys.maxsize)"
   ]
  },
  {
   "cell_type": "code",
   "execution_count": 3,
   "id": "8fa14777-bf10-4b27-af40-cc28c13f339c",
   "metadata": {},
   "outputs": [],
   "source": [
    "data = pd.read_csv('sequence_execution_time.csv')"
   ]
  },
  {
   "cell_type": "code",
   "execution_count": 4,
   "id": "6d24c095-932d-4622-991d-3009de494280",
   "metadata": {},
   "outputs": [],
   "source": [
    "data = data.drop(data.index[1000:])"
   ]
  },
  {
   "cell_type": "code",
   "execution_count": 5,
   "id": "01f5f398-40ca-4147-99f7-2fa00ef917e7",
   "metadata": {},
   "outputs": [
    {
     "data": {
      "text/html": [
       "<div>\n",
       "<style scoped>\n",
       "    .dataframe tbody tr th:only-of-type {\n",
       "        vertical-align: middle;\n",
       "    }\n",
       "\n",
       "    .dataframe tbody tr th {\n",
       "        vertical-align: top;\n",
       "    }\n",
       "\n",
       "    .dataframe thead th {\n",
       "        text-align: right;\n",
       "    }\n",
       "</style>\n",
       "<table border=\"1\" class=\"dataframe\">\n",
       "  <thead>\n",
       "    <tr style=\"text-align: right;\">\n",
       "      <th></th>\n",
       "      <th>read_sequence</th>\n",
       "      <th>execution_time</th>\n",
       "    </tr>\n",
       "  </thead>\n",
       "  <tbody>\n",
       "    <tr>\n",
       "      <th>0</th>\n",
       "      <td>CTGGTCCTAACATCTGTTGACCATAGCCATATTTTTCAGAAAAGTC...</td>\n",
       "      <td>2295.125</td>\n",
       "    </tr>\n",
       "    <tr>\n",
       "      <th>1</th>\n",
       "      <td>TGGCTATGGGCTGCAATAATTCGTCTTTCTGAAAGGGCATTCAGCC...</td>\n",
       "      <td>674.000</td>\n",
       "    </tr>\n",
       "    <tr>\n",
       "      <th>2</th>\n",
       "      <td>ACTTTCTATCTCTATGGATTTAACCATTGTGGATATTTCATGTAAA...</td>\n",
       "      <td>757.209</td>\n",
       "    </tr>\n",
       "    <tr>\n",
       "      <th>3</th>\n",
       "      <td>ATCAAAAACATTCAAATGAAATCATCTTAAGTGCCAGAATTATAAA...</td>\n",
       "      <td>397.042</td>\n",
       "    </tr>\n",
       "    <tr>\n",
       "      <th>4</th>\n",
       "      <td>CAGGTTCCAATATTACAAATGCAAGGCCAGAAGGAGACTGCAAATG...</td>\n",
       "      <td>675.000</td>\n",
       "    </tr>\n",
       "    <tr>\n",
       "      <th>...</th>\n",
       "      <td>...</td>\n",
       "      <td>...</td>\n",
       "    </tr>\n",
       "    <tr>\n",
       "      <th>995</th>\n",
       "      <td>ACAACTAGTTAGAGTCTTACAAAACAATAAAAACTTTGGGGTTAAC...</td>\n",
       "      <td>597.959</td>\n",
       "    </tr>\n",
       "    <tr>\n",
       "      <th>996</th>\n",
       "      <td>GGAGTTTGTGAGGTTGAAATAAACTTTTCTTAACTATCCATCATGA...</td>\n",
       "      <td>635.792</td>\n",
       "    </tr>\n",
       "    <tr>\n",
       "      <th>997</th>\n",
       "      <td>AACTTCTTTTGTTAAATTTATTCCTAAGGATTTTGTGTTTTTCAAT...</td>\n",
       "      <td>391.500</td>\n",
       "    </tr>\n",
       "    <tr>\n",
       "      <th>998</th>\n",
       "      <td>GCTTCCTCCAGGATGCATGAAGAAGCTATCGGAACCTCCTCCGACT...</td>\n",
       "      <td>528.458</td>\n",
       "    </tr>\n",
       "    <tr>\n",
       "      <th>999</th>\n",
       "      <td>AAATAAAATGAAAACAAATCATAAAATACACTAAATTCAAATAAGG...</td>\n",
       "      <td>823.958</td>\n",
       "    </tr>\n",
       "  </tbody>\n",
       "</table>\n",
       "<p>1000 rows × 2 columns</p>\n",
       "</div>"
      ],
      "text/plain": [
       "                                         read_sequence  execution_time\n",
       "0    CTGGTCCTAACATCTGTTGACCATAGCCATATTTTTCAGAAAAGTC...        2295.125\n",
       "1    TGGCTATGGGCTGCAATAATTCGTCTTTCTGAAAGGGCATTCAGCC...         674.000\n",
       "2    ACTTTCTATCTCTATGGATTTAACCATTGTGGATATTTCATGTAAA...         757.209\n",
       "3    ATCAAAAACATTCAAATGAAATCATCTTAAGTGCCAGAATTATAAA...         397.042\n",
       "4    CAGGTTCCAATATTACAAATGCAAGGCCAGAAGGAGACTGCAAATG...         675.000\n",
       "..                                                 ...             ...\n",
       "995  ACAACTAGTTAGAGTCTTACAAAACAATAAAAACTTTGGGGTTAAC...         597.959\n",
       "996  GGAGTTTGTGAGGTTGAAATAAACTTTTCTTAACTATCCATCATGA...         635.792\n",
       "997  AACTTCTTTTGTTAAATTTATTCCTAAGGATTTTGTGTTTTTCAAT...         391.500\n",
       "998  GCTTCCTCCAGGATGCATGAAGAAGCTATCGGAACCTCCTCCGACT...         528.458\n",
       "999  AAATAAAATGAAAACAAATCATAAAATACACTAAATTCAAATAAGG...         823.958\n",
       "\n",
       "[1000 rows x 2 columns]"
      ]
     },
     "execution_count": 5,
     "metadata": {},
     "output_type": "execute_result"
    }
   ],
   "source": [
    "reads = data.drop(['sequence_identifier','quality'], axis =1)\n",
    "reads"
   ]
  },
  {
   "cell_type": "code",
   "execution_count": 6,
   "id": "86a2e20b-0536-499f-9faf-778f24213209",
   "metadata": {},
   "outputs": [
    {
     "data": {
      "text/html": [
       "<div>\n",
       "<style scoped>\n",
       "    .dataframe tbody tr th:only-of-type {\n",
       "        vertical-align: middle;\n",
       "    }\n",
       "\n",
       "    .dataframe tbody tr th {\n",
       "        vertical-align: top;\n",
       "    }\n",
       "\n",
       "    .dataframe thead th {\n",
       "        text-align: right;\n",
       "    }\n",
       "</style>\n",
       "<table border=\"1\" class=\"dataframe\">\n",
       "  <thead>\n",
       "    <tr style=\"text-align: right;\">\n",
       "      <th></th>\n",
       "      <th>read_sequence</th>\n",
       "      <th>execution_time</th>\n",
       "    </tr>\n",
       "  </thead>\n",
       "  <tbody>\n",
       "    <tr>\n",
       "      <th>0</th>\n",
       "      <td>CTGGTCCTAACATCTGTTGACCATAGCCATATTTTTCAGAAAAGTC...</td>\n",
       "      <td>3.360806</td>\n",
       "    </tr>\n",
       "    <tr>\n",
       "      <th>1</th>\n",
       "      <td>TGGCTATGGGCTGCAATAATTCGTCTTTCTGAAAGGGCATTCAGCC...</td>\n",
       "      <td>2.828660</td>\n",
       "    </tr>\n",
       "    <tr>\n",
       "      <th>2</th>\n",
       "      <td>ACTTTCTATCTCTATGGATTTAACCATTGTGGATATTTCATGTAAA...</td>\n",
       "      <td>2.879216</td>\n",
       "    </tr>\n",
       "    <tr>\n",
       "      <th>3</th>\n",
       "      <td>ATCAAAAACATTCAAATGAAATCATCTTAAGTGCCAGAATTATAAA...</td>\n",
       "      <td>2.598836</td>\n",
       "    </tr>\n",
       "    <tr>\n",
       "      <th>4</th>\n",
       "      <td>CAGGTTCCAATATTACAAATGCAAGGCCAGAAGGAGACTGCAAATG...</td>\n",
       "      <td>2.829304</td>\n",
       "    </tr>\n",
       "    <tr>\n",
       "      <th>...</th>\n",
       "      <td>...</td>\n",
       "      <td>...</td>\n",
       "    </tr>\n",
       "    <tr>\n",
       "      <th>995</th>\n",
       "      <td>ACAACTAGTTAGAGTCTTACAAAACAATAAAAACTTTGGGGTTAAC...</td>\n",
       "      <td>2.776671</td>\n",
       "    </tr>\n",
       "    <tr>\n",
       "      <th>996</th>\n",
       "      <td>GGAGTTTGTGAGGTTGAAATAAACTTTTCTTAACTATCCATCATGA...</td>\n",
       "      <td>2.803315</td>\n",
       "    </tr>\n",
       "    <tr>\n",
       "      <th>997</th>\n",
       "      <td>AACTTCTTTTGTTAAATTTATTCCTAAGGATTTTGTGTTTTTCAAT...</td>\n",
       "      <td>2.592732</td>\n",
       "    </tr>\n",
       "    <tr>\n",
       "      <th>998</th>\n",
       "      <td>GCTTCCTCCAGGATGCATGAAGAAGCTATCGGAACCTCCTCCGACT...</td>\n",
       "      <td>2.723010</td>\n",
       "    </tr>\n",
       "    <tr>\n",
       "      <th>999</th>\n",
       "      <td>AAATAAAATGAAAACAAATCATAAAATACACTAAATTCAAATAAGG...</td>\n",
       "      <td>2.915905</td>\n",
       "    </tr>\n",
       "  </tbody>\n",
       "</table>\n",
       "<p>1000 rows × 2 columns</p>\n",
       "</div>"
      ],
      "text/plain": [
       "                                         read_sequence  execution_time\n",
       "0    CTGGTCCTAACATCTGTTGACCATAGCCATATTTTTCAGAAAAGTC...        3.360806\n",
       "1    TGGCTATGGGCTGCAATAATTCGTCTTTCTGAAAGGGCATTCAGCC...        2.828660\n",
       "2    ACTTTCTATCTCTATGGATTTAACCATTGTGGATATTTCATGTAAA...        2.879216\n",
       "3    ATCAAAAACATTCAAATGAAATCATCTTAAGTGCCAGAATTATAAA...        2.598836\n",
       "4    CAGGTTCCAATATTACAAATGCAAGGCCAGAAGGAGACTGCAAATG...        2.829304\n",
       "..                                                 ...             ...\n",
       "995  ACAACTAGTTAGAGTCTTACAAAACAATAAAAACTTTGGGGTTAAC...        2.776671\n",
       "996  GGAGTTTGTGAGGTTGAAATAAACTTTTCTTAACTATCCATCATGA...        2.803315\n",
       "997  AACTTCTTTTGTTAAATTTATTCCTAAGGATTTTGTGTTTTTCAAT...        2.592732\n",
       "998  GCTTCCTCCAGGATGCATGAAGAAGCTATCGGAACCTCCTCCGACT...        2.723010\n",
       "999  AAATAAAATGAAAACAAATCATAAAATACACTAAATTCAAATAAGG...        2.915905\n",
       "\n",
       "[1000 rows x 2 columns]"
      ]
     },
     "execution_count": 6,
     "metadata": {},
     "output_type": "execute_result"
    }
   ],
   "source": [
    "#Normalize data\n",
    "reads['execution_time'] = np.log10(reads.execution_time)\n",
    "reads"
   ]
  },
  {
   "cell_type": "code",
   "execution_count": 7,
   "id": "08ea82e7-612c-4e87-b9bb-2634964dc6a0",
   "metadata": {},
   "outputs": [
    {
     "data": {
      "text/html": [
       "<div>\n",
       "<style scoped>\n",
       "    .dataframe tbody tr th:only-of-type {\n",
       "        vertical-align: middle;\n",
       "    }\n",
       "\n",
       "    .dataframe tbody tr th {\n",
       "        vertical-align: top;\n",
       "    }\n",
       "\n",
       "    .dataframe thead th {\n",
       "        text-align: right;\n",
       "    }\n",
       "</style>\n",
       "<table border=\"1\" class=\"dataframe\">\n",
       "  <thead>\n",
       "    <tr style=\"text-align: right;\">\n",
       "      <th></th>\n",
       "      <th>execution_time</th>\n",
       "      <th>words</th>\n",
       "    </tr>\n",
       "  </thead>\n",
       "  <tbody>\n",
       "    <tr>\n",
       "      <th>0</th>\n",
       "      <td>3.360806</td>\n",
       "      <td>[CTGGTCCTA, TGGTCCTAA, GGTCCTAAC, GTCCTAACA, T...</td>\n",
       "    </tr>\n",
       "    <tr>\n",
       "      <th>1</th>\n",
       "      <td>2.828660</td>\n",
       "      <td>[TGGCTATGG, GGCTATGGG, GCTATGGGC, CTATGGGCT, T...</td>\n",
       "    </tr>\n",
       "    <tr>\n",
       "      <th>2</th>\n",
       "      <td>2.879216</td>\n",
       "      <td>[ACTTTCTAT, CTTTCTATC, TTTCTATCT, TTCTATCTC, T...</td>\n",
       "    </tr>\n",
       "    <tr>\n",
       "      <th>3</th>\n",
       "      <td>2.598836</td>\n",
       "      <td>[ATCAAAAAC, TCAAAAACA, CAAAAACAT, AAAAACATT, A...</td>\n",
       "    </tr>\n",
       "    <tr>\n",
       "      <th>4</th>\n",
       "      <td>2.829304</td>\n",
       "      <td>[CAGGTTCCA, AGGTTCCAA, GGTTCCAAT, GTTCCAATA, T...</td>\n",
       "    </tr>\n",
       "    <tr>\n",
       "      <th>...</th>\n",
       "      <td>...</td>\n",
       "      <td>...</td>\n",
       "    </tr>\n",
       "    <tr>\n",
       "      <th>995</th>\n",
       "      <td>2.776671</td>\n",
       "      <td>[ACAACTAGT, CAACTAGTT, AACTAGTTA, ACTAGTTAG, C...</td>\n",
       "    </tr>\n",
       "    <tr>\n",
       "      <th>996</th>\n",
       "      <td>2.803315</td>\n",
       "      <td>[GGAGTTTGT, GAGTTTGTG, AGTTTGTGA, GTTTGTGAG, T...</td>\n",
       "    </tr>\n",
       "    <tr>\n",
       "      <th>997</th>\n",
       "      <td>2.592732</td>\n",
       "      <td>[AACTTCTTT, ACTTCTTTT, CTTCTTTTG, TTCTTTTGT, T...</td>\n",
       "    </tr>\n",
       "    <tr>\n",
       "      <th>998</th>\n",
       "      <td>2.723010</td>\n",
       "      <td>[GCTTCCTCC, CTTCCTCCA, TTCCTCCAG, TCCTCCAGG, C...</td>\n",
       "    </tr>\n",
       "    <tr>\n",
       "      <th>999</th>\n",
       "      <td>2.915905</td>\n",
       "      <td>[AAATAAAAT, AATAAAATG, ATAAAATGA, TAAAATGAA, A...</td>\n",
       "    </tr>\n",
       "  </tbody>\n",
       "</table>\n",
       "<p>1000 rows × 2 columns</p>\n",
       "</div>"
      ],
      "text/plain": [
       "     execution_time                                              words\n",
       "0          3.360806  [CTGGTCCTA, TGGTCCTAA, GGTCCTAAC, GTCCTAACA, T...\n",
       "1          2.828660  [TGGCTATGG, GGCTATGGG, GCTATGGGC, CTATGGGCT, T...\n",
       "2          2.879216  [ACTTTCTAT, CTTTCTATC, TTTCTATCT, TTCTATCTC, T...\n",
       "3          2.598836  [ATCAAAAAC, TCAAAAACA, CAAAAACAT, AAAAACATT, A...\n",
       "4          2.829304  [CAGGTTCCA, AGGTTCCAA, GGTTCCAAT, GTTCCAATA, T...\n",
       "..              ...                                                ...\n",
       "995        2.776671  [ACAACTAGT, CAACTAGTT, AACTAGTTA, ACTAGTTAG, C...\n",
       "996        2.803315  [GGAGTTTGT, GAGTTTGTG, AGTTTGTGA, GTTTGTGAG, T...\n",
       "997        2.592732  [AACTTCTTT, ACTTCTTTT, CTTCTTTTG, TTCTTTTGT, T...\n",
       "998        2.723010  [GCTTCCTCC, CTTCCTCCA, TTCCTCCAG, TCCTCCAGG, C...\n",
       "999        2.915905  [AAATAAAAT, AATAAAATG, ATAAAATGA, TAAAATGAA, A...\n",
       "\n",
       "[1000 rows x 2 columns]"
      ]
     },
     "execution_count": 7,
     "metadata": {},
     "output_type": "execute_result"
    }
   ],
   "source": [
    "def Kmers_funct(seq, size=9): \n",
    "   return [seq[x:x+size].upper() for x in range(len(seq) - size + 1)]\n",
    "\n",
    "reads['words'] = reads.apply(lambda x: Kmers_funct(x['read_sequence']), axis=1)\n",
    "reads = reads.drop('read_sequence', axis=1)\n",
    "reads"
   ]
  },
  {
   "cell_type": "code",
   "execution_count": 8,
   "id": "b1e463d8-2d9c-4234-a679-e97c118aac98",
   "metadata": {},
   "outputs": [],
   "source": [
    "human_texts = list(reads['words'])\n",
    "for item in range(len(human_texts)):\n",
    "   human_texts[item] = ' '.join(human_texts[item])\n",
    "#separate labels\n",
    "y_human = reads.iloc[:, 0].values # y_human for human_dna"
   ]
  },
  {
   "cell_type": "code",
   "execution_count": 9,
   "id": "4c617e42-52ec-45b1-bdc5-8cbf9dc2411f",
   "metadata": {},
   "outputs": [],
   "source": [
    "from sklearn.feature_extraction.text import CountVectorizer\n",
    "cv = CountVectorizer(ngram_range = (4,4)) # initially (4,4)\n",
    "X = cv.fit_transform(human_texts)"
   ]
  },
  {
   "cell_type": "code",
   "execution_count": 10,
   "id": "8de24360-3869-48ac-992d-ae0247bf0872",
   "metadata": {},
   "outputs": [],
   "source": [
    "Y= y_human\n",
    "\n",
    "X= X"
   ]
  },
  {
   "cell_type": "code",
   "execution_count": null,
   "id": "7a0968f0-c40f-4642-a179-b9bdafd77feb",
   "metadata": {},
   "outputs": [],
   "source": []
  },
  {
   "cell_type": "code",
   "execution_count": null,
   "id": "3e31cd7b-55ed-46ac-8d2f-f8668106028a",
   "metadata": {},
   "outputs": [],
   "source": [
    "data"
   ]
  },
  {
   "cell_type": "code",
   "execution_count": 18,
   "id": "9a508dc4-d16b-4b84-8ea4-963b2a68b459",
   "metadata": {},
   "outputs": [
    {
     "name": "stdout",
     "output_type": "stream",
     "text": [
      "Parse progress: |████████████████████████████████████████████████████████████████| (done) 100%\n"
     ]
    }
   ],
   "source": [
    "data = h2o.H2OFrame(data)"
   ]
  },
  {
   "cell_type": "code",
   "execution_count": 19,
   "id": "264f4104-f393-43dd-8a5b-a9bf5578fd43",
   "metadata": {},
   "outputs": [],
   "source": [
    "train, test = data.split_frame(ratios=[0.8], seed = 42)"
   ]
  },
  {
   "cell_type": "code",
   "execution_count": 20,
   "id": "47a92ab5-07c7-4d04-923c-7d555fdecee8",
   "metadata": {},
   "outputs": [],
   "source": [
    "####################################################################################\n",
    "#x = train.columns\n",
    "#y = 'revenue'\n",
    "#x.remove(y)"
   ]
  },
  {
   "cell_type": "code",
   "execution_count": 21,
   "id": "02c171ec-7e2b-44e2-8dec-3aabaa4121be",
   "metadata": {},
   "outputs": [],
   "source": [
    "model = H2OAutoML(sort_metric='rmse',\n",
    "                  max_runtime_secs=120,\n",
    "                  seed = 42,\n",
    "                  max_models = 10,\n",
    "               #   max_runtime_secs_per_model = 720,\n",
    "                #  exclude_algos = ['DeepLearning'],\n",
    "                  #stopping_metric = 'RMSLE'\n",
    "                 )"
   ]
  },
  {
   "cell_type": "code",
   "execution_count": 22,
   "id": "60d7d1f7-e048-407d-ab23-8f32ab4e1fe5",
   "metadata": {},
   "outputs": [
    {
     "name": "stdout",
     "output_type": "stream",
     "text": [
      "AutoML progress: |\n",
      "01:00:54.130: AutoML: XGBoost is not available; skipping it.\n",
      "01:00:54.141: _train param, Dropping bad and constant columns: [sequence_identifier, read_sequence, quality]\n",
      "01:00:54.141: _train param, Training data must have at least 2 features (incl. response).\n",
      "01:00:54.143: _train param, Dropping bad and constant columns: [sequence_identifier, read_sequence, quality]\n",
      "01:00:54.144: _train param, Training data must have at least 2 features (incl. response).\n",
      "01:00:54.148: _train param, Dropping bad and constant columns: [sequence_identifier, read_sequence, quality]\n",
      "01:00:54.148: _train param, Training data must have at least 2 features (incl. response).\n",
      "01:00:54.151: _train param, Dropping bad and constant columns: [sequence_identifier, read_sequence, quality]\n",
      "01:00:54.151: _train param, Training data must have at least 2 features (incl. response).\n",
      "01:00:54.154: _train param, Dropping bad and constant columns: [sequence_identifier, read_sequence, quality]\n",
      "01:00:54.156: _train param, Training data must have at least 2 features (incl. response).\n",
      "01:00:54.157: _train param, Dropping bad and constant columns: [sequence_identifier, read_sequence, quality]\n",
      "01:00:54.157: _train param, Training data must have at least 2 features (incl. response).\n",
      "01:00:54.159: _train param, Dropping bad and constant columns: [sequence_identifier, read_sequence, quality]\n",
      "01:00:54.159: _train param, Training data must have at least 2 features (incl. response).\n",
      "01:00:54.163: _train param, Dropping bad and constant columns: [sequence_identifier, read_sequence, quality]\n",
      "01:00:54.163: _train param, Training data must have at least 2 features (incl. response).\n",
      "01:00:54.165: _train param, Dropping bad and constant columns: [sequence_identifier, read_sequence, quality]\n",
      "01:00:54.165: _train param, Training data must have at least 2 features (incl. response).\n",
      "01:00:54.317: Empty leaderboard.\n",
      "AutoML was not able to build any model within a max runtime constraint of 120 seconds, you may want to increase this value before retrying.\n",
      "\n",
      "███████████████████████████████████████████████████████████████| (done) 100%\n"
     ]
    }
   ],
   "source": [
    "model.train(training_frame = train, y = 'execution_time')"
   ]
  },
  {
   "cell_type": "code",
   "execution_count": 23,
   "id": "c1798a65-6ff5-4745-bcf1-304d188e1e9d",
   "metadata": {},
   "outputs": [
    {
     "data": {
      "text/html": [
       "H2OFrame is empty."
      ],
      "text/plain": [
       "H2OFrame is empty."
      ]
     },
     "execution_count": 23,
     "metadata": {},
     "output_type": "execute_result"
    }
   ],
   "source": [
    "h2o_models = h2o.automl.get_leaderboard(model, extra_columns = \"ALL\")\n",
    "h2o_models"
   ]
  },
  {
   "cell_type": "code",
   "execution_count": 24,
   "id": "bdedd1aa-5551-4eac-9ffe-e6e81bd2dd21",
   "metadata": {},
   "outputs": [
    {
     "name": "stdout",
     "output_type": "stream",
     "text": [
      "None\n"
     ]
    }
   ],
   "source": [
    "best_model = model.get_best_model()\n",
    "print(best_model)"
   ]
  },
  {
   "cell_type": "code",
   "execution_count": 25,
   "id": "74b147d1-339d-477d-b71c-1a64705e8e1d",
   "metadata": {},
   "outputs": [
    {
     "ename": "AttributeError",
     "evalue": "'NoneType' object has no attribute 'model_performance'",
     "output_type": "error",
     "traceback": [
      "\u001b[1;31m---------------------------------------------------------------------------\u001b[0m",
      "\u001b[1;31mAttributeError\u001b[0m                            Traceback (most recent call last)",
      "\u001b[1;32m<ipython-input-25-d31c085c7cda>\u001b[0m in \u001b[0;36m<module>\u001b[1;34m\u001b[0m\n\u001b[1;32m----> 1\u001b[1;33m \u001b[0mbest_model\u001b[0m\u001b[1;33m.\u001b[0m\u001b[0mmodel_performance\u001b[0m\u001b[1;33m(\u001b[0m\u001b[0mtest\u001b[0m\u001b[1;33m)\u001b[0m\u001b[1;33m\u001b[0m\u001b[1;33m\u001b[0m\u001b[0m\n\u001b[0m",
      "\u001b[1;31mAttributeError\u001b[0m: 'NoneType' object has no attribute 'model_performance'"
     ]
    }
   ],
   "source": [
    "best_model.model_performance(test)"
   ]
  },
  {
   "cell_type": "code",
   "execution_count": null,
   "id": "61d1f4e8-679a-4865-8479-ca87032224d7",
   "metadata": {},
   "outputs": [],
   "source": [
    "y_pred = model.predict(test)\n",
    "y_pred"
   ]
  },
  {
   "cell_type": "code",
   "execution_count": null,
   "id": "05bc6c12-384f-436e-b75c-b55dfead6c86",
   "metadata": {},
   "outputs": [],
   "source": [
    "y_truth = test['execution_time']\n",
    "y_truth"
   ]
  },
  {
   "cell_type": "code",
   "execution_count": null,
   "id": "246eb934-857a-40e3-9ccf-3502730ad0be",
   "metadata": {},
   "outputs": [],
   "source": [
    "#y_pred.types"
   ]
  },
  {
   "cell_type": "code",
   "execution_count": null,
   "id": "ebce1aef-8587-4ded-b42f-86c96ea522b7",
   "metadata": {},
   "outputs": [],
   "source": [
    "explain_model = model.explain(frame = test, figsize = (8,6))"
   ]
  },
  {
   "cell_type": "code",
   "execution_count": null,
   "id": "793726f7-b6fb-48c0-bb4a-d531e95c3c5c",
   "metadata": {},
   "outputs": [],
   "source": [
    "# from h2o.model.regression import h2o_mean_squared_error\n",
    "\n",
    "# h2o_mean_squared_error(y_truth, y_pred)"
   ]
  },
  {
   "cell_type": "code",
   "execution_count": null,
   "id": "867e23be-7cef-4e10-b1bc-898b0b8744b8",
   "metadata": {},
   "outputs": [],
   "source": []
  }
 ],
 "metadata": {
  "kernelspec": {
   "display_name": "Python 3",
   "language": "python",
   "name": "python3"
  },
  "language_info": {
   "codemirror_mode": {
    "name": "ipython",
    "version": 3
   },
   "file_extension": ".py",
   "mimetype": "text/x-python",
   "name": "python",
   "nbconvert_exporter": "python",
   "pygments_lexer": "ipython3",
   "version": "3.8.8"
  }
 },
 "nbformat": 4,
 "nbformat_minor": 5
}
