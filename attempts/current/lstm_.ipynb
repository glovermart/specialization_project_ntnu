{
 "cells": [
  {
   "cell_type": "code",
   "execution_count": 1,
   "metadata": {
    "tags": []
   },
   "outputs": [],
   "source": [
    "\n",
    "%load_ext autoreload"
   ]
  },
  {
   "cell_type": "code",
   "execution_count": 2,
   "metadata": {},
   "outputs": [],
   "source": [
    "%autoreload \n",
    "import pandas as pd\n",
    "import seaborn as sns\n",
    "sns.set_style('darkgrid')\n",
    "import numpy as np\n",
    "import sys\n",
    "import matplotlib.pyplot as plt \n",
    "np.set_printoptions(threshold=sys.maxsize)"
   ]
  },
  {
   "cell_type": "code",
   "execution_count": 3,
   "metadata": {},
   "outputs": [],
   "source": [
    "csv1 = pd.read_csv('sequence_execution_time.csv')\n",
    "#csv1.head()"
   ]
  },
  {
   "cell_type": "code",
   "execution_count": 4,
   "metadata": {
    "scrolled": true
   },
   "outputs": [
    {
     "data": {
      "text/html": [
       "<div>\n",
       "<style scoped>\n",
       "    .dataframe tbody tr th:only-of-type {\n",
       "        vertical-align: middle;\n",
       "    }\n",
       "\n",
       "    .dataframe tbody tr th {\n",
       "        vertical-align: top;\n",
       "    }\n",
       "\n",
       "    .dataframe thead th {\n",
       "        text-align: right;\n",
       "    }\n",
       "</style>\n",
       "<table border=\"1\" class=\"dataframe\">\n",
       "  <thead>\n",
       "    <tr style=\"text-align: right;\">\n",
       "      <th></th>\n",
       "      <th>sequence_identifier</th>\n",
       "      <th>read_sequence</th>\n",
       "      <th>quality</th>\n",
       "      <th>execution_time</th>\n",
       "    </tr>\n",
       "  </thead>\n",
       "  <tbody>\n",
       "    <tr>\n",
       "      <th>3999995</th>\n",
       "      <td>@HWI-D00360:5:H814YADXX:1:1115:18756:14266 1:N...</td>\n",
       "      <td>ACTAATAAAGAAAAAAAGAGAGAAGAATCAAATAGACGCAATAAAA...</td>\n",
       "      <td>C@CFFFFFHHHHHJGEHHIJJJIJIIJJJJJIJJIFIIIIGIJJIJ...</td>\n",
       "      <td>341.792</td>\n",
       "    </tr>\n",
       "    <tr>\n",
       "      <th>3999996</th>\n",
       "      <td>@HWI-D00360:5:H814YADXX:1:1115:18805:14266 1:N...</td>\n",
       "      <td>ATAAATGAATAATAGGCGGTTTCTGACATCAGGAAGTTTAGACCGC...</td>\n",
       "      <td>CCCFFFFFGHHHHJJJJJJGIJHIJGIIJJIJJIIJHIJJIIJJJJ...</td>\n",
       "      <td>556.625</td>\n",
       "    </tr>\n",
       "    <tr>\n",
       "      <th>3999997</th>\n",
       "      <td>@HWI-D00360:5:H814YADXX:1:1115:18868:14278 1:N...</td>\n",
       "      <td>GTATGGAAATACCTGGATGTCCAGGCAGAAGTGTGCTACAGGGGCA...</td>\n",
       "      <td>@@CFFFFFHGHHHJIIIGIGHHAGGGIIBGG?ECCFFHIJJGEBDA...</td>\n",
       "      <td>8523.708</td>\n",
       "    </tr>\n",
       "    <tr>\n",
       "      <th>3999998</th>\n",
       "      <td>@HWI-D00360:5:H814YADXX:1:1115:18797:14322 1:N...</td>\n",
       "      <td>AACTCAGTAATTACTTTGATTTGGAGTCTTAATGCAATTTTACCCA...</td>\n",
       "      <td>CCCFFFFFHDHHHJJJJJJIJJJIJIHGHIIJJJJIJIJJJJJJJI...</td>\n",
       "      <td>880.708</td>\n",
       "    </tr>\n",
       "    <tr>\n",
       "      <th>3999999</th>\n",
       "      <td>@HWI-D00360:5:H814YADXX:1:1115:18971:14400 1:N...</td>\n",
       "      <td>GAAAATAGTTTCCCATTTGTTGCCACTGTTTTAAACTTACTGTTAT...</td>\n",
       "      <td>@@@FDFDBBDFFBFIGGGCFGFHHGIGEHIIIIEIIGE@GIIIGGI...</td>\n",
       "      <td>624.208</td>\n",
       "    </tr>\n",
       "  </tbody>\n",
       "</table>\n",
       "</div>"
      ],
      "text/plain": [
       "                                       sequence_identifier  \\\n",
       "3999995  @HWI-D00360:5:H814YADXX:1:1115:18756:14266 1:N...   \n",
       "3999996  @HWI-D00360:5:H814YADXX:1:1115:18805:14266 1:N...   \n",
       "3999997  @HWI-D00360:5:H814YADXX:1:1115:18868:14278 1:N...   \n",
       "3999998  @HWI-D00360:5:H814YADXX:1:1115:18797:14322 1:N...   \n",
       "3999999  @HWI-D00360:5:H814YADXX:1:1115:18971:14400 1:N...   \n",
       "\n",
       "                                             read_sequence  \\\n",
       "3999995  ACTAATAAAGAAAAAAAGAGAGAAGAATCAAATAGACGCAATAAAA...   \n",
       "3999996  ATAAATGAATAATAGGCGGTTTCTGACATCAGGAAGTTTAGACCGC...   \n",
       "3999997  GTATGGAAATACCTGGATGTCCAGGCAGAAGTGTGCTACAGGGGCA...   \n",
       "3999998  AACTCAGTAATTACTTTGATTTGGAGTCTTAATGCAATTTTACCCA...   \n",
       "3999999  GAAAATAGTTTCCCATTTGTTGCCACTGTTTTAAACTTACTGTTAT...   \n",
       "\n",
       "                                                   quality  execution_time  \n",
       "3999995  C@CFFFFFHHHHHJGEHHIJJJIJIIJJJJJIJJIFIIIIGIJJIJ...         341.792  \n",
       "3999996  CCCFFFFFGHHHHJJJJJJGIJHIJGIIJJIJJIIJHIJJIIJJJJ...         556.625  \n",
       "3999997  @@CFFFFFHGHHHJIIIGIGHHAGGGIIBGG?ECCFFHIJJGEBDA...        8523.708  \n",
       "3999998  CCCFFFFFHDHHHJJJJJJIJJJIJIHGHIIJJJJIJIJJJJJJJI...         880.708  \n",
       "3999999  @@@FDFDBBDFFBFIGGGCFGFHHGIGEHIIIIEIIGE@GIIIGGI...         624.208  "
      ]
     },
     "execution_count": 4,
     "metadata": {},
     "output_type": "execute_result"
    }
   ],
   "source": [
    "csv1.tail()"
   ]
  },
  {
   "cell_type": "code",
   "execution_count": 5,
   "metadata": {},
   "outputs": [],
   "source": [
    "#data = csv1.drop(['sequence_identifier','quality'], axis = 1)\n",
    "data = csv1"
   ]
  },
  {
   "cell_type": "code",
   "execution_count": 6,
   "metadata": {},
   "outputs": [],
   "source": [
    "data1 = data.drop(csv1.index[500:]) #reduce dataset to 10% of original dataframe\n",
    "#data.head()"
   ]
  },
  {
   "cell_type": "code",
   "execution_count": 7,
   "metadata": {},
   "outputs": [
    {
     "data": {
      "text/html": [
       "<div>\n",
       "<style scoped>\n",
       "    .dataframe tbody tr th:only-of-type {\n",
       "        vertical-align: middle;\n",
       "    }\n",
       "\n",
       "    .dataframe tbody tr th {\n",
       "        vertical-align: top;\n",
       "    }\n",
       "\n",
       "    .dataframe thead th {\n",
       "        text-align: right;\n",
       "    }\n",
       "</style>\n",
       "<table border=\"1\" class=\"dataframe\">\n",
       "  <thead>\n",
       "    <tr style=\"text-align: right;\">\n",
       "      <th></th>\n",
       "      <th>sequence_identifier</th>\n",
       "      <th>read_sequence</th>\n",
       "      <th>quality</th>\n",
       "      <th>execution_time</th>\n",
       "    </tr>\n",
       "  </thead>\n",
       "  <tbody>\n",
       "    <tr>\n",
       "      <th>495</th>\n",
       "      <td>@HWI-D00360:5:H814YADXX:1:1101:4753:2342 1:N:0...</td>\n",
       "      <td>AATTTACCTTGCCCAGATCCATCAGAGGAATCACTGTCTATGGCAG...</td>\n",
       "      <td>??@FFFFFHH?DFHHGHGHEEGHGGBHGAHGIBGE?C@CDFHHE9B...</td>\n",
       "      <td>5604.917</td>\n",
       "    </tr>\n",
       "    <tr>\n",
       "      <th>496</th>\n",
       "      <td>@HWI-D00360:5:H814YADXX:1:1101:4779:2350 1:N:0...</td>\n",
       "      <td>GCATGGAAAGCATTAGCCACTTGAATTCAAGGAAGAGCATTCTTGG...</td>\n",
       "      <td>CCCFFFFFHHHHHJJJJJJJJJJJJJJJJJJJJJJJJJJJJJJJJJ...</td>\n",
       "      <td>555.708</td>\n",
       "    </tr>\n",
       "    <tr>\n",
       "      <th>497</th>\n",
       "      <td>@HWI-D00360:5:H814YADXX:1:1101:4845:2365 1:N:0...</td>\n",
       "      <td>TTGCTTGAATCCGGGAGATGGAGGTTTGCAGTGAGCTGAAATCATG...</td>\n",
       "      <td>@@@DDDBDHBBDDD:G?GDEEGGH8BCHEGH?FDDFCHGGGEHHAG...</td>\n",
       "      <td>8450.375</td>\n",
       "    </tr>\n",
       "    <tr>\n",
       "      <th>498</th>\n",
       "      <td>@HWI-D00360:5:H814YADXX:1:1101:4891:2378 1:N:0...</td>\n",
       "      <td>GGCATTCTAAGTCACCCCCACAGCCCTCTAATGCCAGTCCAGCTGC...</td>\n",
       "      <td>CCCFFFFFHHHHHJJJJJJJJJJJJJJJJJJJIIJJJIJJJJJJJJ...</td>\n",
       "      <td>670.417</td>\n",
       "    </tr>\n",
       "    <tr>\n",
       "      <th>499</th>\n",
       "      <td>@HWI-D00360:5:H814YADXX:1:1101:4940:2382 1:N:0...</td>\n",
       "      <td>AATAAAGTAAATTGAGTGGTAACTTTACAAAGACTTCAAAGTCAGC...</td>\n",
       "      <td>CCCFFFFDHHHHHJJJGIJIIJJJJJJJJJJJJJJJJJJJJIJJJJ...</td>\n",
       "      <td>555.750</td>\n",
       "    </tr>\n",
       "  </tbody>\n",
       "</table>\n",
       "</div>"
      ],
      "text/plain": [
       "                                   sequence_identifier  \\\n",
       "495  @HWI-D00360:5:H814YADXX:1:1101:4753:2342 1:N:0...   \n",
       "496  @HWI-D00360:5:H814YADXX:1:1101:4779:2350 1:N:0...   \n",
       "497  @HWI-D00360:5:H814YADXX:1:1101:4845:2365 1:N:0...   \n",
       "498  @HWI-D00360:5:H814YADXX:1:1101:4891:2378 1:N:0...   \n",
       "499  @HWI-D00360:5:H814YADXX:1:1101:4940:2382 1:N:0...   \n",
       "\n",
       "                                         read_sequence  \\\n",
       "495  AATTTACCTTGCCCAGATCCATCAGAGGAATCACTGTCTATGGCAG...   \n",
       "496  GCATGGAAAGCATTAGCCACTTGAATTCAAGGAAGAGCATTCTTGG...   \n",
       "497  TTGCTTGAATCCGGGAGATGGAGGTTTGCAGTGAGCTGAAATCATG...   \n",
       "498  GGCATTCTAAGTCACCCCCACAGCCCTCTAATGCCAGTCCAGCTGC...   \n",
       "499  AATAAAGTAAATTGAGTGGTAACTTTACAAAGACTTCAAAGTCAGC...   \n",
       "\n",
       "                                               quality  execution_time  \n",
       "495  ??@FFFFFHH?DFHHGHGHEEGHGGBHGAHGIBGE?C@CDFHHE9B...        5604.917  \n",
       "496  CCCFFFFFHHHHHJJJJJJJJJJJJJJJJJJJJJJJJJJJJJJJJJ...         555.708  \n",
       "497  @@@DDDBDHBBDDD:G?GDEEGGH8BCHEGH?FDDFCHGGGEHHAG...        8450.375  \n",
       "498  CCCFFFFFHHHHHJJJJJJJJJJJJJJJJJJJIIJJJIJJJJJJJJ...         670.417  \n",
       "499  CCCFFFFDHHHHHJJJGIJIIJJJJJJJJJJJJJJJJJJJJIJJJJ...         555.750  "
      ]
     },
     "execution_count": 7,
     "metadata": {},
     "output_type": "execute_result"
    }
   ],
   "source": [
    "data1.tail()"
   ]
  },
  {
   "cell_type": "code",
   "execution_count": 8,
   "metadata": {},
   "outputs": [
    {
     "data": {
      "text/html": [
       "<div>\n",
       "<style scoped>\n",
       "    .dataframe tbody tr th:only-of-type {\n",
       "        vertical-align: middle;\n",
       "    }\n",
       "\n",
       "    .dataframe tbody tr th {\n",
       "        vertical-align: top;\n",
       "    }\n",
       "\n",
       "    .dataframe thead th {\n",
       "        text-align: right;\n",
       "    }\n",
       "</style>\n",
       "<table border=\"1\" class=\"dataframe\">\n",
       "  <thead>\n",
       "    <tr style=\"text-align: right;\">\n",
       "      <th></th>\n",
       "      <th>read_sequence</th>\n",
       "      <th>execution_time</th>\n",
       "    </tr>\n",
       "  </thead>\n",
       "  <tbody>\n",
       "    <tr>\n",
       "      <th>0</th>\n",
       "      <td>CTGGTCCTAACATCTGTTGACCATAGCCATATTTTTCAGAAAAGTC...</td>\n",
       "      <td>2295.125</td>\n",
       "    </tr>\n",
       "    <tr>\n",
       "      <th>1</th>\n",
       "      <td>TGGCTATGGGCTGCAATAATTCGTCTTTCTGAAAGGGCATTCAGCC...</td>\n",
       "      <td>674.000</td>\n",
       "    </tr>\n",
       "    <tr>\n",
       "      <th>2</th>\n",
       "      <td>ACTTTCTATCTCTATGGATTTAACCATTGTGGATATTTCATGTAAA...</td>\n",
       "      <td>757.209</td>\n",
       "    </tr>\n",
       "    <tr>\n",
       "      <th>3</th>\n",
       "      <td>ATCAAAAACATTCAAATGAAATCATCTTAAGTGCCAGAATTATAAA...</td>\n",
       "      <td>397.042</td>\n",
       "    </tr>\n",
       "    <tr>\n",
       "      <th>4</th>\n",
       "      <td>CAGGTTCCAATATTACAAATGCAAGGCCAGAAGGAGACTGCAAATG...</td>\n",
       "      <td>675.000</td>\n",
       "    </tr>\n",
       "    <tr>\n",
       "      <th>...</th>\n",
       "      <td>...</td>\n",
       "      <td>...</td>\n",
       "    </tr>\n",
       "    <tr>\n",
       "      <th>495</th>\n",
       "      <td>AATTTACCTTGCCCAGATCCATCAGAGGAATCACTGTCTATGGCAG...</td>\n",
       "      <td>5604.917</td>\n",
       "    </tr>\n",
       "    <tr>\n",
       "      <th>496</th>\n",
       "      <td>GCATGGAAAGCATTAGCCACTTGAATTCAAGGAAGAGCATTCTTGG...</td>\n",
       "      <td>555.708</td>\n",
       "    </tr>\n",
       "    <tr>\n",
       "      <th>497</th>\n",
       "      <td>TTGCTTGAATCCGGGAGATGGAGGTTTGCAGTGAGCTGAAATCATG...</td>\n",
       "      <td>8450.375</td>\n",
       "    </tr>\n",
       "    <tr>\n",
       "      <th>498</th>\n",
       "      <td>GGCATTCTAAGTCACCCCCACAGCCCTCTAATGCCAGTCCAGCTGC...</td>\n",
       "      <td>670.417</td>\n",
       "    </tr>\n",
       "    <tr>\n",
       "      <th>499</th>\n",
       "      <td>AATAAAGTAAATTGAGTGGTAACTTTACAAAGACTTCAAAGTCAGC...</td>\n",
       "      <td>555.750</td>\n",
       "    </tr>\n",
       "  </tbody>\n",
       "</table>\n",
       "<p>500 rows × 2 columns</p>\n",
       "</div>"
      ],
      "text/plain": [
       "                                         read_sequence  execution_time\n",
       "0    CTGGTCCTAACATCTGTTGACCATAGCCATATTTTTCAGAAAAGTC...        2295.125\n",
       "1    TGGCTATGGGCTGCAATAATTCGTCTTTCTGAAAGGGCATTCAGCC...         674.000\n",
       "2    ACTTTCTATCTCTATGGATTTAACCATTGTGGATATTTCATGTAAA...         757.209\n",
       "3    ATCAAAAACATTCAAATGAAATCATCTTAAGTGCCAGAATTATAAA...         397.042\n",
       "4    CAGGTTCCAATATTACAAATGCAAGGCCAGAAGGAGACTGCAAATG...         675.000\n",
       "..                                                 ...             ...\n",
       "495  AATTTACCTTGCCCAGATCCATCAGAGGAATCACTGTCTATGGCAG...        5604.917\n",
       "496  GCATGGAAAGCATTAGCCACTTGAATTCAAGGAAGAGCATTCTTGG...         555.708\n",
       "497  TTGCTTGAATCCGGGAGATGGAGGTTTGCAGTGAGCTGAAATCATG...        8450.375\n",
       "498  GGCATTCTAAGTCACCCCCACAGCCCTCTAATGCCAGTCCAGCTGC...         670.417\n",
       "499  AATAAAGTAAATTGAGTGGTAACTTTACAAAGACTTCAAAGTCAGC...         555.750\n",
       "\n",
       "[500 rows x 2 columns]"
      ]
     },
     "execution_count": 8,
     "metadata": {},
     "output_type": "execute_result"
    }
   ],
   "source": [
    "reads = data1.drop(['sequence_identifier','quality'], axis =1)\n",
    "reads"
   ]
  },
  {
   "cell_type": "code",
   "execution_count": 9,
   "metadata": {},
   "outputs": [],
   "source": [
    "def Kmers_funct(seq, size=9): #148 characters/sequence  size = 6 better? Used 4 previously.[SIze = 9 gave a r_sq = 1 is this the best value for data = 250, train = 0.8 random = 42, ngaram 4,4]??\n",
    "    #Performed much better with same settings and more data. used 1000. r_sq reduced to 0.9999999999999962\n",
    "   return [seq[x:x+size].lower() for x in range(len(seq) - size + 1)]\n",
    "#convert our training data sequences into short overlapping k-mers of length 6. Lets do that for each species of data we have using our Kmers_funct function.\n",
    "reads['words'] = reads.apply(lambda x: Kmers_funct(x['read_sequence']), axis=1)\n",
    "reads = reads.drop('read_sequence', axis=1)"
   ]
  },
  {
   "cell_type": "code",
   "execution_count": 10,
   "metadata": {},
   "outputs": [],
   "source": [
    "human_texts = list(reads['words'])\n",
    "for item in range(len(human_texts)):\n",
    "   human_texts[item] = ' '.join(human_texts[item])\n",
    "#separate labels\n",
    "Y = reads.iloc[:, 0].values # y_human for human_dna"
   ]
  },
  {
   "cell_type": "code",
   "execution_count": 11,
   "metadata": {},
   "outputs": [],
   "source": [
    "from sklearn.feature_extraction.text import CountVectorizer\n",
    "cv = CountVectorizer(ngram_range = (4,4)) # initially (4,4)\n",
    "X = cv.fit_transform(human_texts)\n",
    "#from sklearn.feature_extraction.text import TfidfVectorizer\n",
    "#tfid = TfidfVectorizer(ngram_range = (4,4))\n",
    "#X = tfid.fit_transform(human_texts)\n",
    "#print(X)"
   ]
  },
  {
   "cell_type": "code",
   "execution_count": 12,
   "metadata": {},
   "outputs": [
    {
     "name": "stdout",
     "output_type": "stream",
     "text": [
      "X_train (400, 65749)\n",
      "X_test (100, 65749)\n",
      "y_train (400,)\n",
      "y_test (100,)\n"
     ]
    }
   ],
   "source": [
    "from sklearn.model_selection import train_test_split\n",
    "X_train, X_test, y_train,y_test = train_test_split(X,Y, test_size = 0.2, random_state = 42) \n",
    "print('X_train',X_train.shape)\n",
    "print('X_test',X_test.shape)\n",
    "print('y_train',y_train.shape)\n",
    "print('y_test',y_test.shape)"
   ]
  },
  {
   "cell_type": "code",
   "execution_count": null,
   "metadata": {},
   "outputs": [],
   "source": []
  }
 ],
 "metadata": {
  "kernelspec": {
   "display_name": "Python 3",
   "language": "python",
   "name": "python3"
  },
  "language_info": {
   "codemirror_mode": {
    "name": "ipython",
    "version": 3
   },
   "file_extension": ".py",
   "mimetype": "text/x-python",
   "name": "python",
   "nbconvert_exporter": "python",
   "pygments_lexer": "ipython3",
   "version": "3.8.8"
  },
  "vscode": {
   "interpreter": {
    "hash": "853b99181d0ba022bad1ace1542ec9e2b21fc0c2da2392c4130ad8552760e2b5"
   }
  }
 },
 "nbformat": 4,
 "nbformat_minor": 4
}
