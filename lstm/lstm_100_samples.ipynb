{
 "cells": [
  {
   "cell_type": "code",
   "execution_count": 43,
   "metadata": {},
   "outputs": [],
   "source": [
    "#%pip install tensorflow"
   ]
  },
  {
   "cell_type": "code",
   "execution_count": null,
   "metadata": {},
   "outputs": [],
   "source": []
  },
  {
   "cell_type": "code",
   "execution_count": 44,
   "metadata": {},
   "outputs": [],
   "source": [
    "import pandas as pd\n",
    "import seaborn as sns\n",
    "sns.set_style('darkgrid')\n",
    "import numpy as np\n",
    "import sys\n",
    "import matplotlib.pyplot as plt \n",
    "np.set_printoptions(threshold=sys.maxsize)"
   ]
  },
  {
   "cell_type": "code",
   "execution_count": 45,
   "metadata": {},
   "outputs": [],
   "source": [
    "csv1 = pd.read_csv('sequence_execution_time.csv')\n",
    "#csv1.head()"
   ]
  },
  {
   "cell_type": "code",
   "execution_count": 46,
   "metadata": {
    "scrolled": true
   },
   "outputs": [
    {
     "data": {
      "text/html": [
       "<div>\n",
       "<style scoped>\n",
       "    .dataframe tbody tr th:only-of-type {\n",
       "        vertical-align: middle;\n",
       "    }\n",
       "\n",
       "    .dataframe tbody tr th {\n",
       "        vertical-align: top;\n",
       "    }\n",
       "\n",
       "    .dataframe thead th {\n",
       "        text-align: right;\n",
       "    }\n",
       "</style>\n",
       "<table border=\"1\" class=\"dataframe\">\n",
       "  <thead>\n",
       "    <tr style=\"text-align: right;\">\n",
       "      <th></th>\n",
       "      <th>sequence_identifier</th>\n",
       "      <th>read_sequence</th>\n",
       "      <th>quality</th>\n",
       "      <th>execution_time</th>\n",
       "    </tr>\n",
       "  </thead>\n",
       "  <tbody>\n",
       "    <tr>\n",
       "      <th>3999995</th>\n",
       "      <td>@HWI-D00360:5:H814YADXX:1:1115:18756:14266 1:N...</td>\n",
       "      <td>ACTAATAAAGAAAAAAAGAGAGAAGAATCAAATAGACGCAATAAAA...</td>\n",
       "      <td>C@CFFFFFHHHHHJGEHHIJJJIJIIJJJJJIJJIFIIIIGIJJIJ...</td>\n",
       "      <td>341.792</td>\n",
       "    </tr>\n",
       "    <tr>\n",
       "      <th>3999996</th>\n",
       "      <td>@HWI-D00360:5:H814YADXX:1:1115:18805:14266 1:N...</td>\n",
       "      <td>ATAAATGAATAATAGGCGGTTTCTGACATCAGGAAGTTTAGACCGC...</td>\n",
       "      <td>CCCFFFFFGHHHHJJJJJJGIJHIJGIIJJIJJIIJHIJJIIJJJJ...</td>\n",
       "      <td>556.625</td>\n",
       "    </tr>\n",
       "    <tr>\n",
       "      <th>3999997</th>\n",
       "      <td>@HWI-D00360:5:H814YADXX:1:1115:18868:14278 1:N...</td>\n",
       "      <td>GTATGGAAATACCTGGATGTCCAGGCAGAAGTGTGCTACAGGGGCA...</td>\n",
       "      <td>@@CFFFFFHGHHHJIIIGIGHHAGGGIIBGG?ECCFFHIJJGEBDA...</td>\n",
       "      <td>8523.708</td>\n",
       "    </tr>\n",
       "    <tr>\n",
       "      <th>3999998</th>\n",
       "      <td>@HWI-D00360:5:H814YADXX:1:1115:18797:14322 1:N...</td>\n",
       "      <td>AACTCAGTAATTACTTTGATTTGGAGTCTTAATGCAATTTTACCCA...</td>\n",
       "      <td>CCCFFFFFHDHHHJJJJJJIJJJIJIHGHIIJJJJIJIJJJJJJJI...</td>\n",
       "      <td>880.708</td>\n",
       "    </tr>\n",
       "    <tr>\n",
       "      <th>3999999</th>\n",
       "      <td>@HWI-D00360:5:H814YADXX:1:1115:18971:14400 1:N...</td>\n",
       "      <td>GAAAATAGTTTCCCATTTGTTGCCACTGTTTTAAACTTACTGTTAT...</td>\n",
       "      <td>@@@FDFDBBDFFBFIGGGCFGFHHGIGEHIIIIEIIGE@GIIIGGI...</td>\n",
       "      <td>624.208</td>\n",
       "    </tr>\n",
       "  </tbody>\n",
       "</table>\n",
       "</div>"
      ],
      "text/plain": [
       "                                       sequence_identifier  \\\n",
       "3999995  @HWI-D00360:5:H814YADXX:1:1115:18756:14266 1:N...   \n",
       "3999996  @HWI-D00360:5:H814YADXX:1:1115:18805:14266 1:N...   \n",
       "3999997  @HWI-D00360:5:H814YADXX:1:1115:18868:14278 1:N...   \n",
       "3999998  @HWI-D00360:5:H814YADXX:1:1115:18797:14322 1:N...   \n",
       "3999999  @HWI-D00360:5:H814YADXX:1:1115:18971:14400 1:N...   \n",
       "\n",
       "                                             read_sequence  \\\n",
       "3999995  ACTAATAAAGAAAAAAAGAGAGAAGAATCAAATAGACGCAATAAAA...   \n",
       "3999996  ATAAATGAATAATAGGCGGTTTCTGACATCAGGAAGTTTAGACCGC...   \n",
       "3999997  GTATGGAAATACCTGGATGTCCAGGCAGAAGTGTGCTACAGGGGCA...   \n",
       "3999998  AACTCAGTAATTACTTTGATTTGGAGTCTTAATGCAATTTTACCCA...   \n",
       "3999999  GAAAATAGTTTCCCATTTGTTGCCACTGTTTTAAACTTACTGTTAT...   \n",
       "\n",
       "                                                   quality  execution_time  \n",
       "3999995  C@CFFFFFHHHHHJGEHHIJJJIJIIJJJJJIJJIFIIIIGIJJIJ...         341.792  \n",
       "3999996  CCCFFFFFGHHHHJJJJJJGIJHIJGIIJJIJJIIJHIJJIIJJJJ...         556.625  \n",
       "3999997  @@CFFFFFHGHHHJIIIGIGHHAGGGIIBGG?ECCFFHIJJGEBDA...        8523.708  \n",
       "3999998  CCCFFFFFHDHHHJJJJJJIJJJIJIHGHIIJJJJIJIJJJJJJJI...         880.708  \n",
       "3999999  @@@FDFDBBDFFBFIGGGCFGFHHGIGEHIIIIEIIGE@GIIIGGI...         624.208  "
      ]
     },
     "execution_count": 46,
     "metadata": {},
     "output_type": "execute_result"
    }
   ],
   "source": [
    "csv1.tail()"
   ]
  },
  {
   "cell_type": "code",
   "execution_count": 47,
   "metadata": {},
   "outputs": [],
   "source": [
    "#csv1.describe()"
   ]
  },
  {
   "cell_type": "code",
   "execution_count": 48,
   "metadata": {},
   "outputs": [],
   "source": [
    "#data = csv1.drop(['sequence_identifier','quality'], axis = 1)\n",
    "data = csv1"
   ]
  },
  {
   "cell_type": "code",
   "execution_count": 49,
   "metadata": {},
   "outputs": [],
   "source": [
    "data1 = data.drop(csv1.index[100:]) #reduce dataset to 10% of original dataframe\n",
    "#data.head()"
   ]
  },
  {
   "cell_type": "code",
   "execution_count": 50,
   "metadata": {},
   "outputs": [
    {
     "data": {
      "text/html": [
       "<div>\n",
       "<style scoped>\n",
       "    .dataframe tbody tr th:only-of-type {\n",
       "        vertical-align: middle;\n",
       "    }\n",
       "\n",
       "    .dataframe tbody tr th {\n",
       "        vertical-align: top;\n",
       "    }\n",
       "\n",
       "    .dataframe thead th {\n",
       "        text-align: right;\n",
       "    }\n",
       "</style>\n",
       "<table border=\"1\" class=\"dataframe\">\n",
       "  <thead>\n",
       "    <tr style=\"text-align: right;\">\n",
       "      <th></th>\n",
       "      <th>sequence_identifier</th>\n",
       "      <th>read_sequence</th>\n",
       "      <th>quality</th>\n",
       "      <th>execution_time</th>\n",
       "    </tr>\n",
       "  </thead>\n",
       "  <tbody>\n",
       "    <tr>\n",
       "      <th>95</th>\n",
       "      <td>@HWI-D00360:5:H814YADXX:1:1101:6582:2134 1:N:0...</td>\n",
       "      <td>CAGTTTATCTTATTAATCTAGTGTTACCCTAATATAAAAACAATAA...</td>\n",
       "      <td>BBCDFFFFHHHHHJJJJJJJJJJJJJJJJJJJJJJJJJJJJJJJJJ...</td>\n",
       "      <td>363.375</td>\n",
       "    </tr>\n",
       "    <tr>\n",
       "      <th>96</th>\n",
       "      <td>@HWI-D00360:5:H814YADXX:1:1101:6746:2208 1:N:0...</td>\n",
       "      <td>AGGAAGGAAGCTTTGCCAGGAAGTTCAAATGTCAGGGACCTAGTTC...</td>\n",
       "      <td>CCCFFFFFHFHGFJGIIIJJJJJFHIJJIIIJJJJJJJJJIJJFHI...</td>\n",
       "      <td>832.833</td>\n",
       "    </tr>\n",
       "    <tr>\n",
       "      <th>97</th>\n",
       "      <td>@HWI-D00360:5:H814YADXX:1:1101:6514:2215 1:N:0...</td>\n",
       "      <td>AGATTAGCCGGGCGTGGTGGAAGGCGCCTATAGTCCCAGCTACTCG...</td>\n",
       "      <td>CCCFFFFFHGHGHJHIJGHJJJJJJJJJJJJJJJJJJJJJJJJJHH...</td>\n",
       "      <td>23371.750</td>\n",
       "    </tr>\n",
       "    <tr>\n",
       "      <th>98</th>\n",
       "      <td>@HWI-D00360:5:H814YADXX:1:1101:6718:2227 1:N:0...</td>\n",
       "      <td>CTTCTAACTGAAAAACGATGCCAGCTGTAGGACCCAGCTGCTCTTG...</td>\n",
       "      <td>CCCFFFFFHHHGFJHHHIIIIIIJJGGHIIJIIJJIJJIIJIJIII...</td>\n",
       "      <td>346.875</td>\n",
       "    </tr>\n",
       "    <tr>\n",
       "      <th>99</th>\n",
       "      <td>@HWI-D00360:5:H814YADXX:1:1101:6821:2106 1:N:0...</td>\n",
       "      <td>CTGGGAAAGACTTTGCTTCTCCTTCATATTTAAAGAATAACTTTGA...</td>\n",
       "      <td>?;?DDBDBCHBFDHB&lt;&lt;AEI&lt;AFH@GIEHIFCHACDHIDC???FHI...</td>\n",
       "      <td>1141.041</td>\n",
       "    </tr>\n",
       "  </tbody>\n",
       "</table>\n",
       "</div>"
      ],
      "text/plain": [
       "                                  sequence_identifier  \\\n",
       "95  @HWI-D00360:5:H814YADXX:1:1101:6582:2134 1:N:0...   \n",
       "96  @HWI-D00360:5:H814YADXX:1:1101:6746:2208 1:N:0...   \n",
       "97  @HWI-D00360:5:H814YADXX:1:1101:6514:2215 1:N:0...   \n",
       "98  @HWI-D00360:5:H814YADXX:1:1101:6718:2227 1:N:0...   \n",
       "99  @HWI-D00360:5:H814YADXX:1:1101:6821:2106 1:N:0...   \n",
       "\n",
       "                                        read_sequence  \\\n",
       "95  CAGTTTATCTTATTAATCTAGTGTTACCCTAATATAAAAACAATAA...   \n",
       "96  AGGAAGGAAGCTTTGCCAGGAAGTTCAAATGTCAGGGACCTAGTTC...   \n",
       "97  AGATTAGCCGGGCGTGGTGGAAGGCGCCTATAGTCCCAGCTACTCG...   \n",
       "98  CTTCTAACTGAAAAACGATGCCAGCTGTAGGACCCAGCTGCTCTTG...   \n",
       "99  CTGGGAAAGACTTTGCTTCTCCTTCATATTTAAAGAATAACTTTGA...   \n",
       "\n",
       "                                              quality  execution_time  \n",
       "95  BBCDFFFFHHHHHJJJJJJJJJJJJJJJJJJJJJJJJJJJJJJJJJ...         363.375  \n",
       "96  CCCFFFFFHFHGFJGIIIJJJJJFHIJJIIIJJJJJJJJJIJJFHI...         832.833  \n",
       "97  CCCFFFFFHGHGHJHIJGHJJJJJJJJJJJJJJJJJJJJJJJJJHH...       23371.750  \n",
       "98  CCCFFFFFHHHGFJHHHIIIIIIJJGGHIIJIIJJIJJIIJIJIII...         346.875  \n",
       "99  ?;?DDBDBCHBFDHB<<AEI<AFH@GIEHIFCHACDHIDC???FHI...        1141.041  "
      ]
     },
     "execution_count": 50,
     "metadata": {},
     "output_type": "execute_result"
    }
   ],
   "source": [
    "data1.tail()"
   ]
  },
  {
   "cell_type": "code",
   "execution_count": 51,
   "metadata": {},
   "outputs": [],
   "source": [
    "#from sklearn.preprocessing import LabelEncoder\n",
    "#le =LabelEncoder()\n",
    "\n",
    "#seq_trans = le.fit_transform(data1[\"read_sequence\"])\n",
    "#seq_ide_trans = le.fit_transform(data1[\"sequence_identifier\"])\n",
    "#quali_trans = le.fit_transform(data1[\"quality\"])\n"
   ]
  },
  {
   "cell_type": "code",
   "execution_count": 52,
   "metadata": {},
   "outputs": [],
   "source": [
    "#data1['seq_encoded']=seq_trans\n",
    "#data1['seq_id_encoded']=seq_ide_trans\n",
    "#data1['qual_encoded']=quali_trans\n",
    "#data1.head()"
   ]
  },
  {
   "cell_type": "code",
   "execution_count": 53,
   "metadata": {},
   "outputs": [
    {
     "data": {
      "text/html": [
       "<div>\n",
       "<style scoped>\n",
       "    .dataframe tbody tr th:only-of-type {\n",
       "        vertical-align: middle;\n",
       "    }\n",
       "\n",
       "    .dataframe tbody tr th {\n",
       "        vertical-align: top;\n",
       "    }\n",
       "\n",
       "    .dataframe thead th {\n",
       "        text-align: right;\n",
       "    }\n",
       "</style>\n",
       "<table border=\"1\" class=\"dataframe\">\n",
       "  <thead>\n",
       "    <tr style=\"text-align: right;\">\n",
       "      <th></th>\n",
       "      <th>read_sequence</th>\n",
       "      <th>execution_time</th>\n",
       "    </tr>\n",
       "  </thead>\n",
       "  <tbody>\n",
       "    <tr>\n",
       "      <th>0</th>\n",
       "      <td>CTGGTCCTAACATCTGTTGACCATAGCCATATTTTTCAGAAAAGTC...</td>\n",
       "      <td>2295.125</td>\n",
       "    </tr>\n",
       "    <tr>\n",
       "      <th>1</th>\n",
       "      <td>TGGCTATGGGCTGCAATAATTCGTCTTTCTGAAAGGGCATTCAGCC...</td>\n",
       "      <td>674.000</td>\n",
       "    </tr>\n",
       "    <tr>\n",
       "      <th>2</th>\n",
       "      <td>ACTTTCTATCTCTATGGATTTAACCATTGTGGATATTTCATGTAAA...</td>\n",
       "      <td>757.209</td>\n",
       "    </tr>\n",
       "    <tr>\n",
       "      <th>3</th>\n",
       "      <td>ATCAAAAACATTCAAATGAAATCATCTTAAGTGCCAGAATTATAAA...</td>\n",
       "      <td>397.042</td>\n",
       "    </tr>\n",
       "    <tr>\n",
       "      <th>4</th>\n",
       "      <td>CAGGTTCCAATATTACAAATGCAAGGCCAGAAGGAGACTGCAAATG...</td>\n",
       "      <td>675.000</td>\n",
       "    </tr>\n",
       "    <tr>\n",
       "      <th>...</th>\n",
       "      <td>...</td>\n",
       "      <td>...</td>\n",
       "    </tr>\n",
       "    <tr>\n",
       "      <th>95</th>\n",
       "      <td>CAGTTTATCTTATTAATCTAGTGTTACCCTAATATAAAAACAATAA...</td>\n",
       "      <td>363.375</td>\n",
       "    </tr>\n",
       "    <tr>\n",
       "      <th>96</th>\n",
       "      <td>AGGAAGGAAGCTTTGCCAGGAAGTTCAAATGTCAGGGACCTAGTTC...</td>\n",
       "      <td>832.833</td>\n",
       "    </tr>\n",
       "    <tr>\n",
       "      <th>97</th>\n",
       "      <td>AGATTAGCCGGGCGTGGTGGAAGGCGCCTATAGTCCCAGCTACTCG...</td>\n",
       "      <td>23371.750</td>\n",
       "    </tr>\n",
       "    <tr>\n",
       "      <th>98</th>\n",
       "      <td>CTTCTAACTGAAAAACGATGCCAGCTGTAGGACCCAGCTGCTCTTG...</td>\n",
       "      <td>346.875</td>\n",
       "    </tr>\n",
       "    <tr>\n",
       "      <th>99</th>\n",
       "      <td>CTGGGAAAGACTTTGCTTCTCCTTCATATTTAAAGAATAACTTTGA...</td>\n",
       "      <td>1141.041</td>\n",
       "    </tr>\n",
       "  </tbody>\n",
       "</table>\n",
       "<p>100 rows × 2 columns</p>\n",
       "</div>"
      ],
      "text/plain": [
       "                                        read_sequence  execution_time\n",
       "0   CTGGTCCTAACATCTGTTGACCATAGCCATATTTTTCAGAAAAGTC...        2295.125\n",
       "1   TGGCTATGGGCTGCAATAATTCGTCTTTCTGAAAGGGCATTCAGCC...         674.000\n",
       "2   ACTTTCTATCTCTATGGATTTAACCATTGTGGATATTTCATGTAAA...         757.209\n",
       "3   ATCAAAAACATTCAAATGAAATCATCTTAAGTGCCAGAATTATAAA...         397.042\n",
       "4   CAGGTTCCAATATTACAAATGCAAGGCCAGAAGGAGACTGCAAATG...         675.000\n",
       "..                                                ...             ...\n",
       "95  CAGTTTATCTTATTAATCTAGTGTTACCCTAATATAAAAACAATAA...         363.375\n",
       "96  AGGAAGGAAGCTTTGCCAGGAAGTTCAAATGTCAGGGACCTAGTTC...         832.833\n",
       "97  AGATTAGCCGGGCGTGGTGGAAGGCGCCTATAGTCCCAGCTACTCG...       23371.750\n",
       "98  CTTCTAACTGAAAAACGATGCCAGCTGTAGGACCCAGCTGCTCTTG...         346.875\n",
       "99  CTGGGAAAGACTTTGCTTCTCCTTCATATTTAAAGAATAACTTTGA...        1141.041\n",
       "\n",
       "[100 rows x 2 columns]"
      ]
     },
     "execution_count": 53,
     "metadata": {},
     "output_type": "execute_result"
    }
   ],
   "source": [
    "reads = data1.drop(['sequence_identifier','quality'], axis =1)\n",
    "reads"
   ]
  },
  {
   "cell_type": "code",
   "execution_count": 54,
   "metadata": {},
   "outputs": [
    {
     "data": {
      "text/html": [
       "<div>\n",
       "<style scoped>\n",
       "    .dataframe tbody tr th:only-of-type {\n",
       "        vertical-align: middle;\n",
       "    }\n",
       "\n",
       "    .dataframe tbody tr th {\n",
       "        vertical-align: top;\n",
       "    }\n",
       "\n",
       "    .dataframe thead th {\n",
       "        text-align: right;\n",
       "    }\n",
       "</style>\n",
       "<table border=\"1\" class=\"dataframe\">\n",
       "  <thead>\n",
       "    <tr style=\"text-align: right;\">\n",
       "      <th></th>\n",
       "      <th>read_sequence</th>\n",
       "      <th>execution_time</th>\n",
       "    </tr>\n",
       "  </thead>\n",
       "  <tbody>\n",
       "    <tr>\n",
       "      <th>0</th>\n",
       "      <td>CTGGTCCTAACATCTGTTGACCATAGCCATATTTTTCAGAAAAGTC...</td>\n",
       "      <td>3.360806</td>\n",
       "    </tr>\n",
       "    <tr>\n",
       "      <th>1</th>\n",
       "      <td>TGGCTATGGGCTGCAATAATTCGTCTTTCTGAAAGGGCATTCAGCC...</td>\n",
       "      <td>2.828660</td>\n",
       "    </tr>\n",
       "    <tr>\n",
       "      <th>2</th>\n",
       "      <td>ACTTTCTATCTCTATGGATTTAACCATTGTGGATATTTCATGTAAA...</td>\n",
       "      <td>2.879216</td>\n",
       "    </tr>\n",
       "    <tr>\n",
       "      <th>3</th>\n",
       "      <td>ATCAAAAACATTCAAATGAAATCATCTTAAGTGCCAGAATTATAAA...</td>\n",
       "      <td>2.598836</td>\n",
       "    </tr>\n",
       "    <tr>\n",
       "      <th>4</th>\n",
       "      <td>CAGGTTCCAATATTACAAATGCAAGGCCAGAAGGAGACTGCAAATG...</td>\n",
       "      <td>2.829304</td>\n",
       "    </tr>\n",
       "    <tr>\n",
       "      <th>...</th>\n",
       "      <td>...</td>\n",
       "      <td>...</td>\n",
       "    </tr>\n",
       "    <tr>\n",
       "      <th>95</th>\n",
       "      <td>CAGTTTATCTTATTAATCTAGTGTTACCCTAATATAAAAACAATAA...</td>\n",
       "      <td>2.560355</td>\n",
       "    </tr>\n",
       "    <tr>\n",
       "      <th>96</th>\n",
       "      <td>AGGAAGGAAGCTTTGCCAGGAAGTTCAAATGTCAGGGACCTAGTTC...</td>\n",
       "      <td>2.920558</td>\n",
       "    </tr>\n",
       "    <tr>\n",
       "      <th>97</th>\n",
       "      <td>AGATTAGCCGGGCGTGGTGGAAGGCGCCTATAGTCCCAGCTACTCG...</td>\n",
       "      <td>4.368691</td>\n",
       "    </tr>\n",
       "    <tr>\n",
       "      <th>98</th>\n",
       "      <td>CTTCTAACTGAAAAACGATGCCAGCTGTAGGACCCAGCTGCTCTTG...</td>\n",
       "      <td>2.540173</td>\n",
       "    </tr>\n",
       "    <tr>\n",
       "      <th>99</th>\n",
       "      <td>CTGGGAAAGACTTTGCTTCTCCTTCATATTTAAAGAATAACTTTGA...</td>\n",
       "      <td>3.057301</td>\n",
       "    </tr>\n",
       "  </tbody>\n",
       "</table>\n",
       "<p>100 rows × 2 columns</p>\n",
       "</div>"
      ],
      "text/plain": [
       "                                        read_sequence  execution_time\n",
       "0   CTGGTCCTAACATCTGTTGACCATAGCCATATTTTTCAGAAAAGTC...        3.360806\n",
       "1   TGGCTATGGGCTGCAATAATTCGTCTTTCTGAAAGGGCATTCAGCC...        2.828660\n",
       "2   ACTTTCTATCTCTATGGATTTAACCATTGTGGATATTTCATGTAAA...        2.879216\n",
       "3   ATCAAAAACATTCAAATGAAATCATCTTAAGTGCCAGAATTATAAA...        2.598836\n",
       "4   CAGGTTCCAATATTACAAATGCAAGGCCAGAAGGAGACTGCAAATG...        2.829304\n",
       "..                                                ...             ...\n",
       "95  CAGTTTATCTTATTAATCTAGTGTTACCCTAATATAAAAACAATAA...        2.560355\n",
       "96  AGGAAGGAAGCTTTGCCAGGAAGTTCAAATGTCAGGGACCTAGTTC...        2.920558\n",
       "97  AGATTAGCCGGGCGTGGTGGAAGGCGCCTATAGTCCCAGCTACTCG...        4.368691\n",
       "98  CTTCTAACTGAAAAACGATGCCAGCTGTAGGACCCAGCTGCTCTTG...        2.540173\n",
       "99  CTGGGAAAGACTTTGCTTCTCCTTCATATTTAAAGAATAACTTTGA...        3.057301\n",
       "\n",
       "[100 rows x 2 columns]"
      ]
     },
     "execution_count": 54,
     "metadata": {},
     "output_type": "execute_result"
    }
   ],
   "source": [
    "#Normalize data\n",
    "reads['execution_time'] = np.log10(reads.execution_time)\n",
    "reads"
   ]
  },
  {
   "cell_type": "code",
   "execution_count": 55,
   "metadata": {},
   "outputs": [],
   "source": [
    "def Kmers_funct(seq, size=9): #148 characters/sequence  size = 6 better? Used 4 previously.[SIze = 9 gave a r_sq = 1 is this the best value for data = 250, train = 0.8 random = 42, ngaram 4,4]??\n",
    "    #Performed much better with same settings and more data. used 1000. r_sq reduced to 0.9999999999999962\n",
    "   return [seq[x:x+size].lower() for x in range(len(seq) - size + 1)]\n",
    "#convert our training data sequences into short overlapping k-mers of length 6. Lets do that for each species of data we have using our Kmers_funct function.\n",
    "reads['words'] = reads.apply(lambda x: Kmers_funct(x['read_sequence']), axis=1)\n",
    "reads = reads.drop('read_sequence', axis=1)"
   ]
  },
  {
   "cell_type": "code",
   "execution_count": 56,
   "metadata": {},
   "outputs": [],
   "source": [
    "human_texts = list(reads['words'])\n",
    "for item in range(len(human_texts)):\n",
    "   human_texts[item] = ' '.join(human_texts[item])\n",
    "#separate labels\n",
    "Y = reads.iloc[:, 0].values # y_human for human_dna"
   ]
  },
  {
   "cell_type": "code",
   "execution_count": 57,
   "metadata": {},
   "outputs": [],
   "source": [
    "#from sklearn.feature_extraction.text import CountVectorizer\n",
    "#cv = CountVectorizer(ngram_range = (4,4)) # initially (4,4) \n",
    "#: For ngram_range = (1,4) and fitting with all data rmsle = 0.3123797747684005, mse = 781905.5443143004, size = 9, data = 500, testsize = 0.8,random_state = 42\n",
    "#: For ngram_range = (4,4) and fitting with all data rmsle = 0.27364484069740186, mse = 1041022.6402906085, size = 9, data = 500, testsize = 0.8,random_state = 42\n",
    "#X = cv.fit_transform(human_texts)\n",
    "from sklearn.feature_extraction.text import TfidfVectorizer\n",
    "tfid = TfidfVectorizer(ngram_range = (4,4))\n",
    "X = tfid.fit_transform(human_texts)\n",
    "#print(X)"
   ]
  },
  {
   "cell_type": "code",
   "execution_count": 58,
   "metadata": {},
   "outputs": [
    {
     "name": "stdout",
     "output_type": "stream",
     "text": [
      "X_train (80, 13497)\n",
      "X_test (20, 13497)\n",
      "y_train (80,)\n",
      "y_test (20,)\n"
     ]
    }
   ],
   "source": [
    "from sklearn.model_selection import train_test_split\n",
    "X_train, X_test, y_train,y_test = train_test_split(X,Y,test_size = 0.2, random_state = 1) \n",
    "print('X_train',X_train.shape)\n",
    "print('X_test',X_test.shape)\n",
    "print('y_train',y_train.shape)\n",
    "print('y_test',y_test.shape)"
   ]
  },
  {
   "cell_type": "code",
   "execution_count": 59,
   "metadata": {},
   "outputs": [
    {
     "data": {
      "text/plain": [
       "(80, 13497)"
      ]
     },
     "execution_count": 59,
     "metadata": {},
     "output_type": "execute_result"
    }
   ],
   "source": [
    "Xnew = X_train.todense()\n",
    "Xnew.shape"
   ]
  },
  {
   "cell_type": "code",
   "execution_count": 60,
   "metadata": {},
   "outputs": [],
   "source": [
    "X_train_original = np.expand_dims(Xnew, 2)"
   ]
  },
  {
   "cell_type": "code",
   "execution_count": 61,
   "metadata": {},
   "outputs": [],
   "source": [
    "#X_train_original = np.expand_dims(X_train, 2)\n",
    "#X_train_original = X_train.reshape(len(X_train), 1, X_train.shape[1])\n",
    "#X_train_original = X_train.reshape((X_train.getnnz()),X_train.shape[1],1)\n",
    "#X_train_original = X_train.reshape(X_train.shape[0],X_train.shape[1],1)\n",
    "#X_train_original = X_train.reshape((X_train.todense()),X_train.shape[1],1)\n",
    "#X_train_original = X_train.reshape((X_train.todense()),X_train.shape[1],1)"
   ]
  },
  {
   "cell_type": "code",
   "execution_count": 62,
   "metadata": {},
   "outputs": [
    {
     "data": {
      "text/plain": [
       "(80, 13497, 1)"
      ]
     },
     "execution_count": 62,
     "metadata": {},
     "output_type": "execute_result"
    }
   ],
   "source": [
    "X_train_original.shape"
   ]
  },
  {
   "cell_type": "code",
   "execution_count": 63,
   "metadata": {},
   "outputs": [],
   "source": [
    "#XX_T = X_train_original **2  # squared, appears some values are negative\n",
    "#XX_T.shape"
   ]
  },
  {
   "cell_type": "code",
   "execution_count": 64,
   "metadata": {},
   "outputs": [],
   "source": [
    "import tensorflow as tf\n",
    "from keras.optimizers import SGD\n",
    "from keras.layers import Conv1D, Dense, MaxPooling1D, Flatten, Dropout\n",
    "#from keras.layers import *\n",
    "from keras.models import Sequential\n",
    "from tensorflow.keras.layers import LSTM"
   ]
  },
  {
   "cell_type": "code",
   "execution_count": 65,
   "metadata": {},
   "outputs": [],
   "source": [
    "model = Sequential()\n",
    "model.add(LSTM(256, return_sequences = True, input_shape = (X_train_original.shape[1:]), activation='relu')) #original filter size = 64 # 2 appears to avoid nan values\n",
    "#model.add(Dropout(0.5))\n",
    "#model.add(LSTM(8, activation = 'relu', return_sequences = True)) #original filter size 128 \n",
    "#model.add(Conv1D(2, kernel_size= 2,padding = 'same',activation = 'relu')) #updated inputshape# changed again from 32 to 256\n",
    "#model.add(Dropout(0.2))\n",
    "model.add(Flatten()) # removing flatten introducing nan values and changes shape of output\n",
    "\n",
    "model.add(Dense(1))"
   ]
  },
  {
   "cell_type": "code",
   "execution_count": 66,
   "metadata": {},
   "outputs": [],
   "source": [
    "#X_train = tf.reshape(X_train,shape = [-1,250,3])\n",
    "#y_train = tf.reshape(y_train,shape = [-1,250,1])\n"
   ]
  },
  {
   "cell_type": "code",
   "execution_count": 67,
   "metadata": {},
   "outputs": [
    {
     "name": "stdout",
     "output_type": "stream",
     "text": [
      "Model: \"sequential_1\"\n",
      "_________________________________________________________________\n",
      " Layer (type)                Output Shape              Param #   \n",
      "=================================================================\n",
      " lstm_1 (LSTM)               (None, 13497, 256)        264192    \n",
      "                                                                 \n",
      " flatten_1 (Flatten)         (None, 3455232)           0         \n",
      "                                                                 \n",
      " dense_1 (Dense)             (None, 1)                 3455233   \n",
      "                                                                 \n",
      "=================================================================\n",
      "Total params: 3,719,425\n",
      "Trainable params: 3,719,425\n",
      "Non-trainable params: 0\n",
      "_________________________________________________________________\n"
     ]
    }
   ],
   "source": [
    "model.compile(loss='mean_squared_error', optimizer='adam', metrics=['accuracy'])\n",
    "model.summary()"
   ]
  },
  {
   "cell_type": "code",
   "execution_count": 68,
   "metadata": {},
   "outputs": [],
   "source": [
    "#X_train = tf.reshape(X_train,shape = [-1,375,3])\n",
    "#y_train = tf.reshape(y_train,shape = [-1,125,1])"
   ]
  },
  {
   "cell_type": "code",
   "execution_count": 69,
   "metadata": {},
   "outputs": [],
   "source": [
    "#y_train = np.expand_dims(y_train, 1) # Take off , see what happens"
   ]
  },
  {
   "cell_type": "code",
   "execution_count": 70,
   "metadata": {},
   "outputs": [],
   "source": [
    "#input_ids = input_ids.toarray()"
   ]
  },
  {
   "cell_type": "code",
   "execution_count": 71,
   "metadata": {},
   "outputs": [],
   "source": [
    "Xtstnew = X_test.todense()\n",
    "X_test_n = np.expand_dims(Xtstnew, 2)"
   ]
  },
  {
   "cell_type": "code",
   "execution_count": 72,
   "metadata": {},
   "outputs": [],
   "source": [
    "callback = tf.keras.callbacks.EarlyStopping(monitor='loss', patience=50)"
   ]
  },
  {
   "cell_type": "code",
   "execution_count": 73,
   "metadata": {},
   "outputs": [
    {
     "name": "stdout",
     "output_type": "stream",
     "text": [
      "Epoch 1/1000\n",
      "2/2 [==============================] - 33s 16s/step - loss: 6.1832 - accuracy: 0.0000e+00 - val_loss: 3.9610 - val_accuracy: 0.0000e+00\n",
      "Epoch 2/1000\n",
      "2/2 [==============================] - 30s 17s/step - loss: 1.8083 - accuracy: 0.0000e+00 - val_loss: 1.2877 - val_accuracy: 0.0000e+00\n",
      "Epoch 3/1000\n",
      "2/2 [==============================] - 30s 16s/step - loss: 1.6278 - accuracy: 0.0000e+00 - val_loss: 0.6629 - val_accuracy: 0.0000e+00\n",
      "Epoch 4/1000\n",
      "2/2 [==============================] - 29s 16s/step - loss: 0.4722 - accuracy: 0.0000e+00 - val_loss: 1.4552 - val_accuracy: 0.0000e+00\n",
      "Epoch 5/1000\n",
      "2/2 [==============================] - 30s 16s/step - loss: 0.9823 - accuracy: 0.0000e+00 - val_loss: 0.2189 - val_accuracy: 0.0000e+00\n",
      "Epoch 6/1000\n",
      "2/2 [==============================] - 30s 16s/step - loss: 0.4292 - accuracy: 0.0000e+00 - val_loss: 0.5597 - val_accuracy: 0.0000e+00\n",
      "Epoch 7/1000\n",
      "2/2 [==============================] - 30s 16s/step - loss: 0.5875 - accuracy: 0.0000e+00 - val_loss: 0.2062 - val_accuracy: 0.0000e+00\n",
      "Epoch 8/1000\n",
      "2/2 [==============================] - 30s 16s/step - loss: 0.4136 - accuracy: 0.0000e+00 - val_loss: 0.4908 - val_accuracy: 0.0000e+00\n",
      "Epoch 9/1000\n",
      "2/2 [==============================] - 30s 16s/step - loss: 0.3238 - accuracy: 0.0000e+00 - val_loss: 0.2057 - val_accuracy: 0.0000e+00\n",
      "Epoch 10/1000\n",
      "2/2 [==============================] - 29s 16s/step - loss: 0.3138 - accuracy: 0.0000e+00 - val_loss: 0.2969 - val_accuracy: 0.0000e+00\n",
      "Epoch 11/1000\n",
      "2/2 [==============================] - 29s 16s/step - loss: 0.3063 - accuracy: 0.0000e+00 - val_loss: 0.3019 - val_accuracy: 0.0000e+00\n",
      "Epoch 12/1000\n",
      "2/2 [==============================] - 30s 17s/step - loss: 0.2693 - accuracy: 0.0000e+00 - val_loss: 0.2712 - val_accuracy: 0.0000e+00\n",
      "Epoch 13/1000\n",
      "2/2 [==============================] - 29s 16s/step - loss: 0.2511 - accuracy: 0.0000e+00 - val_loss: 0.2129 - val_accuracy: 0.0000e+00\n",
      "Epoch 14/1000\n",
      "2/2 [==============================] - 29s 16s/step - loss: 0.2376 - accuracy: 0.0000e+00 - val_loss: 0.2325 - val_accuracy: 0.0000e+00\n",
      "Epoch 15/1000\n",
      "2/2 [==============================] - 30s 16s/step - loss: 0.2195 - accuracy: 0.0000e+00 - val_loss: 0.2260 - val_accuracy: 0.0000e+00\n",
      "Epoch 16/1000\n",
      "2/2 [==============================] - 30s 16s/step - loss: 0.2148 - accuracy: 0.0000e+00 - val_loss: 0.2070 - val_accuracy: 0.0000e+00\n",
      "Epoch 17/1000\n",
      "2/2 [==============================] - 29s 16s/step - loss: 0.2255 - accuracy: 0.0000e+00 - val_loss: 0.2096 - val_accuracy: 0.0000e+00\n",
      "Epoch 18/1000\n",
      "2/2 [==============================] - 30s 16s/step - loss: 0.2262 - accuracy: 0.0000e+00 - val_loss: 0.2380 - val_accuracy: 0.0000e+00\n",
      "Epoch 19/1000\n",
      "2/2 [==============================] - 29s 16s/step - loss: 0.2259 - accuracy: 0.0000e+00 - val_loss: 0.2056 - val_accuracy: 0.0000e+00\n",
      "Epoch 20/1000\n",
      "2/2 [==============================] - 29s 16s/step - loss: 0.2151 - accuracy: 0.0000e+00 - val_loss: 0.2188 - val_accuracy: 0.0000e+00\n",
      "Epoch 21/1000\n",
      "2/2 [==============================] - 29s 16s/step - loss: 0.2118 - accuracy: 0.0000e+00 - val_loss: 0.2232 - val_accuracy: 0.0000e+00\n",
      "Epoch 22/1000\n",
      "2/2 [==============================] - 29s 16s/step - loss: 0.2138 - accuracy: 0.0000e+00 - val_loss: 0.2061 - val_accuracy: 0.0000e+00\n",
      "Epoch 23/1000\n",
      "2/2 [==============================] - 30s 16s/step - loss: 0.2099 - accuracy: 0.0000e+00 - val_loss: 0.2217 - val_accuracy: 0.0000e+00\n",
      "Epoch 24/1000\n",
      "2/2 [==============================] - 29s 16s/step - loss: 0.2077 - accuracy: 0.0000e+00 - val_loss: 0.2134 - val_accuracy: 0.0000e+00\n",
      "Epoch 25/1000\n",
      "2/2 [==============================] - 30s 17s/step - loss: 0.2104 - accuracy: 0.0000e+00 - val_loss: 0.2054 - val_accuracy: 0.0000e+00\n",
      "Epoch 26/1000\n",
      "2/2 [==============================] - 31s 16s/step - loss: 0.2046 - accuracy: 0.0000e+00 - val_loss: 0.2343 - val_accuracy: 0.0000e+00\n",
      "Epoch 27/1000\n",
      "2/2 [==============================] - 29s 16s/step - loss: 0.1993 - accuracy: 0.0000e+00 - val_loss: 0.2149 - val_accuracy: 0.0000e+00\n",
      "Epoch 28/1000\n",
      "2/2 [==============================] - 29s 16s/step - loss: 0.2079 - accuracy: 0.0000e+00 - val_loss: 0.2058 - val_accuracy: 0.0000e+00\n",
      "Epoch 29/1000\n",
      "2/2 [==============================] - 30s 16s/step - loss: 0.1974 - accuracy: 0.0000e+00 - val_loss: 0.2076 - val_accuracy: 0.0000e+00\n",
      "Epoch 30/1000\n",
      "2/2 [==============================] - 30s 17s/step - loss: 0.1773 - accuracy: 0.0000e+00 - val_loss: 0.2366 - val_accuracy: 0.0000e+00\n",
      "Epoch 31/1000\n",
      "2/2 [==============================] - 29s 16s/step - loss: 0.1809 - accuracy: 0.0000e+00 - val_loss: 0.2090 - val_accuracy: 0.0000e+00\n",
      "Epoch 32/1000\n",
      "2/2 [==============================] - 29s 16s/step - loss: 0.1867 - accuracy: 0.0000e+00 - val_loss: 0.2235 - val_accuracy: 0.0000e+00\n",
      "Epoch 33/1000\n",
      "2/2 [==============================] - 32s 17s/step - loss: 0.1925 - accuracy: 0.0000e+00 - val_loss: 0.2718 - val_accuracy: 0.0000e+00\n",
      "Epoch 34/1000\n",
      "2/2 [==============================] - 30s 16s/step - loss: 0.1689 - accuracy: 0.0000e+00 - val_loss: 0.2051 - val_accuracy: 0.0000e+00\n",
      "Epoch 35/1000\n",
      "2/2 [==============================] - 31s 17s/step - loss: 0.1480 - accuracy: 0.0000e+00 - val_loss: 0.2361 - val_accuracy: 0.0000e+00\n",
      "Epoch 36/1000\n",
      "2/2 [==============================] - 30s 16s/step - loss: 0.1662 - accuracy: 0.0000e+00 - val_loss: 0.2183 - val_accuracy: 0.0000e+00\n",
      "Epoch 37/1000\n",
      "2/2 [==============================] - 30s 16s/step - loss: 0.1845 - accuracy: 0.0000e+00 - val_loss: 0.2079 - val_accuracy: 0.0000e+00\n",
      "Epoch 38/1000\n",
      "2/2 [==============================] - 29s 16s/step - loss: 0.1559 - accuracy: 0.0000e+00 - val_loss: 0.2608 - val_accuracy: 0.0000e+00\n",
      "Epoch 39/1000\n",
      "2/2 [==============================] - 31s 17s/step - loss: 0.1387 - accuracy: 0.0000e+00 - val_loss: 0.2271 - val_accuracy: 0.0000e+00\n",
      "Epoch 40/1000\n",
      "2/2 [==============================] - 31s 16s/step - loss: 0.1303 - accuracy: 0.0000e+00 - val_loss: 0.2993 - val_accuracy: 0.0000e+00\n",
      "Epoch 41/1000\n",
      "2/2 [==============================] - 31s 17s/step - loss: 0.1339 - accuracy: 0.0000e+00 - val_loss: 0.2184 - val_accuracy: 0.0000e+00\n",
      "Epoch 42/1000\n",
      "2/2 [==============================] - 30s 17s/step - loss: 0.1260 - accuracy: 0.0000e+00 - val_loss: 0.2207 - val_accuracy: 0.0000e+00\n",
      "Epoch 43/1000\n",
      "2/2 [==============================] - 29s 16s/step - loss: 0.0943 - accuracy: 0.0000e+00 - val_loss: 0.2194 - val_accuracy: 0.0000e+00\n",
      "Epoch 44/1000\n",
      "2/2 [==============================] - 29s 16s/step - loss: 0.0830 - accuracy: 0.0000e+00 - val_loss: 0.2112 - val_accuracy: 0.0000e+00\n",
      "Epoch 45/1000\n",
      "2/2 [==============================] - 29s 16s/step - loss: 0.0619 - accuracy: 0.0000e+00 - val_loss: 0.2457 - val_accuracy: 0.0000e+00\n",
      "Epoch 46/1000\n",
      "2/2 [==============================] - 29s 16s/step - loss: 0.0602 - accuracy: 0.0000e+00 - val_loss: 0.2323 - val_accuracy: 0.0000e+00\n",
      "Epoch 47/1000\n",
      "2/2 [==============================] - 29s 16s/step - loss: 0.0502 - accuracy: 0.0000e+00 - val_loss: 0.3419 - val_accuracy: 0.0000e+00\n",
      "Epoch 48/1000\n",
      "2/2 [==============================] - 29s 16s/step - loss: 0.0854 - accuracy: 0.0000e+00 - val_loss: 0.2929 - val_accuracy: 0.0000e+00\n",
      "Epoch 49/1000\n",
      "2/2 [==============================] - 29s 16s/step - loss: 0.0750 - accuracy: 0.0000e+00 - val_loss: 0.2632 - val_accuracy: 0.0000e+00\n",
      "Epoch 50/1000\n",
      "2/2 [==============================] - 30s 16s/step - loss: 0.0610 - accuracy: 0.0000e+00 - val_loss: 0.2221 - val_accuracy: 0.0000e+00\n",
      "Epoch 51/1000\n",
      "2/2 [==============================] - 31s 16s/step - loss: 0.0408 - accuracy: 0.0000e+00 - val_loss: 0.2276 - val_accuracy: 0.0000e+00\n",
      "Epoch 52/1000\n",
      "2/2 [==============================] - 29s 16s/step - loss: 0.0392 - accuracy: 0.0000e+00 - val_loss: 0.2308 - val_accuracy: 0.0000e+00\n",
      "Epoch 53/1000\n",
      "2/2 [==============================] - 30s 16s/step - loss: 0.0288 - accuracy: 0.0000e+00 - val_loss: 0.2321 - val_accuracy: 0.0000e+00\n",
      "Epoch 54/1000\n",
      "2/2 [==============================] - 30s 16s/step - loss: 0.0193 - accuracy: 0.0000e+00 - val_loss: 0.2411 - val_accuracy: 0.0000e+00\n",
      "Epoch 55/1000\n",
      "2/2 [==============================] - 30s 16s/step - loss: 0.0174 - accuracy: 0.0000e+00 - val_loss: 0.2465 - val_accuracy: 0.0000e+00\n",
      "Epoch 56/1000\n",
      "2/2 [==============================] - 30s 16s/step - loss: 0.0160 - accuracy: 0.0000e+00 - val_loss: 0.2510 - val_accuracy: 0.0000e+00\n",
      "Epoch 57/1000\n",
      "2/2 [==============================] - 29s 16s/step - loss: 0.0167 - accuracy: 0.0000e+00 - val_loss: 0.2479 - val_accuracy: 0.0000e+00\n",
      "Epoch 58/1000\n",
      "2/2 [==============================] - 31s 16s/step - loss: 0.0117 - accuracy: 0.0000e+00 - val_loss: 0.2434 - val_accuracy: 0.0000e+00\n",
      "Epoch 59/1000\n",
      "2/2 [==============================] - 31s 16s/step - loss: 0.0112 - accuracy: 0.0000e+00 - val_loss: 0.2385 - val_accuracy: 0.0000e+00\n",
      "Epoch 60/1000\n",
      "2/2 [==============================] - 31s 16s/step - loss: 0.0103 - accuracy: 0.0000e+00 - val_loss: 0.2366 - val_accuracy: 0.0000e+00\n",
      "Epoch 61/1000\n",
      "2/2 [==============================] - 30s 16s/step - loss: 0.0077 - accuracy: 0.0000e+00 - val_loss: 0.2416 - val_accuracy: 0.0000e+00\n",
      "Epoch 62/1000\n",
      "2/2 [==============================] - 30s 16s/step - loss: 0.0091 - accuracy: 0.0000e+00 - val_loss: 0.2399 - val_accuracy: 0.0000e+00\n",
      "Epoch 63/1000\n",
      "2/2 [==============================] - 30s 17s/step - loss: 0.0050 - accuracy: 0.0000e+00 - val_loss: 0.2465 - val_accuracy: 0.0000e+00\n",
      "Epoch 64/1000\n",
      "2/2 [==============================] - 29s 16s/step - loss: 0.0047 - accuracy: 0.0000e+00 - val_loss: 0.2452 - val_accuracy: 0.0000e+00\n",
      "Epoch 65/1000\n",
      "2/2 [==============================] - 30s 16s/step - loss: 0.0047 - accuracy: 0.0000e+00 - val_loss: 0.2466 - val_accuracy: 0.0000e+00\n",
      "Epoch 66/1000\n",
      "2/2 [==============================] - 30s 16s/step - loss: 0.0036 - accuracy: 0.0000e+00 - val_loss: 0.2481 - val_accuracy: 0.0000e+00\n",
      "Epoch 67/1000\n",
      "2/2 [==============================] - 30s 16s/step - loss: 0.0037 - accuracy: 0.0000e+00 - val_loss: 0.2481 - val_accuracy: 0.0000e+00\n",
      "Epoch 68/1000\n",
      "2/2 [==============================] - 36s 19s/step - loss: 0.0021 - accuracy: 0.0000e+00 - val_loss: 0.2490 - val_accuracy: 0.0000e+00\n",
      "Epoch 69/1000\n",
      "2/2 [==============================] - 30s 16s/step - loss: 0.0017 - accuracy: 0.0000e+00 - val_loss: 0.2472 - val_accuracy: 0.0000e+00\n",
      "Epoch 70/1000\n",
      "2/2 [==============================] - 30s 16s/step - loss: 0.0014 - accuracy: 0.0000e+00 - val_loss: 0.2489 - val_accuracy: 0.0000e+00\n",
      "Epoch 71/1000\n",
      "2/2 [==============================] - 30s 16s/step - loss: 0.0016 - accuracy: 0.0000e+00 - val_loss: 0.2465 - val_accuracy: 0.0000e+00\n",
      "Epoch 72/1000\n",
      "2/2 [==============================] - 30s 16s/step - loss: 0.0015 - accuracy: 0.0000e+00 - val_loss: 0.2476 - val_accuracy: 0.0000e+00\n",
      "Epoch 73/1000\n",
      "2/2 [==============================] - 30s 16s/step - loss: 0.0012 - accuracy: 0.0000e+00 - val_loss: 0.2487 - val_accuracy: 0.0000e+00\n",
      "Epoch 74/1000\n",
      "2/2 [==============================] - 30s 16s/step - loss: 7.5432e-04 - accuracy: 0.0000e+00 - val_loss: 0.2493 - val_accuracy: 0.0000e+00\n",
      "Epoch 75/1000\n",
      "2/2 [==============================] - 31s 17s/step - loss: 4.5663e-04 - accuracy: 0.0000e+00 - val_loss: 0.2519 - val_accuracy: 0.0000e+00\n",
      "Epoch 76/1000\n",
      "2/2 [==============================] - 30s 16s/step - loss: 6.8964e-04 - accuracy: 0.0000e+00 - val_loss: 0.2512 - val_accuracy: 0.0000e+00\n",
      "Epoch 77/1000\n",
      "2/2 [==============================] - 31s 17s/step - loss: 8.7783e-04 - accuracy: 0.0000e+00 - val_loss: 0.2514 - val_accuracy: 0.0000e+00\n",
      "Epoch 78/1000\n",
      "2/2 [==============================] - 30s 17s/step - loss: 5.4124e-04 - accuracy: 0.0000e+00 - val_loss: 0.2510 - val_accuracy: 0.0000e+00\n",
      "Epoch 79/1000\n",
      "2/2 [==============================] - 29s 16s/step - loss: 3.7160e-04 - accuracy: 0.0000e+00 - val_loss: 0.2502 - val_accuracy: 0.0000e+00\n",
      "Epoch 80/1000\n",
      "2/2 [==============================] - 30s 16s/step - loss: 2.0530e-04 - accuracy: 0.0000e+00 - val_loss: 0.2512 - val_accuracy: 0.0000e+00\n",
      "Epoch 81/1000\n",
      "2/2 [==============================] - 31s 17s/step - loss: 3.3525e-04 - accuracy: 0.0000e+00 - val_loss: 0.2497 - val_accuracy: 0.0000e+00\n",
      "Epoch 82/1000\n",
      "2/2 [==============================] - 29s 16s/step - loss: 3.0165e-04 - accuracy: 0.0000e+00 - val_loss: 0.2500 - val_accuracy: 0.0000e+00\n",
      "Epoch 83/1000\n",
      "2/2 [==============================] - 30s 17s/step - loss: 2.1437e-04 - accuracy: 0.0000e+00 - val_loss: 0.2500 - val_accuracy: 0.0000e+00\n",
      "Epoch 84/1000\n",
      "2/2 [==============================] - 29s 16s/step - loss: 2.0063e-04 - accuracy: 0.0000e+00 - val_loss: 0.2499 - val_accuracy: 0.0000e+00\n",
      "Epoch 85/1000\n",
      "2/2 [==============================] - 31s 16s/step - loss: 9.9098e-05 - accuracy: 0.0000e+00 - val_loss: 0.2509 - val_accuracy: 0.0000e+00\n",
      "Epoch 86/1000\n",
      "2/2 [==============================] - 31s 16s/step - loss: 1.2332e-04 - accuracy: 0.0000e+00 - val_loss: 0.2504 - val_accuracy: 0.0000e+00\n",
      "Epoch 87/1000\n",
      "2/2 [==============================] - 30s 16s/step - loss: 1.1986e-04 - accuracy: 0.0000e+00 - val_loss: 0.2509 - val_accuracy: 0.0000e+00\n",
      "Epoch 88/1000\n",
      "2/2 [==============================] - 30s 16s/step - loss: 9.3273e-05 - accuracy: 0.0000e+00 - val_loss: 0.2505 - val_accuracy: 0.0000e+00\n",
      "Epoch 89/1000\n",
      "2/2 [==============================] - 30s 16s/step - loss: 6.3706e-05 - accuracy: 0.0000e+00 - val_loss: 0.2503 - val_accuracy: 0.0000e+00\n",
      "Epoch 90/1000\n",
      "2/2 [==============================] - 29s 16s/step - loss: 6.4601e-05 - accuracy: 0.0000e+00 - val_loss: 0.2503 - val_accuracy: 0.0000e+00\n",
      "Epoch 91/1000\n",
      "2/2 [==============================] - 30s 16s/step - loss: 3.7946e-05 - accuracy: 0.0000e+00 - val_loss: 0.2498 - val_accuracy: 0.0000e+00\n",
      "Epoch 92/1000\n",
      "2/2 [==============================] - 31s 16s/step - loss: 4.1017e-05 - accuracy: 0.0000e+00 - val_loss: 0.2502 - val_accuracy: 0.0000e+00\n",
      "Epoch 93/1000\n",
      "2/2 [==============================] - 29s 16s/step - loss: 4.6831e-05 - accuracy: 0.0000e+00 - val_loss: 0.2500 - val_accuracy: 0.0000e+00\n",
      "Epoch 94/1000\n",
      "2/2 [==============================] - 30s 16s/step - loss: 2.8186e-05 - accuracy: 0.0000e+00 - val_loss: 0.2503 - val_accuracy: 0.0000e+00\n",
      "Epoch 95/1000\n",
      "2/2 [==============================] - 29s 16s/step - loss: 1.7602e-05 - accuracy: 0.0000e+00 - val_loss: 0.2505 - val_accuracy: 0.0000e+00\n",
      "Epoch 96/1000\n",
      "2/2 [==============================] - 30s 16s/step - loss: 1.4891e-05 - accuracy: 0.0000e+00 - val_loss: 0.2505 - val_accuracy: 0.0000e+00\n",
      "Epoch 97/1000\n",
      "2/2 [==============================] - 31s 17s/step - loss: 1.2505e-05 - accuracy: 0.0000e+00 - val_loss: 0.2507 - val_accuracy: 0.0000e+00\n",
      "Epoch 98/1000\n",
      "2/2 [==============================] - 30s 16s/step - loss: 8.8753e-06 - accuracy: 0.0000e+00 - val_loss: 0.2504 - val_accuracy: 0.0000e+00\n",
      "Epoch 99/1000\n",
      "2/2 [==============================] - 31s 16s/step - loss: 8.6075e-06 - accuracy: 0.0000e+00 - val_loss: 0.2505 - val_accuracy: 0.0000e+00\n",
      "Epoch 100/1000\n",
      "2/2 [==============================] - 29s 16s/step - loss: 6.9518e-06 - accuracy: 0.0000e+00 - val_loss: 0.2503 - val_accuracy: 0.0000e+00\n",
      "Epoch 101/1000\n",
      "2/2 [==============================] - 29s 16s/step - loss: 6.3370e-06 - accuracy: 0.0000e+00 - val_loss: 0.2503 - val_accuracy: 0.0000e+00\n",
      "Epoch 102/1000\n",
      "2/2 [==============================] - 29s 16s/step - loss: 4.9998e-06 - accuracy: 0.0000e+00 - val_loss: 0.2503 - val_accuracy: 0.0000e+00\n",
      "Epoch 103/1000\n",
      "2/2 [==============================] - 29s 16s/step - loss: 3.3820e-06 - accuracy: 0.0000e+00 - val_loss: 0.2504 - val_accuracy: 0.0000e+00\n",
      "Epoch 104/1000\n",
      "2/2 [==============================] - 30s 16s/step - loss: 3.8844e-06 - accuracy: 0.0000e+00 - val_loss: 0.2505 - val_accuracy: 0.0000e+00\n",
      "Epoch 105/1000\n",
      "2/2 [==============================] - 30s 16s/step - loss: 2.3565e-06 - accuracy: 0.0000e+00 - val_loss: 0.2505 - val_accuracy: 0.0000e+00\n",
      "Epoch 106/1000\n",
      "2/2 [==============================] - 30s 16s/step - loss: 2.8027e-06 - accuracy: 0.0000e+00 - val_loss: 0.2505 - val_accuracy: 0.0000e+00\n",
      "Epoch 107/1000\n",
      "2/2 [==============================] - 29s 16s/step - loss: 1.5798e-06 - accuracy: 0.0000e+00 - val_loss: 0.2504 - val_accuracy: 0.0000e+00\n",
      "Epoch 108/1000\n",
      "2/2 [==============================] - 29s 16s/step - loss: 1.4792e-06 - accuracy: 0.0000e+00 - val_loss: 0.2505 - val_accuracy: 0.0000e+00\n",
      "Epoch 109/1000\n",
      "2/2 [==============================] - 29s 16s/step - loss: 1.1169e-06 - accuracy: 0.0000e+00 - val_loss: 0.2504 - val_accuracy: 0.0000e+00\n",
      "Epoch 110/1000\n",
      "2/2 [==============================] - 31s 17s/step - loss: 1.2012e-06 - accuracy: 0.0000e+00 - val_loss: 0.2504 - val_accuracy: 0.0000e+00\n",
      "Epoch 111/1000\n",
      "2/2 [==============================] - 30s 16s/step - loss: 7.2391e-07 - accuracy: 0.0000e+00 - val_loss: 0.2504 - val_accuracy: 0.0000e+00\n",
      "Epoch 112/1000\n",
      "2/2 [==============================] - 31s 16s/step - loss: 3.4280e-07 - accuracy: 0.0000e+00 - val_loss: 0.2504 - val_accuracy: 0.0000e+00\n",
      "Epoch 113/1000\n",
      "2/2 [==============================] - 31s 16s/step - loss: 3.4677e-07 - accuracy: 0.0000e+00 - val_loss: 0.2504 - val_accuracy: 0.0000e+00\n",
      "Epoch 114/1000\n",
      "2/2 [==============================] - 30s 16s/step - loss: 3.3315e-07 - accuracy: 0.0000e+00 - val_loss: 0.2504 - val_accuracy: 0.0000e+00\n",
      "Epoch 115/1000\n",
      "2/2 [==============================] - 31s 17s/step - loss: 3.2563e-07 - accuracy: 0.0000e+00 - val_loss: 0.2504 - val_accuracy: 0.0000e+00\n",
      "Epoch 116/1000\n",
      "2/2 [==============================] - 30s 16s/step - loss: 2.6744e-07 - accuracy: 0.0000e+00 - val_loss: 0.2504 - val_accuracy: 0.0000e+00\n",
      "Epoch 117/1000\n",
      "2/2 [==============================] - 31s 16s/step - loss: 2.0041e-07 - accuracy: 0.0000e+00 - val_loss: 0.2504 - val_accuracy: 0.0000e+00\n",
      "Epoch 118/1000\n",
      "2/2 [==============================] - 29s 16s/step - loss: 1.0532e-07 - accuracy: 0.0000e+00 - val_loss: 0.2504 - val_accuracy: 0.0000e+00\n",
      "Epoch 119/1000\n",
      "2/2 [==============================] - 30s 16s/step - loss: 7.6133e-08 - accuracy: 0.0000e+00 - val_loss: 0.2504 - val_accuracy: 0.0000e+00\n",
      "Epoch 120/1000\n",
      "2/2 [==============================] - 31s 17s/step - loss: 5.8532e-08 - accuracy: 0.0000e+00 - val_loss: 0.2504 - val_accuracy: 0.0000e+00\n",
      "Epoch 121/1000\n",
      "2/2 [==============================] - 30s 16s/step - loss: 6.6545e-08 - accuracy: 0.0000e+00 - val_loss: 0.2504 - val_accuracy: 0.0000e+00\n",
      "Epoch 122/1000\n",
      "2/2 [==============================] - 29s 16s/step - loss: 5.2136e-08 - accuracy: 0.0000e+00 - val_loss: 0.2504 - val_accuracy: 0.0000e+00\n",
      "Epoch 123/1000\n",
      "2/2 [==============================] - 30s 16s/step - loss: 3.4210e-08 - accuracy: 0.0000e+00 - val_loss: 0.2504 - val_accuracy: 0.0000e+00\n",
      "Epoch 124/1000\n",
      "2/2 [==============================] - 31s 16s/step - loss: 2.6711e-08 - accuracy: 0.0000e+00 - val_loss: 0.2504 - val_accuracy: 0.0000e+00\n",
      "Epoch 125/1000\n",
      "2/2 [==============================] - 30s 16s/step - loss: 1.8397e-08 - accuracy: 0.0000e+00 - val_loss: 0.2504 - val_accuracy: 0.0000e+00\n",
      "Epoch 126/1000\n",
      "2/2 [==============================] - 30s 17s/step - loss: 1.4597e-08 - accuracy: 0.0000e+00 - val_loss: 0.2504 - val_accuracy: 0.0000e+00\n",
      "Epoch 127/1000\n",
      "2/2 [==============================] - 30s 16s/step - loss: 1.0438e-08 - accuracy: 0.0000e+00 - val_loss: 0.2504 - val_accuracy: 0.0000e+00\n",
      "Epoch 128/1000\n",
      "2/2 [==============================] - 30s 16s/step - loss: 8.8263e-09 - accuracy: 0.0000e+00 - val_loss: 0.2504 - val_accuracy: 0.0000e+00\n",
      "Epoch 129/1000\n",
      "2/2 [==============================] - 29s 16s/step - loss: 1.0269e-08 - accuracy: 0.0000e+00 - val_loss: 0.2504 - val_accuracy: 0.0000e+00\n",
      "Epoch 130/1000\n",
      "2/2 [==============================] - 30s 16s/step - loss: 9.3669e-09 - accuracy: 0.0000e+00 - val_loss: 0.2504 - val_accuracy: 0.0000e+00\n",
      "Epoch 131/1000\n",
      "2/2 [==============================] - 30s 16s/step - loss: 7.6791e-09 - accuracy: 0.0000e+00 - val_loss: 0.2504 - val_accuracy: 0.0000e+00\n",
      "Epoch 132/1000\n",
      "2/2 [==============================] - 30s 16s/step - loss: 5.7732e-09 - accuracy: 0.0000e+00 - val_loss: 0.2504 - val_accuracy: 0.0000e+00\n",
      "Epoch 133/1000\n",
      "2/2 [==============================] - 30s 16s/step - loss: 4.6917e-09 - accuracy: 0.0000e+00 - val_loss: 0.2504 - val_accuracy: 0.0000e+00\n",
      "Epoch 134/1000\n",
      "2/2 [==============================] - 30s 16s/step - loss: 4.6665e-09 - accuracy: 0.0000e+00 - val_loss: 0.2504 - val_accuracy: 0.0000e+00\n",
      "Epoch 135/1000\n",
      "2/2 [==============================] - 29s 16s/step - loss: 2.8848e-09 - accuracy: 0.0000e+00 - val_loss: 0.2504 - val_accuracy: 0.0000e+00\n",
      "Epoch 136/1000\n",
      "2/2 [==============================] - 30s 16s/step - loss: 2.2488e-09 - accuracy: 0.0000e+00 - val_loss: 0.2504 - val_accuracy: 0.0000e+00\n",
      "Epoch 137/1000\n",
      "2/2 [==============================] - 29s 16s/step - loss: 2.1790e-09 - accuracy: 0.0000e+00 - val_loss: 0.2504 - val_accuracy: 0.0000e+00\n",
      "Epoch 138/1000\n",
      "2/2 [==============================] - 30s 16s/step - loss: 1.8739e-09 - accuracy: 0.0000e+00 - val_loss: 0.2504 - val_accuracy: 0.0000e+00\n",
      "Epoch 139/1000\n",
      "2/2 [==============================] - 29s 16s/step - loss: 1.8895e-09 - accuracy: 0.0000e+00 - val_loss: 0.2504 - val_accuracy: 0.0000e+00\n",
      "Epoch 140/1000\n",
      "2/2 [==============================] - 30s 16s/step - loss: 1.2186e-09 - accuracy: 0.0000e+00 - val_loss: 0.2504 - val_accuracy: 0.0000e+00\n",
      "Epoch 141/1000\n",
      "2/2 [==============================] - 30s 16s/step - loss: 1.1508e-09 - accuracy: 0.0000e+00 - val_loss: 0.2504 - val_accuracy: 0.0000e+00\n",
      "Epoch 142/1000\n",
      "2/2 [==============================] - 30s 16s/step - loss: 9.6189e-10 - accuracy: 0.0000e+00 - val_loss: 0.2504 - val_accuracy: 0.0000e+00\n",
      "Epoch 143/1000\n",
      "2/2 [==============================] - 29s 16s/step - loss: 8.7682e-10 - accuracy: 0.0000e+00 - val_loss: 0.2504 - val_accuracy: 0.0000e+00\n",
      "Epoch 144/1000\n",
      "2/2 [==============================] - 30s 16s/step - loss: 8.0007e-10 - accuracy: 0.0000e+00 - val_loss: 0.2504 - val_accuracy: 0.0000e+00\n",
      "Epoch 145/1000\n",
      "2/2 [==============================] - 30s 16s/step - loss: 4.2860e-10 - accuracy: 0.0000e+00 - val_loss: 0.2504 - val_accuracy: 0.0000e+00\n",
      "Epoch 146/1000\n",
      "2/2 [==============================] - 32s 17s/step - loss: 4.4147e-10 - accuracy: 0.0000e+00 - val_loss: 0.2504 - val_accuracy: 0.0000e+00\n",
      "Epoch 147/1000\n",
      "2/2 [==============================] - 29s 16s/step - loss: 4.5121e-10 - accuracy: 0.0000e+00 - val_loss: 0.2504 - val_accuracy: 0.0000e+00\n",
      "Epoch 148/1000\n",
      "2/2 [==============================] - 30s 16s/step - loss: 3.5147e-10 - accuracy: 0.0000e+00 - val_loss: 0.2504 - val_accuracy: 0.0000e+00\n",
      "Epoch 149/1000\n",
      "2/2 [==============================] - 30s 16s/step - loss: 3.6079e-10 - accuracy: 0.0000e+00 - val_loss: 0.2504 - val_accuracy: 0.0000e+00\n",
      "Epoch 150/1000\n",
      "2/2 [==============================] - 30s 16s/step - loss: 3.2461e-10 - accuracy: 0.0000e+00 - val_loss: 0.2504 - val_accuracy: 0.0000e+00\n",
      "Epoch 151/1000\n",
      "2/2 [==============================] - 30s 16s/step - loss: 2.3070e-10 - accuracy: 0.0000e+00 - val_loss: 0.2504 - val_accuracy: 0.0000e+00\n",
      "Epoch 152/1000\n",
      "2/2 [==============================] - 30s 16s/step - loss: 1.8330e-10 - accuracy: 0.0000e+00 - val_loss: 0.2504 - val_accuracy: 0.0000e+00\n",
      "Epoch 153/1000\n",
      "2/2 [==============================] - 32s 17s/step - loss: 2.3178e-10 - accuracy: 0.0000e+00 - val_loss: 0.2504 - val_accuracy: 0.0000e+00\n",
      "Epoch 154/1000\n",
      "2/2 [==============================] - 30s 16s/step - loss: 1.1685e-10 - accuracy: 0.0000e+00 - val_loss: 0.2504 - val_accuracy: 0.0000e+00\n",
      "Epoch 155/1000\n",
      "2/2 [==============================] - 30s 16s/step - loss: 8.6804e-11 - accuracy: 0.0000e+00 - val_loss: 0.2504 - val_accuracy: 0.0000e+00\n",
      "Epoch 156/1000\n",
      "2/2 [==============================] - 30s 16s/step - loss: 9.9442e-11 - accuracy: 0.0000e+00 - val_loss: 0.2504 - val_accuracy: 0.0000e+00\n",
      "Epoch 157/1000\n",
      "2/2 [==============================] - 30s 16s/step - loss: 1.4425e-10 - accuracy: 0.0000e+00 - val_loss: 0.2504 - val_accuracy: 0.0000e+00\n",
      "Epoch 158/1000\n",
      "2/2 [==============================] - 30s 16s/step - loss: 6.3710e-11 - accuracy: 0.0000e+00 - val_loss: 0.2504 - val_accuracy: 0.0000e+00\n",
      "Epoch 159/1000\n",
      "2/2 [==============================] - 30s 16s/step - loss: 7.0653e-11 - accuracy: 0.0000e+00 - val_loss: 0.2504 - val_accuracy: 0.0000e+00\n",
      "Epoch 160/1000\n",
      "2/2 [==============================] - 31s 16s/step - loss: 5.9218e-11 - accuracy: 0.0000e+00 - val_loss: 0.2504 - val_accuracy: 0.0000e+00\n",
      "Epoch 161/1000\n",
      "2/2 [==============================] - 30s 16s/step - loss: 5.6890e-11 - accuracy: 0.0000e+00 - val_loss: 0.2504 - val_accuracy: 0.0000e+00\n",
      "Epoch 162/1000\n",
      "2/2 [==============================] - 30s 17s/step - loss: 2.9187e-11 - accuracy: 0.0000e+00 - val_loss: 0.2504 - val_accuracy: 0.0000e+00\n",
      "Epoch 163/1000\n",
      "2/2 [==============================] - 30s 16s/step - loss: 2.7721e-11 - accuracy: 0.0000e+00 - val_loss: 0.2504 - val_accuracy: 0.0000e+00\n",
      "Epoch 164/1000\n",
      "2/2 [==============================] - 30s 16s/step - loss: 2.9378e-11 - accuracy: 0.0000e+00 - val_loss: 0.2504 - val_accuracy: 0.0000e+00\n",
      "Epoch 165/1000\n",
      "2/2 [==============================] - 30s 16s/step - loss: 2.2077e-11 - accuracy: 0.0000e+00 - val_loss: 0.2504 - val_accuracy: 0.0000e+00\n",
      "Epoch 166/1000\n",
      "2/2 [==============================] - 30s 16s/step - loss: 1.2538e-11 - accuracy: 0.0000e+00 - val_loss: 0.2504 - val_accuracy: 0.0000e+00\n",
      "Epoch 167/1000\n",
      "2/2 [==============================] - 31s 17s/step - loss: 9.7105e-12 - accuracy: 0.0000e+00 - val_loss: 0.2504 - val_accuracy: 0.0000e+00\n",
      "Epoch 168/1000\n",
      "2/2 [==============================] - 29s 16s/step - loss: 7.1765e-12 - accuracy: 0.0000e+00 - val_loss: 0.2504 - val_accuracy: 0.0000e+00\n",
      "Epoch 169/1000\n",
      "2/2 [==============================] - 30s 16s/step - loss: 7.7449e-12 - accuracy: 0.0000e+00 - val_loss: 0.2504 - val_accuracy: 0.0000e+00\n",
      "Epoch 170/1000\n",
      "2/2 [==============================] - 30s 17s/step - loss: 1.1213e-11 - accuracy: 0.0000e+00 - val_loss: 0.2504 - val_accuracy: 0.0000e+00\n",
      "Epoch 171/1000\n",
      "2/2 [==============================] - 30s 16s/step - loss: 4.4089e-12 - accuracy: 0.0000e+00 - val_loss: 0.2504 - val_accuracy: 0.0000e+00\n",
      "Epoch 172/1000\n",
      "2/2 [==============================] - 30s 16s/step - loss: 7.5593e-12 - accuracy: 0.0000e+00 - val_loss: 0.2504 - val_accuracy: 0.0000e+00\n",
      "Epoch 173/1000\n",
      "2/2 [==============================] - 30s 16s/step - loss: 5.7438e-12 - accuracy: 0.0000e+00 - val_loss: 0.2504 - val_accuracy: 0.0000e+00\n",
      "Epoch 174/1000\n",
      "2/2 [==============================] - 29s 16s/step - loss: 3.9302e-12 - accuracy: 0.0000e+00 - val_loss: 0.2504 - val_accuracy: 0.0000e+00\n",
      "Epoch 175/1000\n",
      "2/2 [==============================] - 32s 18s/step - loss: 5.6479e-12 - accuracy: 0.0000e+00 - val_loss: 0.2504 - val_accuracy: 0.0000e+00\n",
      "Epoch 176/1000\n",
      "2/2 [==============================] - 30s 16s/step - loss: 2.8182e-12 - accuracy: 0.0000e+00 - val_loss: 0.2504 - val_accuracy: 0.0000e+00\n",
      "Epoch 177/1000\n",
      "2/2 [==============================] - 31s 17s/step - loss: 2.1991e-12 - accuracy: 0.0000e+00 - val_loss: 0.2504 - val_accuracy: 0.0000e+00\n",
      "Epoch 178/1000\n",
      "2/2 [==============================] - 30s 16s/step - loss: 2.6423e-12 - accuracy: 0.0000e+00 - val_loss: 0.2504 - val_accuracy: 0.0000e+00\n",
      "Epoch 179/1000\n",
      "2/2 [==============================] - 30s 16s/step - loss: 2.3048e-12 - accuracy: 0.0000e+00 - val_loss: 0.2504 - val_accuracy: 0.0000e+00\n",
      "Epoch 180/1000\n",
      "2/2 [==============================] - 31s 17s/step - loss: 1.5898e-12 - accuracy: 0.0000e+00 - val_loss: 0.2504 - val_accuracy: 0.0000e+00\n",
      "Epoch 181/1000\n",
      "2/2 [==============================] - 29s 16s/step - loss: 1.0552e-12 - accuracy: 0.0000e+00 - val_loss: 0.2504 - val_accuracy: 0.0000e+00\n",
      "Epoch 182/1000\n",
      "2/2 [==============================] - 30s 16s/step - loss: 1.2159e-12 - accuracy: 0.0000e+00 - val_loss: 0.2504 - val_accuracy: 0.0000e+00\n",
      "Epoch 183/1000\n",
      "2/2 [==============================] - 32s 18s/step - loss: 1.8243e-12 - accuracy: 0.0000e+00 - val_loss: 0.2504 - val_accuracy: 0.0000e+00\n",
      "Epoch 184/1000\n",
      "2/2 [==============================] - 31s 17s/step - loss: 1.0969e-12 - accuracy: 0.0000e+00 - val_loss: 0.2504 - val_accuracy: 0.0000e+00\n",
      "Epoch 185/1000\n",
      "2/2 [==============================] - 30s 16s/step - loss: 9.4147e-13 - accuracy: 0.0000e+00 - val_loss: 0.2504 - val_accuracy: 0.0000e+00\n",
      "Epoch 186/1000\n",
      "2/2 [==============================] - 31s 17s/step - loss: 8.7308e-13 - accuracy: 0.0000e+00 - val_loss: 0.2504 - val_accuracy: 0.0000e+00\n",
      "Epoch 187/1000\n",
      "2/2 [==============================] - 30s 17s/step - loss: 9.5035e-13 - accuracy: 0.0000e+00 - val_loss: 0.2504 - val_accuracy: 0.0000e+00\n",
      "Epoch 188/1000\n",
      "2/2 [==============================] - 32s 17s/step - loss: 1.2328e-12 - accuracy: 0.0000e+00 - val_loss: 0.2504 - val_accuracy: 0.0000e+00\n",
      "Epoch 189/1000\n",
      "2/2 [==============================] - 32s 17s/step - loss: 6.4837e-13 - accuracy: 0.0000e+00 - val_loss: 0.2504 - val_accuracy: 0.0000e+00\n",
      "Epoch 190/1000\n",
      "2/2 [==============================] - 29s 16s/step - loss: 3.7659e-13 - accuracy: 0.0000e+00 - val_loss: 0.2504 - val_accuracy: 0.0000e+00\n",
      "Epoch 191/1000\n",
      "2/2 [==============================] - 32s 17s/step - loss: 4.5741e-13 - accuracy: 0.0000e+00 - val_loss: 0.2504 - val_accuracy: 0.0000e+00\n",
      "Epoch 192/1000\n",
      "2/2 [==============================] - 30s 16s/step - loss: 5.0626e-13 - accuracy: 0.0000e+00 - val_loss: 0.2504 - val_accuracy: 0.0000e+00\n",
      "Epoch 193/1000\n",
      "2/2 [==============================] - 30s 16s/step - loss: 3.0020e-13 - accuracy: 0.0000e+00 - val_loss: 0.2504 - val_accuracy: 0.0000e+00\n",
      "Epoch 194/1000\n",
      "2/2 [==============================] - 30s 16s/step - loss: 1.2523e-13 - accuracy: 0.0000e+00 - val_loss: 0.2504 - val_accuracy: 0.0000e+00\n",
      "Epoch 195/1000\n",
      "2/2 [==============================] - 31s 17s/step - loss: 1.1013e-13 - accuracy: 0.0000e+00 - val_loss: 0.2504 - val_accuracy: 0.0000e+00\n",
      "Epoch 196/1000\n",
      "2/2 [==============================] - 31s 17s/step - loss: 1.3678e-13 - accuracy: 0.0000e+00 - val_loss: 0.2504 - val_accuracy: 0.0000e+00\n",
      "Epoch 197/1000\n",
      "2/2 [==============================] - 31s 16s/step - loss: 2.0073e-13 - accuracy: 0.0000e+00 - val_loss: 0.2504 - val_accuracy: 0.0000e+00\n",
      "Epoch 198/1000\n",
      "2/2 [==============================] - 30s 16s/step - loss: 1.6165e-13 - accuracy: 0.0000e+00 - val_loss: 0.2504 - val_accuracy: 0.0000e+00\n",
      "Epoch 199/1000\n",
      "2/2 [==============================] - 30s 17s/step - loss: 1.3944e-13 - accuracy: 0.0000e+00 - val_loss: 0.2504 - val_accuracy: 0.0000e+00\n",
      "Epoch 200/1000\n",
      "2/2 [==============================] - 30s 16s/step - loss: 1.0303e-13 - accuracy: 0.0000e+00 - val_loss: 0.2504 - val_accuracy: 0.0000e+00\n",
      "Epoch 201/1000\n",
      "2/2 [==============================] - 29s 16s/step - loss: 1.6520e-13 - accuracy: 0.0000e+00 - val_loss: 0.2504 - val_accuracy: 0.0000e+00\n",
      "Epoch 202/1000\n",
      "2/2 [==============================] - 30s 16s/step - loss: 1.7675e-13 - accuracy: 0.0000e+00 - val_loss: 0.2504 - val_accuracy: 0.0000e+00\n",
      "Epoch 203/1000\n",
      "2/2 [==============================] - 30s 16s/step - loss: 1.2967e-13 - accuracy: 0.0000e+00 - val_loss: 0.2504 - val_accuracy: 0.0000e+00\n",
      "Epoch 204/1000\n",
      "2/2 [==============================] - 30s 16s/step - loss: 6.3061e-14 - accuracy: 0.0000e+00 - val_loss: 0.2504 - val_accuracy: 0.0000e+00\n",
      "Epoch 205/1000\n",
      "2/2 [==============================] - 34s 19s/step - loss: 8.0824e-14 - accuracy: 0.0000e+00 - val_loss: 0.2504 - val_accuracy: 0.0000e+00\n",
      "Epoch 206/1000\n",
      "2/2 [==============================] - 31s 16s/step - loss: 1.0214e-13 - accuracy: 0.0000e+00 - val_loss: 0.2504 - val_accuracy: 0.0000e+00\n",
      "Epoch 207/1000\n",
      "2/2 [==============================] - 30s 16s/step - loss: 1.1280e-13 - accuracy: 0.0000e+00 - val_loss: 0.2504 - val_accuracy: 0.0000e+00\n",
      "Epoch 208/1000\n",
      "2/2 [==============================] - 32s 17s/step - loss: 1.4921e-13 - accuracy: 0.0000e+00 - val_loss: 0.2504 - val_accuracy: 0.0000e+00\n",
      "Epoch 209/1000\n",
      "2/2 [==============================] - 31s 16s/step - loss: 2.2737e-13 - accuracy: 0.0000e+00 - val_loss: 0.2504 - val_accuracy: 0.0000e+00\n",
      "Epoch 210/1000\n",
      "2/2 [==============================] - 30s 17s/step - loss: 2.4780e-13 - accuracy: 0.0000e+00 - val_loss: 0.2504 - val_accuracy: 0.0000e+00\n",
      "Epoch 211/1000\n",
      "2/2 [==============================] - 31s 16s/step - loss: 2.4247e-13 - accuracy: 0.0000e+00 - val_loss: 0.2504 - val_accuracy: 0.0000e+00\n",
      "Epoch 212/1000\n",
      "2/2 [==============================] - 30s 16s/step - loss: 3.1353e-13 - accuracy: 0.0000e+00 - val_loss: 0.2504 - val_accuracy: 0.0000e+00\n",
      "Epoch 213/1000\n",
      "2/2 [==============================] - 30s 16s/step - loss: 2.3448e-13 - accuracy: 0.0000e+00 - val_loss: 0.2504 - val_accuracy: 0.0000e+00\n",
      "Epoch 214/1000\n",
      "2/2 [==============================] - 30s 16s/step - loss: 1.5543e-13 - accuracy: 0.0000e+00 - val_loss: 0.2504 - val_accuracy: 0.0000e+00\n",
      "Epoch 215/1000\n",
      "2/2 [==============================] - 31s 17s/step - loss: 1.9007e-13 - accuracy: 0.0000e+00 - val_loss: 0.2504 - val_accuracy: 0.0000e+00\n",
      "Epoch 216/1000\n",
      "2/2 [==============================] - 31s 16s/step - loss: 1.4566e-13 - accuracy: 0.0000e+00 - val_loss: 0.2504 - val_accuracy: 0.0000e+00\n",
      "Epoch 217/1000\n",
      "2/2 [==============================] - 30s 16s/step - loss: 1.2079e-13 - accuracy: 0.0000e+00 - val_loss: 0.2504 - val_accuracy: 0.0000e+00\n",
      "Epoch 218/1000\n",
      "2/2 [==============================] - 30s 16s/step - loss: 1.0214e-13 - accuracy: 0.0000e+00 - val_loss: 0.2504 - val_accuracy: 0.0000e+00\n",
      "Epoch 219/1000\n",
      "2/2 [==============================] - 30s 16s/step - loss: 1.0036e-13 - accuracy: 0.0000e+00 - val_loss: 0.2504 - val_accuracy: 0.0000e+00\n",
      "Epoch 220/1000\n",
      "2/2 [==============================] - 30s 16s/step - loss: 1.5188e-13 - accuracy: 0.0000e+00 - val_loss: 0.2504 - val_accuracy: 0.0000e+00\n",
      "Epoch 221/1000\n",
      "2/2 [==============================] - 30s 17s/step - loss: 6.2172e-14 - accuracy: 0.0000e+00 - val_loss: 0.2504 - val_accuracy: 0.0000e+00\n",
      "Epoch 222/1000\n",
      "2/2 [==============================] - 31s 17s/step - loss: 1.2434e-13 - accuracy: 0.0000e+00 - val_loss: 0.2504 - val_accuracy: 0.0000e+00\n",
      "Epoch 223/1000\n",
      "2/2 [==============================] - 29s 16s/step - loss: 5.3291e-14 - accuracy: 0.0000e+00 - val_loss: 0.2504 - val_accuracy: 0.0000e+00\n",
      "Epoch 224/1000\n",
      "2/2 [==============================] - 29s 16s/step - loss: 7.1054e-14 - accuracy: 0.0000e+00 - val_loss: 0.2504 - val_accuracy: 0.0000e+00\n",
      "Epoch 225/1000\n",
      "2/2 [==============================] - 30s 16s/step - loss: 3.1974e-14 - accuracy: 0.0000e+00 - val_loss: 0.2504 - val_accuracy: 0.0000e+00\n",
      "Epoch 226/1000\n",
      "2/2 [==============================] - 30s 16s/step - loss: 3.8192e-14 - accuracy: 0.0000e+00 - val_loss: 0.2504 - val_accuracy: 0.0000e+00\n",
      "Epoch 227/1000\n",
      "2/2 [==============================] - 30s 16s/step - loss: 5.4179e-14 - accuracy: 0.0000e+00 - val_loss: 0.2504 - val_accuracy: 0.0000e+00\n",
      "Epoch 228/1000\n",
      "2/2 [==============================] - 31s 17s/step - loss: 2.9310e-14 - accuracy: 0.0000e+00 - val_loss: 0.2504 - val_accuracy: 0.0000e+00\n",
      "Epoch 229/1000\n",
      "2/2 [==============================] - 30s 16s/step - loss: 3.7303e-14 - accuracy: 0.0000e+00 - val_loss: 0.2504 - val_accuracy: 0.0000e+00\n",
      "Epoch 230/1000\n",
      "2/2 [==============================] - 30s 16s/step - loss: 3.5527e-14 - accuracy: 0.0000e+00 - val_loss: 0.2504 - val_accuracy: 0.0000e+00\n",
      "Epoch 231/1000\n",
      "2/2 [==============================] - 31s 16s/step - loss: 4.1744e-14 - accuracy: 0.0000e+00 - val_loss: 0.2504 - val_accuracy: 0.0000e+00\n",
      "Epoch 232/1000\n",
      "2/2 [==============================] - 29s 16s/step - loss: 3.9080e-14 - accuracy: 0.0000e+00 - val_loss: 0.2504 - val_accuracy: 0.0000e+00\n",
      "Epoch 233/1000\n",
      "2/2 [==============================] - 30s 16s/step - loss: 2.3981e-14 - accuracy: 0.0000e+00 - val_loss: 0.2504 - val_accuracy: 0.0000e+00\n",
      "Epoch 234/1000\n",
      "2/2 [==============================] - 31s 17s/step - loss: 4.6185e-14 - accuracy: 0.0000e+00 - val_loss: 0.2504 - val_accuracy: 0.0000e+00\n",
      "Epoch 235/1000\n",
      "2/2 [==============================] - 30s 16s/step - loss: 5.1514e-14 - accuracy: 0.0000e+00 - val_loss: 0.2504 - val_accuracy: 0.0000e+00\n",
      "Epoch 236/1000\n",
      "2/2 [==============================] - 29s 16s/step - loss: 6.4837e-14 - accuracy: 0.0000e+00 - val_loss: 0.2504 - val_accuracy: 0.0000e+00\n",
      "Epoch 237/1000\n",
      "2/2 [==============================] - 31s 17s/step - loss: 4.8850e-14 - accuracy: 0.0000e+00 - val_loss: 0.2504 - val_accuracy: 0.0000e+00\n",
      "Epoch 238/1000\n",
      "2/2 [==============================] - 30s 16s/step - loss: 5.2403e-14 - accuracy: 0.0000e+00 - val_loss: 0.2504 - val_accuracy: 0.0000e+00\n",
      "Epoch 239/1000\n",
      "2/2 [==============================] - 30s 16s/step - loss: 9.5035e-14 - accuracy: 0.0000e+00 - val_loss: 0.2504 - val_accuracy: 0.0000e+00\n",
      "Epoch 240/1000\n",
      "2/2 [==============================] - 30s 16s/step - loss: 4.2633e-14 - accuracy: 0.0000e+00 - val_loss: 0.2504 - val_accuracy: 0.0000e+00\n",
      "Epoch 241/1000\n",
      "2/2 [==============================] - 30s 16s/step - loss: 6.2172e-14 - accuracy: 0.0000e+00 - val_loss: 0.2504 - val_accuracy: 0.0000e+00\n",
      "Epoch 242/1000\n",
      "2/2 [==============================] - 30s 16s/step - loss: 1.4122e-13 - accuracy: 0.0000e+00 - val_loss: 0.2504 - val_accuracy: 0.0000e+00\n",
      "Epoch 243/1000\n",
      "2/2 [==============================] - 30s 16s/step - loss: 1.3323e-13 - accuracy: 0.0000e+00 - val_loss: 0.2504 - val_accuracy: 0.0000e+00\n",
      "Epoch 244/1000\n",
      "2/2 [==============================] - 30s 16s/step - loss: 1.0392e-13 - accuracy: 0.0000e+00 - val_loss: 0.2504 - val_accuracy: 0.0000e+00\n",
      "Epoch 245/1000\n",
      "2/2 [==============================] - 31s 17s/step - loss: 1.5721e-13 - accuracy: 0.0000e+00 - val_loss: 0.2504 - val_accuracy: 0.0000e+00\n",
      "Epoch 246/1000\n",
      "2/2 [==============================] - 29s 16s/step - loss: 5.5955e-14 - accuracy: 0.0000e+00 - val_loss: 0.2504 - val_accuracy: 0.0000e+00\n",
      "Epoch 247/1000\n",
      "2/2 [==============================] - 30s 17s/step - loss: 4.4409e-14 - accuracy: 0.0000e+00 - val_loss: 0.2504 - val_accuracy: 0.0000e+00\n",
      "Epoch 248/1000\n",
      "2/2 [==============================] - 31s 16s/step - loss: 5.2403e-14 - accuracy: 0.0000e+00 - val_loss: 0.2504 - val_accuracy: 0.0000e+00\n",
      "Epoch 249/1000\n",
      "2/2 [==============================] - 30s 16s/step - loss: 3.6415e-14 - accuracy: 0.0000e+00 - val_loss: 0.2504 - val_accuracy: 0.0000e+00\n",
      "Epoch 250/1000\n",
      "2/2 [==============================] - 30s 16s/step - loss: 2.7534e-14 - accuracy: 0.0000e+00 - val_loss: 0.2504 - val_accuracy: 0.0000e+00\n",
      "Epoch 251/1000\n",
      "2/2 [==============================] - 31s 16s/step - loss: 4.2633e-14 - accuracy: 0.0000e+00 - val_loss: 0.2504 - val_accuracy: 0.0000e+00\n",
      "Epoch 252/1000\n",
      "2/2 [==============================] - 29s 16s/step - loss: 3.3751e-14 - accuracy: 0.0000e+00 - val_loss: 0.2504 - val_accuracy: 0.0000e+00\n",
      "Epoch 253/1000\n",
      "2/2 [==============================] - 30s 16s/step - loss: 3.7303e-14 - accuracy: 0.0000e+00 - val_loss: 0.2504 - val_accuracy: 0.0000e+00\n",
      "Epoch 254/1000\n",
      "2/2 [==============================] - 30s 16s/step - loss: 3.1974e-14 - accuracy: 0.0000e+00 - val_loss: 0.2504 - val_accuracy: 0.0000e+00\n",
      "Epoch 255/1000\n",
      "2/2 [==============================] - 30s 16s/step - loss: 2.6645e-14 - accuracy: 0.0000e+00 - val_loss: 0.2504 - val_accuracy: 0.0000e+00\n",
      "Epoch 256/1000\n",
      "2/2 [==============================] - 30s 16s/step - loss: 2.2204e-14 - accuracy: 0.0000e+00 - val_loss: 0.2504 - val_accuracy: 0.0000e+00\n",
      "Epoch 257/1000\n",
      "2/2 [==============================] - 29s 16s/step - loss: 1.7764e-14 - accuracy: 0.0000e+00 - val_loss: 0.2504 - val_accuracy: 0.0000e+00\n",
      "Epoch 258/1000\n",
      "2/2 [==============================] - 31s 17s/step - loss: 1.8652e-14 - accuracy: 0.0000e+00 - val_loss: 0.2504 - val_accuracy: 0.0000e+00\n",
      "Epoch 259/1000\n",
      "2/2 [==============================] - 30s 16s/step - loss: 3.9080e-14 - accuracy: 0.0000e+00 - val_loss: 0.2504 - val_accuracy: 0.0000e+00\n",
      "Epoch 260/1000\n",
      "2/2 [==============================] - 31s 17s/step - loss: 3.1974e-14 - accuracy: 0.0000e+00 - val_loss: 0.2504 - val_accuracy: 0.0000e+00\n",
      "Epoch 261/1000\n",
      "2/2 [==============================] - 30s 16s/step - loss: 5.4179e-14 - accuracy: 0.0000e+00 - val_loss: 0.2504 - val_accuracy: 0.0000e+00\n",
      "Epoch 262/1000\n",
      "2/2 [==============================] - 30s 16s/step - loss: 1.1990e-13 - accuracy: 0.0000e+00 - val_loss: 0.2504 - val_accuracy: 0.0000e+00\n",
      "Epoch 263/1000\n",
      "2/2 [==============================] - 30s 16s/step - loss: 6.2172e-14 - accuracy: 0.0000e+00 - val_loss: 0.2504 - val_accuracy: 0.0000e+00\n",
      "Epoch 264/1000\n",
      "2/2 [==============================] - 30s 16s/step - loss: 7.9048e-14 - accuracy: 0.0000e+00 - val_loss: 0.2504 - val_accuracy: 0.0000e+00\n",
      "Epoch 265/1000\n",
      "2/2 [==============================] - 32s 16s/step - loss: 8.4377e-14 - accuracy: 0.0000e+00 - val_loss: 0.2504 - val_accuracy: 0.0000e+00\n",
      "Epoch 266/1000\n",
      "2/2 [==============================] - 30s 16s/step - loss: 6.1284e-14 - accuracy: 0.0000e+00 - val_loss: 0.2504 - val_accuracy: 0.0000e+00\n",
      "Epoch 267/1000\n",
      "2/2 [==============================] - 30s 16s/step - loss: 6.5725e-14 - accuracy: 0.0000e+00 - val_loss: 0.2504 - val_accuracy: 0.0000e+00\n",
      "Epoch 268/1000\n",
      "2/2 [==============================] - 29s 16s/step - loss: 9.3259e-14 - accuracy: 0.0000e+00 - val_loss: 0.2504 - val_accuracy: 0.0000e+00\n",
      "Epoch 269/1000\n",
      "2/2 [==============================] - 30s 16s/step - loss: 3.9080e-14 - accuracy: 0.0000e+00 - val_loss: 0.2504 - val_accuracy: 0.0000e+00\n",
      "Epoch 270/1000\n",
      "2/2 [==============================] - 30s 16s/step - loss: 5.8620e-14 - accuracy: 0.0000e+00 - val_loss: 0.2504 - val_accuracy: 0.0000e+00\n",
      "Epoch 271/1000\n",
      "2/2 [==============================] - 30s 16s/step - loss: 1.2612e-13 - accuracy: 0.0000e+00 - val_loss: 0.2504 - val_accuracy: 0.0000e+00\n",
      "Epoch 272/1000\n",
      "2/2 [==============================] - 30s 16s/step - loss: 1.6787e-13 - accuracy: 0.0000e+00 - val_loss: 0.2504 - val_accuracy: 0.0000e+00\n",
      "Epoch 273/1000\n",
      "2/2 [==============================] - 29s 16s/step - loss: 2.2649e-13 - accuracy: 0.0000e+00 - val_loss: 0.2504 - val_accuracy: 0.0000e+00\n",
      "Epoch 274/1000\n",
      "2/2 [==============================] - 30s 16s/step - loss: 9.6811e-14 - accuracy: 0.0000e+00 - val_loss: 0.2504 - val_accuracy: 0.0000e+00\n",
      "Epoch 275/1000\n",
      "2/2 [==============================] - 30s 16s/step - loss: 1.0569e-13 - accuracy: 0.0000e+00 - val_loss: 0.2504 - val_accuracy: 0.0000e+00\n",
      "Epoch 276/1000\n",
      "2/2 [==============================] - 29s 16s/step - loss: 1.1102e-13 - accuracy: 0.0000e+00 - val_loss: 0.2504 - val_accuracy: 0.0000e+00\n",
      "Epoch 277/1000\n",
      "2/2 [==============================] - 29s 16s/step - loss: 6.3949e-14 - accuracy: 0.0000e+00 - val_loss: 0.2504 - val_accuracy: 0.0000e+00\n",
      "Epoch 278/1000\n",
      "2/2 [==============================] - 29s 16s/step - loss: 1.5454e-13 - accuracy: 0.0000e+00 - val_loss: 0.2504 - val_accuracy: 0.0000e+00\n",
      "Epoch 279/1000\n",
      "2/2 [==============================] - 30s 16s/step - loss: 1.1635e-13 - accuracy: 0.0000e+00 - val_loss: 0.2504 - val_accuracy: 0.0000e+00\n",
      "Epoch 280/1000\n",
      "2/2 [==============================] - 30s 16s/step - loss: 2.1938e-13 - accuracy: 0.0000e+00 - val_loss: 0.2504 - val_accuracy: 0.0000e+00\n",
      "Epoch 281/1000\n",
      "2/2 [==============================] - 30s 16s/step - loss: 1.5810e-13 - accuracy: 0.0000e+00 - val_loss: 0.2504 - val_accuracy: 0.0000e+00\n",
      "Epoch 282/1000\n",
      "2/2 [==============================] - 31s 17s/step - loss: 5.5067e-14 - accuracy: 0.0000e+00 - val_loss: 0.2504 - val_accuracy: 0.0000e+00\n",
      "Epoch 283/1000\n",
      "2/2 [==============================] - 30s 17s/step - loss: 5.3291e-14 - accuracy: 0.0000e+00 - val_loss: 0.2504 - val_accuracy: 0.0000e+00\n",
      "Epoch 284/1000\n",
      "2/2 [==============================] - 31s 16s/step - loss: 3.7303e-14 - accuracy: 0.0000e+00 - val_loss: 0.2504 - val_accuracy: 0.0000e+00\n",
      "Epoch 285/1000\n",
      "2/2 [==============================] - 30s 16s/step - loss: 4.1744e-14 - accuracy: 0.0000e+00 - val_loss: 0.2504 - val_accuracy: 0.0000e+00\n",
      "Epoch 286/1000\n",
      "2/2 [==============================] - 30s 16s/step - loss: 6.0396e-14 - accuracy: 0.0000e+00 - val_loss: 0.2504 - val_accuracy: 0.0000e+00\n",
      "Epoch 287/1000\n",
      "2/2 [==============================] - 30s 16s/step - loss: 4.7962e-14 - accuracy: 0.0000e+00 - val_loss: 0.2504 - val_accuracy: 0.0000e+00\n",
      "Epoch 288/1000\n",
      "2/2 [==============================] - 30s 16s/step - loss: 1.2523e-13 - accuracy: 0.0000e+00 - val_loss: 0.2504 - val_accuracy: 0.0000e+00\n",
      "Epoch 289/1000\n",
      "2/2 [==============================] - 29s 16s/step - loss: 1.0303e-13 - accuracy: 0.0000e+00 - val_loss: 0.2504 - val_accuracy: 0.0000e+00\n",
      "Epoch 290/1000\n",
      "2/2 [==============================] - 30s 16s/step - loss: 2.0517e-13 - accuracy: 0.0000e+00 - val_loss: 0.2504 - val_accuracy: 0.0000e+00\n",
      "Epoch 291/1000\n",
      "2/2 [==============================] - 30s 16s/step - loss: 2.5668e-13 - accuracy: 0.0000e+00 - val_loss: 0.2504 - val_accuracy: 0.0000e+00\n",
      "Epoch 292/1000\n",
      "2/2 [==============================] - 30s 16s/step - loss: 1.3589e-13 - accuracy: 0.0000e+00 - val_loss: 0.2504 - val_accuracy: 0.0000e+00\n",
      "Epoch 293/1000\n",
      "2/2 [==============================] - 30s 16s/step - loss: 1.1102e-13 - accuracy: 0.0000e+00 - val_loss: 0.2504 - val_accuracy: 0.0000e+00\n",
      "Epoch 294/1000\n",
      "2/2 [==============================] - 31s 17s/step - loss: 1.7941e-13 - accuracy: 0.0000e+00 - val_loss: 0.2504 - val_accuracy: 0.0000e+00\n",
      "Epoch 295/1000\n",
      "2/2 [==============================] - 30s 16s/step - loss: 1.2879e-13 - accuracy: 0.0000e+00 - val_loss: 0.2504 - val_accuracy: 0.0000e+00\n",
      "Epoch 296/1000\n",
      "2/2 [==============================] - 29s 16s/step - loss: 1.4211e-13 - accuracy: 0.0000e+00 - val_loss: 0.2504 - val_accuracy: 0.0000e+00\n",
      "Epoch 297/1000\n",
      "2/2 [==============================] - 29s 16s/step - loss: 7.1942e-14 - accuracy: 0.0000e+00 - val_loss: 0.2504 - val_accuracy: 0.0000e+00\n",
      "Epoch 298/1000\n",
      "2/2 [==============================] - 29s 16s/step - loss: 5.3291e-14 - accuracy: 0.0000e+00 - val_loss: 0.2504 - val_accuracy: 0.0000e+00\n",
      "Epoch 299/1000\n",
      "2/2 [==============================] - 30s 17s/step - loss: 8.3489e-14 - accuracy: 0.0000e+00 - val_loss: 0.2504 - val_accuracy: 0.0000e+00\n",
      "Epoch 300/1000\n",
      "2/2 [==============================] - 30s 16s/step - loss: 6.5725e-14 - accuracy: 0.0000e+00 - val_loss: 0.2504 - val_accuracy: 0.0000e+00\n",
      "Epoch 301/1000\n",
      "2/2 [==============================] - 31s 16s/step - loss: 1.6875e-13 - accuracy: 0.0000e+00 - val_loss: 0.2504 - val_accuracy: 0.0000e+00\n",
      "Epoch 302/1000\n",
      "2/2 [==============================] - 29s 16s/step - loss: 2.2649e-13 - accuracy: 0.0000e+00 - val_loss: 0.2504 - val_accuracy: 0.0000e+00\n",
      "Epoch 303/1000\n",
      "2/2 [==============================] - 30s 16s/step - loss: 9.1482e-14 - accuracy: 0.0000e+00 - val_loss: 0.2504 - val_accuracy: 0.0000e+00\n",
      "Epoch 304/1000\n",
      "2/2 [==============================] - 30s 16s/step - loss: 1.4921e-13 - accuracy: 0.0000e+00 - val_loss: 0.2504 - val_accuracy: 0.0000e+00\n",
      "Epoch 305/1000\n",
      "2/2 [==============================] - 30s 16s/step - loss: 6.7502e-14 - accuracy: 0.0000e+00 - val_loss: 0.2504 - val_accuracy: 0.0000e+00\n",
      "Epoch 306/1000\n",
      "2/2 [==============================] - 30s 16s/step - loss: 1.0125e-13 - accuracy: 0.0000e+00 - val_loss: 0.2504 - val_accuracy: 0.0000e+00\n",
      "Epoch 307/1000\n",
      "2/2 [==============================] - 30s 16s/step - loss: 1.0836e-13 - accuracy: 0.0000e+00 - val_loss: 0.2504 - val_accuracy: 0.0000e+00\n"
     ]
    }
   ],
   "source": [
    "history = model.fit(X_train_original, y_train, \n",
    "                    epochs=1000, verbose=1, batch_size=32, validation_split = 0.2,callbacks = [callback] ) #changed batch_size to 2 intitally 50 #validation_data = (X_test_n,y_test)"
   ]
  },
  {
   "cell_type": "code",
   "execution_count": 74,
   "metadata": {},
   "outputs": [],
   "source": [
    "#Xtstnew = X_test.todense()\n",
    "#X_test_n = np.expand_dims(Xtstnew, 2)"
   ]
  },
  {
   "cell_type": "code",
   "execution_count": 75,
   "metadata": {},
   "outputs": [
    {
     "name": "stdout",
     "output_type": "stream",
     "text": [
      "1/1 [==============================] - 3s 3s/step\n"
     ]
    }
   ],
   "source": [
    "ypred = model.predict(X_test_n)"
   ]
  },
  {
   "cell_type": "code",
   "execution_count": 76,
   "metadata": {},
   "outputs": [
    {
     "data": {
      "text/plain": [
       "(20, 1)"
      ]
     },
     "execution_count": 76,
     "metadata": {},
     "output_type": "execute_result"
    }
   ],
   "source": [
    "ypred.shape"
   ]
  },
  {
   "cell_type": "code",
   "execution_count": 77,
   "metadata": {},
   "outputs": [],
   "source": [
    "#print(ypred)"
   ]
  },
  {
   "cell_type": "code",
   "execution_count": 78,
   "metadata": {},
   "outputs": [
    {
     "name": "stdout",
     "output_type": "stream",
     "text": [
      "3/3 [==============================] - 10s 3s/step\n"
     ]
    }
   ],
   "source": [
    "ypred_train = model.predict(X_train_original)"
   ]
  },
  {
   "cell_type": "code",
   "execution_count": 79,
   "metadata": {},
   "outputs": [
    {
     "data": {
      "text/plain": [
       "0.7791466699399293"
      ]
     },
     "execution_count": 79,
     "metadata": {},
     "output_type": "execute_result"
    }
   ],
   "source": [
    "from sklearn.metrics import r2_score\n",
    "r2_train = r2_score(y_train,ypred_train)\n",
    "r2_train"
   ]
  },
  {
   "cell_type": "code",
   "execution_count": 80,
   "metadata": {},
   "outputs": [
    {
     "data": {
      "text/plain": [
       "-0.08022856874885465"
      ]
     },
     "execution_count": 80,
     "metadata": {},
     "output_type": "execute_result"
    }
   ],
   "source": [
    "r2_test = r2_score (y_test,ypred)\n",
    "r2_test "
   ]
  },
  {
   "cell_type": "code",
   "execution_count": 81,
   "metadata": {},
   "outputs": [
    {
     "name": "stdout",
     "output_type": "stream",
     "text": [
      "MSE: 0.1505\n"
     ]
    }
   ],
   "source": [
    "from sklearn.metrics import mean_squared_error\n",
    "print(\"MSE: %.4f\" % mean_squared_error(y_test, ypred))"
   ]
  },
  {
   "cell_type": "code",
   "execution_count": 82,
   "metadata": {},
   "outputs": [
    {
     "data": {
      "text/plain": [
       "0.09485512931259404"
      ]
     },
     "execution_count": 82,
     "metadata": {},
     "output_type": "execute_result"
    }
   ],
   "source": [
    "from sklearn.metrics import mean_squared_log_error\n",
    "rmsle = mean_squared_log_error(y_test,ypred)**0.5\n",
    "rmsle"
   ]
  },
  {
   "cell_type": "code",
   "execution_count": 83,
   "metadata": {},
   "outputs": [
    {
     "data": {
      "image/png": "[encoded data removed]",
      "text/plain": [
       "<Figure size 3000x500 with 1 Axes>"
      ]
     },
     "metadata": {},
     "output_type": "display_data"
    }
   ],
   "source": [
    "x_ax = range(len(y_test))\n",
    "f = plt.figure()\n",
    "f.set_figwidth(30)\n",
    "f.set_figheight(5)\n",
    "plt.plot(x_ax, y_test, label=\"truth\")\n",
    "plt.plot(x_ax, ypred, label=\"predicted\")\n",
    "plt.title(\"predicted vs truth execution times\")\n",
    "plt.xlabel('X-axis')\n",
    "plt.ylabel('Y-axis')\n",
    "plt.legend(loc='best',fancybox=True, shadow=True)\n",
    "plt.grid(True)\n",
    "plt.show()"
   ]
  },
  {
   "cell_type": "code",
   "execution_count": 84,
   "metadata": {},
   "outputs": [],
   "source": [
    "y_pred_non_log = 10**(ypred)\n",
    "y_test_non_log = 10**(y_test)"
   ]
  },
  {
   "cell_type": "code",
   "execution_count": 85,
   "metadata": {},
   "outputs": [
    {
     "data": {
      "image/png": "[encoded data removed]",
      "text/plain": [
       "<Figure size 3000x500 with 1 Axes>"
      ]
     },
     "metadata": {},
     "output_type": "display_data"
    }
   ],
   "source": [
    "x_ax = range(len(y_test_non_log))\n",
    "f = plt.figure()\n",
    "f.set_figwidth(30)\n",
    "f.set_figheight(5)\n",
    "plt.plot(x_ax, y_test_non_log, label=\"truth\")\n",
    "plt.plot(x_ax, y_pred_non_log, label=\"predicted\")\n",
    "plt.title(\"predicted vs truth execution times\")\n",
    "plt.xlabel('X-axis')\n",
    "plt.ylabel('Y-axis')\n",
    "plt.legend(loc='best',fancybox=True, shadow=True)\n",
    "plt.grid(True)\n",
    "plt.show()"
   ]
  },
  {
   "cell_type": "code",
   "execution_count": null,
   "metadata": {},
   "outputs": [],
   "source": []
  },
  {
   "cell_type": "code",
   "execution_count": 86,
   "metadata": {},
   "outputs": [
    {
     "data": {
      "image/png": "[encoded data removed]",
      "text/plain": [
       "<Figure size 1000x800 with 1 Axes>"
      ]
     },
     "metadata": {},
     "output_type": "display_data"
    }
   ],
   "source": [
    "# Visualize the training results\n",
    "plt.figure(figsize=(10,8))\n",
    "plt.plot(history.history['loss'],label='loss')\n",
    "#plt.plot(history.history['accuracy'],label='acc')\n",
    "plt.plot(history.history['val_loss'],label='val_loss')\n",
    "#plt.plot(history.history['val_accuracy'],label='val_acc')\n",
    "plt.grid()\n",
    "plt.legend()\n",
    "plt.show()"
   ]
  }
 ],
 "metadata": {
  "kernelspec": {
   "display_name": "Python 3.10.6 64-bit",
   "language": "python",
   "name": "python3"
  },
  "language_info": {
   "codemirror_mode": {
    "name": "ipython",
    "version": 3
   },
   "file_extension": ".py",
   "mimetype": "text/x-python",
   "name": "python",
   "nbconvert_exporter": "python",
   "pygments_lexer": "ipython3",
   "version": "3.10.6"
  },
  "vscode": {
   "interpreter": {
    "hash": "e7370f93d1d0cde622a1f8e1c04877d8463912d04d973331ad4851f04de6915a"
   }
  }
 },
 "nbformat": 4,
 "nbformat_minor": 4
}
